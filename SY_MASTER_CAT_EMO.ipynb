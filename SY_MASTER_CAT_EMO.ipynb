{
 "cells": [
  {
   "cell_type": "code",
   "execution_count": 554,
   "metadata": {
    "collapsed": true
   },
   "outputs": [],
   "source": [
    "import numpy as np #import numpy library\n",
    "import pandas as pd #import pandas library\n",
    "import matplotlib.pyplot as plt #import matplot library\n",
    "%matplotlib inline\n",
    "\n",
    "import glob\n",
    "import os\n",
    "\n",
    "import nltk.classify.util\n",
    "from astropy.table import Table, Column\n",
    "\n",
    "import string\n",
    "\n",
    "from sklearn import svm\n",
    "from sklearn import metrics"
   ]
  },
  {
   "cell_type": "code",
   "execution_count": 555,
   "metadata": {
    "collapsed": false
   },
   "outputs": [],
   "source": [
    " def loadMetricData(user, directory):\n",
    "    path =  user + \"/\" + directory + \"/\"\n",
    "#     print(path)\n",
    "    all_files = glob.glob(os.path.join(path, \"*.csv\")) \n",
    "#     print(all_files)\n",
    "    data = pd.DataFrame()\n",
    "    list_ = []\n",
    "    for file_ in all_files:\n",
    "        data = pd.read_csv(file_,index_col=None, header=0)\n",
    "        list_.append(data)\n",
    "        data = pd.concat(list_)\n",
    "    return data"
   ]
  },
  {
   "cell_type": "code",
   "execution_count": 556,
   "metadata": {
    "collapsed": false
   },
   "outputs": [],
   "source": [
    "# # clean times function\n",
    "def cleanTime(df, col):\n",
    "    df.col = pd.to_datetime(df.col)"
   ]
  },
  {
   "cell_type": "code",
   "execution_count": 557,
   "metadata": {
    "collapsed": false
   },
   "outputs": [
    {
     "data": {
      "text/html": [
       "<div>\n",
       "<table border=\"1\" class=\"dataframe\">\n",
       "  <thead>\n",
       "    <tr style=\"text-align: right;\">\n",
       "      <th></th>\n",
       "      <th>timestamp</th>\n",
       "      <th>heartrate</th>\n",
       "      <th>steps</th>\n",
       "      <th>calories</th>\n",
       "      <th>gsr</th>\n",
       "      <th>skintemp</th>\n",
       "      <th>airtemp</th>\n",
       "    </tr>\n",
       "  </thead>\n",
       "  <tbody>\n",
       "    <tr>\n",
       "      <th>1435</th>\n",
       "      <td>2016-05-04 23:55:00</td>\n",
       "      <td>71</td>\n",
       "      <td>0</td>\n",
       "      <td>0.9</td>\n",
       "      <td>0.000067</td>\n",
       "      <td>93.2</td>\n",
       "      <td>93.2</td>\n",
       "    </tr>\n",
       "    <tr>\n",
       "      <th>1436</th>\n",
       "      <td>2016-05-04 23:56:00</td>\n",
       "      <td>69</td>\n",
       "      <td>0</td>\n",
       "      <td>1.0</td>\n",
       "      <td>0.000067</td>\n",
       "      <td>94.1</td>\n",
       "      <td>94.1</td>\n",
       "    </tr>\n",
       "    <tr>\n",
       "      <th>1437</th>\n",
       "      <td>2016-05-04 23:57:00</td>\n",
       "      <td>68</td>\n",
       "      <td>0</td>\n",
       "      <td>0.9</td>\n",
       "      <td>0.000069</td>\n",
       "      <td>94.1</td>\n",
       "      <td>94.1</td>\n",
       "    </tr>\n",
       "    <tr>\n",
       "      <th>1438</th>\n",
       "      <td>2016-05-04 23:58:00</td>\n",
       "      <td>66</td>\n",
       "      <td>0</td>\n",
       "      <td>1.0</td>\n",
       "      <td>0.000071</td>\n",
       "      <td>94.1</td>\n",
       "      <td>94.1</td>\n",
       "    </tr>\n",
       "    <tr>\n",
       "      <th>1439</th>\n",
       "      <td>2016-05-04 23:59:00</td>\n",
       "      <td>65</td>\n",
       "      <td>0</td>\n",
       "      <td>0.9</td>\n",
       "      <td>0.000067</td>\n",
       "      <td>94.1</td>\n",
       "      <td>94.1</td>\n",
       "    </tr>\n",
       "  </tbody>\n",
       "</table>\n",
       "</div>"
      ],
      "text/plain": [
       "                timestamp  heartrate  steps  calories       gsr  skintemp  \\\n",
       "1435  2016-05-04 23:55:00         71      0       0.9  0.000067      93.2   \n",
       "1436  2016-05-04 23:56:00         69      0       1.0  0.000067      94.1   \n",
       "1437  2016-05-04 23:57:00         68      0       0.9  0.000069      94.1   \n",
       "1438  2016-05-04 23:58:00         66      0       1.0  0.000071      94.1   \n",
       "1439  2016-05-04 23:59:00         65      0       0.9  0.000067      94.1   \n",
       "\n",
       "      airtemp  \n",
       "1435     93.2  \n",
       "1436     94.1  \n",
       "1437     94.1  \n",
       "1438     94.1  \n",
       "1439     94.1  "
      ]
     },
     "execution_count": 557,
     "metadata": {},
     "output_type": "execute_result"
    }
   ],
   "source": [
    "metrics = loadMetricData('sarahYee', \"metrics\")\n",
    "metrics.tail(5)"
   ]
  },
  {
   "cell_type": "code",
   "execution_count": 558,
   "metadata": {
    "collapsed": false
   },
   "outputs": [
    {
     "data": {
      "text/plain": [
       "timestamp     object\n",
       "heartrate    float64\n",
       "steps        float64\n",
       "calories     float64\n",
       "gsr          float64\n",
       "skintemp     float64\n",
       "airtemp      float64\n",
       "dtype: object"
      ]
     },
     "execution_count": 558,
     "metadata": {},
     "output_type": "execute_result"
    }
   ],
   "source": [
    "metrics.dtypes"
   ]
  },
  {
   "cell_type": "code",
   "execution_count": 559,
   "metadata": {
    "collapsed": false
   },
   "outputs": [],
   "source": [
    "# clean metric data\n",
    "\n",
    "metrics.timestamp = pd.to_datetime(metrics.timestamp)\n",
    "\n",
    "metrics.heartrate = metrics.heartrate.fillna(0)\n",
    "metrics.steps = metrics.steps.fillna(0)\n",
    "metrics.calories = metrics.calories.fillna(0)\n",
    "metrics.gsr = metrics.gsr.fillna(0)\n",
    "metrics.skintemp = metrics.skintemp.fillna(0)\n",
    "metrics.airtemp = metrics.airtemp.fillna(0)\n",
    "\n",
    "# metrics.head(5)"
   ]
  },
  {
   "cell_type": "code",
   "execution_count": 560,
   "metadata": {
    "collapsed": false
   },
   "outputs": [
    {
     "data": {
      "text/html": [
       "<div>\n",
       "<table border=\"1\" class=\"dataframe\">\n",
       "  <thead>\n",
       "    <tr style=\"text-align: right;\">\n",
       "      <th></th>\n",
       "      <th>timestamp</th>\n",
       "      <th>heartrate</th>\n",
       "      <th>steps</th>\n",
       "      <th>calories</th>\n",
       "      <th>gsr</th>\n",
       "      <th>skintemp</th>\n",
       "      <th>airtemp</th>\n",
       "    </tr>\n",
       "  </thead>\n",
       "  <tbody>\n",
       "    <tr>\n",
       "      <th>705</th>\n",
       "      <td>2016-04-22 11:45:00</td>\n",
       "      <td>83</td>\n",
       "      <td>478</td>\n",
       "      <td>1167.40002</td>\n",
       "      <td>0.000000</td>\n",
       "      <td>0.0</td>\n",
       "      <td>0.0</td>\n",
       "    </tr>\n",
       "    <tr>\n",
       "      <th>706</th>\n",
       "      <td>2016-04-22 11:46:00</td>\n",
       "      <td>80</td>\n",
       "      <td>0</td>\n",
       "      <td>1.60000</td>\n",
       "      <td>0.000054</td>\n",
       "      <td>89.6</td>\n",
       "      <td>88.7</td>\n",
       "    </tr>\n",
       "    <tr>\n",
       "      <th>708</th>\n",
       "      <td>2016-04-22 11:48:00</td>\n",
       "      <td>120</td>\n",
       "      <td>0</td>\n",
       "      <td>3.00000</td>\n",
       "      <td>0.000000</td>\n",
       "      <td>0.0</td>\n",
       "      <td>0.0</td>\n",
       "    </tr>\n",
       "    <tr>\n",
       "      <th>709</th>\n",
       "      <td>2016-04-22 11:49:00</td>\n",
       "      <td>82</td>\n",
       "      <td>0</td>\n",
       "      <td>1.10000</td>\n",
       "      <td>0.000000</td>\n",
       "      <td>0.0</td>\n",
       "      <td>0.0</td>\n",
       "    </tr>\n",
       "    <tr>\n",
       "      <th>710</th>\n",
       "      <td>2016-04-22 11:50:00</td>\n",
       "      <td>81</td>\n",
       "      <td>0</td>\n",
       "      <td>1.30000</td>\n",
       "      <td>0.000064</td>\n",
       "      <td>88.7</td>\n",
       "      <td>87.8</td>\n",
       "    </tr>\n",
       "  </tbody>\n",
       "</table>\n",
       "</div>"
      ],
      "text/plain": [
       "              timestamp  heartrate  steps    calories       gsr  skintemp  \\\n",
       "705 2016-04-22 11:45:00         83    478  1167.40002  0.000000       0.0   \n",
       "706 2016-04-22 11:46:00         80      0     1.60000  0.000054      89.6   \n",
       "708 2016-04-22 11:48:00        120      0     3.00000  0.000000       0.0   \n",
       "709 2016-04-22 11:49:00         82      0     1.10000  0.000000       0.0   \n",
       "710 2016-04-22 11:50:00         81      0     1.30000  0.000064      88.7   \n",
       "\n",
       "     airtemp  \n",
       "705      0.0  \n",
       "706     88.7  \n",
       "708      0.0  \n",
       "709      0.0  \n",
       "710     87.8  "
      ]
     },
     "execution_count": 560,
     "metadata": {},
     "output_type": "execute_result"
    }
   ],
   "source": [
    "metrics = metrics[metrics.heartrate != 0]\n",
    "metrics.head(5)"
   ]
  },
  {
   "cell_type": "code",
   "execution_count": 561,
   "metadata": {
    "collapsed": false
   },
   "outputs": [],
   "source": [
    "activities = loadMetricData('sarahYee', \"activities\")\n",
    "# activities.tail(5)"
   ]
  },
  {
   "cell_type": "code",
   "execution_count": 562,
   "metadata": {
    "collapsed": false
   },
   "outputs": [],
   "source": [
    "sleep = loadMetricData('sarahYee', \"sleep\")\n",
    "# sleep.tail(5)"
   ]
  },
  {
   "cell_type": "code",
   "execution_count": 563,
   "metadata": {
    "collapsed": false
   },
   "outputs": [],
   "source": [
    "# sleep.dtypes"
   ]
  },
  {
   "cell_type": "code",
   "execution_count": 564,
   "metadata": {
    "collapsed": false
   },
   "outputs": [],
   "source": [
    "journal = loadMetricData('sarahYee', \"journal\")\n",
    "# journal.tail(5)"
   ]
  },
  {
   "cell_type": "code",
   "execution_count": 565,
   "metadata": {
    "collapsed": false
   },
   "outputs": [],
   "source": [
    "# journal.dtypes"
   ]
  },
  {
   "cell_type": "code",
   "execution_count": 566,
   "metadata": {
    "collapsed": false,
    "scrolled": true
   },
   "outputs": [
    {
     "name": "stdout",
     "output_type": "stream",
     "text": [
      "(127, 24)\n"
     ]
    },
    {
     "data": {
      "text/html": [
       "<div>\n",
       "<table border=\"1\" class=\"dataframe\">\n",
       "  <thead>\n",
       "    <tr style=\"text-align: right;\">\n",
       "      <th></th>\n",
       "      <th>starttime</th>\n",
       "      <th>endtime</th>\n",
       "      <th>date</th>\n",
       "      <th>start</th>\n",
       "      <th>end</th>\n",
       "      <th>activity</th>\n",
       "      <th>location</th>\n",
       "      <th>generalemo</th>\n",
       "      <th>qualitative</th>\n",
       "      <th>excited</th>\n",
       "      <th>...</th>\n",
       "      <th>angry</th>\n",
       "      <th>hungry</th>\n",
       "      <th>tired</th>\n",
       "      <th>bored</th>\n",
       "      <th>exhaca</th>\n",
       "      <th>ansaan</th>\n",
       "      <th>exha</th>\n",
       "      <th>haca</th>\n",
       "      <th>anan</th>\n",
       "      <th>ansa</th>\n",
       "    </tr>\n",
       "  </thead>\n",
       "  <tbody>\n",
       "    <tr>\n",
       "      <th>0</th>\n",
       "      <td>2016-04-22 13:48:00</td>\n",
       "      <td>2016-04-22 16:12:00</td>\n",
       "      <td>4/22/16</td>\n",
       "      <td>1:48:00 PM</td>\n",
       "      <td>4:12:00 PM</td>\n",
       "      <td>writing thesis</td>\n",
       "      <td>barb's office</td>\n",
       "      <td>anxious</td>\n",
       "      <td>6</td>\n",
       "      <td>0</td>\n",
       "      <td>...</td>\n",
       "      <td>0</td>\n",
       "      <td>0</td>\n",
       "      <td>0</td>\n",
       "      <td>0</td>\n",
       "      <td>0</td>\n",
       "      <td>6</td>\n",
       "      <td>0</td>\n",
       "      <td>0</td>\n",
       "      <td>6</td>\n",
       "      <td>6</td>\n",
       "    </tr>\n",
       "    <tr>\n",
       "      <th>1</th>\n",
       "      <td>2016-04-22 16:12:00</td>\n",
       "      <td>2016-04-22 17:15:00</td>\n",
       "      <td>4/22/16</td>\n",
       "      <td>4:12:00 PM</td>\n",
       "      <td>5:15:00 PM</td>\n",
       "      <td>writing thesis</td>\n",
       "      <td>barb's office</td>\n",
       "      <td>anxious</td>\n",
       "      <td>6</td>\n",
       "      <td>0</td>\n",
       "      <td>...</td>\n",
       "      <td>0</td>\n",
       "      <td>0</td>\n",
       "      <td>0</td>\n",
       "      <td>0</td>\n",
       "      <td>0</td>\n",
       "      <td>6</td>\n",
       "      <td>0</td>\n",
       "      <td>0</td>\n",
       "      <td>6</td>\n",
       "      <td>6</td>\n",
       "    </tr>\n",
       "    <tr>\n",
       "      <th>2</th>\n",
       "      <td>2016-04-22 17:15:00</td>\n",
       "      <td>2016-04-22 19:05:00</td>\n",
       "      <td>4/22/16</td>\n",
       "      <td>5:15:00 PM</td>\n",
       "      <td>7:05:00 PM</td>\n",
       "      <td>eating russian dumplings with annie then watch...</td>\n",
       "      <td>5th floor lounge</td>\n",
       "      <td>happy</td>\n",
       "      <td>10</td>\n",
       "      <td>0</td>\n",
       "      <td>...</td>\n",
       "      <td>0</td>\n",
       "      <td>0</td>\n",
       "      <td>0</td>\n",
       "      <td>0</td>\n",
       "      <td>10</td>\n",
       "      <td>0</td>\n",
       "      <td>10</td>\n",
       "      <td>10</td>\n",
       "      <td>0</td>\n",
       "      <td>0</td>\n",
       "    </tr>\n",
       "    <tr>\n",
       "      <th>3</th>\n",
       "      <td>2016-04-22 19:05:00</td>\n",
       "      <td>2016-04-22 19:15:00</td>\n",
       "      <td>4/22/16</td>\n",
       "      <td>7:05:00 PM</td>\n",
       "      <td>7:15:00 PM</td>\n",
       "      <td>photofeast</td>\n",
       "      <td>3rd floor</td>\n",
       "      <td>excited/anxious</td>\n",
       "      <td>5/3</td>\n",
       "      <td>5</td>\n",
       "      <td>...</td>\n",
       "      <td>0</td>\n",
       "      <td>0</td>\n",
       "      <td>0</td>\n",
       "      <td>0</td>\n",
       "      <td>5</td>\n",
       "      <td>3</td>\n",
       "      <td>5</td>\n",
       "      <td>0</td>\n",
       "      <td>3</td>\n",
       "      <td>3</td>\n",
       "    </tr>\n",
       "    <tr>\n",
       "      <th>4</th>\n",
       "      <td>2016-04-22 19:15:00</td>\n",
       "      <td>2016-04-22 19:25:00</td>\n",
       "      <td>4/22/16</td>\n",
       "      <td>7:15:00 PM</td>\n",
       "      <td>7:25:00 PM</td>\n",
       "      <td>naked picture of charles in photofeast</td>\n",
       "      <td>3rd floor</td>\n",
       "      <td>what can only be described as traumatic shock</td>\n",
       "      <td>10</td>\n",
       "      <td>0</td>\n",
       "      <td>...</td>\n",
       "      <td>0</td>\n",
       "      <td>0</td>\n",
       "      <td>0</td>\n",
       "      <td>0</td>\n",
       "      <td>0</td>\n",
       "      <td>0</td>\n",
       "      <td>0</td>\n",
       "      <td>0</td>\n",
       "      <td>0</td>\n",
       "      <td>0</td>\n",
       "    </tr>\n",
       "  </tbody>\n",
       "</table>\n",
       "<p>5 rows × 24 columns</p>\n",
       "</div>"
      ],
      "text/plain": [
       "            starttime             endtime     date       start         end  \\\n",
       "0 2016-04-22 13:48:00 2016-04-22 16:12:00  4/22/16  1:48:00 PM  4:12:00 PM   \n",
       "1 2016-04-22 16:12:00 2016-04-22 17:15:00  4/22/16  4:12:00 PM  5:15:00 PM   \n",
       "2 2016-04-22 17:15:00 2016-04-22 19:05:00  4/22/16  5:15:00 PM  7:05:00 PM   \n",
       "3 2016-04-22 19:05:00 2016-04-22 19:15:00  4/22/16  7:05:00 PM  7:15:00 PM   \n",
       "4 2016-04-22 19:15:00 2016-04-22 19:25:00  4/22/16  7:15:00 PM  7:25:00 PM   \n",
       "\n",
       "                                            activity          location  \\\n",
       "0                                     writing thesis     barb's office   \n",
       "1                                     writing thesis     barb's office   \n",
       "2  eating russian dumplings with annie then watch...  5th floor lounge   \n",
       "3                                         photofeast         3rd floor   \n",
       "4             naked picture of charles in photofeast         3rd floor   \n",
       "\n",
       "                                      generalemo qualitative  excited  ...   \\\n",
       "0                                        anxious           6        0  ...    \n",
       "1                                        anxious           6        0  ...    \n",
       "2                                          happy          10        0  ...    \n",
       "3                                excited/anxious         5/3        5  ...    \n",
       "4  what can only be described as traumatic shock          10        0  ...    \n",
       "\n",
       "   angry  hungry  tired  bored  exhaca  ansaan  exha  haca  anan  ansa  \n",
       "0      0       0      0      0       0       6     0     0     6     6  \n",
       "1      0       0      0      0       0       6     0     0     6     6  \n",
       "2      0       0      0      0      10       0    10    10     0     0  \n",
       "3      0       0      0      0       5       3     5     0     3     3  \n",
       "4      0       0      0      0       0       0     0     0     0     0  \n",
       "\n",
       "[5 rows x 24 columns]"
      ]
     },
     "execution_count": 566,
     "metadata": {},
     "output_type": "execute_result"
    }
   ],
   "source": [
    "# clean metric data\n",
    "journal.starttime= pd.to_datetime(journal.starttime)\n",
    "journal.endtime= pd.to_datetime(journal.endtime)\n",
    "\n",
    "journal.qualitative = journal.qualitative.fillna(0)\n",
    "journal.excited = journal.excited.fillna(0)\n",
    "journal.happy = journal.happy.fillna(0)\n",
    "journal.calm = journal.calm.fillna(0)\n",
    "journal.anxious = journal.anxious.fillna(0)\n",
    "journal.sad = journal.sad.fillna(0)\n",
    "journal.angry = journal.angry.fillna(0)\n",
    "journal.hungry = journal.hungry.fillna(0)\n",
    "journal.tired = journal.tired.fillna(0)\n",
    "journal.bored = journal.bored.fillna(0)\n",
    "journal.ansaan = journal.ansaan.fillna(0)\n",
    "journal.exhaca = journal.exhaca.fillna(0)\n",
    "\n",
    "print(journal.shape)\n",
    "journal.head(5)\n",
    "# journal.tail(5)"
   ]
  },
  {
   "cell_type": "code",
   "execution_count": 567,
   "metadata": {
    "collapsed": false
   },
   "outputs": [
    {
     "data": {
      "text/html": [
       "<div>\n",
       "<table border=\"1\" class=\"dataframe\">\n",
       "  <thead>\n",
       "    <tr style=\"text-align: right;\">\n",
       "      <th></th>\n",
       "      <th>starttime</th>\n",
       "      <th>endtime</th>\n",
       "      <th>date</th>\n",
       "      <th>start</th>\n",
       "      <th>end</th>\n",
       "      <th>activity</th>\n",
       "      <th>location</th>\n",
       "      <th>generalemo</th>\n",
       "      <th>qualitative</th>\n",
       "      <th>excited</th>\n",
       "      <th>...</th>\n",
       "      <th>ansa</th>\n",
       "      <th>boolexcited</th>\n",
       "      <th>boolhappy</th>\n",
       "      <th>boolcalm</th>\n",
       "      <th>boolanxious</th>\n",
       "      <th>boolsad</th>\n",
       "      <th>boolangry</th>\n",
       "      <th>booltired</th>\n",
       "      <th>boolhungry</th>\n",
       "      <th>boolbored</th>\n",
       "    </tr>\n",
       "  </thead>\n",
       "  <tbody>\n",
       "    <tr>\n",
       "      <th>0</th>\n",
       "      <td>2016-04-22 13:48:00</td>\n",
       "      <td>2016-04-22 16:12:00</td>\n",
       "      <td>4/22/16</td>\n",
       "      <td>1:48:00 PM</td>\n",
       "      <td>4:12:00 PM</td>\n",
       "      <td>writing thesis</td>\n",
       "      <td>barb's office</td>\n",
       "      <td>anxious</td>\n",
       "      <td>6</td>\n",
       "      <td>0</td>\n",
       "      <td>...</td>\n",
       "      <td>True</td>\n",
       "      <td>False</td>\n",
       "      <td>False</td>\n",
       "      <td>False</td>\n",
       "      <td>True</td>\n",
       "      <td>False</td>\n",
       "      <td>False</td>\n",
       "      <td>False</td>\n",
       "      <td>False</td>\n",
       "      <td>False</td>\n",
       "    </tr>\n",
       "    <tr>\n",
       "      <th>1</th>\n",
       "      <td>2016-04-22 16:12:00</td>\n",
       "      <td>2016-04-22 17:15:00</td>\n",
       "      <td>4/22/16</td>\n",
       "      <td>4:12:00 PM</td>\n",
       "      <td>5:15:00 PM</td>\n",
       "      <td>writing thesis</td>\n",
       "      <td>barb's office</td>\n",
       "      <td>anxious</td>\n",
       "      <td>6</td>\n",
       "      <td>0</td>\n",
       "      <td>...</td>\n",
       "      <td>True</td>\n",
       "      <td>False</td>\n",
       "      <td>False</td>\n",
       "      <td>False</td>\n",
       "      <td>True</td>\n",
       "      <td>False</td>\n",
       "      <td>False</td>\n",
       "      <td>False</td>\n",
       "      <td>False</td>\n",
       "      <td>False</td>\n",
       "    </tr>\n",
       "    <tr>\n",
       "      <th>2</th>\n",
       "      <td>2016-04-22 17:15:00</td>\n",
       "      <td>2016-04-22 19:05:00</td>\n",
       "      <td>4/22/16</td>\n",
       "      <td>5:15:00 PM</td>\n",
       "      <td>7:05:00 PM</td>\n",
       "      <td>eating russian dumplings with annie then watch...</td>\n",
       "      <td>5th floor lounge</td>\n",
       "      <td>happy</td>\n",
       "      <td>10</td>\n",
       "      <td>0</td>\n",
       "      <td>...</td>\n",
       "      <td>False</td>\n",
       "      <td>False</td>\n",
       "      <td>True</td>\n",
       "      <td>False</td>\n",
       "      <td>False</td>\n",
       "      <td>False</td>\n",
       "      <td>False</td>\n",
       "      <td>False</td>\n",
       "      <td>False</td>\n",
       "      <td>False</td>\n",
       "    </tr>\n",
       "    <tr>\n",
       "      <th>3</th>\n",
       "      <td>2016-04-22 19:05:00</td>\n",
       "      <td>2016-04-22 19:15:00</td>\n",
       "      <td>4/22/16</td>\n",
       "      <td>7:05:00 PM</td>\n",
       "      <td>7:15:00 PM</td>\n",
       "      <td>photofeast</td>\n",
       "      <td>3rd floor</td>\n",
       "      <td>excited/anxious</td>\n",
       "      <td>5/3</td>\n",
       "      <td>5</td>\n",
       "      <td>...</td>\n",
       "      <td>True</td>\n",
       "      <td>True</td>\n",
       "      <td>False</td>\n",
       "      <td>False</td>\n",
       "      <td>True</td>\n",
       "      <td>False</td>\n",
       "      <td>False</td>\n",
       "      <td>False</td>\n",
       "      <td>False</td>\n",
       "      <td>False</td>\n",
       "    </tr>\n",
       "    <tr>\n",
       "      <th>4</th>\n",
       "      <td>2016-04-22 19:15:00</td>\n",
       "      <td>2016-04-22 19:25:00</td>\n",
       "      <td>4/22/16</td>\n",
       "      <td>7:15:00 PM</td>\n",
       "      <td>7:25:00 PM</td>\n",
       "      <td>naked picture of charles in photofeast</td>\n",
       "      <td>3rd floor</td>\n",
       "      <td>what can only be described as traumatic shock</td>\n",
       "      <td>10</td>\n",
       "      <td>0</td>\n",
       "      <td>...</td>\n",
       "      <td>False</td>\n",
       "      <td>False</td>\n",
       "      <td>False</td>\n",
       "      <td>False</td>\n",
       "      <td>False</td>\n",
       "      <td>False</td>\n",
       "      <td>False</td>\n",
       "      <td>False</td>\n",
       "      <td>False</td>\n",
       "      <td>False</td>\n",
       "    </tr>\n",
       "  </tbody>\n",
       "</table>\n",
       "<p>5 rows × 33 columns</p>\n",
       "</div>"
      ],
      "text/plain": [
       "            starttime             endtime     date       start         end  \\\n",
       "0 2016-04-22 13:48:00 2016-04-22 16:12:00  4/22/16  1:48:00 PM  4:12:00 PM   \n",
       "1 2016-04-22 16:12:00 2016-04-22 17:15:00  4/22/16  4:12:00 PM  5:15:00 PM   \n",
       "2 2016-04-22 17:15:00 2016-04-22 19:05:00  4/22/16  5:15:00 PM  7:05:00 PM   \n",
       "3 2016-04-22 19:05:00 2016-04-22 19:15:00  4/22/16  7:05:00 PM  7:15:00 PM   \n",
       "4 2016-04-22 19:15:00 2016-04-22 19:25:00  4/22/16  7:15:00 PM  7:25:00 PM   \n",
       "\n",
       "                                            activity          location  \\\n",
       "0                                     writing thesis     barb's office   \n",
       "1                                     writing thesis     barb's office   \n",
       "2  eating russian dumplings with annie then watch...  5th floor lounge   \n",
       "3                                         photofeast         3rd floor   \n",
       "4             naked picture of charles in photofeast         3rd floor   \n",
       "\n",
       "                                      generalemo qualitative  excited  \\\n",
       "0                                        anxious           6        0   \n",
       "1                                        anxious           6        0   \n",
       "2                                          happy          10        0   \n",
       "3                                excited/anxious         5/3        5   \n",
       "4  what can only be described as traumatic shock          10        0   \n",
       "\n",
       "     ...      ansa  boolexcited  boolhappy  boolcalm  boolanxious  boolsad  \\\n",
       "0    ...      True        False      False     False         True    False   \n",
       "1    ...      True        False      False     False         True    False   \n",
       "2    ...     False        False       True     False        False    False   \n",
       "3    ...      True         True      False     False         True    False   \n",
       "4    ...     False        False      False     False        False    False   \n",
       "\n",
       "   boolangry  booltired boolhungry boolbored  \n",
       "0      False      False      False     False  \n",
       "1      False      False      False     False  \n",
       "2      False      False      False     False  \n",
       "3      False      False      False     False  \n",
       "4      False      False      False     False  \n",
       "\n",
       "[5 rows x 33 columns]"
      ]
     },
     "execution_count": 567,
     "metadata": {},
     "output_type": "execute_result"
    }
   ],
   "source": [
    "\n",
    "journal['boolexcited'] =  journal['excited'] > 0\n",
    "journal['boolhappy'] =  journal['happy'] > 0\n",
    "journal['boolcalm'] =  journal['calm'] > 0\n",
    "journal['boolanxious'] =  journal['anxious'] > 0\n",
    "journal['boolsad'] =  journal['sad'] > 0\n",
    "journal['boolangry'] =  journal['angry'] > 0\n",
    "journal['booltired'] =  journal['tired'] > 0\n",
    "journal['boolhungry'] =  journal['hungry'] > 0\n",
    "journal['boolbored'] =  journal['bored'] > 0\n",
    "journal['exhaca'] =  journal['exhaca'] > 0\n",
    "journal['ansaan'] =  journal['ansaan'] > 0\n",
    "\n",
    "journal['exha'] =  journal['exha'] > 0\n",
    "journal['haca'] =  journal['haca'] > 0\n",
    "journal['anan'] =  journal['anan'] > 0\n",
    "journal['ansa'] =  journal['anan'] > 0\n",
    "\n",
    "    \n",
    "boolexcited = journal.iloc[:, 18].values.reshape(journal.shape[0], 1)\n",
    "boolhappy = journal.iloc[:, 19].values.reshape(journal.shape[0], 1)\n",
    "boolcalm = journal.iloc[:, 20].values.reshape(journal.shape[0], 1)\n",
    "boolanxious = journal.iloc[:, 21].values.reshape(journal.shape[0], 1)\n",
    "boolsad = journal.iloc[:, 22].values.reshape(journal.shape[0], 1)\n",
    "boolangry = journal.iloc[:, 23].values.reshape(journal.shape[0], 1)\n",
    "booltired = journal.iloc[:, 24].values.reshape(journal.shape[0], 1)\n",
    "boolhungry = journal.iloc[:, 25].values.reshape(journal.shape[0], 1)\n",
    "boolbored = journal.iloc[:, 26].values.reshape(journal.shape[0], 1)\n",
    "exhaca = journal.iloc[:, 27].values.reshape(journal.shape[0], 1)\n",
    "ansaan = journal.iloc[:, 28].values.reshape(journal.shape[0], 1)\n",
    "exha = journal.iloc[:, 29].values.reshape(journal.shape[0], 1)\n",
    "haca = journal.iloc[:, 30].values.reshape(journal.shape[0], 1)\n",
    "anan = journal.iloc[:, 31].values.reshape(journal.shape[0], 1)\n",
    "ansa = journal.iloc[:, 32].values.reshape(journal.shape[0], 1)\n",
    "\n",
    "journal.head(5)\n"
   ]
  },
  {
   "cell_type": "code",
   "execution_count": 568,
   "metadata": {
    "collapsed": false
   },
   "outputs": [],
   "source": [
    "# for i in range(0, sarahJournal.shape[0]):\n",
    "#     sarahJournal['ex'] = (0< sarahJournal.iloc[i, 18].astype(int))\n",
    "#     sarahJournal['ha'] = sarahJournal.iloc[i, 19]== True\n",
    "#     sarahJournal['ca'] = sarahJournal.iloc[i, 20]== True\n",
    "#     sarahJournal['ys'] = sarahJournal['ex'].astype(int) + sarahJournal['ha'].astype(int) + sarahJournal['ca'].astype(int)\n",
    "\n",
    "# print(sarahJournal['ex'])\n",
    "    "
   ]
  },
  {
   "cell_type": "code",
   "execution_count": 569,
   "metadata": {
    "collapsed": false
   },
   "outputs": [],
   "source": [
    "# def makeEmoIndicators(newvar, journalData, journal_emo1_loc, journal_emo2_loc, journal_emo3_loc):\n",
    "  \n",
    "#     journalData[newvar] = False\n",
    "    \n",
    "#     for i in range(0, journalData.shape[0]):\n",
    "#         journalData['emo1'] = (journalData.iloc[i, journal_emo1_loc]) == True)\n",
    "#         journalData['emo2'] = (journalData.iloc[i, journal_emo2_loc] == True)\n",
    "#         journalData['emo3'] = (journalData.iloc[i, journal_emo3_loc] == True)\n",
    "#         journalData['ysum'] = journalData['emo1'].astype(int) + journalData['emo2'].astype(int) + journalData['emo3'].astype(int)\n",
    "# #         print(journalData['emo1'].astype(int) + journalData['emo2'].astype(int) + journalData['emo3'].astype(int))\n",
    "#         journalData.loc[journalData['ysum']!=0, newvar] = True\n",
    "        \n",
    "#     print(journalData['emo1'].values)\n",
    "#     journalData = journalData.drop(['emo1', 'emo2', 'emo3', 'ysum'], axis=1)\n",
    "#     return journalData"
   ]
  },
  {
   "cell_type": "code",
   "execution_count": 570,
   "metadata": {
    "collapsed": false
   },
   "outputs": [],
   "source": [
    "# sarahJournal.dtypes"
   ]
  },
  {
   "cell_type": "code",
   "execution_count": 571,
   "metadata": {
    "collapsed": false
   },
   "outputs": [],
   "source": [
    "# testData= makeEmoIndicators('exhaca', sarahJournal, 18, 19, 20)\n",
    "# # print(testData.describe())"
   ]
  },
  {
   "cell_type": "code",
   "execution_count": 572,
   "metadata": {
    "collapsed": false
   },
   "outputs": [],
   "source": [
    "# sarahJournal.boolexhapcal.convert_objects(convert_numeric=True)"
   ]
  },
  {
   "cell_type": "code",
   "execution_count": 573,
   "metadata": {
    "collapsed": false
   },
   "outputs": [],
   "source": [
    "# function that takes any journal or activity data and creates indicators for activities or emotions\n",
    "\n",
    "def makeIndicators(newvar, metricData, journalData, journal_startdatetime_loc, journal_enddatetime_loc, journal_activity_loc):\n",
    "    '''\n",
    "    Create boolean indicator variable for activities or emotions\n",
    "    newvar, string for name of new indicator variable\n",
    "    activity, string that matches the name of the activity or emotion in the journalData data frame\n",
    "    bioData, data frame of input biometric data\n",
    "    journalData, data frame of input journal or activity data\n",
    "    journal_startdatetime_loc, int of position of the start datetime in journalData\n",
    "    journal_enddatetime_loc, int of position of the end datetime in journalData\n",
    "    journal_activity_loc, int of position of the activity or emotion in journalData\n",
    "    '''\n",
    "\n",
    "    metricData[newvar] = False\n",
    "\n",
    "    for i in range(0, journalData.shape[0]):\n",
    "        metricData['xlt'] = (metricData['timestamp'] >= pd.to_datetime(journalData.iloc[i, journal_startdatetime_loc]))\n",
    "        metricData['xgt'] = (metricData['timestamp'] <= pd.to_datetime(journalData.iloc[i, journal_enddatetime_loc]))\n",
    "#         metricData['xw'] = (journalData.iloc[i, journal_activity_loc])\n",
    "        metricData['xw'] = (journalData.iloc[i, journal_activity_loc] == True)\n",
    "        metricData['xsum'] = metricData['xlt'].astype(int) + metricData['xgt'].astype(int) + metricData['xw'].astype(int)\n",
    "        metricData.loc[metricData['xsum']==3, newvar] = True\n",
    "    \n",
    "    metricData = metricData.drop(['xlt', 'xgt', 'xw', 'xsum'], axis=1)\n",
    "    return metricData"
   ]
  },
  {
   "cell_type": "code",
   "execution_count": 574,
   "metadata": {
    "collapsed": false
   },
   "outputs": [],
   "source": [
    "# indicator for walking\n",
    "totalData = makeIndicators('excitement', metrics, journal, 0, 1, 18)\n",
    "totalData = makeIndicators('happy', metrics, journal, 0, 1, 19)\n",
    "totalData = makeIndicators('calm', metrics, journal, 0, 1, 20)\n",
    "totalData = makeIndicators('anxious', metrics, journal, 0, 1, 21)\n",
    "totalData = makeIndicators('sad', metrics, journal, 0, 1, 22)\n",
    "totalData = makeIndicators('angry', metrics, journal, 0, 1, 23)\n",
    "totalData = makeIndicators('hungry', metrics, journal, 0, 1, 24)\n",
    "totalData = makeIndicators('tired', metrics, journal, 0, 1, 25)\n",
    "totalData = makeIndicators('bored', metrics, journal, 0, 1, 26)\n",
    "\n",
    "totalData = makeIndicators('exhaca', metrics, journal, 0, 1, 27)\n",
    "totalData = makeIndicators('ansaan', metrics, journal, 0, 1, 28)\n",
    "\n",
    "totalData = makeIndicators('exha', metrics, journal, 0, 1, 29)\n",
    "totalData = makeIndicators('haca', metrics, journal, 0, 1, 30)\n",
    "totalData = makeIndicators('anan', metrics, journal, 0, 1, 31)\n",
    "totalData = makeIndicators('ansa', metrics, journal, 0, 1, 32)\n",
    "\n",
    "\n"
   ]
  },
  {
   "cell_type": "code",
   "execution_count": 575,
   "metadata": {
    "collapsed": false
   },
   "outputs": [
    {
     "name": "stdout",
     "output_type": "stream",
     "text": [
      "          heartrate         steps      calories           gsr      skintemp  \\\n",
      "count  17279.000000  17279.000000  17279.000000  17279.000000  17279.000000   \n",
      "mean      87.660281      8.785231      1.822420      0.045547     88.762446   \n",
      "std       18.073892     26.172463      8.982735      0.417669      6.415743   \n",
      "min       57.000000      0.000000      0.000000      0.000000      0.000000   \n",
      "25%       71.000000      0.000000      1.000000      0.000054     86.900000   \n",
      "50%       87.000000      0.000000      1.200000      0.000062     89.600000   \n",
      "75%       99.000000      0.000000      1.800000      0.000081     91.400000   \n",
      "max      168.000000    695.000000   1167.400020     10.500000     97.700000   \n",
      "\n",
      "            airtemp excitement     happy       calm   anxious    ...      \\\n",
      "count  17279.000000      17279     17279      17279     17279    ...       \n",
      "mean      85.298235   0.184038  0.245327  0.0478037   0.17773    ...       \n",
      "std        7.025071   0.387527  0.430293   0.213357  0.382297    ...       \n",
      "min        0.000000      False     False      False     False    ...       \n",
      "25%       82.400000          0         0          0         0    ...       \n",
      "50%       85.100000          0         0          0         0    ...       \n",
      "75%       88.700000          0         0          0         0    ...       \n",
      "max       97.700000       True      True       True      True    ...       \n",
      "\n",
      "          angry     hungry      tired     bored    exhaca     ansaan  \\\n",
      "count     17279      17279      17279     17279     17279      17279   \n",
      "mean   0.245327  0.0122114  0.0411482  0.160137  0.227675  0.0433474   \n",
      "std    0.430293   0.109831   0.198639  0.366743  0.419344   0.203644   \n",
      "min       False      False      False     False     False      False   \n",
      "25%           0          0          0         0         0          0   \n",
      "50%           0          0          0         0         0          0   \n",
      "75%           0          0          0         0         0          0   \n",
      "max        True       True       True      True      True       True   \n",
      "\n",
      "            exha       haca       anan       ansa  \n",
      "count      17279      17279      17279      17279  \n",
      "mean   0.0774929  0.0868685    0.01007  0.0567741  \n",
      "std      0.26738    0.28165  0.0998459   0.231417  \n",
      "min        False      False      False      False  \n",
      "25%            0          0          0          0  \n",
      "50%            0          0          0          0  \n",
      "75%            0          0          0          0  \n",
      "max         True       True       True       True  \n",
      "\n",
      "[8 rows x 21 columns]\n"
     ]
    }
   ],
   "source": [
    "print(totalData.describe())"
   ]
  },
  {
   "cell_type": "code",
   "execution_count": 576,
   "metadata": {
    "collapsed": false
   },
   "outputs": [
    {
     "name": "stdout",
     "output_type": "stream",
     "text": [
      "              timestamp  heartrate  steps    calories       gsr  skintemp  \\\n",
      "705 2016-04-22 11:45:00         83    478  1167.40002  0.000000       0.0   \n",
      "706 2016-04-22 11:46:00         80      0     1.60000  0.000054      89.6   \n",
      "708 2016-04-22 11:48:00        120      0     3.00000  0.000000       0.0   \n",
      "709 2016-04-22 11:49:00         82      0     1.10000  0.000000       0.0   \n",
      "710 2016-04-22 11:50:00         81      0     1.30000  0.000064      88.7   \n",
      "\n",
      "     airtemp excitement  happy   calm  ...    angry hungry  tired  bored  \\\n",
      "705      0.0      False  False  False  ...    False  False  False  False   \n",
      "706     88.7      False  False  False  ...    False  False  False  False   \n",
      "708      0.0      False  False  False  ...    False  False  False  False   \n",
      "709      0.0      False  False  False  ...    False  False  False  False   \n",
      "710     87.8      False  False  False  ...    False  False  False  False   \n",
      "\n",
      "    exhaca ansaan   exha   haca   anan   ansa  \n",
      "705  False  False  False  False  False  False  \n",
      "706  False  False  False  False  False  False  \n",
      "708  False  False  False  False  False  False  \n",
      "709  False  False  False  False  False  False  \n",
      "710  False  False  False  False  False  False  \n",
      "\n",
      "[5 rows x 22 columns]\n"
     ]
    }
   ],
   "source": [
    "print(totalData.head())"
   ]
  },
  {
   "cell_type": "code",
   "execution_count": 577,
   "metadata": {
    "collapsed": false
   },
   "outputs": [],
   "source": [
    "totalData.to_csv('sarahTotal.csv')"
   ]
  },
  {
   "cell_type": "code",
   "execution_count": 578,
   "metadata": {
    "collapsed": false
   },
   "outputs": [
    {
     "data": {
      "text/html": [
       "<div>\n",
       "<table border=\"1\" class=\"dataframe\">\n",
       "  <thead>\n",
       "    <tr style=\"text-align: right;\">\n",
       "      <th></th>\n",
       "      <th>timestamp</th>\n",
       "      <th>heartrate</th>\n",
       "      <th>steps</th>\n",
       "      <th>calories</th>\n",
       "      <th>gsr</th>\n",
       "      <th>skintemp</th>\n",
       "      <th>airtemp</th>\n",
       "      <th>excitement</th>\n",
       "      <th>happy</th>\n",
       "      <th>calm</th>\n",
       "      <th>...</th>\n",
       "      <th>angry</th>\n",
       "      <th>hungry</th>\n",
       "      <th>tired</th>\n",
       "      <th>bored</th>\n",
       "      <th>exhaca</th>\n",
       "      <th>ansaan</th>\n",
       "      <th>exha</th>\n",
       "      <th>haca</th>\n",
       "      <th>anan</th>\n",
       "      <th>ansa</th>\n",
       "    </tr>\n",
       "  </thead>\n",
       "  <tbody>\n",
       "    <tr>\n",
       "      <th>705</th>\n",
       "      <td>2016-04-22 11:45:00</td>\n",
       "      <td>83</td>\n",
       "      <td>478</td>\n",
       "      <td>1167.40002</td>\n",
       "      <td>0.000000</td>\n",
       "      <td>0.0</td>\n",
       "      <td>0.0</td>\n",
       "      <td>False</td>\n",
       "      <td>False</td>\n",
       "      <td>False</td>\n",
       "      <td>...</td>\n",
       "      <td>False</td>\n",
       "      <td>False</td>\n",
       "      <td>False</td>\n",
       "      <td>False</td>\n",
       "      <td>False</td>\n",
       "      <td>False</td>\n",
       "      <td>False</td>\n",
       "      <td>False</td>\n",
       "      <td>False</td>\n",
       "      <td>False</td>\n",
       "    </tr>\n",
       "    <tr>\n",
       "      <th>706</th>\n",
       "      <td>2016-04-22 11:46:00</td>\n",
       "      <td>80</td>\n",
       "      <td>0</td>\n",
       "      <td>1.60000</td>\n",
       "      <td>0.000054</td>\n",
       "      <td>89.6</td>\n",
       "      <td>88.7</td>\n",
       "      <td>False</td>\n",
       "      <td>False</td>\n",
       "      <td>False</td>\n",
       "      <td>...</td>\n",
       "      <td>False</td>\n",
       "      <td>False</td>\n",
       "      <td>False</td>\n",
       "      <td>False</td>\n",
       "      <td>False</td>\n",
       "      <td>False</td>\n",
       "      <td>False</td>\n",
       "      <td>False</td>\n",
       "      <td>False</td>\n",
       "      <td>False</td>\n",
       "    </tr>\n",
       "    <tr>\n",
       "      <th>708</th>\n",
       "      <td>2016-04-22 11:48:00</td>\n",
       "      <td>120</td>\n",
       "      <td>0</td>\n",
       "      <td>3.00000</td>\n",
       "      <td>0.000000</td>\n",
       "      <td>0.0</td>\n",
       "      <td>0.0</td>\n",
       "      <td>False</td>\n",
       "      <td>False</td>\n",
       "      <td>False</td>\n",
       "      <td>...</td>\n",
       "      <td>False</td>\n",
       "      <td>False</td>\n",
       "      <td>False</td>\n",
       "      <td>False</td>\n",
       "      <td>False</td>\n",
       "      <td>False</td>\n",
       "      <td>False</td>\n",
       "      <td>False</td>\n",
       "      <td>False</td>\n",
       "      <td>False</td>\n",
       "    </tr>\n",
       "    <tr>\n",
       "      <th>709</th>\n",
       "      <td>2016-04-22 11:49:00</td>\n",
       "      <td>82</td>\n",
       "      <td>0</td>\n",
       "      <td>1.10000</td>\n",
       "      <td>0.000000</td>\n",
       "      <td>0.0</td>\n",
       "      <td>0.0</td>\n",
       "      <td>False</td>\n",
       "      <td>False</td>\n",
       "      <td>False</td>\n",
       "      <td>...</td>\n",
       "      <td>False</td>\n",
       "      <td>False</td>\n",
       "      <td>False</td>\n",
       "      <td>False</td>\n",
       "      <td>False</td>\n",
       "      <td>False</td>\n",
       "      <td>False</td>\n",
       "      <td>False</td>\n",
       "      <td>False</td>\n",
       "      <td>False</td>\n",
       "    </tr>\n",
       "    <tr>\n",
       "      <th>710</th>\n",
       "      <td>2016-04-22 11:50:00</td>\n",
       "      <td>81</td>\n",
       "      <td>0</td>\n",
       "      <td>1.30000</td>\n",
       "      <td>0.000064</td>\n",
       "      <td>88.7</td>\n",
       "      <td>87.8</td>\n",
       "      <td>False</td>\n",
       "      <td>False</td>\n",
       "      <td>False</td>\n",
       "      <td>...</td>\n",
       "      <td>False</td>\n",
       "      <td>False</td>\n",
       "      <td>False</td>\n",
       "      <td>False</td>\n",
       "      <td>False</td>\n",
       "      <td>False</td>\n",
       "      <td>False</td>\n",
       "      <td>False</td>\n",
       "      <td>False</td>\n",
       "      <td>False</td>\n",
       "    </tr>\n",
       "  </tbody>\n",
       "</table>\n",
       "<p>5 rows × 22 columns</p>\n",
       "</div>"
      ],
      "text/plain": [
       "              timestamp  heartrate  steps    calories       gsr  skintemp  \\\n",
       "705 2016-04-22 11:45:00         83    478  1167.40002  0.000000       0.0   \n",
       "706 2016-04-22 11:46:00         80      0     1.60000  0.000054      89.6   \n",
       "708 2016-04-22 11:48:00        120      0     3.00000  0.000000       0.0   \n",
       "709 2016-04-22 11:49:00         82      0     1.10000  0.000000       0.0   \n",
       "710 2016-04-22 11:50:00         81      0     1.30000  0.000064      88.7   \n",
       "\n",
       "     airtemp excitement  happy   calm  ...    angry hungry  tired  bored  \\\n",
       "705      0.0      False  False  False  ...    False  False  False  False   \n",
       "706     88.7      False  False  False  ...    False  False  False  False   \n",
       "708      0.0      False  False  False  ...    False  False  False  False   \n",
       "709      0.0      False  False  False  ...    False  False  False  False   \n",
       "710     87.8      False  False  False  ...    False  False  False  False   \n",
       "\n",
       "    exhaca ansaan   exha   haca   anan   ansa  \n",
       "705  False  False  False  False  False  False  \n",
       "706  False  False  False  False  False  False  \n",
       "708  False  False  False  False  False  False  \n",
       "709  False  False  False  False  False  False  \n",
       "710  False  False  False  False  False  False  \n",
       "\n",
       "[5 rows x 22 columns]"
      ]
     },
     "execution_count": 578,
     "metadata": {},
     "output_type": "execute_result"
    }
   ],
   "source": [
    "totalData.head(5)"
   ]
  },
  {
   "cell_type": "code",
   "execution_count": 579,
   "metadata": {
    "collapsed": false
   },
   "outputs": [
    {
     "name": "stdout",
     "output_type": "stream",
     "text": [
      "(17279, 26)\n",
      "              timestamp  heartrate  steps    calories       gsr  skintemp  \\\n",
      "705 2016-04-22 11:45:00         83    478  1167.40002  0.000000       0.0   \n",
      "706 2016-04-22 11:46:00         80      0     1.60000  0.000054      89.6   \n",
      "708 2016-04-22 11:48:00        120      0     3.00000  0.000000       0.0   \n",
      "709 2016-04-22 11:49:00         82      0     1.10000  0.000000       0.0   \n",
      "710 2016-04-22 11:50:00         81      0     1.30000  0.000064      88.7   \n",
      "\n",
      "     airtemp excitement  happy   calm ... exhaca ansaan   exha   haca   anan  \\\n",
      "705      0.0      False  False  False ...  False  False  False  False  False   \n",
      "706     88.7      False  False  False ...  False  False  False  False  False   \n",
      "708      0.0      False  False  False ...  False  False  False  False  False   \n",
      "709      0.0      False  False  False ...  False  False  False  False  False   \n",
      "710     87.8      False  False  False ...  False  False  False  False  False   \n",
      "\n",
      "      ansa weekday month hour min  \n",
      "705  False       4     4   11  45  \n",
      "706  False       4     4   11  46  \n",
      "708  False       4     4   11  48  \n",
      "709  False       4     4   11  49  \n",
      "710  False       4     4   11  50  \n",
      "\n",
      "[5 rows x 26 columns]\n"
     ]
    }
   ],
   "source": [
    "# find day of week (0-6, Mon-Sun)\n",
    "totalData['weekday'] = totalData['timestamp'].dt.weekday\n",
    "totalData['month'] = totalData['timestamp'].dt.month\n",
    "totalData['hour'] = totalData['timestamp'].dt.hour\n",
    "totalData['min'] = totalData['timestamp'].dt.minute\n",
    "\n",
    "\n",
    "print(totalData.shape)\n",
    "print(totalData.head(5))"
   ]
  },
  {
   "cell_type": "code",
   "execution_count": 580,
   "metadata": {
    "collapsed": false
   },
   "outputs": [],
   "source": [
    "heartrate = totalData.iloc[:, 1].values.reshape(totalData.shape[0], 1)\n",
    "steps = totalData.iloc[:, 2].values.reshape(totalData.shape[0], 1)\n",
    "calories = totalData.iloc[:, 3].values.reshape(totalData.shape[0], 1)\n",
    "gsr = totalData.iloc[:, 4].values.reshape(totalData.shape[0], 1)\n",
    "skintemp = totalData.iloc[:, 5].values.reshape(totalData.shape[0], 1)\n",
    "airtemp = totalData.iloc[:, 6].values.reshape(totalData.shape[0], 1)\n",
    "# activity = totalData.iloc[:, 17].values.reshape(totalData.shape[0], 1)\n",
    "# exercise = totalData.iloc[:, 17].values.reshape(totalData.shape[0], 1)\n",
    "# thesis = totalData.iloc[:, 18].values.reshape(totalData.shape[0], 1)\n",
    "# sally = totalData.iloc[:, 19].values.reshape(totalData.shape[0], 1)\n",
    "# barb = totalData.iloc[:, 20].values.reshape(totalData.shape[0], 1)\n",
    "# sol = totalData.iloc[:, 21].values.reshape(totalData.shape[0], 1)\n",
    "# arash = totalData.iloc[:, 22].values.reshape(totalData.shape[0], 1)\n",
    "# work = totalData.iloc[:, 23].values.reshape(totalData.shape[0], 1)\n",
    "# home = totalData.iloc[:, 24].values.reshape(totalData.shape[0], 1)\n",
    "# DayOfWeek = totalData.iloc[:, 25].values.reshape(totalData.shape[0], 1)\n",
    "# Month = totalData.iloc[:, 26].values.reshape(totalData.shape[0], 1)\n",
    "weekday = totalData.iloc[:, 7].values.reshape(totalData.shape[0], 1)\n",
    "# month = totalData.iloc[:, 29].values.reshape(totalData.shape[0], 1)\n",
    "hour = totalData.iloc[:, 8].values.reshape(totalData.shape[0], 1)\n",
    "curmin = totalData.iloc[:, 9].values.reshape(totalData.shape[0], 1)"
   ]
  },
  {
   "cell_type": "code",
   "execution_count": 581,
   "metadata": {
    "collapsed": false
   },
   "outputs": [
    {
     "data": {
      "text/plain": [
       "(17279, 9)"
      ]
     },
     "execution_count": 581,
     "metadata": {},
     "output_type": "execute_result"
    }
   ],
   "source": [
    "# concatenate to numpy dataset\n",
    "X = np.concatenate((\n",
    "        heartrate, \n",
    "        steps, \n",
    "        calories, \n",
    "        gsr, \n",
    "        skintemp, \n",
    "        airtemp, \n",
    "#         exercise, \n",
    "#         thesis, \n",
    "#         sally, \n",
    "#         barb, \n",
    "#         sol, \n",
    "#         arash, \n",
    "#         work, \n",
    "#         home, \n",
    "        weekday, \n",
    "        hour, \n",
    "        curmin\n",
    "    ), axis=1)\n",
    "\n",
    "X.shape"
   ]
  },
  {
   "cell_type": "markdown",
   "metadata": {},
   "source": [
    "# Positive ( Excited, Happy, Calm)"
   ]
  },
  {
   "cell_type": "code",
   "execution_count": 582,
   "metadata": {
    "collapsed": false
   },
   "outputs": [
    {
     "data": {
      "text/plain": [
       "(17279,)"
      ]
     },
     "execution_count": 582,
     "metadata": {},
     "output_type": "execute_result"
    }
   ],
   "source": [
    "# define y\n",
    "\n",
    "\n",
    "y = totalData.exhaca.values\n",
    "\n",
    "# y = totalData.excitement.values\n",
    "y.shape"
   ]
  },
  {
   "cell_type": "code",
   "execution_count": 583,
   "metadata": {
    "collapsed": false
   },
   "outputs": [],
   "source": [
    "# create training and test sets\n",
    "from sklearn.cross_validation import train_test_split\n",
    "\n",
    "X_train, X_test, y_train, y_test = train_test_split(\n",
    "         X, y, test_size=0.3, random_state=0)"
   ]
  },
  {
   "cell_type": "code",
   "execution_count": 584,
   "metadata": {
    "collapsed": false
   },
   "outputs": [],
   "source": [
    "# feature scaling\n",
    "from sklearn.preprocessing import StandardScaler\n",
    "sc = StandardScaler(with_mean=False)\n",
    "sc.fit(X_train)\n",
    "X_train_std = sc.transform(X_train)\n",
    "X_test_std = sc.transform(X_test)"
   ]
  },
  {
   "cell_type": "code",
   "execution_count": 585,
   "metadata": {
    "collapsed": true
   },
   "outputs": [],
   "source": [
    "# report on training and test sets\n",
    "global SVMerror, SVMacc, SVMtp, SVMtn, LRerror, LRacc, LRtp, LRtn, NBerror, NBacc, NBtp, NBtn, Perror, Pacc, Ptp, Ptn\n",
    "\n",
    "\n",
    "\n",
    "def print_results(model):\n",
    "    #print('Error rate on training set: ')\n",
    "    erTRAIN = ((y_train != y_pred).sum() / X_train.shape[0])\n",
    "    #print('Accuracy rate on training set: ')\n",
    "    AccTRAIN = (1 - (y_train != y_pred).sum() / X_train.shape[0])\n",
    "    #print('True positive rate on training tet:')\n",
    "    TruPosTRAIN = ((y_train==True) & (y_pred==True)).sum() / y_train.sum()\n",
    "    #TruNegTEST = (((y_train==False) & (y_pred_train==False)).sum() / (y_train.shape[0] - y_train.sum()))\n",
    "    #print('**************')\n",
    "    #('Error rate on test set: ')\n",
    "    erTEST = ((y_test != y_pred_test).sum() / X_test.shape[0])\n",
    "    #print('Accuracy rate on test set: ')\n",
    "    AccTEST = (1 - (y_test != y_pred_test).sum() / X_test.shape[0])\n",
    "    #print('True positive rate on test set')\n",
    "    TruPosTEST = (((y_test==True) & (y_pred_test==True)).sum() / y_test.sum())\n",
    "    #print('True negative rate on test set')\n",
    "    TruNegTEST = (((y_test==False) & (y_pred_test==False)).sum() / (y_test.shape[0] - y_test.sum()))\n",
    "    data_rows = [('Error Rate', erTRAIN, erTEST),\n",
    "                 ('Accuracy Rate', AccTRAIN, AccTEST),\n",
    "                 ('True Positives', TruPosTRAIN, TruPosTEST),\n",
    "                 ('True Negatives', '--', TruNegTEST)]\n",
    "    t = Table(rows=data_rows, names=(model, 'Training Set', 'Test Set'), meta={'name': model + ': Training and Test Set Results'})\n",
    "    print(t)\n",
    "    if model == 'SVM':\n",
    "        SVMerror = erTEST\n",
    "        SVMacc = AccTEST\n",
    "        SVMtp = TruPosTEST\n",
    "        SVMtn = TruNegTEST\n",
    "        return(SVMerror, SVMacc, SVMtp, SVMtn)\n",
    "    elif model == 'Logistic Regression':\n",
    "        LRerror = erTEST\n",
    "        LRacc = AccTEST\n",
    "        LRtp = TruPosTEST\n",
    "        LRtn = TruNegTEST\n",
    "        return(LRerror, LRacc, LRtp, LRtn)\n",
    "    elif model == 'Naive Bayes':\n",
    "        NBerror = erTEST\n",
    "        NBacc = AccTEST\n",
    "        NBtp = TruPosTEST\n",
    "        NBtn = TruNegTEST\n",
    "        return(NBerror, NBacc, NBtp, NBtn)\n",
    "    elif model == 'Perceptron':\n",
    "        Perror = erTEST\n",
    "        Pacc = AccTEST\n",
    "        Ptp = TruPosTEST\n",
    "        Ptn = TruNegTEST\n",
    "        return(Perror, Pacc, Ptp, Ptn)\n",
    "    print('done')\n",
    "      \n",
    "    #t.show_in_browser(jsviewer=True) \n",
    "    \n",
    "    \n",
    "def all_models_table():\n",
    "    all_rows = [('SVM', SVMerror, SVMacc, SVMtp, SVMtn),\n",
    "            ('Logistic Regression', LRerror, LRacc, LRtp, LRtn),\n",
    "            ('Naive Bayes', NBerror, NBacc, NBtp, NBtn),\n",
    "            ('Perceptron', Perror, Pacc, Ptp, Ptn)]\n",
    "    tt = Table(rows=all_rows, names=('', 'Error Rate', 'Accuracy', 'True +', 'True -'), meta={'3/15/2016'})\n",
    "    print(tt)"
   ]
  },
  {
   "cell_type": "markdown",
   "metadata": {},
   "source": [
    "## Positive ( Excited, Happy, Calm) Model Results"
   ]
  },
  {
   "cell_type": "code",
   "execution_count": 586,
   "metadata": {
    "collapsed": false
   },
   "outputs": [
    {
     "name": "stdout",
     "output_type": "stream",
     "text": [
      "     SVM         Training Set      Test Set   \n",
      "-------------- --------------- ---------------\n",
      "    Error Rate 0.0115750310045 0.0123456790123\n",
      " Accuracy Rate  0.988424968995  0.987654320988\n",
      "True Positives  0.981454005935  0.980613893376\n",
      "True Negatives              --   0.98986315256\n"
     ]
    },
    {
     "data": {
      "text/plain": [
       "(0.012345679012345678,\n",
       " 0.98765432098765427,\n",
       " 0.98061389337641358,\n",
       " 0.98986315255955393)"
      ]
     },
     "execution_count": 586,
     "metadata": {},
     "output_type": "execute_result"
    }
   ],
   "source": [
    "# MODEL: SVM, linear\n",
    "from sklearn import linear_model\n",
    "clf = linear_model.SGDClassifier()\n",
    "clf.fit(X_train_std, y_train)\n",
    "y_pred = clf.fit(X_train_std, y_train).predict(X_train_std)\n",
    "y_pred_test = clf.predict(X_test_std)\n",
    "print_results('SVM')"
   ]
  },
  {
   "cell_type": "code",
   "execution_count": 627,
   "metadata": {
    "collapsed": false
   },
   "outputs": [
    {
     "name": "stdout",
     "output_type": "stream",
     "text": [
      "Logistic Regression   Training Set      Test Set   \n",
      "------------------- --------------- ---------------\n",
      "         Error Rate 0.0420835055808 0.0488040123457\n",
      "      Accuracy Rate  0.957916494419  0.951195987654\n",
      "     True Positives   0.56005788712  0.493103448276\n",
      "     True Negatives              --  0.978340825501\n"
     ]
    },
    {
     "data": {
      "text/plain": [
       "(0.048804012345679014,\n",
       " 0.95119598765432101,\n",
       " 0.49310344827586206,\n",
       " 0.97834082550061297)"
      ]
     },
     "execution_count": 627,
     "metadata": {},
     "output_type": "execute_result"
    }
   ],
   "source": [
    "# MODEL: logistic regression\n",
    "from sklearn import linear_model\n",
    "clf = linear_model.SGDClassifier(loss='log', n_iter=5000, alpha=0.0001)\n",
    "clf.fit(X_train_std, y_train)\n",
    "y_pred = clf.fit(X_train_std, y_train).predict(X_train_std)\n",
    "y_pred_test = clf.predict(X_test_std)\n",
    "print_results('Logistic Regression')"
   ]
  },
  {
   "cell_type": "code",
   "execution_count": 630,
   "metadata": {
    "collapsed": false
   },
   "outputs": [
    {
     "name": "stdout",
     "output_type": "stream",
     "text": [
      "[[-0.22892829 -0.30019283 -0.17956911 -1.46410098  1.71595724 -2.17994176\n",
      "   1.2145938   1.52692676 -1.04897758]]\n",
      "[-1.97390115]\n",
      "[[  3.52759580e+00   0.00000000e+00   1.02846809e-01   1.47285951e-04\n",
      "    1.46583562e+01   1.32235531e+01   0.00000000e+00   0.00000000e+00\n",
      "    0.00000000e+00]\n",
      " [  4.07878264e+00   0.00000000e+00   9.34970994e-02   1.54699673e-04\n",
      "    1.47999068e+01   1.33524935e+01   0.00000000e+00   0.00000000e+00\n",
      "    0.00000000e+00]\n",
      " [  5.84258054e+00   4.60966496e-01   1.30895939e-01   1.57170914e-04\n",
      "    1.42337042e+01   1.25788512e+01   0.00000000e+00   2.33674548e+00\n",
      "    0.00000000e+00]\n",
      " [  4.51973211e+00   0.00000000e+00   1.02846809e-01   1.24056288e-04\n",
      "    1.21104445e+01   1.05158050e+01   2.58956568e+00   2.33674548e+00\n",
      "    4.76290967e+00]\n",
      " [  4.68508817e+00   0.00000000e+00   1.49595359e-01   1.41602097e-04\n",
      "    1.33844003e+01   1.16762684e+01   0.00000000e+00   0.00000000e+00\n",
      "    0.00000000e+00]]\n",
      "[[  6.40000000e+01   0.00000000e+00   1.10000000e+00   5.96000000e-05\n",
      "    9.32000000e+01   9.23000000e+01   0.00000000e+00   0.00000000e+00\n",
      "    0.00000000e+00]\n",
      " [  7.40000000e+01   0.00000000e+00   1.00000000e+00   6.26000000e-05\n",
      "    9.41000000e+01   9.32000000e+01   0.00000000e+00   0.00000000e+00\n",
      "    0.00000000e+00]\n",
      " [  1.06000000e+02   1.20000000e+01   1.40000000e+00   6.36000000e-05\n",
      "    9.05000000e+01   8.78000000e+01   0.00000000e+00   1.00000000e+00\n",
      "    0.00000000e+00]\n",
      " [  8.20000000e+01   0.00000000e+00   1.10000000e+00   5.02000000e-05\n",
      "    7.70000000e+01   7.34000000e+01   1.00000000e+00   1.00000000e+00\n",
      "    1.00000000e+00]\n",
      " [  8.50000000e+01   0.00000000e+00   1.60000000e+00   5.73000000e-05\n",
      "    8.51000000e+01   8.15000000e+01   0.00000000e+00   0.00000000e+00\n",
      "    0.00000000e+00]]\n"
     ]
    }
   ],
   "source": [
    "print(clf.coef_)\n",
    "print(clf.intercept_)\n",
    "print(X_train_std[0:5])\n",
    "print(X_train[0:5])\n",
    "# heartrate, steps, calories, gsr, skintemp, airtemp, weekday, hour, curmin\n"
   ]
  },
  {
   "cell_type": "code",
   "execution_count": 588,
   "metadata": {
    "collapsed": false
   },
   "outputs": [
    {
     "name": "stdout",
     "output_type": "stream",
     "text": [
      " Naive Bayes     Training Set      Test Set   \n",
      "-------------- --------------- ---------------\n",
      "    Error Rate 0.0367920628359 0.0341435185185\n",
      " Accuracy Rate  0.963207937164  0.965856481481\n",
      "True Positives             1.0             1.0\n",
      "True Negatives              --  0.955144450076\n"
     ]
    },
    {
     "data": {
      "text/plain": [
       "(0.034143518518518517, 0.96585648148148151, 1.0, 0.95514445007602633)"
      ]
     },
     "execution_count": 588,
     "metadata": {},
     "output_type": "execute_result"
    }
   ],
   "source": [
    "# MODEL: Naive Bayes\n",
    "from sklearn.naive_bayes import MultinomialNB\n",
    "clf = MultinomialNB()\n",
    "clf.fit(X_train_std, y_train)\n",
    "y_pred = clf.fit(X_train_std, y_train).predict(X_train_std)\n",
    "y_pred_test = clf.predict(X_test_std)\n",
    "print_results('Naive Bayes')"
   ]
  },
  {
   "cell_type": "code",
   "execution_count": 589,
   "metadata": {
    "collapsed": false
   },
   "outputs": [
    {
     "name": "stdout",
     "output_type": "stream",
     "text": [
      "  Perceptron     Training Set      Test Set   \n",
      "-------------- --------------- ---------------\n",
      "    Error Rate 0.0128978916908 0.0115740740741\n",
      " Accuracy Rate  0.987102108309  0.988425925926\n",
      "True Positives  0.996661721068  0.999192245557\n",
      "True Negatives              --  0.985048150025\n"
     ]
    },
    {
     "data": {
      "text/plain": [
       "(0.011574074074074073,\n",
       " 0.98842592592592593,\n",
       " 0.99919224555735053,\n",
       " 0.98504815002534207)"
      ]
     },
     "execution_count": 589,
     "metadata": {},
     "output_type": "execute_result"
    }
   ],
   "source": [
    "# Perceptron\n",
    "from sklearn import linear_model\n",
    "clf = linear_model.SGDClassifier(loss='perceptron')\n",
    "clf.fit(X_train_std, y_train)\n",
    "y_pred = clf.fit(X_train_std, y_train).predict(X_train_std)\n",
    "y_pred_test = clf.predict(X_test_std)\n",
    "print_results('Perceptron')"
   ]
  },
  {
   "cell_type": "markdown",
   "metadata": {},
   "source": [
    "# Negative ( Anxious, Sad, Angry)"
   ]
  },
  {
   "cell_type": "code",
   "execution_count": 590,
   "metadata": {
    "collapsed": false
   },
   "outputs": [
    {
     "data": {
      "text/plain": [
       "(17279,)"
      ]
     },
     "execution_count": 590,
     "metadata": {},
     "output_type": "execute_result"
    }
   ],
   "source": [
    "# define y\n",
    "y = totalData.ansaan.values\n",
    "y.shape"
   ]
  },
  {
   "cell_type": "code",
   "execution_count": 591,
   "metadata": {
    "collapsed": true
   },
   "outputs": [],
   "source": [
    "# create training and test sets\n",
    "from sklearn.cross_validation import train_test_split\n",
    "\n",
    "X_train, X_test, y_train, y_test = train_test_split(\n",
    "         X, y, test_size=0.3, random_state=0)"
   ]
  },
  {
   "cell_type": "code",
   "execution_count": 592,
   "metadata": {
    "collapsed": true
   },
   "outputs": [],
   "source": [
    "# feature scaling\n",
    "from sklearn.preprocessing import StandardScaler\n",
    "sc = StandardScaler(with_mean=False)\n",
    "sc.fit(X_train)\n",
    "X_train_std = sc.transform(X_train)\n",
    "X_test_std = sc.transform(X_test)"
   ]
  },
  {
   "cell_type": "markdown",
   "metadata": {},
   "source": [
    "## Negative ( Anxious, Sad, Angry) Model Results"
   ]
  },
  {
   "cell_type": "code",
   "execution_count": 593,
   "metadata": {
    "collapsed": false
   },
   "outputs": [
    {
     "name": "stdout",
     "output_type": "stream",
     "text": [
      "     SVM         Training Set      Test Set   \n",
      "-------------- --------------- ---------------\n",
      "    Error Rate 0.0423315419595 0.0435956790123\n",
      " Accuracy Rate  0.957668458041  0.956404320988\n",
      "True Positives 0.0589353612167 0.0313901345291\n",
      "True Negatives              --  0.997984277363\n"
     ]
    },
    {
     "data": {
      "text/plain": [
       "(0.043595679012345678,\n",
       " 0.95640432098765427,\n",
       " 0.031390134529147982,\n",
       " 0.99798427736343476)"
      ]
     },
     "execution_count": 593,
     "metadata": {},
     "output_type": "execute_result"
    }
   ],
   "source": [
    "# MODEL: SVM, linear\n",
    "from sklearn import linear_model\n",
    "clf = linear_model.SGDClassifier()\n",
    "clf.fit(X_train_std, y_train)\n",
    "y_pred = clf.fit(X_train_std, y_train).predict(X_train_std)\n",
    "y_pred_test = clf.predict(X_test_std)\n",
    "print_results('SVM')"
   ]
  },
  {
   "cell_type": "code",
   "execution_count": 594,
   "metadata": {
    "collapsed": false
   },
   "outputs": [
    {
     "name": "stdout",
     "output_type": "stream",
     "text": [
      "Logistic Regression  Training Set      Test Set   \n",
      "------------------- -------------- ---------------\n",
      "         Error Rate 0.032244729227 0.0316358024691\n",
      "      Accuracy Rate 0.967755270773  0.968364197531\n",
      "     True Positives 0.349809885932   0.37668161435\n",
      "     True Negatives             --  0.994960693409\n"
     ]
    },
    {
     "data": {
      "text/plain": [
       "(0.031635802469135804,\n",
       " 0.96836419753086422,\n",
       " 0.37668161434977576,\n",
       " 0.99496069340858695)"
      ]
     },
     "execution_count": 594,
     "metadata": {},
     "output_type": "execute_result"
    }
   ],
   "source": [
    "# MODEL: logistic regression\n",
    "from sklearn import linear_model\n",
    "clf = linear_model.SGDClassifier(loss='log', n_iter=50, alpha=0.00001)\n",
    "clf.fit(X_train_std, y_train)\n",
    "y_pred = clf.fit(X_train_std, y_train).predict(X_train_std)\n",
    "y_pred_test = clf.predict(X_test_std)\n",
    "print_results('Logistic Regression')"
   ]
  },
  {
   "cell_type": "code",
   "execution_count": 595,
   "metadata": {
    "collapsed": false
   },
   "outputs": [
    {
     "name": "stdout",
     "output_type": "stream",
     "text": [
      " Naive Bayes     Training Set      Test Set   \n",
      "-------------- --------------- ---------------\n",
      "    Error Rate 0.0455560148822 0.0459104938272\n",
      " Accuracy Rate  0.954443985118  0.954089506173\n",
      "True Positives  0.121673003802  0.116591928251\n",
      "True Negatives              --   0.99173553719\n"
     ]
    },
    {
     "data": {
      "text/plain": [
       "(0.045910493827160496,\n",
       " 0.9540895061728395,\n",
       " 0.11659192825112108,\n",
       " 0.99173553719008267)"
      ]
     },
     "execution_count": 595,
     "metadata": {},
     "output_type": "execute_result"
    }
   ],
   "source": [
    "# MODEL: Naive Bayes\n",
    "from sklearn.naive_bayes import MultinomialNB\n",
    "clf = MultinomialNB()\n",
    "clf.fit(X_train_std, y_train)\n",
    "y_pred = clf.fit(X_train_std, y_train).predict(X_train_std)\n",
    "y_pred_test = clf.predict(X_test_std)\n",
    "print_results('Naive Bayes')"
   ]
  },
  {
   "cell_type": "code",
   "execution_count": 596,
   "metadata": {
    "collapsed": false
   },
   "outputs": [
    {
     "name": "stdout",
     "output_type": "stream",
     "text": [
      "  Perceptron     Training Set      Test Set   \n",
      "-------------- --------------- ---------------\n",
      "    Error Rate 0.0440677966102 0.0435956790123\n",
      " Accuracy Rate   0.95593220339  0.956404320988\n",
      "True Positives             0.0             0.0\n",
      "True Negatives              --  0.999395283209\n"
     ]
    },
    {
     "data": {
      "text/plain": [
       "(0.043595679012345678, 0.95640432098765427, 0.0, 0.99939528320903048)"
      ]
     },
     "execution_count": 596,
     "metadata": {},
     "output_type": "execute_result"
    }
   ],
   "source": [
    "# Perceptron\n",
    "from sklearn import linear_model\n",
    "clf = linear_model.SGDClassifier(loss='perceptron')\n",
    "clf.fit(X_train_std, y_train)\n",
    "y_pred = clf.fit(X_train_std, y_train).predict(X_train_std)\n",
    "y_pred_test = clf.predict(X_test_std)\n",
    "print_results('Perceptron')"
   ]
  },
  {
   "cell_type": "markdown",
   "metadata": {},
   "source": [
    "# Happy/Calm "
   ]
  },
  {
   "cell_type": "code",
   "execution_count": 597,
   "metadata": {
    "collapsed": false
   },
   "outputs": [
    {
     "data": {
      "text/plain": [
       "(17279,)"
      ]
     },
     "execution_count": 597,
     "metadata": {},
     "output_type": "execute_result"
    }
   ],
   "source": [
    "# define y\n",
    "y = totalData.haca.values\n",
    "y.shape"
   ]
  },
  {
   "cell_type": "code",
   "execution_count": 598,
   "metadata": {
    "collapsed": true
   },
   "outputs": [],
   "source": [
    "# create training and test sets\n",
    "from sklearn.cross_validation import train_test_split\n",
    "\n",
    "X_train, X_test, y_train, y_test = train_test_split(\n",
    "         X, y, test_size=0.3, random_state=0)"
   ]
  },
  {
   "cell_type": "code",
   "execution_count": 599,
   "metadata": {
    "collapsed": true
   },
   "outputs": [],
   "source": [
    "# feature scaling\n",
    "from sklearn.preprocessing import StandardScaler\n",
    "sc = StandardScaler(with_mean=False)\n",
    "sc.fit(X_train)\n",
    "X_train_std = sc.transform(X_train)\n",
    "X_test_std = sc.transform(X_test)"
   ]
  },
  {
   "cell_type": "markdown",
   "metadata": {},
   "source": [
    "## Happy/Calm  Model Results"
   ]
  },
  {
   "cell_type": "code",
   "execution_count": 600,
   "metadata": {
    "collapsed": false
   },
   "outputs": [
    {
     "name": "stdout",
     "output_type": "stream",
     "text": [
      "     SVM        Training Set      Test Set   \n",
      "-------------- -------------- ---------------\n",
      "    Error Rate 0.075651095494 0.0706018518519\n",
      " Accuracy Rate 0.924348904506  0.929398148148\n",
      "True Positives 0.220243673852  0.230414746544\n",
      "True Negatives             --  0.993263157895\n"
     ]
    },
    {
     "data": {
      "text/plain": [
       "(0.070601851851851846,\n",
       " 0.92939814814814814,\n",
       " 0.2304147465437788,\n",
       " 0.99326315789473685)"
      ]
     },
     "execution_count": 600,
     "metadata": {},
     "output_type": "execute_result"
    }
   ],
   "source": [
    "# MODEL: SVM, linear\n",
    "from sklearn import linear_model\n",
    "clf = linear_model.SGDClassifier()\n",
    "clf.fit(X_train_std, y_train)\n",
    "y_pred = clf.fit(X_train_std, y_train).predict(X_train_std)\n",
    "y_pred_test = clf.predict(X_test_std)\n",
    "print_results('SVM')"
   ]
  },
  {
   "cell_type": "code",
   "execution_count": 601,
   "metadata": {
    "collapsed": false
   },
   "outputs": [
    {
     "name": "stdout",
     "output_type": "stream",
     "text": [
      "Logistic Regression   Training Set      Test Set   \n",
      "------------------- --------------- ---------------\n",
      "         Error Rate 0.0904505994212 0.0914351851852\n",
      "      Accuracy Rate  0.909549400579  0.908564814815\n",
      "     True Positives  0.687910028116  0.672811059908\n",
      "     True Negatives              --  0.930105263158\n"
     ]
    },
    {
     "data": {
      "text/plain": [
       "(0.091435185185185189,\n",
       " 0.90856481481481477,\n",
       " 0.67281105990783407,\n",
       " 0.93010526315789477)"
      ]
     },
     "execution_count": 601,
     "metadata": {},
     "output_type": "execute_result"
    }
   ],
   "source": [
    "# MODEL: logistic regression\n",
    "from sklearn import linear_model\n",
    "clf = linear_model.SGDClassifier(loss='log', n_iter=50, alpha=0.00001)\n",
    "clf.fit(X_train_std, y_train)\n",
    "y_pred = clf.fit(X_train_std, y_train).predict(X_train_std)\n",
    "y_pred_test = clf.predict(X_test_std)\n",
    "print_results('Logistic Regression')"
   ]
  },
  {
   "cell_type": "code",
   "execution_count": 602,
   "metadata": {
    "collapsed": false
   },
   "outputs": [
    {
     "name": "stdout",
     "output_type": "stream",
     "text": [
      " Naive Bayes     Training Set      Test Set   \n",
      "-------------- --------------- ---------------\n",
      "    Error Rate 0.0950806118231 0.0960648148148\n",
      " Accuracy Rate  0.904919388177  0.903935185185\n",
      "True Positives  0.419868791003  0.428571428571\n",
      "True Negatives              --  0.947368421053\n"
     ]
    },
    {
     "data": {
      "text/plain": [
       "(0.096064814814814811,\n",
       " 0.90393518518518523,\n",
       " 0.42857142857142855,\n",
       " 0.94736842105263153)"
      ]
     },
     "execution_count": 602,
     "metadata": {},
     "output_type": "execute_result"
    }
   ],
   "source": [
    "# MODEL: Naive Bayes\n",
    "from sklearn.naive_bayes import MultinomialNB\n",
    "clf = MultinomialNB()\n",
    "clf.fit(X_train_std, y_train)\n",
    "y_pred = clf.fit(X_train_std, y_train).predict(X_train_std)\n",
    "y_pred_test = clf.predict(X_test_std)\n",
    "print_results('Naive Bayes')"
   ]
  },
  {
   "cell_type": "code",
   "execution_count": 603,
   "metadata": {
    "collapsed": false
   },
   "outputs": [
    {
     "name": "stdout",
     "output_type": "stream",
     "text": [
      "  Perceptron     Training Set      Test Set   \n",
      "-------------- --------------- ---------------\n",
      "    Error Rate 0.0960727573377 0.0991512345679\n",
      " Accuracy Rate  0.903927242662  0.900848765432\n",
      "True Positives  0.661668228679  0.647465437788\n",
      "True Negatives              --           0.924\n"
     ]
    },
    {
     "data": {
      "text/plain": [
       "(0.099151234567901231,\n",
       " 0.9008487654320988,\n",
       " 0.64746543778801846,\n",
       " 0.92400000000000004)"
      ]
     },
     "execution_count": 603,
     "metadata": {},
     "output_type": "execute_result"
    }
   ],
   "source": [
    "# Perceptron\n",
    "from sklearn import linear_model\n",
    "clf = linear_model.SGDClassifier(loss='perceptron')\n",
    "clf.fit(X_train_std, y_train)\n",
    "y_pred = clf.fit(X_train_std, y_train).predict(X_train_std)\n",
    "y_pred_test = clf.predict(X_test_std)\n",
    "print_results('Perceptron')"
   ]
  },
  {
   "cell_type": "markdown",
   "metadata": {},
   "source": [
    "# Anxious/Angry"
   ]
  },
  {
   "cell_type": "code",
   "execution_count": 604,
   "metadata": {
    "collapsed": false
   },
   "outputs": [
    {
     "data": {
      "text/plain": [
       "(17279,)"
      ]
     },
     "execution_count": 604,
     "metadata": {},
     "output_type": "execute_result"
    }
   ],
   "source": [
    "# define y\n",
    "y = totalData.anan.values\n",
    "y.shape"
   ]
  },
  {
   "cell_type": "code",
   "execution_count": 605,
   "metadata": {
    "collapsed": true
   },
   "outputs": [],
   "source": [
    "# create training and test sets\n",
    "from sklearn.cross_validation import train_test_split\n",
    "\n",
    "X_train, X_test, y_train, y_test = train_test_split(\n",
    "         X, y, test_size=0.3, random_state=0)"
   ]
  },
  {
   "cell_type": "code",
   "execution_count": 606,
   "metadata": {
    "collapsed": true
   },
   "outputs": [],
   "source": [
    "# feature scaling\n",
    "from sklearn.preprocessing import StandardScaler\n",
    "sc = StandardScaler(with_mean=False)\n",
    "sc.fit(X_train)\n",
    "X_train_std = sc.transform(X_train)\n",
    "X_test_std = sc.transform(X_test)"
   ]
  },
  {
   "cell_type": "markdown",
   "metadata": {},
   "source": [
    "## Anxious/Angry Model Results"
   ]
  },
  {
   "cell_type": "code",
   "execution_count": 607,
   "metadata": {
    "collapsed": false
   },
   "outputs": [
    {
     "name": "stdout",
     "output_type": "stream",
     "text": [
      "     SVM         Training Set      Test Set   \n",
      "-------------- --------------- ---------------\n",
      "    Error Rate 0.0241422075238 0.0270061728395\n",
      " Accuracy Rate  0.975857792476   0.97299382716\n",
      "True Positives  0.191304347826  0.135593220339\n",
      "True Negatives              --  0.982634146341\n"
     ]
    },
    {
     "data": {
      "text/plain": [
       "(0.027006172839506171,\n",
       " 0.97299382716049387,\n",
       " 0.13559322033898305,\n",
       " 0.9826341463414634)"
      ]
     },
     "execution_count": 607,
     "metadata": {},
     "output_type": "execute_result"
    }
   ],
   "source": [
    "# MODEL: SVM, linear\n",
    "from sklearn import linear_model\n",
    "clf = linear_model.SGDClassifier()\n",
    "clf.fit(X_train_std, y_train)\n",
    "y_pred = clf.fit(X_train_std, y_train).predict(X_train_std)\n",
    "y_pred_test = clf.predict(X_test_std)\n",
    "print_results('SVM')"
   ]
  },
  {
   "cell_type": "code",
   "execution_count": 608,
   "metadata": {
    "collapsed": false
   },
   "outputs": [
    {
     "name": "stdout",
     "output_type": "stream",
     "text": [
      "Logistic Regression   Training Set      Test Set   \n",
      "------------------- --------------- ---------------\n",
      "         Error Rate 0.0095907399752 0.0113811728395\n",
      "      Accuracy Rate  0.990409260025   0.98861882716\n",
      "     True Positives             0.0             0.0\n",
      "     True Negatives              --             1.0\n"
     ]
    },
    {
     "data": {
      "text/plain": [
       "(0.011381172839506173, 0.98861882716049387, 0.0, 1.0)"
      ]
     },
     "execution_count": 608,
     "metadata": {},
     "output_type": "execute_result"
    }
   ],
   "source": [
    "# MODEL: logistic regression\n",
    "from sklearn import linear_model\n",
    "clf = linear_model.SGDClassifier(loss='log', n_iter=50, alpha=0.00001)\n",
    "clf.fit(X_train_std, y_train)\n",
    "y_pred = clf.fit(X_train_std, y_train).predict(X_train_std)\n",
    "y_pred_test = clf.predict(X_test_std)\n",
    "print_results('Logistic Regression')"
   ]
  },
  {
   "cell_type": "code",
   "execution_count": 609,
   "metadata": {
    "collapsed": false
   },
   "outputs": [
    {
     "name": "stdout",
     "output_type": "stream",
     "text": [
      " Naive Bayes     Training Set      Test Set   \n",
      "-------------- --------------- ---------------\n",
      "    Error Rate 0.0455560148822 0.0515046296296\n",
      " Accuracy Rate  0.954443985118   0.94849537037\n",
      "True Positives  0.417391304348  0.406779661017\n",
      "True Negatives              --  0.954731707317\n"
     ]
    },
    {
     "data": {
      "text/plain": [
       "(0.051504629629629629,\n",
       " 0.94849537037037035,\n",
       " 0.40677966101694918,\n",
       " 0.95473170731707313)"
      ]
     },
     "execution_count": 609,
     "metadata": {},
     "output_type": "execute_result"
    }
   ],
   "source": [
    "# MODEL: Naive Bayes\n",
    "from sklearn.naive_bayes import MultinomialNB\n",
    "clf = MultinomialNB()\n",
    "clf.fit(X_train_std, y_train)\n",
    "y_pred = clf.fit(X_train_std, y_train).predict(X_train_std)\n",
    "y_pred_test = clf.predict(X_test_std)\n",
    "print_results('Naive Bayes')"
   ]
  },
  {
   "cell_type": "code",
   "execution_count": 610,
   "metadata": {
    "collapsed": false
   },
   "outputs": [
    {
     "name": "stdout",
     "output_type": "stream",
     "text": [
      "  Perceptron     Training Set       Test Set   \n",
      "-------------- ---------------- ---------------\n",
      "    Error Rate 0.00950806118231 0.0113811728395\n",
      " Accuracy Rate   0.990491938818   0.98861882716\n",
      "True Positives              0.0             0.0\n",
      "True Negatives               --             1.0\n"
     ]
    },
    {
     "data": {
      "text/plain": [
       "(0.011381172839506173, 0.98861882716049387, 0.0, 1.0)"
      ]
     },
     "execution_count": 610,
     "metadata": {},
     "output_type": "execute_result"
    }
   ],
   "source": [
    "# Perceptron\n",
    "from sklearn import linear_model\n",
    "clf = linear_model.SGDClassifier(loss='perceptron')\n",
    "clf.fit(X_train_std, y_train)\n",
    "y_pred = clf.fit(X_train_std, y_train).predict(X_train_std)\n",
    "y_pred_test = clf.predict(X_test_std)\n",
    "print_results('Perceptron')"
   ]
  },
  {
   "cell_type": "markdown",
   "metadata": {},
   "source": [
    "# Excited/Happy"
   ]
  },
  {
   "cell_type": "code",
   "execution_count": 611,
   "metadata": {
    "collapsed": false
   },
   "outputs": [
    {
     "data": {
      "text/plain": [
       "(17279,)"
      ]
     },
     "execution_count": 611,
     "metadata": {},
     "output_type": "execute_result"
    }
   ],
   "source": [
    "# define y\n",
    "y = totalData.exha.values\n",
    "y.shape"
   ]
  },
  {
   "cell_type": "code",
   "execution_count": 612,
   "metadata": {
    "collapsed": true
   },
   "outputs": [],
   "source": [
    "# create training and test sets\n",
    "from sklearn.cross_validation import train_test_split\n",
    "\n",
    "X_train, X_test, y_train, y_test = train_test_split(\n",
    "         X, y, test_size=0.3, random_state=0)"
   ]
  },
  {
   "cell_type": "code",
   "execution_count": 613,
   "metadata": {
    "collapsed": true
   },
   "outputs": [],
   "source": [
    "# feature scaling\n",
    "from sklearn.preprocessing import StandardScaler\n",
    "sc = StandardScaler(with_mean=False)\n",
    "sc.fit(X_train)\n",
    "X_train_std = sc.transform(X_train)\n",
    "X_test_std = sc.transform(X_test)"
   ]
  },
  {
   "cell_type": "markdown",
   "metadata": {},
   "source": [
    "## Excited/Happy Model Values"
   ]
  },
  {
   "cell_type": "code",
   "execution_count": 614,
   "metadata": {
    "collapsed": false
   },
   "outputs": [
    {
     "name": "stdout",
     "output_type": "stream",
     "text": [
      "     SVM         Training Set      Test Set    \n",
      "-------------- --------------- ----------------\n",
      "    Error Rate 0.0769739561802  0.0779320987654\n",
      " Accuracy Rate   0.92302604382   0.922067901235\n",
      "True Positives 0.0042872454448 0.00492610837438\n",
      "True Negatives              --              1.0\n"
     ]
    },
    {
     "data": {
      "text/plain": [
       "(0.077932098765432098, 0.92206790123456794, 0.0049261083743842365, 1.0)"
      ]
     },
     "execution_count": 614,
     "metadata": {},
     "output_type": "execute_result"
    }
   ],
   "source": [
    "# MODEL: SVM, linear\n",
    "from sklearn import linear_model\n",
    "clf = linear_model.SGDClassifier()\n",
    "clf.fit(X_train_std, y_train)\n",
    "y_pred = clf.fit(X_train_std, y_train).predict(X_train_std)\n",
    "y_pred_test = clf.predict(X_test_std)\n",
    "print_results('SVM')"
   ]
  },
  {
   "cell_type": "code",
   "execution_count": 615,
   "metadata": {
    "collapsed": false
   },
   "outputs": [
    {
     "name": "stdout",
     "output_type": "stream",
     "text": [
      "Logistic Regression   Training Set      Test Set   \n",
      "------------------- --------------- ---------------\n",
      "         Error Rate 0.0895411326995 0.0954861111111\n",
      "      Accuracy Rate  0.910458867301  0.904513888889\n",
      "     True Positives  0.872454448017  0.891625615764\n",
      "     True Negatives              --   0.90560904144\n"
     ]
    },
    {
     "data": {
      "text/plain": [
       "(0.095486111111111105,\n",
       " 0.90451388888888884,\n",
       " 0.89162561576354682,\n",
       " 0.90560904143993304)"
      ]
     },
     "execution_count": 615,
     "metadata": {},
     "output_type": "execute_result"
    }
   ],
   "source": [
    "# MODEL: logistic regression\n",
    "from sklearn import linear_model\n",
    "clf = linear_model.SGDClassifier(loss='log', n_iter=50, alpha=0.00001)\n",
    "clf.fit(X_train_std, y_train)\n",
    "y_pred = clf.fit(X_train_std, y_train).predict(X_train_std)\n",
    "y_pred_test = clf.predict(X_test_std)\n",
    "print_results('Logistic Regression')"
   ]
  },
  {
   "cell_type": "code",
   "execution_count": 616,
   "metadata": {
    "collapsed": false
   },
   "outputs": [
    {
     "name": "stdout",
     "output_type": "stream",
     "text": [
      " Naive Bayes     Training Set      Test Set   \n",
      "-------------- --------------- ---------------\n",
      "    Error Rate 0.0807771806532 0.0860339506173\n",
      " Accuracy Rate  0.919222819347  0.913966049383\n",
      "True Positives  0.167202572347  0.162561576355\n",
      "True Negatives              --   0.97781498535\n"
     ]
    },
    {
     "data": {
      "text/plain": [
       "(0.086033950617283944,\n",
       " 0.91396604938271608,\n",
       " 0.1625615763546798,\n",
       " 0.97781498534951861)"
      ]
     },
     "execution_count": 616,
     "metadata": {},
     "output_type": "execute_result"
    }
   ],
   "source": [
    "# MODEL: Naive Bayes\n",
    "from sklearn.naive_bayes import MultinomialNB\n",
    "clf = MultinomialNB()\n",
    "clf.fit(X_train_std, y_train)\n",
    "y_pred = clf.fit(X_train_std, y_train).predict(X_train_std)\n",
    "y_pred_test = clf.predict(X_test_std)\n",
    "print_results('Naive Bayes')"
   ]
  },
  {
   "cell_type": "code",
   "execution_count": 617,
   "metadata": {
    "collapsed": false
   },
   "outputs": [
    {
     "name": "stdout",
     "output_type": "stream",
     "text": [
      "  Perceptron     Training Set      Test Set    \n",
      "-------------- --------------- ----------------\n",
      "    Error Rate 0.0768912773874  0.0779320987654\n",
      " Accuracy Rate  0.923108722613   0.922067901235\n",
      "True Positives  0.005359056806 0.00492610837438\n",
      "True Negatives              --              1.0\n"
     ]
    },
    {
     "data": {
      "text/plain": [
       "(0.077932098765432098, 0.92206790123456794, 0.0049261083743842365, 1.0)"
      ]
     },
     "execution_count": 617,
     "metadata": {},
     "output_type": "execute_result"
    }
   ],
   "source": [
    "# Perceptron\n",
    "from sklearn import linear_model\n",
    "clf = linear_model.SGDClassifier(loss='perceptron')\n",
    "clf.fit(X_train_std, y_train)\n",
    "y_pred = clf.fit(X_train_std, y_train).predict(X_train_std)\n",
    "y_pred_test = clf.predict(X_test_std)\n",
    "print_results('Perceptron')"
   ]
  },
  {
   "cell_type": "markdown",
   "metadata": {},
   "source": [
    "# Anxious/Sad"
   ]
  },
  {
   "cell_type": "code",
   "execution_count": 618,
   "metadata": {
    "collapsed": false
   },
   "outputs": [
    {
     "data": {
      "text/plain": [
       "(17279,)"
      ]
     },
     "execution_count": 618,
     "metadata": {},
     "output_type": "execute_result"
    }
   ],
   "source": [
    "# define y\n",
    "y = totalData.ansa.values\n",
    "y.shape"
   ]
  },
  {
   "cell_type": "code",
   "execution_count": 619,
   "metadata": {
    "collapsed": true
   },
   "outputs": [],
   "source": [
    "# create training and test sets\n",
    "from sklearn.cross_validation import train_test_split\n",
    "\n",
    "X_train, X_test, y_train, y_test = train_test_split(\n",
    "         X, y, test_size=0.3, random_state=0)"
   ]
  },
  {
   "cell_type": "code",
   "execution_count": 620,
   "metadata": {
    "collapsed": true
   },
   "outputs": [],
   "source": [
    "# feature scaling\n",
    "from sklearn.preprocessing import StandardScaler\n",
    "sc = StandardScaler(with_mean=False)\n",
    "sc.fit(X_train)\n",
    "X_train_std = sc.transform(X_train)\n",
    "X_test_std = sc.transform(X_test)"
   ]
  },
  {
   "cell_type": "markdown",
   "metadata": {},
   "source": [
    "## Anxious/Sad Model Results"
   ]
  },
  {
   "cell_type": "code",
   "execution_count": 621,
   "metadata": {
    "collapsed": false
   },
   "outputs": [
    {
     "name": "stdout",
     "output_type": "stream",
     "text": [
      "     SVM         Training Set       Test Set    \n",
      "-------------- ---------------- ----------------\n",
      "    Error Rate  0.0573790822654   0.056712962963\n",
      " Accuracy Rate   0.942620917735   0.943287037037\n",
      "True Positives 0.00578871201158 0.00344827586207\n",
      "True Negatives               --   0.998978340826\n"
     ]
    },
    {
     "data": {
      "text/plain": [
       "(0.056712962962962965,\n",
       " 0.94328703703703698,\n",
       " 0.0034482758620689655,\n",
       " 0.99897834082550063)"
      ]
     },
     "execution_count": 621,
     "metadata": {},
     "output_type": "execute_result"
    }
   ],
   "source": [
    "# MODEL: SVM, linear\n",
    "from sklearn import linear_model\n",
    "clf = linear_model.SGDClassifier()\n",
    "clf.fit(X_train_std, y_train)\n",
    "y_pred = clf.fit(X_train_std, y_train).predict(X_train_std)\n",
    "y_pred_test = clf.predict(X_test_std)\n",
    "print_results('SVM')"
   ]
  },
  {
   "cell_type": "code",
   "execution_count": 622,
   "metadata": {
    "collapsed": false
   },
   "outputs": [
    {
     "name": "stdout",
     "output_type": "stream",
     "text": [
      "Logistic Regression  Training Set      Test Set   \n",
      "------------------- -------------- ---------------\n",
      "         Error Rate 0.038197602315 0.0451388888889\n",
      "      Accuracy Rate 0.961802397685  0.954861111111\n",
      "     True Positives  0.62518089725  0.565517241379\n",
      "     True Negatives             --  0.977932161831\n"
     ]
    },
    {
     "data": {
      "text/plain": [
       "(0.045138888888888888,\n",
       " 0.95486111111111116,\n",
       " 0.56551724137931036,\n",
       " 0.97793216183081322)"
      ]
     },
     "execution_count": 622,
     "metadata": {},
     "output_type": "execute_result"
    }
   ],
   "source": [
    "# MODEL: logistic regression\n",
    "from sklearn import linear_model\n",
    "clf = linear_model.SGDClassifier(loss='log', n_iter=50, alpha=0.00001)\n",
    "clf.fit(X_train_std, y_train)\n",
    "y_pred = clf.fit(X_train_std, y_train).predict(X_train_std)\n",
    "y_pred_test = clf.predict(X_test_std)\n",
    "print_results('Logistic Regression')"
   ]
  },
  {
   "cell_type": "code",
   "execution_count": 623,
   "metadata": {
    "collapsed": false
   },
   "outputs": [
    {
     "name": "stdout",
     "output_type": "stream",
     "text": [
      " Naive Bayes     Training Set      Test Set   \n",
      "-------------- --------------- ---------------\n",
      "    Error Rate 0.0424968995453 0.0491898148148\n",
      " Accuracy Rate  0.957503100455  0.950810185185\n",
      "True Positives  0.552821997106  0.489655172414\n",
      "True Negatives              --  0.978136493666\n"
     ]
    },
    {
     "data": {
      "text/plain": [
       "(0.049189814814814818,\n",
       " 0.95081018518518523,\n",
       " 0.48965517241379308,\n",
       " 0.97813649366571309)"
      ]
     },
     "execution_count": 623,
     "metadata": {},
     "output_type": "execute_result"
    }
   ],
   "source": [
    "# MODEL: Naive Bayes\n",
    "from sklearn.naive_bayes import MultinomialNB\n",
    "clf = MultinomialNB()\n",
    "clf.fit(X_train_std, y_train)\n",
    "y_pred = clf.fit(X_train_std, y_train).predict(X_train_std)\n",
    "y_pred_test = clf.predict(X_test_std)\n",
    "print_results('Naive Bayes')"
   ]
  },
  {
   "cell_type": "code",
   "execution_count": 624,
   "metadata": {
    "collapsed": false
   },
   "outputs": [
    {
     "name": "stdout",
     "output_type": "stream",
     "text": [
      "  Perceptron     Training Set      Test Set   \n",
      "-------------- --------------- ---------------\n",
      "    Error Rate 0.0442331541959 0.0491898148148\n",
      " Accuracy Rate  0.955766845804  0.950810185185\n",
      "True Positives  0.492040520984  0.431034482759\n",
      "True Negatives              --  0.981610134859\n"
     ]
    },
    {
     "data": {
      "text/plain": [
       "(0.049189814814814818,\n",
       " 0.95081018518518523,\n",
       " 0.43103448275862066,\n",
       " 0.98161013485901105)"
      ]
     },
     "execution_count": 624,
     "metadata": {},
     "output_type": "execute_result"
    }
   ],
   "source": [
    "# Perceptron\n",
    "from sklearn import linear_model\n",
    "clf = linear_model.SGDClassifier(loss='perceptron')\n",
    "clf.fit(X_train_std, y_train)\n",
    "y_pred = clf.fit(X_train_std, y_train).predict(X_train_std)\n",
    "y_pred_test = clf.predict(X_test_std)\n",
    "print_results('Perceptron')"
   ]
  },
  {
   "cell_type": "code",
   "execution_count": null,
   "metadata": {
    "collapsed": true
   },
   "outputs": [],
   "source": []
  }
 ],
 "metadata": {
  "kernelspec": {
   "display_name": "Python 3",
   "language": "python",
   "name": "python3"
  },
  "language_info": {
   "codemirror_mode": {
    "name": "ipython",
    "version": 3
   },
   "file_extension": ".py",
   "mimetype": "text/x-python",
   "name": "python",
   "nbconvert_exporter": "python",
   "pygments_lexer": "ipython3",
   "version": "3.5.1"
  }
 },
 "nbformat": 4,
 "nbformat_minor": 0
}
