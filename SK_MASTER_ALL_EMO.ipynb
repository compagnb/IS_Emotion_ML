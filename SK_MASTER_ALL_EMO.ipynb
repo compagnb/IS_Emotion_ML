{
 "cells": [
  {
   "cell_type": "code",
   "execution_count": 1,
   "metadata": {
    "collapsed": true
   },
   "outputs": [],
   "source": [
    "import numpy as np #import numpy library\n",
    "import pandas as pd #import pandas library\n",
    "import matplotlib.pyplot as plt #import matplot library\n",
    "%matplotlib inline\n",
    "\n",
    "import glob\n",
    "import os\n",
    "\n",
    "import nltk.classify.util\n",
    "from astropy.table import Table, Column\n",
    "\n",
    "import string\n",
    "\n",
    "from sklearn import svm\n",
    "from sklearn import metrics"
   ]
  },
  {
   "cell_type": "code",
   "execution_count": 2,
   "metadata": {
    "collapsed": false
   },
   "outputs": [],
   "source": [
    " def loadMetricData(user, directory):\n",
    "    path =  user + \"/\" + directory + \"/\"\n",
    "#     print(path)\n",
    "    all_files = glob.glob(os.path.join(path, \"*.csv\")) \n",
    "#     print(all_files)\n",
    "    data = pd.DataFrame()\n",
    "    list_ = []\n",
    "    for file_ in all_files:\n",
    "        data = pd.read_csv(file_,index_col=None, header=0)\n",
    "        list_.append(data)\n",
    "        data = pd.concat(list_)\n",
    "    return data"
   ]
  },
  {
   "cell_type": "code",
   "execution_count": 3,
   "metadata": {
    "collapsed": false
   },
   "outputs": [],
   "source": [
    "# # clean times function\n",
    "def cleanTime(df, col):\n",
    "    df.col = pd.to_datetime(df.col)"
   ]
  },
  {
   "cell_type": "code",
   "execution_count": 4,
   "metadata": {
    "collapsed": false
   },
   "outputs": [],
   "source": [
    "# # replace NAN's\n",
    "# def rmNAN(df, col):\n",
    "#     df.col = df.col.fillna(0)"
   ]
  },
  {
   "cell_type": "code",
   "execution_count": 5,
   "metadata": {
    "collapsed": false
   },
   "outputs": [
    {
     "data": {
      "text/html": [
       "<div>\n",
       "<table border=\"1\" class=\"dataframe\">\n",
       "  <thead>\n",
       "    <tr style=\"text-align: right;\">\n",
       "      <th></th>\n",
       "      <th>timestamp</th>\n",
       "      <th>heartrate</th>\n",
       "      <th>steps</th>\n",
       "      <th>calories</th>\n",
       "      <th>gsr</th>\n",
       "      <th>skintemp</th>\n",
       "      <th>airtemp</th>\n",
       "    </tr>\n",
       "  </thead>\n",
       "  <tbody>\n",
       "    <tr>\n",
       "      <th>1435</th>\n",
       "      <td>2016-05-09 23:55:00</td>\n",
       "      <td>NaN</td>\n",
       "      <td>NaN</td>\n",
       "      <td>NaN</td>\n",
       "      <td>NaN</td>\n",
       "      <td>NaN</td>\n",
       "      <td>NaN</td>\n",
       "    </tr>\n",
       "    <tr>\n",
       "      <th>1436</th>\n",
       "      <td>2016-05-09 23:56:00</td>\n",
       "      <td>NaN</td>\n",
       "      <td>NaN</td>\n",
       "      <td>NaN</td>\n",
       "      <td>NaN</td>\n",
       "      <td>NaN</td>\n",
       "      <td>NaN</td>\n",
       "    </tr>\n",
       "    <tr>\n",
       "      <th>1437</th>\n",
       "      <td>2016-05-09 23:57:00</td>\n",
       "      <td>NaN</td>\n",
       "      <td>NaN</td>\n",
       "      <td>NaN</td>\n",
       "      <td>NaN</td>\n",
       "      <td>NaN</td>\n",
       "      <td>NaN</td>\n",
       "    </tr>\n",
       "    <tr>\n",
       "      <th>1438</th>\n",
       "      <td>2016-05-09 23:58:00</td>\n",
       "      <td>NaN</td>\n",
       "      <td>NaN</td>\n",
       "      <td>NaN</td>\n",
       "      <td>NaN</td>\n",
       "      <td>NaN</td>\n",
       "      <td>NaN</td>\n",
       "    </tr>\n",
       "    <tr>\n",
       "      <th>1439</th>\n",
       "      <td>2016-05-09 23:59:00</td>\n",
       "      <td>NaN</td>\n",
       "      <td>NaN</td>\n",
       "      <td>NaN</td>\n",
       "      <td>NaN</td>\n",
       "      <td>NaN</td>\n",
       "      <td>NaN</td>\n",
       "    </tr>\n",
       "  </tbody>\n",
       "</table>\n",
       "</div>"
      ],
      "text/plain": [
       "                timestamp  heartrate  steps  calories  gsr  skintemp  airtemp\n",
       "1435  2016-05-09 23:55:00        NaN    NaN       NaN  NaN       NaN      NaN\n",
       "1436  2016-05-09 23:56:00        NaN    NaN       NaN  NaN       NaN      NaN\n",
       "1437  2016-05-09 23:57:00        NaN    NaN       NaN  NaN       NaN      NaN\n",
       "1438  2016-05-09 23:58:00        NaN    NaN       NaN  NaN       NaN      NaN\n",
       "1439  2016-05-09 23:59:00        NaN    NaN       NaN  NaN       NaN      NaN"
      ]
     },
     "execution_count": 5,
     "metadata": {},
     "output_type": "execute_result"
    }
   ],
   "source": [
    "sallyMetrics = loadMetricData('sallyKung', \"metrics\")\n",
    "sallyMetrics.tail(5)"
   ]
  },
  {
   "cell_type": "code",
   "execution_count": 6,
   "metadata": {
    "collapsed": false
   },
   "outputs": [
    {
     "data": {
      "text/plain": [
       "timestamp     object\n",
       "heartrate    float64\n",
       "steps        float64\n",
       "calories     float64\n",
       "gsr          float64\n",
       "skintemp     float64\n",
       "airtemp      float64\n",
       "dtype: object"
      ]
     },
     "execution_count": 6,
     "metadata": {},
     "output_type": "execute_result"
    }
   ],
   "source": [
    "sallyMetrics.dtypes"
   ]
  },
  {
   "cell_type": "code",
   "execution_count": 7,
   "metadata": {
    "collapsed": false
   },
   "outputs": [
    {
     "data": {
      "text/html": [
       "<div>\n",
       "<table border=\"1\" class=\"dataframe\">\n",
       "  <thead>\n",
       "    <tr style=\"text-align: right;\">\n",
       "      <th></th>\n",
       "      <th>timestamp</th>\n",
       "      <th>heartrate</th>\n",
       "      <th>steps</th>\n",
       "      <th>calories</th>\n",
       "      <th>gsr</th>\n",
       "      <th>skintemp</th>\n",
       "      <th>airtemp</th>\n",
       "    </tr>\n",
       "  </thead>\n",
       "  <tbody>\n",
       "    <tr>\n",
       "      <th>0</th>\n",
       "      <td>2016-05-02 00:00:00</td>\n",
       "      <td>0</td>\n",
       "      <td>4</td>\n",
       "      <td>1.709</td>\n",
       "      <td>0</td>\n",
       "      <td>0</td>\n",
       "      <td>0</td>\n",
       "    </tr>\n",
       "    <tr>\n",
       "      <th>1</th>\n",
       "      <td>2016-05-02 00:01:00</td>\n",
       "      <td>0</td>\n",
       "      <td>4</td>\n",
       "      <td>1.709</td>\n",
       "      <td>0</td>\n",
       "      <td>0</td>\n",
       "      <td>0</td>\n",
       "    </tr>\n",
       "    <tr>\n",
       "      <th>2</th>\n",
       "      <td>2016-05-02 00:02:00</td>\n",
       "      <td>0</td>\n",
       "      <td>4</td>\n",
       "      <td>1.709</td>\n",
       "      <td>0</td>\n",
       "      <td>0</td>\n",
       "      <td>0</td>\n",
       "    </tr>\n",
       "    <tr>\n",
       "      <th>3</th>\n",
       "      <td>2016-05-02 00:03:00</td>\n",
       "      <td>0</td>\n",
       "      <td>4</td>\n",
       "      <td>1.709</td>\n",
       "      <td>0</td>\n",
       "      <td>0</td>\n",
       "      <td>0</td>\n",
       "    </tr>\n",
       "    <tr>\n",
       "      <th>4</th>\n",
       "      <td>2016-05-02 00:04:00</td>\n",
       "      <td>0</td>\n",
       "      <td>4</td>\n",
       "      <td>1.709</td>\n",
       "      <td>0</td>\n",
       "      <td>0</td>\n",
       "      <td>0</td>\n",
       "    </tr>\n",
       "  </tbody>\n",
       "</table>\n",
       "</div>"
      ],
      "text/plain": [
       "            timestamp  heartrate  steps  calories  gsr  skintemp  airtemp\n",
       "0 2016-05-02 00:00:00          0      4     1.709    0         0        0\n",
       "1 2016-05-02 00:01:00          0      4     1.709    0         0        0\n",
       "2 2016-05-02 00:02:00          0      4     1.709    0         0        0\n",
       "3 2016-05-02 00:03:00          0      4     1.709    0         0        0\n",
       "4 2016-05-02 00:04:00          0      4     1.709    0         0        0"
      ]
     },
     "execution_count": 7,
     "metadata": {},
     "output_type": "execute_result"
    }
   ],
   "source": [
    "# clean metric data\n",
    "\n",
    "sallyMetrics.timestamp = pd.to_datetime(sallyMetrics.timestamp)\n",
    "\n",
    "sallyMetrics.heartrate = sallyMetrics.heartrate.fillna(0)\n",
    "sallyMetrics.steps = sallyMetrics.steps.fillna(0)\n",
    "sallyMetrics.calories = sallyMetrics.calories.fillna(0)\n",
    "sallyMetrics.gsr = sallyMetrics.gsr.fillna(0)\n",
    "sallyMetrics.skintemp = sallyMetrics.skintemp.fillna(0)\n",
    "sallyMetrics.airtemp = sallyMetrics.airtemp.fillna(0)\n",
    "\n",
    "sallyMetrics.head(5)"
   ]
  },
  {
   "cell_type": "code",
   "execution_count": 8,
   "metadata": {
    "collapsed": false
   },
   "outputs": [
    {
     "data": {
      "text/html": [
       "<div>\n",
       "<table border=\"1\" class=\"dataframe\">\n",
       "  <thead>\n",
       "    <tr style=\"text-align: right;\">\n",
       "      <th></th>\n",
       "      <th>start time</th>\n",
       "      <th>start time ISO</th>\n",
       "      <th>start time timezone</th>\n",
       "      <th>start time offset</th>\n",
       "      <th>end time</th>\n",
       "      <th>end time ISO</th>\n",
       "      <th>end time timezone</th>\n",
       "      <th>end time offset</th>\n",
       "      <th>type</th>\n",
       "      <th>actual seconds</th>\n",
       "      <th>steps</th>\n",
       "      <th>calories</th>\n",
       "      <th>minutes</th>\n",
       "      <th>heart rate avg</th>\n",
       "      <th>heart rate min</th>\n",
       "      <th>heart rate max</th>\n",
       "      <th>state</th>\n",
       "      <th>version</th>\n",
       "      <th>id</th>\n",
       "    </tr>\n",
       "  </thead>\n",
       "  <tbody>\n",
       "    <tr>\n",
       "      <th>1</th>\n",
       "      <td>2016-05-09 13:55:47</td>\n",
       "      <td>2016-05-09T13:55:47Z</td>\n",
       "      <td>America/New_York</td>\n",
       "      <td>-240</td>\n",
       "      <td>2016-05-09 14:00:54</td>\n",
       "      <td>2016-05-09T14:00:54Z</td>\n",
       "      <td>America/New_York</td>\n",
       "      <td>-240</td>\n",
       "      <td>walk</td>\n",
       "      <td>307</td>\n",
       "      <td>587</td>\n",
       "      <td>23.500000</td>\n",
       "      <td>5.116667</td>\n",
       "      <td>110.824104</td>\n",
       "      <td>NaN</td>\n",
       "      <td>NaN</td>\n",
       "      <td>complete</td>\n",
       "      <td>1</td>\n",
       "      <td>walk__2016-05-09T135547</td>\n",
       "    </tr>\n",
       "    <tr>\n",
       "      <th>2</th>\n",
       "      <td>2016-05-09 14:20:24</td>\n",
       "      <td>2016-05-09T14:20:24Z</td>\n",
       "      <td>America/New_York</td>\n",
       "      <td>-240</td>\n",
       "      <td>2016-05-09 14:27:39</td>\n",
       "      <td>2016-05-09T14:27:39Z</td>\n",
       "      <td>America/New_York</td>\n",
       "      <td>-240</td>\n",
       "      <td>walk</td>\n",
       "      <td>415</td>\n",
       "      <td>792</td>\n",
       "      <td>43.400002</td>\n",
       "      <td>7.250000</td>\n",
       "      <td>114.530121</td>\n",
       "      <td>NaN</td>\n",
       "      <td>NaN</td>\n",
       "      <td>complete</td>\n",
       "      <td>1</td>\n",
       "      <td>walk__2016-05-09T142024</td>\n",
       "    </tr>\n",
       "    <tr>\n",
       "      <th>3</th>\n",
       "      <td>2016-05-09 19:39:27</td>\n",
       "      <td>2016-05-09T19:39:27Z</td>\n",
       "      <td>America/New_York</td>\n",
       "      <td>-240</td>\n",
       "      <td>2016-05-09 19:45:28</td>\n",
       "      <td>2016-05-09T19:45:28Z</td>\n",
       "      <td>America/New_York</td>\n",
       "      <td>-240</td>\n",
       "      <td>walk</td>\n",
       "      <td>361</td>\n",
       "      <td>750</td>\n",
       "      <td>46.299999</td>\n",
       "      <td>6.016667</td>\n",
       "      <td>121.648201</td>\n",
       "      <td>NaN</td>\n",
       "      <td>NaN</td>\n",
       "      <td>complete</td>\n",
       "      <td>1</td>\n",
       "      <td>walk__2016-05-09T193927</td>\n",
       "    </tr>\n",
       "    <tr>\n",
       "      <th>4</th>\n",
       "      <td>2016-05-09 20:30:38</td>\n",
       "      <td>2016-05-09T20:30:38Z</td>\n",
       "      <td>America/New_York</td>\n",
       "      <td>-240</td>\n",
       "      <td>2016-05-09 21:12:19</td>\n",
       "      <td>2016-05-09T21:12:19Z</td>\n",
       "      <td>America/New_York</td>\n",
       "      <td>-240</td>\n",
       "      <td>walk</td>\n",
       "      <td>2074</td>\n",
       "      <td>3714</td>\n",
       "      <td>190.500000</td>\n",
       "      <td>41.683333</td>\n",
       "      <td>110.398262</td>\n",
       "      <td>NaN</td>\n",
       "      <td>NaN</td>\n",
       "      <td>complete</td>\n",
       "      <td>1</td>\n",
       "      <td>walk__2016-05-09T203038</td>\n",
       "    </tr>\n",
       "    <tr>\n",
       "      <th>5</th>\n",
       "      <td>2016-05-09 21:59:16</td>\n",
       "      <td>2016-05-09T21:59:16Z</td>\n",
       "      <td>America/New_York</td>\n",
       "      <td>-240</td>\n",
       "      <td>2016-05-09 22:07:35</td>\n",
       "      <td>2016-05-09T22:07:35Z</td>\n",
       "      <td>America/New_York</td>\n",
       "      <td>-240</td>\n",
       "      <td>walk</td>\n",
       "      <td>258</td>\n",
       "      <td>499</td>\n",
       "      <td>31.400000</td>\n",
       "      <td>8.316667</td>\n",
       "      <td>119.693802</td>\n",
       "      <td>NaN</td>\n",
       "      <td>NaN</td>\n",
       "      <td>complete</td>\n",
       "      <td>1</td>\n",
       "      <td>walk__2016-05-09T215916</td>\n",
       "    </tr>\n",
       "  </tbody>\n",
       "</table>\n",
       "</div>"
      ],
      "text/plain": [
       "            start time        start time ISO start time timezone  \\\n",
       "1  2016-05-09 13:55:47  2016-05-09T13:55:47Z    America/New_York   \n",
       "2  2016-05-09 14:20:24  2016-05-09T14:20:24Z    America/New_York   \n",
       "3  2016-05-09 19:39:27  2016-05-09T19:39:27Z    America/New_York   \n",
       "4  2016-05-09 20:30:38  2016-05-09T20:30:38Z    America/New_York   \n",
       "5  2016-05-09 21:59:16  2016-05-09T21:59:16Z    America/New_York   \n",
       "\n",
       "   start time offset             end time          end time ISO  \\\n",
       "1               -240  2016-05-09 14:00:54  2016-05-09T14:00:54Z   \n",
       "2               -240  2016-05-09 14:27:39  2016-05-09T14:27:39Z   \n",
       "3               -240  2016-05-09 19:45:28  2016-05-09T19:45:28Z   \n",
       "4               -240  2016-05-09 21:12:19  2016-05-09T21:12:19Z   \n",
       "5               -240  2016-05-09 22:07:35  2016-05-09T22:07:35Z   \n",
       "\n",
       "  end time timezone  end time offset  type  actual seconds  steps    calories  \\\n",
       "1  America/New_York             -240  walk             307    587   23.500000   \n",
       "2  America/New_York             -240  walk             415    792   43.400002   \n",
       "3  America/New_York             -240  walk             361    750   46.299999   \n",
       "4  America/New_York             -240  walk            2074   3714  190.500000   \n",
       "5  America/New_York             -240  walk             258    499   31.400000   \n",
       "\n",
       "     minutes  heart rate avg  heart rate min  heart rate max     state  \\\n",
       "1   5.116667      110.824104             NaN             NaN  complete   \n",
       "2   7.250000      114.530121             NaN             NaN  complete   \n",
       "3   6.016667      121.648201             NaN             NaN  complete   \n",
       "4  41.683333      110.398262             NaN             NaN  complete   \n",
       "5   8.316667      119.693802             NaN             NaN  complete   \n",
       "\n",
       "   version                       id  \n",
       "1        1  walk__2016-05-09T135547  \n",
       "2        1  walk__2016-05-09T142024  \n",
       "3        1  walk__2016-05-09T193927  \n",
       "4        1  walk__2016-05-09T203038  \n",
       "5        1  walk__2016-05-09T215916  "
      ]
     },
     "execution_count": 8,
     "metadata": {},
     "output_type": "execute_result"
    }
   ],
   "source": [
    "sallyActivities = loadMetricData('sallyKung', \"activities\")\n",
    "sallyActivities.tail(5)"
   ]
  },
  {
   "cell_type": "code",
   "execution_count": 9,
   "metadata": {
    "collapsed": false
   },
   "outputs": [
    {
     "data": {
      "text/html": [
       "<div>\n",
       "<table border=\"1\" class=\"dataframe\">\n",
       "  <thead>\n",
       "    <tr style=\"text-align: right;\">\n",
       "      <th></th>\n",
       "      <th>start time</th>\n",
       "      <th>start time ISO</th>\n",
       "      <th>start time timezone</th>\n",
       "      <th>start time offset</th>\n",
       "      <th>end time</th>\n",
       "      <th>end time ISO</th>\n",
       "      <th>end time timezone</th>\n",
       "      <th>end time offset</th>\n",
       "      <th>light mins</th>\n",
       "      <th>deep mins</th>\n",
       "      <th>...</th>\n",
       "      <th>toss turns</th>\n",
       "      <th>type</th>\n",
       "      <th>actual seconds</th>\n",
       "      <th>calories</th>\n",
       "      <th>heart rate avg</th>\n",
       "      <th>heart rate min</th>\n",
       "      <th>heart rate max</th>\n",
       "      <th>state</th>\n",
       "      <th>version</th>\n",
       "      <th>id</th>\n",
       "    </tr>\n",
       "  </thead>\n",
       "  <tbody>\n",
       "    <tr>\n",
       "      <th>0</th>\n",
       "      <td>2016-05-05 06:31:20</td>\n",
       "      <td>2016-05-05T06:31:20Z</td>\n",
       "      <td>America/New_York</td>\n",
       "      <td>-240</td>\n",
       "      <td>2016-05-05 11:03:20</td>\n",
       "      <td>2016-05-05T11:03:20Z</td>\n",
       "      <td>America/New_York</td>\n",
       "      <td>-240</td>\n",
       "      <td>157</td>\n",
       "      <td>34</td>\n",
       "      <td>...</td>\n",
       "      <td>18</td>\n",
       "      <td>sleep</td>\n",
       "      <td>16320</td>\n",
       "      <td>311.600006</td>\n",
       "      <td>65.787804</td>\n",
       "      <td>NaN</td>\n",
       "      <td>NaN</td>\n",
       "      <td>complete</td>\n",
       "      <td>2</td>\n",
       "      <td>sleep__2016-05-05T063120</td>\n",
       "    </tr>\n",
       "    <tr>\n",
       "      <th>0</th>\n",
       "      <td>2016-05-06 04:28:25</td>\n",
       "      <td>2016-05-06T04:28:25Z</td>\n",
       "      <td>America/New_York</td>\n",
       "      <td>-240</td>\n",
       "      <td>2016-05-06 14:10:23</td>\n",
       "      <td>2016-05-06T14:10:23Z</td>\n",
       "      <td>America/New_York</td>\n",
       "      <td>-240</td>\n",
       "      <td>276</td>\n",
       "      <td>132</td>\n",
       "      <td>...</td>\n",
       "      <td>41</td>\n",
       "      <td>sleep</td>\n",
       "      <td>33900</td>\n",
       "      <td>590.564026</td>\n",
       "      <td>64.997345</td>\n",
       "      <td>NaN</td>\n",
       "      <td>NaN</td>\n",
       "      <td>complete</td>\n",
       "      <td>2</td>\n",
       "      <td>sleep__2016-05-06T042825</td>\n",
       "    </tr>\n",
       "    <tr>\n",
       "      <th>0</th>\n",
       "      <td>2016-05-07 05:22:32</td>\n",
       "      <td>2016-05-07T05:22:32Z</td>\n",
       "      <td>America/New_York</td>\n",
       "      <td>-240</td>\n",
       "      <td>2016-05-07 17:12:00</td>\n",
       "      <td>2016-05-07T17:12:00Z</td>\n",
       "      <td>America/New_York</td>\n",
       "      <td>-240</td>\n",
       "      <td>366</td>\n",
       "      <td>145</td>\n",
       "      <td>...</td>\n",
       "      <td>40</td>\n",
       "      <td>sleep</td>\n",
       "      <td>42540</td>\n",
       "      <td>812.099976</td>\n",
       "      <td>63.937489</td>\n",
       "      <td>NaN</td>\n",
       "      <td>NaN</td>\n",
       "      <td>complete</td>\n",
       "      <td>2</td>\n",
       "      <td>sleep__2016-05-07T052232</td>\n",
       "    </tr>\n",
       "    <tr>\n",
       "      <th>0</th>\n",
       "      <td>2016-05-08 07:50:37</td>\n",
       "      <td>2016-05-08T07:50:37Z</td>\n",
       "      <td>America/New_York</td>\n",
       "      <td>-240</td>\n",
       "      <td>2016-05-08 15:52:56</td>\n",
       "      <td>2016-05-08T15:52:56Z</td>\n",
       "      <td>America/New_York</td>\n",
       "      <td>-240</td>\n",
       "      <td>342</td>\n",
       "      <td>30</td>\n",
       "      <td>...</td>\n",
       "      <td>35</td>\n",
       "      <td>sleep</td>\n",
       "      <td>28200</td>\n",
       "      <td>476.764008</td>\n",
       "      <td>61.165691</td>\n",
       "      <td>NaN</td>\n",
       "      <td>NaN</td>\n",
       "      <td>complete</td>\n",
       "      <td>2</td>\n",
       "      <td>sleep__2016-05-08T075037</td>\n",
       "    </tr>\n",
       "    <tr>\n",
       "      <th>0</th>\n",
       "      <td>2016-05-09 04:51:23</td>\n",
       "      <td>2016-05-09T04:51:23Z</td>\n",
       "      <td>America/New_York</td>\n",
       "      <td>-240</td>\n",
       "      <td>2016-05-09 12:03:33</td>\n",
       "      <td>2016-05-09T12:03:33Z</td>\n",
       "      <td>America/New_York</td>\n",
       "      <td>-240</td>\n",
       "      <td>195</td>\n",
       "      <td>106</td>\n",
       "      <td>...</td>\n",
       "      <td>31</td>\n",
       "      <td>sleep</td>\n",
       "      <td>25920</td>\n",
       "      <td>494.600006</td>\n",
       "      <td>60.591930</td>\n",
       "      <td>NaN</td>\n",
       "      <td>NaN</td>\n",
       "      <td>complete</td>\n",
       "      <td>2</td>\n",
       "      <td>sleep__2016-05-09T045123</td>\n",
       "    </tr>\n",
       "  </tbody>\n",
       "</table>\n",
       "<p>5 rows × 24 columns</p>\n",
       "</div>"
      ],
      "text/plain": [
       "            start time        start time ISO start time timezone  \\\n",
       "0  2016-05-05 06:31:20  2016-05-05T06:31:20Z    America/New_York   \n",
       "0  2016-05-06 04:28:25  2016-05-06T04:28:25Z    America/New_York   \n",
       "0  2016-05-07 05:22:32  2016-05-07T05:22:32Z    America/New_York   \n",
       "0  2016-05-08 07:50:37  2016-05-08T07:50:37Z    America/New_York   \n",
       "0  2016-05-09 04:51:23  2016-05-09T04:51:23Z    America/New_York   \n",
       "\n",
       "   start time offset             end time          end time ISO  \\\n",
       "0               -240  2016-05-05 11:03:20  2016-05-05T11:03:20Z   \n",
       "0               -240  2016-05-06 14:10:23  2016-05-06T14:10:23Z   \n",
       "0               -240  2016-05-07 17:12:00  2016-05-07T17:12:00Z   \n",
       "0               -240  2016-05-08 15:52:56  2016-05-08T15:52:56Z   \n",
       "0               -240  2016-05-09 12:03:33  2016-05-09T12:03:33Z   \n",
       "\n",
       "  end time timezone  end time offset  light mins  deep mins  \\\n",
       "0  America/New_York             -240         157         34   \n",
       "0  America/New_York             -240         276        132   \n",
       "0  America/New_York             -240         366        145   \n",
       "0  America/New_York             -240         342         30   \n",
       "0  America/New_York             -240         195        106   \n",
       "\n",
       "             ...             toss turns   type  actual seconds    calories  \\\n",
       "0            ...                     18  sleep           16320  311.600006   \n",
       "0            ...                     41  sleep           33900  590.564026   \n",
       "0            ...                     40  sleep           42540  812.099976   \n",
       "0            ...                     35  sleep           28200  476.764008   \n",
       "0            ...                     31  sleep           25920  494.600006   \n",
       "\n",
       "   heart rate avg heart rate min  heart rate max     state  version  \\\n",
       "0       65.787804            NaN             NaN  complete        2   \n",
       "0       64.997345            NaN             NaN  complete        2   \n",
       "0       63.937489            NaN             NaN  complete        2   \n",
       "0       61.165691            NaN             NaN  complete        2   \n",
       "0       60.591930            NaN             NaN  complete        2   \n",
       "\n",
       "                         id  \n",
       "0  sleep__2016-05-05T063120  \n",
       "0  sleep__2016-05-06T042825  \n",
       "0  sleep__2016-05-07T052232  \n",
       "0  sleep__2016-05-08T075037  \n",
       "0  sleep__2016-05-09T045123  \n",
       "\n",
       "[5 rows x 24 columns]"
      ]
     },
     "execution_count": 9,
     "metadata": {},
     "output_type": "execute_result"
    }
   ],
   "source": [
    "sallySleep = loadMetricData('sallyKung', \"sleep\")\n",
    "sallySleep.tail(5)"
   ]
  },
  {
   "cell_type": "code",
   "execution_count": 10,
   "metadata": {
    "collapsed": false
   },
   "outputs": [
    {
     "data": {
      "text/plain": [
       "start time              object\n",
       "start time ISO          object\n",
       "start time timezone     object\n",
       "start time offset      float64\n",
       "end time                object\n",
       "end time ISO            object\n",
       "end time timezone       object\n",
       "end time offset        float64\n",
       "light mins             float64\n",
       "deep mins              float64\n",
       "rem mins               float64\n",
       "interruption mins      float64\n",
       "unknown mins           float64\n",
       "interruptions          float64\n",
       "toss turns             float64\n",
       "type                    object\n",
       "actual seconds         float64\n",
       "calories               float64\n",
       "heart rate avg         float64\n",
       "heart rate min         float64\n",
       "heart rate max         float64\n",
       "state                   object\n",
       "version                float64\n",
       "id                      object\n",
       "dtype: object"
      ]
     },
     "execution_count": 10,
     "metadata": {},
     "output_type": "execute_result"
    }
   ],
   "source": [
    "sallySleep.dtypes"
   ]
  },
  {
   "cell_type": "code",
   "execution_count": 11,
   "metadata": {
    "collapsed": false
   },
   "outputs": [
    {
     "data": {
      "text/html": [
       "<div>\n",
       "<table border=\"1\" class=\"dataframe\">\n",
       "  <thead>\n",
       "    <tr style=\"text-align: right;\">\n",
       "      <th></th>\n",
       "      <th>starttime</th>\n",
       "      <th>endtime</th>\n",
       "      <th>date</th>\n",
       "      <th>start</th>\n",
       "      <th>end</th>\n",
       "      <th>activity</th>\n",
       "      <th>location</th>\n",
       "      <th>generalemo</th>\n",
       "      <th>qualitative</th>\n",
       "      <th>excited</th>\n",
       "      <th>happy</th>\n",
       "      <th>calm</th>\n",
       "      <th>anxious</th>\n",
       "      <th>sad</th>\n",
       "      <th>angry</th>\n",
       "      <th>hungry</th>\n",
       "      <th>tired</th>\n",
       "      <th>bored</th>\n",
       "    </tr>\n",
       "  </thead>\n",
       "  <tbody>\n",
       "    <tr>\n",
       "      <th>41</th>\n",
       "      <td>5/6/16 12:49</td>\n",
       "      <td>5/6/16 13:14</td>\n",
       "      <td>5/6/16</td>\n",
       "      <td>12:49 PM</td>\n",
       "      <td>1:14 PM</td>\n",
       "      <td>Orals</td>\n",
       "      <td>79 5th Ave, 16th floor</td>\n",
       "      <td>Anxious</td>\n",
       "      <td>5</td>\n",
       "      <td>NaN</td>\n",
       "      <td>NaN</td>\n",
       "      <td>NaN</td>\n",
       "      <td>NaN</td>\n",
       "      <td>NaN</td>\n",
       "      <td>NaN</td>\n",
       "      <td>NaN</td>\n",
       "      <td>NaN</td>\n",
       "      <td>NaN</td>\n",
       "    </tr>\n",
       "    <tr>\n",
       "      <th>42</th>\n",
       "      <td>5/6/16 13:14</td>\n",
       "      <td>5/6/16 13:30</td>\n",
       "      <td>5/6/16</td>\n",
       "      <td>1:14 PM</td>\n",
       "      <td>1:30 PM</td>\n",
       "      <td>Talking to Abby</td>\n",
       "      <td>79 5th Ave, 16th floor</td>\n",
       "      <td>Calm</td>\n",
       "      <td>5</td>\n",
       "      <td>NaN</td>\n",
       "      <td>NaN</td>\n",
       "      <td>NaN</td>\n",
       "      <td>NaN</td>\n",
       "      <td>NaN</td>\n",
       "      <td>NaN</td>\n",
       "      <td>NaN</td>\n",
       "      <td>NaN</td>\n",
       "      <td>NaN</td>\n",
       "    </tr>\n",
       "    <tr>\n",
       "      <th>43</th>\n",
       "      <td>5/6/16 13:47</td>\n",
       "      <td>5/6/16 15:00</td>\n",
       "      <td>5/6/16</td>\n",
       "      <td>1:47 PM</td>\n",
       "      <td>3:00 PM</td>\n",
       "      <td>With Sarah and Hashem</td>\n",
       "      <td>Durst</td>\n",
       "      <td>Angry</td>\n",
       "      <td>5</td>\n",
       "      <td>NaN</td>\n",
       "      <td>NaN</td>\n",
       "      <td>NaN</td>\n",
       "      <td>NaN</td>\n",
       "      <td>NaN</td>\n",
       "      <td>NaN</td>\n",
       "      <td>NaN</td>\n",
       "      <td>NaN</td>\n",
       "      <td>NaN</td>\n",
       "    </tr>\n",
       "    <tr>\n",
       "      <th>44</th>\n",
       "      <td>5/6/16 15:10</td>\n",
       "      <td>5/6/16 15:30</td>\n",
       "      <td>5/6/16</td>\n",
       "      <td>3:10 PM</td>\n",
       "      <td>3:30 PM</td>\n",
       "      <td>Eating fish and chips with Sarah</td>\n",
       "      <td>66 12th Street, 407</td>\n",
       "      <td>Happy</td>\n",
       "      <td>5</td>\n",
       "      <td>NaN</td>\n",
       "      <td>NaN</td>\n",
       "      <td>NaN</td>\n",
       "      <td>NaN</td>\n",
       "      <td>NaN</td>\n",
       "      <td>NaN</td>\n",
       "      <td>NaN</td>\n",
       "      <td>NaN</td>\n",
       "      <td>NaN</td>\n",
       "    </tr>\n",
       "    <tr>\n",
       "      <th>45</th>\n",
       "      <td>5/6/16 16:21</td>\n",
       "      <td>5/6/16 16:21</td>\n",
       "      <td>5/6/16</td>\n",
       "      <td>4:21 PM</td>\n",
       "      <td>4:21 PM</td>\n",
       "      <td>Sarah messages me on Google</td>\n",
       "      <td>66 12th Street, 407</td>\n",
       "      <td>Annoyed</td>\n",
       "      <td>1</td>\n",
       "      <td>NaN</td>\n",
       "      <td>NaN</td>\n",
       "      <td>NaN</td>\n",
       "      <td>NaN</td>\n",
       "      <td>1</td>\n",
       "      <td>NaN</td>\n",
       "      <td>1</td>\n",
       "      <td>NaN</td>\n",
       "      <td>1</td>\n",
       "    </tr>\n",
       "  </tbody>\n",
       "</table>\n",
       "</div>"
      ],
      "text/plain": [
       "       starttime       endtime    date     start      end  \\\n",
       "41  5/6/16 12:49  5/6/16 13:14  5/6/16  12:49 PM  1:14 PM   \n",
       "42  5/6/16 13:14  5/6/16 13:30  5/6/16   1:14 PM  1:30 PM   \n",
       "43  5/6/16 13:47  5/6/16 15:00  5/6/16   1:47 PM  3:00 PM   \n",
       "44  5/6/16 15:10  5/6/16 15:30  5/6/16   3:10 PM  3:30 PM   \n",
       "45  5/6/16 16:21  5/6/16 16:21  5/6/16   4:21 PM  4:21 PM   \n",
       "\n",
       "                            activity                location generalemo  \\\n",
       "41                             Orals  79 5th Ave, 16th floor    Anxious   \n",
       "42                   Talking to Abby  79 5th Ave, 16th floor       Calm   \n",
       "43             With Sarah and Hashem                   Durst      Angry   \n",
       "44  Eating fish and chips with Sarah     66 12th Street, 407      Happy   \n",
       "45       Sarah messages me on Google     66 12th Street, 407    Annoyed   \n",
       "\n",
       "    qualitative  excited  happy  calm  anxious  sad  angry  hungry  tired  \\\n",
       "41            5      NaN    NaN   NaN      NaN  NaN    NaN     NaN    NaN   \n",
       "42            5      NaN    NaN   NaN      NaN  NaN    NaN     NaN    NaN   \n",
       "43            5      NaN    NaN   NaN      NaN  NaN    NaN     NaN    NaN   \n",
       "44            5      NaN    NaN   NaN      NaN  NaN    NaN     NaN    NaN   \n",
       "45            1      NaN    NaN   NaN      NaN    1    NaN       1    NaN   \n",
       "\n",
       "    bored  \n",
       "41    NaN  \n",
       "42    NaN  \n",
       "43    NaN  \n",
       "44    NaN  \n",
       "45      1  "
      ]
     },
     "execution_count": 11,
     "metadata": {},
     "output_type": "execute_result"
    }
   ],
   "source": [
    "sallyJournal = loadMetricData('sallyKung', \"journal\")\n",
    "sallyJournal.tail(5)"
   ]
  },
  {
   "cell_type": "code",
   "execution_count": 12,
   "metadata": {
    "collapsed": false
   },
   "outputs": [
    {
     "data": {
      "text/plain": [
       "starttime       object\n",
       "endtime         object\n",
       "date            object\n",
       "start           object\n",
       "end             object\n",
       "activity        object\n",
       "location        object\n",
       "generalemo      object\n",
       "qualitative      int64\n",
       "excited        float64\n",
       "happy          float64\n",
       "calm           float64\n",
       "anxious        float64\n",
       "sad            float64\n",
       "angry          float64\n",
       "hungry         float64\n",
       "tired          float64\n",
       "bored          float64\n",
       "dtype: object"
      ]
     },
     "execution_count": 12,
     "metadata": {},
     "output_type": "execute_result"
    }
   ],
   "source": [
    "sallyJournal.dtypes"
   ]
  },
  {
   "cell_type": "code",
   "execution_count": 13,
   "metadata": {
    "collapsed": false,
    "scrolled": true
   },
   "outputs": [
    {
     "name": "stdout",
     "output_type": "stream",
     "text": [
      "(46, 18)\n"
     ]
    },
    {
     "data": {
      "text/html": [
       "<div>\n",
       "<table border=\"1\" class=\"dataframe\">\n",
       "  <thead>\n",
       "    <tr style=\"text-align: right;\">\n",
       "      <th></th>\n",
       "      <th>starttime</th>\n",
       "      <th>endtime</th>\n",
       "      <th>date</th>\n",
       "      <th>start</th>\n",
       "      <th>end</th>\n",
       "      <th>activity</th>\n",
       "      <th>location</th>\n",
       "      <th>generalemo</th>\n",
       "      <th>qualitative</th>\n",
       "      <th>excited</th>\n",
       "      <th>happy</th>\n",
       "      <th>calm</th>\n",
       "      <th>anxious</th>\n",
       "      <th>sad</th>\n",
       "      <th>angry</th>\n",
       "      <th>hungry</th>\n",
       "      <th>tired</th>\n",
       "      <th>bored</th>\n",
       "    </tr>\n",
       "  </thead>\n",
       "  <tbody>\n",
       "    <tr>\n",
       "      <th>0</th>\n",
       "      <td>2016-05-02 13:25:00</td>\n",
       "      <td>2016-05-02 13:28:00</td>\n",
       "      <td>5/2/16</td>\n",
       "      <td>1:25 PM</td>\n",
       "      <td>1:28 PM</td>\n",
       "      <td>Trying on watch</td>\n",
       "      <td>Barb's Office</td>\n",
       "      <td>Excited</td>\n",
       "      <td>8</td>\n",
       "      <td>8</td>\n",
       "      <td>8</td>\n",
       "      <td>0</td>\n",
       "      <td>0</td>\n",
       "      <td>0</td>\n",
       "      <td>0</td>\n",
       "      <td>0</td>\n",
       "      <td>0</td>\n",
       "      <td>0</td>\n",
       "    </tr>\n",
       "    <tr>\n",
       "      <th>1</th>\n",
       "      <td>2016-05-02 13:40:00</td>\n",
       "      <td>2016-05-02 00:00:00</td>\n",
       "      <td>5/2/16</td>\n",
       "      <td>1:40 PM</td>\n",
       "      <td>NaN</td>\n",
       "      <td>Editing photos for work</td>\n",
       "      <td>Barb's Office</td>\n",
       "      <td>Streeeeeessed</td>\n",
       "      <td>6</td>\n",
       "      <td>0</td>\n",
       "      <td>0</td>\n",
       "      <td>0</td>\n",
       "      <td>0</td>\n",
       "      <td>0</td>\n",
       "      <td>0</td>\n",
       "      <td>0</td>\n",
       "      <td>0</td>\n",
       "      <td>0</td>\n",
       "    </tr>\n",
       "    <tr>\n",
       "      <th>2</th>\n",
       "      <td>2016-05-02 13:48:00</td>\n",
       "      <td>2016-05-02 13:48:00</td>\n",
       "      <td>5/2/16</td>\n",
       "      <td>1:48 PM</td>\n",
       "      <td>1:48 PM</td>\n",
       "      <td>Wafer fit perfectly on top of cup</td>\n",
       "      <td>Barb's Office</td>\n",
       "      <td>HAPPY</td>\n",
       "      <td>10</td>\n",
       "      <td>10</td>\n",
       "      <td>10</td>\n",
       "      <td>0</td>\n",
       "      <td>0</td>\n",
       "      <td>0</td>\n",
       "      <td>0</td>\n",
       "      <td>0</td>\n",
       "      <td>0</td>\n",
       "      <td>0</td>\n",
       "    </tr>\n",
       "    <tr>\n",
       "      <th>3</th>\n",
       "      <td>2016-05-02 14:31:00</td>\n",
       "      <td>2016-05-02 14:50:00</td>\n",
       "      <td>5/2/16</td>\n",
       "      <td>2:31 PM</td>\n",
       "      <td>2:50 PM</td>\n",
       "      <td>Sorting through magnetic pins</td>\n",
       "      <td>Barb's Office</td>\n",
       "      <td>Anxious</td>\n",
       "      <td>5</td>\n",
       "      <td>0</td>\n",
       "      <td>0</td>\n",
       "      <td>0</td>\n",
       "      <td>5</td>\n",
       "      <td>0</td>\n",
       "      <td>6</td>\n",
       "      <td>0</td>\n",
       "      <td>0</td>\n",
       "      <td>0</td>\n",
       "    </tr>\n",
       "    <tr>\n",
       "      <th>4</th>\n",
       "      <td>2016-05-02 15:10:00</td>\n",
       "      <td>2016-05-02 15:14:00</td>\n",
       "      <td>5/2/16</td>\n",
       "      <td>3:10 PM</td>\n",
       "      <td>3:14 PM</td>\n",
       "      <td>Trying to figure out where photos went</td>\n",
       "      <td>Barb's Office</td>\n",
       "      <td>ANXIOUS, CONFUSED</td>\n",
       "      <td>9</td>\n",
       "      <td>0</td>\n",
       "      <td>0</td>\n",
       "      <td>0</td>\n",
       "      <td>9</td>\n",
       "      <td>0</td>\n",
       "      <td>0</td>\n",
       "      <td>0</td>\n",
       "      <td>0</td>\n",
       "      <td>0</td>\n",
       "    </tr>\n",
       "  </tbody>\n",
       "</table>\n",
       "</div>"
      ],
      "text/plain": [
       "            starttime             endtime    date    start      end  \\\n",
       "0 2016-05-02 13:25:00 2016-05-02 13:28:00  5/2/16  1:25 PM  1:28 PM   \n",
       "1 2016-05-02 13:40:00 2016-05-02 00:00:00  5/2/16  1:40 PM      NaN   \n",
       "2 2016-05-02 13:48:00 2016-05-02 13:48:00  5/2/16  1:48 PM  1:48 PM   \n",
       "3 2016-05-02 14:31:00 2016-05-02 14:50:00  5/2/16  2:31 PM  2:50 PM   \n",
       "4 2016-05-02 15:10:00 2016-05-02 15:14:00  5/2/16  3:10 PM  3:14 PM   \n",
       "\n",
       "                                 activity       location         generalemo  \\\n",
       "0                         Trying on watch  Barb's Office            Excited   \n",
       "1                 Editing photos for work  Barb's Office      Streeeeeessed   \n",
       "2       Wafer fit perfectly on top of cup  Barb's Office              HAPPY   \n",
       "3           Sorting through magnetic pins  Barb's Office            Anxious   \n",
       "4  Trying to figure out where photos went  Barb's Office  ANXIOUS, CONFUSED   \n",
       "\n",
       "   qualitative  excited  happy  calm  anxious  sad  angry  hungry  tired  \\\n",
       "0            8        8      8     0        0    0      0       0      0   \n",
       "1            6        0      0     0        0    0      0       0      0   \n",
       "2           10       10     10     0        0    0      0       0      0   \n",
       "3            5        0      0     0        5    0      6       0      0   \n",
       "4            9        0      0     0        9    0      0       0      0   \n",
       "\n",
       "   bored  \n",
       "0      0  \n",
       "1      0  \n",
       "2      0  \n",
       "3      0  \n",
       "4      0  "
      ]
     },
     "execution_count": 13,
     "metadata": {},
     "output_type": "execute_result"
    }
   ],
   "source": [
    "# data= barbJournal.iloc[:0]\n",
    "# clean metric data\n",
    "sallyJournal[\"starttime\"]= pd.to_datetime(sallyJournal.starttime)\n",
    "\n",
    "# data= barbJournal.iloc[:1]\n",
    "sallyJournal[\"endtime\"]= pd.to_datetime(sallyJournal.endtime)\n",
    "\n",
    "\n",
    "# sarahJournal.qualitative = sarahJournal.qualitative.convert_objects(convert_numeric=True)\n",
    "# sarahJournal.excited = sarahJournal.excited.convert_objects(convert_numeric=True)\n",
    "# sarahJournal.happy = sarahJournal.happy.convert_objects(convert_numeric=True)\n",
    "\n",
    "sallyJournal.qualitative = sallyJournal.qualitative.fillna(0)\n",
    "sallyJournal.excited = sallyJournal.excited.fillna(0)\n",
    "sallyJournal.happy = sallyJournal.happy.fillna(0)\n",
    "sallyJournal.calm = sallyJournal.calm.fillna(0)\n",
    "sallyJournal.anxious = sallyJournal.anxious.fillna(0)\n",
    "sallyJournal.sad = sallyJournal.sad.fillna(0)\n",
    "sallyJournal.angry = sallyJournal.angry.fillna(0)\n",
    "sallyJournal.hungry = sallyJournal.hungry.fillna(0)\n",
    "sallyJournal.tired = sallyJournal.tired.fillna(0)\n",
    "sallyJournal.bored = sallyJournal.bored.fillna(0)\n",
    "\n",
    "print(sallyJournal.shape)\n",
    "sallyJournal.head(5)\n",
    "# sallyJournal.tail(5)"
   ]
  },
  {
   "cell_type": "code",
   "execution_count": 14,
   "metadata": {
    "collapsed": false
   },
   "outputs": [
    {
     "data": {
      "text/html": [
       "<div>\n",
       "<table border=\"1\" class=\"dataframe\">\n",
       "  <thead>\n",
       "    <tr style=\"text-align: right;\">\n",
       "      <th></th>\n",
       "      <th>starttime</th>\n",
       "      <th>endtime</th>\n",
       "      <th>date</th>\n",
       "      <th>start</th>\n",
       "      <th>end</th>\n",
       "      <th>activity</th>\n",
       "      <th>location</th>\n",
       "      <th>generalemo</th>\n",
       "      <th>qualitative</th>\n",
       "      <th>excited</th>\n",
       "      <th>...</th>\n",
       "      <th>inthungry</th>\n",
       "      <th>intbored</th>\n",
       "      <th>exercise</th>\n",
       "      <th>thesis</th>\n",
       "      <th>sarah</th>\n",
       "      <th>barb</th>\n",
       "      <th>sol</th>\n",
       "      <th>arash</th>\n",
       "      <th>home</th>\n",
       "      <th>work</th>\n",
       "    </tr>\n",
       "  </thead>\n",
       "  <tbody>\n",
       "    <tr>\n",
       "      <th>0</th>\n",
       "      <td>2016-05-02 13:25:00</td>\n",
       "      <td>2016-05-02 13:28:00</td>\n",
       "      <td>5/2/16</td>\n",
       "      <td>1:25 PM</td>\n",
       "      <td>1:28 PM</td>\n",
       "      <td>Trying on watch</td>\n",
       "      <td>Barb's Office</td>\n",
       "      <td>Excited</td>\n",
       "      <td>8</td>\n",
       "      <td>8</td>\n",
       "      <td>...</td>\n",
       "      <td>0</td>\n",
       "      <td>1</td>\n",
       "      <td>False</td>\n",
       "      <td>False</td>\n",
       "      <td>False</td>\n",
       "      <td>False</td>\n",
       "      <td>False</td>\n",
       "      <td>False</td>\n",
       "      <td>False</td>\n",
       "      <td>False</td>\n",
       "    </tr>\n",
       "    <tr>\n",
       "      <th>1</th>\n",
       "      <td>2016-05-02 13:40:00</td>\n",
       "      <td>2016-05-02 00:00:00</td>\n",
       "      <td>5/2/16</td>\n",
       "      <td>1:40 PM</td>\n",
       "      <td>NaN</td>\n",
       "      <td>Editing photos for work</td>\n",
       "      <td>Barb's Office</td>\n",
       "      <td>Streeeeeessed</td>\n",
       "      <td>6</td>\n",
       "      <td>0</td>\n",
       "      <td>...</td>\n",
       "      <td>0</td>\n",
       "      <td>1</td>\n",
       "      <td>False</td>\n",
       "      <td>False</td>\n",
       "      <td>False</td>\n",
       "      <td>False</td>\n",
       "      <td>False</td>\n",
       "      <td>False</td>\n",
       "      <td>False</td>\n",
       "      <td>False</td>\n",
       "    </tr>\n",
       "    <tr>\n",
       "      <th>2</th>\n",
       "      <td>2016-05-02 13:48:00</td>\n",
       "      <td>2016-05-02 13:48:00</td>\n",
       "      <td>5/2/16</td>\n",
       "      <td>1:48 PM</td>\n",
       "      <td>1:48 PM</td>\n",
       "      <td>Wafer fit perfectly on top of cup</td>\n",
       "      <td>Barb's Office</td>\n",
       "      <td>HAPPY</td>\n",
       "      <td>10</td>\n",
       "      <td>10</td>\n",
       "      <td>...</td>\n",
       "      <td>0</td>\n",
       "      <td>1</td>\n",
       "      <td>False</td>\n",
       "      <td>False</td>\n",
       "      <td>False</td>\n",
       "      <td>False</td>\n",
       "      <td>False</td>\n",
       "      <td>False</td>\n",
       "      <td>False</td>\n",
       "      <td>False</td>\n",
       "    </tr>\n",
       "    <tr>\n",
       "      <th>3</th>\n",
       "      <td>2016-05-02 14:31:00</td>\n",
       "      <td>2016-05-02 14:50:00</td>\n",
       "      <td>5/2/16</td>\n",
       "      <td>2:31 PM</td>\n",
       "      <td>2:50 PM</td>\n",
       "      <td>Sorting through magnetic pins</td>\n",
       "      <td>Barb's Office</td>\n",
       "      <td>Anxious</td>\n",
       "      <td>5</td>\n",
       "      <td>0</td>\n",
       "      <td>...</td>\n",
       "      <td>0</td>\n",
       "      <td>1</td>\n",
       "      <td>False</td>\n",
       "      <td>False</td>\n",
       "      <td>False</td>\n",
       "      <td>False</td>\n",
       "      <td>False</td>\n",
       "      <td>False</td>\n",
       "      <td>False</td>\n",
       "      <td>False</td>\n",
       "    </tr>\n",
       "    <tr>\n",
       "      <th>4</th>\n",
       "      <td>2016-05-02 15:10:00</td>\n",
       "      <td>2016-05-02 15:14:00</td>\n",
       "      <td>5/2/16</td>\n",
       "      <td>3:10 PM</td>\n",
       "      <td>3:14 PM</td>\n",
       "      <td>Trying to figure out where photos went</td>\n",
       "      <td>Barb's Office</td>\n",
       "      <td>ANXIOUS, CONFUSED</td>\n",
       "      <td>9</td>\n",
       "      <td>0</td>\n",
       "      <td>...</td>\n",
       "      <td>0</td>\n",
       "      <td>1</td>\n",
       "      <td>False</td>\n",
       "      <td>False</td>\n",
       "      <td>False</td>\n",
       "      <td>False</td>\n",
       "      <td>False</td>\n",
       "      <td>False</td>\n",
       "      <td>False</td>\n",
       "      <td>False</td>\n",
       "    </tr>\n",
       "  </tbody>\n",
       "</table>\n",
       "<p>5 rows × 44 columns</p>\n",
       "</div>"
      ],
      "text/plain": [
       "            starttime             endtime    date    start      end  \\\n",
       "0 2016-05-02 13:25:00 2016-05-02 13:28:00  5/2/16  1:25 PM  1:28 PM   \n",
       "1 2016-05-02 13:40:00 2016-05-02 00:00:00  5/2/16  1:40 PM      NaN   \n",
       "2 2016-05-02 13:48:00 2016-05-02 13:48:00  5/2/16  1:48 PM  1:48 PM   \n",
       "3 2016-05-02 14:31:00 2016-05-02 14:50:00  5/2/16  2:31 PM  2:50 PM   \n",
       "4 2016-05-02 15:10:00 2016-05-02 15:14:00  5/2/16  3:10 PM  3:14 PM   \n",
       "\n",
       "                                 activity       location         generalemo  \\\n",
       "0                         Trying on watch  Barb's Office            Excited   \n",
       "1                 Editing photos for work  Barb's Office      Streeeeeessed   \n",
       "2       Wafer fit perfectly on top of cup  Barb's Office              HAPPY   \n",
       "3           Sorting through magnetic pins  Barb's Office            Anxious   \n",
       "4  Trying to figure out where photos went  Barb's Office  ANXIOUS, CONFUSED   \n",
       "\n",
       "   qualitative  excited  ...    inthungry  intbored  exercise  thesis  sarah  \\\n",
       "0            8        8  ...            0         1     False   False  False   \n",
       "1            6        0  ...            0         1     False   False  False   \n",
       "2           10       10  ...            0         1     False   False  False   \n",
       "3            5        0  ...            0         1     False   False  False   \n",
       "4            9        0  ...            0         1     False   False  False   \n",
       "\n",
       "    barb    sol  arash   home   work  \n",
       "0  False  False  False  False  False  \n",
       "1  False  False  False  False  False  \n",
       "2  False  False  False  False  False  \n",
       "3  False  False  False  False  False  \n",
       "4  False  False  False  False  False  \n",
       "\n",
       "[5 rows x 44 columns]"
      ]
     },
     "execution_count": 14,
     "metadata": {},
     "output_type": "execute_result"
    }
   ],
   "source": [
    "\n",
    "sallyJournal['boolexcited'] =  sallyJournal['excited'] > 0\n",
    "sallyJournal['boolhappy'] =  sallyJournal['happy'] > 0\n",
    "sallyJournal['boolcalm'] =  sallyJournal['calm'] > 0\n",
    "sallyJournal['boolanxious'] =  sallyJournal['anxious'] > 0\n",
    "sallyJournal['boolsad'] =  sallyJournal['sad'] > 0\n",
    "sallyJournal['boolangry'] =  sallyJournal['angry'] > 0\n",
    "sallyJournal['booltired'] =  sallyJournal['tired'] > 0\n",
    "sallyJournal['boolhungry'] =  sallyJournal['hungry'] > 0\n",
    "sallyJournal['boolbored'] =  sallyJournal['bored'] > 0\n",
    "\n",
    "\n",
    "for i in range(0, sallyJournal.shape[0]):\n",
    "#     sallyJournal['intqual'] = int(sallyJournal.iloc[i, 8])\n",
    "    sallyJournal['intexcited'] = int(sallyJournal.iloc[i, 9])\n",
    "    sallyJournal['inthappy'] = int(sallyJournal.iloc[i, 10]) \n",
    "    sallyJournal['intcalm'] = int(sallyJournal.iloc[i, 11])\n",
    "    sallyJournal['intanxious'] = int(sallyJournal.iloc[i, 12])\n",
    "    sallyJournal['intsad'] = int(sallyJournal.iloc[i, 13]) \n",
    "    sallyJournal['intangry'] = int(sallyJournal.iloc[i, 14]) \n",
    "    sallyJournal['inttired'] = int(sallyJournal.iloc[i, 15]) \n",
    "    sallyJournal['inthungry'] = int(sallyJournal.iloc[i, 16]) \n",
    "    sallyJournal['intbored'] = int(sallyJournal.iloc[i, 17]) \n",
    "    \n",
    "    \n",
    "sallyJournal['exercise'] = sallyJournal['activity'].str.contains('exercise')\n",
    "sallyJournal['thesis'] = sallyJournal['activity'].str.contains('thesis')\n",
    "sallyJournal['sarah'] = sallyJournal['activity'].str.contains('sarah')\n",
    "sallyJournal['barb'] = sallyJournal['activity'].str.contains('barb')\n",
    "sallyJournal['sol'] = sallyJournal['activity'].str.contains('sol')\n",
    "sallyJournal['arash'] = sallyJournal['activity'].str.contains('arash')\n",
    "\n",
    "sallyJournal['home'] = sallyJournal['location'].str.contains('home')\n",
    "sallyJournal['work'] = sallyJournal['location'].str.contains(\"barb's office\")\n",
    "\n",
    "\n",
    "\n",
    "\n",
    "\n",
    "\n",
    "\n",
    "boolexcited = sallyJournal.iloc[:, 18].values.reshape(sallyJournal.shape[0], 1)\n",
    "boolhappy = sallyJournal.iloc[:, 19].values.reshape(sallyJournal.shape[0], 1)\n",
    "boolcalm = sallyJournal.iloc[:, 20].values.reshape(sallyJournal.shape[0], 1)\n",
    "boolanxious = sallyJournal.iloc[:, 21].values.reshape(sallyJournal.shape[0], 1)\n",
    "boolsad = sallyJournal.iloc[:, 22].values.reshape(sallyJournal.shape[0], 1)\n",
    "boolangry = sallyJournal.iloc[:, 23].values.reshape(sallyJournal.shape[0], 1)\n",
    "booltired = sallyJournal.iloc[:, 24].values.reshape(sallyJournal.shape[0], 1)\n",
    "boolhungry = sallyJournal.iloc[:, 25].values.reshape(sallyJournal.shape[0], 1)\n",
    "boolbored = sallyJournal.iloc[:, 26].values.reshape(sallyJournal.shape[0], 1)\n",
    "intexcited = sallyJournal.iloc[:, 27].values.reshape(sallyJournal.shape[0], 1)\n",
    "inthappy = sallyJournal.iloc[:, 28].values.reshape(sallyJournal.shape[0], 1)\n",
    "intcalm = sallyJournal.iloc[:, 29].values.reshape(sallyJournal.shape[0], 1)\n",
    "intanxious = sallyJournal.iloc[:, 30].values.reshape(sallyJournal.shape[0], 1)\n",
    "intsad = sallyJournal.iloc[:, 31].values.reshape(sallyJournal.shape[0], 1)\n",
    "intangry = sallyJournal.iloc[:, 32].values.reshape(sallyJournal.shape[0], 1)\n",
    "inttired = sallyJournal.iloc[:, 33].values.reshape(sallyJournal.shape[0], 1)\n",
    "inthungry = sallyJournal.iloc[:, 34].values.reshape(sallyJournal.shape[0], 1)\n",
    "intbored = sallyJournal.iloc[:, 35].values.reshape(sallyJournal.shape[0], 1)\n",
    "exercise = sallyJournal.iloc[:, 36].values.reshape(sallyJournal.shape[0], 1)\n",
    "thesis = sallyJournal.iloc[:, 37].values.reshape(sallyJournal.shape[0], 1)\n",
    "sarah = sallyJournal.iloc[:, 38].values.reshape(sallyJournal.shape[0], 1)\n",
    "barb = sallyJournal.iloc[:, 39].values.reshape(sallyJournal.shape[0], 1)\n",
    "sol = sallyJournal.iloc[:, 40].values.reshape(sallyJournal.shape[0], 1)\n",
    "arash = sallyJournal.iloc[:, 41].values.reshape(sallyJournal.shape[0], 1)\n",
    "work = sallyJournal.iloc[:, 42].values.reshape(sallyJournal.shape[0], 1)\n",
    "home = sallyJournal.iloc[:, 43].values.reshape(sallyJournal.shape[0], 1)\n",
    "\n",
    "sallyJournal.head(5)"
   ]
  },
  {
   "cell_type": "code",
   "execution_count": 15,
   "metadata": {
    "collapsed": false
   },
   "outputs": [],
   "source": [
    "# barbJournal.dtypes"
   ]
  },
  {
   "cell_type": "code",
   "execution_count": 16,
   "metadata": {
    "collapsed": false
   },
   "outputs": [],
   "source": [
    "# barbJournal.excited.convert_objects(convert_numeric=True)"
   ]
  },
  {
   "cell_type": "code",
   "execution_count": 17,
   "metadata": {
    "collapsed": false
   },
   "outputs": [],
   "source": [
    "# function that takes any journal or activity data and creates indicators for activities or emotions\n",
    "\n",
    "def makeIndicators(newvar, metricData, journalData, journal_startdatetime_loc, journal_enddatetime_loc, journal_activity_loc):\n",
    "    '''\n",
    "    Create boolean indicator variable for activities or emotions\n",
    "    newvar, string for name of new indicator variable\n",
    "    activity, string that matches the name of the activity or emotion in the journalData data frame\n",
    "    bioData, data frame of input biometric data\n",
    "    journalData, data frame of input journal or activity data\n",
    "    journal_startdatetime_loc, int of position of the start datetime in journalData\n",
    "    journal_enddatetime_loc, int of position of the end datetime in journalData\n",
    "    journal_activity_loc, int of position of the activity or emotion in journalData\n",
    "    '''\n",
    "\n",
    "    metricData[newvar] = False\n",
    "\n",
    "    for i in range(0, journalData.shape[0]):\n",
    "        metricData['xlt'] = (metricData['timestamp'] >= pd.to_datetime(journalData.iloc[i, journal_startdatetime_loc]))\n",
    "        metricData['xgt'] = (metricData['timestamp'] <= pd.to_datetime(journalData.iloc[i, journal_enddatetime_loc]))\n",
    "#         metricData['xw'] = (journalData.iloc[i, journal_activity_loc])\n",
    "        metricData['xw'] = (journalData.iloc[i, journal_activity_loc] == True)\n",
    "        metricData['xsum'] = metricData['xlt'].astype(int) + metricData['xgt'].astype(int) + metricData['xw'].astype(int)\n",
    "        metricData.loc[metricData['xsum']==3, newvar] = True\n",
    "    \n",
    "    metricData = metricData.drop(['xlt', 'xgt', 'xw', 'xsum'], axis=1)\n",
    "    return metricData"
   ]
  },
  {
   "cell_type": "code",
   "execution_count": 18,
   "metadata": {
    "collapsed": false
   },
   "outputs": [],
   "source": [
    "# indicator for walking\n",
    "totalData = makeIndicators('excitement', sallyMetrics, sallyJournal, 0, 1, 18)\n",
    "totalData = makeIndicators('happy', sallyMetrics, sallyJournal, 0, 1, 19)\n",
    "totalData = makeIndicators('calm', sallyMetrics, sallyJournal, 0, 1, 20)\n",
    "totalData = makeIndicators('anxious', sallyMetrics, sallyJournal, 0, 1, 21)\n",
    "totalData = makeIndicators('sad', sallyMetrics, sallyJournal, 0, 1, 22)\n",
    "totalData = makeIndicators('angry', sallyMetrics, sallyJournal, 0, 1, 23)\n",
    "totalData = makeIndicators('hungry', sallyMetrics, sallyJournal, 0, 1, 24)\n",
    "totalData = makeIndicators('tired', sallyMetrics, sallyJournal, 0, 1, 25)\n",
    "totalData = makeIndicators('bored', sallyMetrics, sallyJournal, 0, 1, 26)\n",
    "\n",
    "totalData = makeIndicators('exercise', sallyMetrics, sallyJournal, 0, 1, 36)\n",
    "totalData = makeIndicators('thesis', sallyMetrics, sallyJournal, 0, 1, 37)\n",
    "totalData = makeIndicators('sarah', sallyMetrics, sallyJournal, 0, 1, 38)\n",
    "totalData = makeIndicators('barb', sallyMetrics, sallyJournal, 0, 1, 39)\n",
    "totalData = makeIndicators('sol', sallyMetrics, sallyJournal, 0, 1, 40)\n",
    "totalData = makeIndicators('arash', sallyMetrics, sallyJournal, 0, 1, 41)\n",
    "totalData = makeIndicators('work', sallyMetrics, sallyJournal, 0, 1, 42)\n",
    "totalData = makeIndicators('home', sallyMetrics, sallyJournal, 0, 1, 43)"
   ]
  },
  {
   "cell_type": "code",
   "execution_count": 19,
   "metadata": {
    "collapsed": false
   },
   "outputs": [
    {
     "name": "stdout",
     "output_type": "stream",
     "text": [
      "          heartrate         steps      calories           gsr      skintemp  \\\n",
      "count  11520.000000  11520.000000  11520.000000  11520.000000  11520.000000   \n",
      "mean      69.752778      3.829514      1.741179      0.001160     74.834089   \n",
      "std       30.776918     17.035531      1.311452      0.047230     29.865726   \n",
      "min        0.000000      0.000000      0.000000      0.000000      0.000000   \n",
      "25%       62.000000      0.000000      1.200000      0.000052     81.500000   \n",
      "50%       76.000000      0.000000      1.300000      0.000055     86.000000   \n",
      "75%       88.000000      0.000000      1.800000      0.000060     88.700000   \n",
      "max      156.000000    142.000000     11.400000      4.270000     99.500000   \n",
      "\n",
      "            airtemp   excitement       happy       calm    anxious  ...    \\\n",
      "count  11520.000000        11520       11520      11520      11520  ...     \n",
      "mean      72.381589  0.000434028  0.00190972  0.0237847  0.0703125  ...     \n",
      "std       28.967882    0.0208297   0.0436605   0.152384   0.255684  ...     \n",
      "min        0.000000        False       False      False      False  ...     \n",
      "25%       78.800000            0           0          0          0  ...     \n",
      "50%       82.400000            0           0          0          0  ...     \n",
      "75%       86.000000            0           0          0          0  ...     \n",
      "max      100.400000         True        True       True       True  ...     \n",
      "\n",
      "             tired        bored exercise thesis  sarah   barb    sol  arash  \\\n",
      "count        11520        11520    11520  11520  11520  11520  11520  11520   \n",
      "mean   8.68056e-05  8.68056e-05        0      0      0      0      0      0   \n",
      "std     0.00931695   0.00931695        0      0      0      0      0      0   \n",
      "min          False        False    False  False  False  False  False  False   \n",
      "25%              0            0        0      0      0      0      0      0   \n",
      "50%              0            0        0      0      0      0      0      0   \n",
      "75%              0            0        0      0      0      0      0      0   \n",
      "max           True         True    False  False  False  False  False  False   \n",
      "\n",
      "              work   home  \n",
      "count        11520  11520  \n",
      "mean   0.000607639      0  \n",
      "std      0.0246439      0  \n",
      "min          False  False  \n",
      "25%              0      0  \n",
      "50%              0      0  \n",
      "75%              0      0  \n",
      "max           True  False  \n",
      "\n",
      "[8 rows x 23 columns]\n"
     ]
    }
   ],
   "source": [
    "print(totalData.describe())"
   ]
  },
  {
   "cell_type": "code",
   "execution_count": 20,
   "metadata": {
    "collapsed": false
   },
   "outputs": [
    {
     "name": "stdout",
     "output_type": "stream",
     "text": [
      "            timestamp  heartrate  steps  calories  gsr  skintemp  airtemp  \\\n",
      "0 2016-05-02 00:00:00          0      4     1.709    0         0        0   \n",
      "1 2016-05-02 00:01:00          0      4     1.709    0         0        0   \n",
      "2 2016-05-02 00:02:00          0      4     1.709    0         0        0   \n",
      "3 2016-05-02 00:03:00          0      4     1.709    0         0        0   \n",
      "4 2016-05-02 00:04:00          0      4     1.709    0         0        0   \n",
      "\n",
      "  excitement  happy   calm  ...    tired  bored exercise thesis  sarah   barb  \\\n",
      "0      False  False  False  ...    False  False    False  False  False  False   \n",
      "1      False  False  False  ...    False  False    False  False  False  False   \n",
      "2      False  False  False  ...    False  False    False  False  False  False   \n",
      "3      False  False  False  ...    False  False    False  False  False  False   \n",
      "4      False  False  False  ...    False  False    False  False  False  False   \n",
      "\n",
      "     sol  arash   work   home  \n",
      "0  False  False  False  False  \n",
      "1  False  False  False  False  \n",
      "2  False  False  False  False  \n",
      "3  False  False  False  False  \n",
      "4  False  False  False  False  \n",
      "\n",
      "[5 rows x 24 columns]\n"
     ]
    }
   ],
   "source": [
    "print(totalData.head())"
   ]
  },
  {
   "cell_type": "code",
   "execution_count": 21,
   "metadata": {
    "collapsed": false
   },
   "outputs": [],
   "source": [
    "totalData.to_csv('sallyTotal.csv')"
   ]
  },
  {
   "cell_type": "code",
   "execution_count": 22,
   "metadata": {
    "collapsed": false
   },
   "outputs": [
    {
     "data": {
      "text/html": [
       "<div>\n",
       "<table border=\"1\" class=\"dataframe\">\n",
       "  <thead>\n",
       "    <tr style=\"text-align: right;\">\n",
       "      <th></th>\n",
       "      <th>timestamp</th>\n",
       "      <th>heartrate</th>\n",
       "      <th>steps</th>\n",
       "      <th>calories</th>\n",
       "      <th>gsr</th>\n",
       "      <th>skintemp</th>\n",
       "      <th>airtemp</th>\n",
       "      <th>excitement</th>\n",
       "      <th>happy</th>\n",
       "      <th>calm</th>\n",
       "      <th>...</th>\n",
       "      <th>tired</th>\n",
       "      <th>bored</th>\n",
       "      <th>exercise</th>\n",
       "      <th>thesis</th>\n",
       "      <th>sarah</th>\n",
       "      <th>barb</th>\n",
       "      <th>sol</th>\n",
       "      <th>arash</th>\n",
       "      <th>work</th>\n",
       "      <th>home</th>\n",
       "    </tr>\n",
       "  </thead>\n",
       "  <tbody>\n",
       "    <tr>\n",
       "      <th>0</th>\n",
       "      <td>2016-05-02 00:00:00</td>\n",
       "      <td>0</td>\n",
       "      <td>4</td>\n",
       "      <td>1.709</td>\n",
       "      <td>0</td>\n",
       "      <td>0</td>\n",
       "      <td>0</td>\n",
       "      <td>False</td>\n",
       "      <td>False</td>\n",
       "      <td>False</td>\n",
       "      <td>...</td>\n",
       "      <td>False</td>\n",
       "      <td>False</td>\n",
       "      <td>False</td>\n",
       "      <td>False</td>\n",
       "      <td>False</td>\n",
       "      <td>False</td>\n",
       "      <td>False</td>\n",
       "      <td>False</td>\n",
       "      <td>False</td>\n",
       "      <td>False</td>\n",
       "    </tr>\n",
       "    <tr>\n",
       "      <th>1</th>\n",
       "      <td>2016-05-02 00:01:00</td>\n",
       "      <td>0</td>\n",
       "      <td>4</td>\n",
       "      <td>1.709</td>\n",
       "      <td>0</td>\n",
       "      <td>0</td>\n",
       "      <td>0</td>\n",
       "      <td>False</td>\n",
       "      <td>False</td>\n",
       "      <td>False</td>\n",
       "      <td>...</td>\n",
       "      <td>False</td>\n",
       "      <td>False</td>\n",
       "      <td>False</td>\n",
       "      <td>False</td>\n",
       "      <td>False</td>\n",
       "      <td>False</td>\n",
       "      <td>False</td>\n",
       "      <td>False</td>\n",
       "      <td>False</td>\n",
       "      <td>False</td>\n",
       "    </tr>\n",
       "    <tr>\n",
       "      <th>2</th>\n",
       "      <td>2016-05-02 00:02:00</td>\n",
       "      <td>0</td>\n",
       "      <td>4</td>\n",
       "      <td>1.709</td>\n",
       "      <td>0</td>\n",
       "      <td>0</td>\n",
       "      <td>0</td>\n",
       "      <td>False</td>\n",
       "      <td>False</td>\n",
       "      <td>False</td>\n",
       "      <td>...</td>\n",
       "      <td>False</td>\n",
       "      <td>False</td>\n",
       "      <td>False</td>\n",
       "      <td>False</td>\n",
       "      <td>False</td>\n",
       "      <td>False</td>\n",
       "      <td>False</td>\n",
       "      <td>False</td>\n",
       "      <td>False</td>\n",
       "      <td>False</td>\n",
       "    </tr>\n",
       "    <tr>\n",
       "      <th>3</th>\n",
       "      <td>2016-05-02 00:03:00</td>\n",
       "      <td>0</td>\n",
       "      <td>4</td>\n",
       "      <td>1.709</td>\n",
       "      <td>0</td>\n",
       "      <td>0</td>\n",
       "      <td>0</td>\n",
       "      <td>False</td>\n",
       "      <td>False</td>\n",
       "      <td>False</td>\n",
       "      <td>...</td>\n",
       "      <td>False</td>\n",
       "      <td>False</td>\n",
       "      <td>False</td>\n",
       "      <td>False</td>\n",
       "      <td>False</td>\n",
       "      <td>False</td>\n",
       "      <td>False</td>\n",
       "      <td>False</td>\n",
       "      <td>False</td>\n",
       "      <td>False</td>\n",
       "    </tr>\n",
       "    <tr>\n",
       "      <th>4</th>\n",
       "      <td>2016-05-02 00:04:00</td>\n",
       "      <td>0</td>\n",
       "      <td>4</td>\n",
       "      <td>1.709</td>\n",
       "      <td>0</td>\n",
       "      <td>0</td>\n",
       "      <td>0</td>\n",
       "      <td>False</td>\n",
       "      <td>False</td>\n",
       "      <td>False</td>\n",
       "      <td>...</td>\n",
       "      <td>False</td>\n",
       "      <td>False</td>\n",
       "      <td>False</td>\n",
       "      <td>False</td>\n",
       "      <td>False</td>\n",
       "      <td>False</td>\n",
       "      <td>False</td>\n",
       "      <td>False</td>\n",
       "      <td>False</td>\n",
       "      <td>False</td>\n",
       "    </tr>\n",
       "  </tbody>\n",
       "</table>\n",
       "<p>5 rows × 24 columns</p>\n",
       "</div>"
      ],
      "text/plain": [
       "            timestamp  heartrate  steps  calories  gsr  skintemp  airtemp  \\\n",
       "0 2016-05-02 00:00:00          0      4     1.709    0         0        0   \n",
       "1 2016-05-02 00:01:00          0      4     1.709    0         0        0   \n",
       "2 2016-05-02 00:02:00          0      4     1.709    0         0        0   \n",
       "3 2016-05-02 00:03:00          0      4     1.709    0         0        0   \n",
       "4 2016-05-02 00:04:00          0      4     1.709    0         0        0   \n",
       "\n",
       "  excitement  happy   calm  ...    tired  bored exercise thesis  sarah   barb  \\\n",
       "0      False  False  False  ...    False  False    False  False  False  False   \n",
       "1      False  False  False  ...    False  False    False  False  False  False   \n",
       "2      False  False  False  ...    False  False    False  False  False  False   \n",
       "3      False  False  False  ...    False  False    False  False  False  False   \n",
       "4      False  False  False  ...    False  False    False  False  False  False   \n",
       "\n",
       "     sol  arash   work   home  \n",
       "0  False  False  False  False  \n",
       "1  False  False  False  False  \n",
       "2  False  False  False  False  \n",
       "3  False  False  False  False  \n",
       "4  False  False  False  False  \n",
       "\n",
       "[5 rows x 24 columns]"
      ]
     },
     "execution_count": 22,
     "metadata": {},
     "output_type": "execute_result"
    }
   ],
   "source": [
    "totalData.head(5)"
   ]
  },
  {
   "cell_type": "code",
   "execution_count": 23,
   "metadata": {
    "collapsed": false
   },
   "outputs": [
    {
     "name": "stdout",
     "output_type": "stream",
     "text": [
      "(11520, 28)\n",
      "            timestamp  heartrate  steps  calories  gsr  skintemp  airtemp  \\\n",
      "0 2016-05-02 00:00:00          0      4     1.709    0         0        0   \n",
      "1 2016-05-02 00:01:00          0      4     1.709    0         0        0   \n",
      "2 2016-05-02 00:02:00          0      4     1.709    0         0        0   \n",
      "3 2016-05-02 00:03:00          0      4     1.709    0         0        0   \n",
      "4 2016-05-02 00:04:00          0      4     1.709    0         0        0   \n",
      "\n",
      "  excitement  happy   calm ...  sarah   barb    sol  arash   work   home  \\\n",
      "0      False  False  False ...  False  False  False  False  False  False   \n",
      "1      False  False  False ...  False  False  False  False  False  False   \n",
      "2      False  False  False ...  False  False  False  False  False  False   \n",
      "3      False  False  False ...  False  False  False  False  False  False   \n",
      "4      False  False  False ...  False  False  False  False  False  False   \n",
      "\n",
      "  weekday month hour min  \n",
      "0       0     5    0   0  \n",
      "1       0     5    0   1  \n",
      "2       0     5    0   2  \n",
      "3       0     5    0   3  \n",
      "4       0     5    0   4  \n",
      "\n",
      "[5 rows x 28 columns]\n"
     ]
    }
   ],
   "source": [
    "# find day of week (0-6, Mon-Sun)\n",
    "totalData['weekday'] = totalData['timestamp'].dt.weekday\n",
    "totalData['month'] = totalData['timestamp'].dt.month\n",
    "totalData['hour'] = totalData['timestamp'].dt.hour\n",
    "totalData['min'] = totalData['timestamp'].dt.minute\n",
    "\n",
    "\n",
    "print(totalData.shape)\n",
    "print(totalData.head(5))"
   ]
  },
  {
   "cell_type": "code",
   "execution_count": 24,
   "metadata": {
    "collapsed": false
   },
   "outputs": [],
   "source": [
    "heartrate = totalData.iloc[:, 1].values.reshape(totalData.shape[0], 1)\n",
    "steps = totalData.iloc[:, 2].values.reshape(totalData.shape[0], 1)\n",
    "calories = totalData.iloc[:, 3].values.reshape(totalData.shape[0], 1)\n",
    "gsr = totalData.iloc[:, 4].values.reshape(totalData.shape[0], 1)\n",
    "skintemp = totalData.iloc[:, 5].values.reshape(totalData.shape[0], 1)\n",
    "airtemp = totalData.iloc[:, 6].values.reshape(totalData.shape[0], 1)\n",
    "# activity = totalData.iloc[:, 17].values.reshape(totalData.shape[0], 1)\n",
    "exercise = totalData.iloc[:, 17].values.reshape(totalData.shape[0], 1)\n",
    "thesis = totalData.iloc[:, 18].values.reshape(totalData.shape[0], 1)\n",
    "sarah = totalData.iloc[:, 19].values.reshape(totalData.shape[0], 1)\n",
    "barb = totalData.iloc[:, 20].values.reshape(totalData.shape[0], 1)\n",
    "sol = totalData.iloc[:, 21].values.reshape(totalData.shape[0], 1)\n",
    "arash = totalData.iloc[:, 22].values.reshape(totalData.shape[0], 1)\n",
    "work = totalData.iloc[:, 23].values.reshape(totalData.shape[0], 1)\n",
    "home = totalData.iloc[:, 24].values.reshape(totalData.shape[0], 1)\n",
    "# DayOfWeek = totalData.iloc[:, 25].values.reshape(totalData.shape[0], 1)\n",
    "# Month = totalData.iloc[:, 26].values.reshape(totalData.shape[0], 1)\n",
    "weekday = totalData.iloc[:, 25].values.reshape(totalData.shape[0], 1)\n",
    "# month = totalData.iloc[:, 29].values.reshape(totalData.shape[0], 1)\n",
    "hour = totalData.iloc[:, 26].values.reshape(totalData.shape[0], 1)\n",
    "curmin = totalData.iloc[:, 27].values.reshape(totalData.shape[0], 1)"
   ]
  },
  {
   "cell_type": "code",
   "execution_count": 25,
   "metadata": {
    "collapsed": false
   },
   "outputs": [
    {
     "data": {
      "text/plain": [
       "(11520, 9)"
      ]
     },
     "execution_count": 25,
     "metadata": {},
     "output_type": "execute_result"
    }
   ],
   "source": [
    "# concatenate to numpy dataset\n",
    "X = np.concatenate((\n",
    "        heartrate, \n",
    "        steps, \n",
    "        calories, \n",
    "        gsr, \n",
    "        skintemp, \n",
    "        airtemp, \n",
    "#         exercise, \n",
    "#         thesis, \n",
    "#         sarah, \n",
    "#         barb, \n",
    "#         sol, \n",
    "#         arash, \n",
    "#         work, \n",
    "#         home, \n",
    "        weekday, \n",
    "        hour, \n",
    "        curmin\n",
    "    ), axis=1)\n",
    "\n",
    "X.shape"
   ]
  },
  {
   "cell_type": "code",
   "execution_count": 26,
   "metadata": {
    "collapsed": false
   },
   "outputs": [
    {
     "data": {
      "text/plain": [
       "(11520,)"
      ]
     },
     "execution_count": 26,
     "metadata": {},
     "output_type": "execute_result"
    }
   ],
   "source": [
    "# define y\n",
    "y = totalData.excitement.values\n",
    "y.shape"
   ]
  },
  {
   "cell_type": "code",
   "execution_count": 27,
   "metadata": {
    "collapsed": true
   },
   "outputs": [],
   "source": [
    "# create training and test sets\n",
    "from sklearn.cross_validation import train_test_split\n",
    "\n",
    "X_train, X_test, y_train, y_test = train_test_split(\n",
    "         X, y, test_size=0.3, random_state=0)"
   ]
  },
  {
   "cell_type": "code",
   "execution_count": 28,
   "metadata": {
    "collapsed": true
   },
   "outputs": [],
   "source": [
    "# feature scaling\n",
    "from sklearn.preprocessing import StandardScaler\n",
    "sc = StandardScaler(with_mean=False)\n",
    "sc.fit(X_train)\n",
    "X_train_std = sc.transform(X_train)\n",
    "X_test_std = sc.transform(X_test)"
   ]
  },
  {
   "cell_type": "code",
   "execution_count": 29,
   "metadata": {
    "collapsed": true
   },
   "outputs": [],
   "source": [
    "# report on training and test sets\n",
    "global SVMerror, SVMacc, SVMtp, SVMtn, LRerror, LRacc, LRtp, LRtn, NBerror, NBacc, NBtp, NBtn, Perror, Pacc, Ptp, Ptn\n",
    "\n",
    "\n",
    "\n",
    "def print_results(model):\n",
    "    #print('Error rate on training set: ')\n",
    "    erTRAIN = ((y_train != y_pred).sum() / X_train.shape[0])\n",
    "    #print('Accuracy rate on training set: ')\n",
    "    AccTRAIN = (1 - (y_train != y_pred).sum() / X_train.shape[0])\n",
    "    #print('True positive rate on training tet:')\n",
    "    TruPosTRAIN = ((y_train==True) & (y_pred==True)).sum() / y_train.sum()\n",
    "    #TruNegTEST = (((y_train==False) & (y_pred_train==False)).sum() / (y_train.shape[0] - y_train.sum()))\n",
    "    #print('**************')\n",
    "    #('Error rate on test set: ')\n",
    "    erTEST = ((y_test != y_pred_test).sum() / X_test.shape[0])\n",
    "    #print('Accuracy rate on test set: ')\n",
    "    AccTEST = (1 - (y_test != y_pred_test).sum() / X_test.shape[0])\n",
    "    #print('True positive rate on test set')\n",
    "    TruPosTEST = (((y_test==True) & (y_pred_test==True)).sum() / y_test.sum())\n",
    "    #print('True negative rate on test set')\n",
    "    TruNegTEST = (((y_test==False) & (y_pred_test==False)).sum() / (y_test.shape[0] - y_test.sum()))\n",
    "    data_rows = [('Error Rate', erTRAIN, erTEST),\n",
    "                 ('Accuracy Rate', AccTRAIN, AccTEST),\n",
    "                 ('True Positives', TruPosTRAIN, TruPosTEST),\n",
    "                 ('True Negatives', '--', TruNegTEST)]\n",
    "    t = Table(rows=data_rows, names=(model, 'Training Set', 'Test Set'), meta={'name': model + ': Training and Test Set Results'})\n",
    "    print(t)\n",
    "    if model == 'SVM':\n",
    "        SVMerror = erTEST\n",
    "        SVMacc = AccTEST\n",
    "        SVMtp = TruPosTEST\n",
    "        SVMtn = TruNegTEST\n",
    "        return(SVMerror, SVMacc, SVMtp, SVMtn)\n",
    "    elif model == 'Logistic Regression':\n",
    "        LRerror = erTEST\n",
    "        LRacc = AccTEST\n",
    "        LRtp = TruPosTEST\n",
    "        LRtn = TruNegTEST\n",
    "        return(LRerror, LRacc, LRtp, LRtn)\n",
    "    elif model == 'Naive Bayes':\n",
    "        NBerror = erTEST\n",
    "        NBacc = AccTEST\n",
    "        NBtp = TruPosTEST\n",
    "        NBtn = TruNegTEST\n",
    "        return(NBerror, NBacc, NBtp, NBtn)\n",
    "    elif model == 'Perceptron':\n",
    "        Perror = erTEST\n",
    "        Pacc = AccTEST\n",
    "        Ptp = TruPosTEST\n",
    "        Ptn = TruNegTEST\n",
    "        return(Perror, Pacc, Ptp, Ptn)\n",
    "    print('done')\n",
    "      \n",
    "    #t.show_in_browser(jsviewer=True) \n",
    "    \n",
    "    \n",
    "def all_models_table():\n",
    "    all_rows = [('SVM', SVMerror, SVMacc, SVMtp, SVMtn),\n",
    "            ('Logistic Regression', LRerror, LRacc, LRtp, LRtn),\n",
    "            ('Naive Bayes', NBerror, NBacc, NBtp, NBtn),\n",
    "            ('Perceptron', Perror, Pacc, Ptp, Ptn)]\n",
    "    tt = Table(rows=all_rows, names=('', 'Error Rate', 'Accuracy', 'True +', 'True -'), meta={'3/15/2016'})\n",
    "    print(tt)"
   ]
  },
  {
   "cell_type": "markdown",
   "metadata": {},
   "source": [
    "# Excited Model Results"
   ]
  },
  {
   "cell_type": "code",
   "execution_count": 30,
   "metadata": {
    "collapsed": false
   },
   "outputs": [
    {
     "name": "stdout",
     "output_type": "stream",
     "text": [
      "     SVM          Training Set        Test Set    \n",
      "-------------- ----------------- -----------------\n",
      "    Error Rate 0.000496031746032 0.000289351851852\n",
      " Accuracy Rate    0.999503968254    0.999710648148\n",
      "True Positives               0.0               0.0\n",
      "True Negatives                --               1.0\n"
     ]
    },
    {
     "data": {
      "text/plain": [
       "(0.00028935185185185184, 0.99971064814814814, 0.0, 1.0)"
      ]
     },
     "execution_count": 30,
     "metadata": {},
     "output_type": "execute_result"
    }
   ],
   "source": [
    "# MODEL: SVM, linear\n",
    "from sklearn import linear_model\n",
    "clf = linear_model.SGDClassifier()\n",
    "clf.fit(X_train_std, y_train)\n",
    "y_pred = clf.fit(X_train_std, y_train).predict(X_train_std)\n",
    "y_pred_test = clf.predict(X_test_std)\n",
    "print_results('SVM')"
   ]
  },
  {
   "cell_type": "code",
   "execution_count": 31,
   "metadata": {
    "collapsed": false
   },
   "outputs": [
    {
     "name": "stdout",
     "output_type": "stream",
     "text": [
      "Logistic Regression    Training Set       Test Set    \n",
      "------------------- ----------------- ----------------\n",
      "         Error Rate 0.000496031746032 0.00115740740741\n",
      "      Accuracy Rate    0.999503968254   0.998842592593\n",
      "     True Positives               0.0              0.0\n",
      "     True Negatives                --   0.999131693198\n"
     ]
    },
    {
     "data": {
      "text/plain": [
       "(0.0011574074074074073, 0.99884259259259256, 0.0, 0.99913169319826334)"
      ]
     },
     "execution_count": 31,
     "metadata": {},
     "output_type": "execute_result"
    }
   ],
   "source": [
    "# MODEL: logistic regression\n",
    "from sklearn import linear_model\n",
    "clf = linear_model.SGDClassifier(loss='log', n_iter=50, alpha=0.00001)\n",
    "clf.fit(X_train_std, y_train)\n",
    "y_pred = clf.fit(X_train_std, y_train).predict(X_train_std)\n",
    "y_pred_test = clf.predict(X_test_std)\n",
    "print_results('Logistic Regression')"
   ]
  },
  {
   "cell_type": "code",
   "execution_count": 32,
   "metadata": {
    "collapsed": false
   },
   "outputs": [
    {
     "name": "stdout",
     "output_type": "stream",
     "text": [
      " Naive Bayes     Training Set        Test Set    \n",
      "-------------- ---------------- -----------------\n",
      "    Error Rate 0.00111607142857 0.000868055555556\n",
      " Accuracy Rate   0.998883928571    0.999131944444\n",
      "True Positives              0.0               0.0\n",
      "True Negatives               --    0.999421128799\n"
     ]
    },
    {
     "data": {
      "text/plain": [
       "(0.00086805555555555551, 0.99913194444444442, 0.0, 0.99942112879884226)"
      ]
     },
     "execution_count": 32,
     "metadata": {},
     "output_type": "execute_result"
    }
   ],
   "source": [
    "# MODEL: Naive Bayes\n",
    "from sklearn.naive_bayes import MultinomialNB\n",
    "clf = MultinomialNB()\n",
    "clf.fit(X_train_std, y_train)\n",
    "y_pred = clf.fit(X_train_std, y_train).predict(X_train_std)\n",
    "y_pred_test = clf.predict(X_test_std)\n",
    "print_results('Naive Bayes')"
   ]
  },
  {
   "cell_type": "code",
   "execution_count": 33,
   "metadata": {
    "collapsed": false
   },
   "outputs": [
    {
     "name": "stdout",
     "output_type": "stream",
     "text": [
      "  Perceptron      Training Set        Test Set    \n",
      "-------------- ----------------- -----------------\n",
      "    Error Rate 0.000496031746032 0.000289351851852\n",
      " Accuracy Rate    0.999503968254    0.999710648148\n",
      "True Positives               0.0               0.0\n",
      "True Negatives                --               1.0\n"
     ]
    },
    {
     "data": {
      "text/plain": [
       "(0.00028935185185185184, 0.99971064814814814, 0.0, 1.0)"
      ]
     },
     "execution_count": 33,
     "metadata": {},
     "output_type": "execute_result"
    }
   ],
   "source": [
    "# Perceptron\n",
    "from sklearn import linear_model\n",
    "clf = linear_model.SGDClassifier(loss='perceptron')\n",
    "clf.fit(X_train_std, y_train)\n",
    "y_pred = clf.fit(X_train_std, y_train).predict(X_train_std)\n",
    "y_pred_test = clf.predict(X_test_std)\n",
    "print_results('Perceptron')"
   ]
  },
  {
   "cell_type": "code",
   "execution_count": 34,
   "metadata": {
    "collapsed": false
   },
   "outputs": [
    {
     "data": {
      "text/plain": [
       "(11520,)"
      ]
     },
     "execution_count": 34,
     "metadata": {},
     "output_type": "execute_result"
    }
   ],
   "source": [
    "# define y\n",
    "y = totalData.happy.values\n",
    "y.shape"
   ]
  },
  {
   "cell_type": "code",
   "execution_count": 35,
   "metadata": {
    "collapsed": true
   },
   "outputs": [],
   "source": [
    "# create training and test sets\n",
    "from sklearn.cross_validation import train_test_split\n",
    "\n",
    "X_train, X_test, y_train, y_test = train_test_split(\n",
    "         X, y, test_size=0.3, random_state=0)"
   ]
  },
  {
   "cell_type": "code",
   "execution_count": 36,
   "metadata": {
    "collapsed": true
   },
   "outputs": [],
   "source": [
    "# feature scaling\n",
    "from sklearn.preprocessing import StandardScaler\n",
    "sc = StandardScaler(with_mean=False)\n",
    "sc.fit(X_train)\n",
    "X_train_std = sc.transform(X_train)\n",
    "X_test_std = sc.transform(X_test)"
   ]
  },
  {
   "cell_type": "markdown",
   "metadata": {},
   "source": [
    "# Happy Model Results"
   ]
  },
  {
   "cell_type": "code",
   "execution_count": 37,
   "metadata": {
    "collapsed": false
   },
   "outputs": [
    {
     "name": "stdout",
     "output_type": "stream",
     "text": [
      "     SVM         Training Set       Test Set    \n",
      "-------------- ---------------- ----------------\n",
      "    Error Rate 0.00210813492063 0.00144675925926\n",
      " Accuracy Rate   0.997891865079   0.998553240741\n",
      "True Positives              0.0              0.0\n",
      "True Negatives               --              1.0\n"
     ]
    },
    {
     "data": {
      "text/plain": [
       "(0.0014467592592592592, 0.9985532407407407, 0.0, 1.0)"
      ]
     },
     "execution_count": 37,
     "metadata": {},
     "output_type": "execute_result"
    }
   ],
   "source": [
    "# MODEL: SVM, linear\n",
    "from sklearn import linear_model\n",
    "clf = linear_model.SGDClassifier()\n",
    "clf.fit(X_train_std, y_train)\n",
    "y_pred = clf.fit(X_train_std, y_train).predict(X_train_std)\n",
    "y_pred_test = clf.predict(X_test_std)\n",
    "print_results('SVM')"
   ]
  },
  {
   "cell_type": "code",
   "execution_count": 38,
   "metadata": {
    "collapsed": false
   },
   "outputs": [
    {
     "name": "stdout",
     "output_type": "stream",
     "text": [
      "Logistic Regression   Training Set       Test Set    \n",
      "------------------- ---------------- ----------------\n",
      "         Error Rate 0.00210813492063 0.00144675925926\n",
      "      Accuracy Rate   0.997891865079   0.998553240741\n",
      "     True Positives              0.0              0.0\n",
      "     True Negatives               --              1.0\n"
     ]
    },
    {
     "data": {
      "text/plain": [
       "(0.0014467592592592592, 0.9985532407407407, 0.0, 1.0)"
      ]
     },
     "execution_count": 38,
     "metadata": {},
     "output_type": "execute_result"
    }
   ],
   "source": [
    "# MODEL: logistic regression\n",
    "from sklearn import linear_model\n",
    "clf = linear_model.SGDClassifier(loss='log', n_iter=50, alpha=0.00001)\n",
    "clf.fit(X_train_std, y_train)\n",
    "y_pred = clf.fit(X_train_std, y_train).predict(X_train_std)\n",
    "y_pred_test = clf.predict(X_test_std)\n",
    "print_results('Logistic Regression')"
   ]
  },
  {
   "cell_type": "code",
   "execution_count": 39,
   "metadata": {
    "collapsed": false
   },
   "outputs": [
    {
     "name": "stdout",
     "output_type": "stream",
     "text": [
      " Naive Bayes     Training Set      Test Set   \n",
      "-------------- --------------- ---------------\n",
      "    Error Rate 0.0128968253968 0.0127314814815\n",
      " Accuracy Rate  0.987103174603  0.987268518519\n",
      "True Positives 0.0588235294118             0.0\n",
      "True Negatives              --  0.988698927847\n"
     ]
    },
    {
     "data": {
      "text/plain": [
       "(0.012731481481481481, 0.98726851851851849, 0.0, 0.98869892784700086)"
      ]
     },
     "execution_count": 39,
     "metadata": {},
     "output_type": "execute_result"
    }
   ],
   "source": [
    "# MODEL: Naive Bayes\n",
    "from sklearn.naive_bayes import MultinomialNB\n",
    "clf = MultinomialNB()\n",
    "clf.fit(X_train_std, y_train)\n",
    "y_pred = clf.fit(X_train_std, y_train).predict(X_train_std)\n",
    "y_pred_test = clf.predict(X_test_std)\n",
    "print_results('Naive Bayes')"
   ]
  },
  {
   "cell_type": "code",
   "execution_count": 40,
   "metadata": {
    "collapsed": false
   },
   "outputs": [
    {
     "name": "stdout",
     "output_type": "stream",
     "text": [
      "  Perceptron     Training Set      Test Set   \n",
      "-------------- --------------- ---------------\n",
      "    Error Rate 0.0223214285714 0.0248842592593\n",
      " Accuracy Rate  0.977678571429  0.975115740741\n",
      "True Positives 0.0588235294118             0.0\n",
      "True Negatives              --  0.976528542451\n"
     ]
    },
    {
     "data": {
      "text/plain": [
       "(0.024884259259259259, 0.9751157407407407, 0.0, 0.97652854245146337)"
      ]
     },
     "execution_count": 40,
     "metadata": {},
     "output_type": "execute_result"
    }
   ],
   "source": [
    "# Perceptron\n",
    "from sklearn import linear_model\n",
    "clf = linear_model.SGDClassifier(loss='perceptron')\n",
    "clf.fit(X_train_std, y_train)\n",
    "y_pred = clf.fit(X_train_std, y_train).predict(X_train_std)\n",
    "y_pred_test = clf.predict(X_test_std)\n",
    "print_results('Perceptron')"
   ]
  },
  {
   "cell_type": "code",
   "execution_count": 41,
   "metadata": {
    "collapsed": false
   },
   "outputs": [
    {
     "data": {
      "text/plain": [
       "(11520,)"
      ]
     },
     "execution_count": 41,
     "metadata": {},
     "output_type": "execute_result"
    }
   ],
   "source": [
    "# define y\n",
    "y = totalData.calm.values\n",
    "y.shape"
   ]
  },
  {
   "cell_type": "code",
   "execution_count": 42,
   "metadata": {
    "collapsed": true
   },
   "outputs": [],
   "source": [
    "# create training and test sets\n",
    "from sklearn.cross_validation import train_test_split\n",
    "\n",
    "X_train, X_test, y_train, y_test = train_test_split(\n",
    "         X, y, test_size=0.3, random_state=0)"
   ]
  },
  {
   "cell_type": "code",
   "execution_count": 43,
   "metadata": {
    "collapsed": true
   },
   "outputs": [],
   "source": [
    "# feature scaling\n",
    "from sklearn.preprocessing import StandardScaler\n",
    "sc = StandardScaler(with_mean=False)\n",
    "sc.fit(X_train)\n",
    "X_train_std = sc.transform(X_train)\n",
    "X_test_std = sc.transform(X_test)"
   ]
  },
  {
   "cell_type": "markdown",
   "metadata": {},
   "source": [
    "# Calm Model Results"
   ]
  },
  {
   "cell_type": "code",
   "execution_count": 44,
   "metadata": {
    "collapsed": false
   },
   "outputs": [
    {
     "name": "stdout",
     "output_type": "stream",
     "text": [
      "     SVM         Training Set      Test Set   \n",
      "-------------- --------------- ---------------\n",
      "    Error Rate 0.0224454365079 0.0271990740741\n",
      " Accuracy Rate  0.977554563492  0.972800925926\n",
      "True Positives             0.0             0.0\n",
      "True Negatives              --             1.0\n"
     ]
    },
    {
     "data": {
      "text/plain": [
       "(0.027199074074074073, 0.97280092592592593, 0.0, 1.0)"
      ]
     },
     "execution_count": 44,
     "metadata": {},
     "output_type": "execute_result"
    }
   ],
   "source": [
    "# MODEL: SVM, linear\n",
    "from sklearn import linear_model\n",
    "clf = linear_model.SGDClassifier()\n",
    "clf.fit(X_train_std, y_train)\n",
    "y_pred = clf.fit(X_train_std, y_train).predict(X_train_std)\n",
    "y_pred_test = clf.predict(X_test_std)\n",
    "print_results('SVM')"
   ]
  },
  {
   "cell_type": "code",
   "execution_count": 45,
   "metadata": {
    "collapsed": false
   },
   "outputs": [
    {
     "name": "stdout",
     "output_type": "stream",
     "text": [
      "Logistic Regression   Training Set      Test Set   \n",
      "------------------- --------------- ---------------\n",
      "         Error Rate 0.0233134920635 0.0280671296296\n",
      "      Accuracy Rate  0.976686507937   0.97193287037\n",
      "     True Positives             0.0             0.0\n",
      "     True Negatives              --  0.999107674004\n"
     ]
    },
    {
     "data": {
      "text/plain": [
       "(0.028067129629629629, 0.97193287037037035, 0.0, 0.99910767400356926)"
      ]
     },
     "execution_count": 45,
     "metadata": {},
     "output_type": "execute_result"
    }
   ],
   "source": [
    "# MODEL: logistic regression\n",
    "from sklearn import linear_model\n",
    "clf = linear_model.SGDClassifier(loss='log', n_iter=50, alpha=0.00001)\n",
    "clf.fit(X_train_std, y_train)\n",
    "y_pred = clf.fit(X_train_std, y_train).predict(X_train_std)\n",
    "y_pred_test = clf.predict(X_test_std)\n",
    "print_results('Logistic Regression')"
   ]
  },
  {
   "cell_type": "code",
   "execution_count": 46,
   "metadata": {
    "collapsed": false
   },
   "outputs": [
    {
     "name": "stdout",
     "output_type": "stream",
     "text": [
      " Naive Bayes     Training Set      Test Set   \n",
      "-------------- --------------- ---------------\n",
      "    Error Rate 0.0411706349206  0.044849537037\n",
      " Accuracy Rate  0.958829365079  0.955150462963\n",
      "True Positives 0.0666666666667 0.0531914893617\n",
      "True Negatives              --  0.980368828079\n"
     ]
    },
    {
     "data": {
      "text/plain": [
       "(0.044849537037037035,\n",
       " 0.95515046296296302,\n",
       " 0.053191489361702128,\n",
       " 0.98036882807852466)"
      ]
     },
     "execution_count": 46,
     "metadata": {},
     "output_type": "execute_result"
    }
   ],
   "source": [
    "# MODEL: Naive Bayes\n",
    "from sklearn.naive_bayes import MultinomialNB\n",
    "clf = MultinomialNB()\n",
    "clf.fit(X_train_std, y_train)\n",
    "y_pred = clf.fit(X_train_std, y_train).predict(X_train_std)\n",
    "y_pred_test = clf.predict(X_test_std)\n",
    "print_results('Naive Bayes')"
   ]
  },
  {
   "cell_type": "code",
   "execution_count": 47,
   "metadata": {
    "collapsed": false
   },
   "outputs": [
    {
     "name": "stdout",
     "output_type": "stream",
     "text": [
      "  Perceptron     Training Set      Test Set   \n",
      "-------------- --------------- ---------------\n",
      "    Error Rate 0.0481150793651 0.0549768518519\n",
      " Accuracy Rate  0.951884920635  0.945023148148\n",
      "True Positives  0.116666666667 0.0957446808511\n",
      "True Negatives              --  0.968768590125\n"
     ]
    },
    {
     "data": {
      "text/plain": [
       "(0.054976851851851853,\n",
       " 0.94502314814814814,\n",
       " 0.095744680851063829,\n",
       " 0.96876859012492567)"
      ]
     },
     "execution_count": 47,
     "metadata": {},
     "output_type": "execute_result"
    }
   ],
   "source": [
    "# Perceptron\n",
    "from sklearn import linear_model\n",
    "clf = linear_model.SGDClassifier(loss='perceptron')\n",
    "clf.fit(X_train_std, y_train)\n",
    "y_pred = clf.fit(X_train_std, y_train).predict(X_train_std)\n",
    "y_pred_test = clf.predict(X_test_std)\n",
    "print_results('Perceptron')"
   ]
  },
  {
   "cell_type": "code",
   "execution_count": 48,
   "metadata": {
    "collapsed": false
   },
   "outputs": [
    {
     "data": {
      "text/plain": [
       "(11520,)"
      ]
     },
     "execution_count": 48,
     "metadata": {},
     "output_type": "execute_result"
    }
   ],
   "source": [
    "# define y\n",
    "y = totalData.anxious.values\n",
    "y.shape"
   ]
  },
  {
   "cell_type": "code",
   "execution_count": 49,
   "metadata": {
    "collapsed": true
   },
   "outputs": [],
   "source": [
    "# create training and test sets\n",
    "from sklearn.cross_validation import train_test_split\n",
    "\n",
    "X_train, X_test, y_train, y_test = train_test_split(\n",
    "         X, y, test_size=0.3, random_state=0)"
   ]
  },
  {
   "cell_type": "code",
   "execution_count": 50,
   "metadata": {
    "collapsed": true
   },
   "outputs": [],
   "source": [
    "# feature scaling\n",
    "from sklearn.preprocessing import StandardScaler\n",
    "sc = StandardScaler(with_mean=False)\n",
    "sc.fit(X_train)\n",
    "X_train_std = sc.transform(X_train)\n",
    "X_test_std = sc.transform(X_test)"
   ]
  },
  {
   "cell_type": "markdown",
   "metadata": {},
   "source": [
    "# Anxious Model Results"
   ]
  },
  {
   "cell_type": "code",
   "execution_count": 51,
   "metadata": {
    "collapsed": false
   },
   "outputs": [
    {
     "name": "stdout",
     "output_type": "stream",
     "text": [
      "     SVM         Training Set     Test Set   \n",
      "-------------- --------------- --------------\n",
      "    Error Rate 0.0951140873016 0.100115740741\n",
      " Accuracy Rate  0.904885912698 0.899884259259\n",
      "True Positives  0.228070175439          0.175\n",
      "True Negatives              -- 0.953980099502\n"
     ]
    },
    {
     "data": {
      "text/plain": [
       "(0.10011574074074074,\n",
       " 0.8998842592592593,\n",
       " 0.17499999999999999,\n",
       " 0.95398009950248752)"
      ]
     },
     "execution_count": 51,
     "metadata": {},
     "output_type": "execute_result"
    }
   ],
   "source": [
    "# MODEL: SVM, linear\n",
    "from sklearn import linear_model\n",
    "clf = linear_model.SGDClassifier()\n",
    "clf.fit(X_train_std, y_train)\n",
    "y_pred = clf.fit(X_train_std, y_train).predict(X_train_std)\n",
    "y_pred_test = clf.predict(X_test_std)\n",
    "print_results('SVM')"
   ]
  },
  {
   "cell_type": "code",
   "execution_count": 52,
   "metadata": {
    "collapsed": false
   },
   "outputs": [
    {
     "name": "stdout",
     "output_type": "stream",
     "text": [
      "Logistic Regression   Training Set      Test Set   \n",
      "------------------- ---------------- --------------\n",
      "         Error Rate  0.0721726190476      0.0703125\n",
      "      Accuracy Rate   0.927827380952      0.9296875\n",
      "     True Positives 0.00175438596491            0.0\n",
      "     True Negatives               -- 0.999067164179\n"
     ]
    },
    {
     "data": {
      "text/plain": [
       "(0.0703125, 0.9296875, 0.0, 0.99906716417910446)"
      ]
     },
     "execution_count": 52,
     "metadata": {},
     "output_type": "execute_result"
    }
   ],
   "source": [
    "# MODEL: logistic regression\n",
    "from sklearn import linear_model\n",
    "clf = linear_model.SGDClassifier(loss='log', n_iter=50, alpha=0.00001)\n",
    "clf.fit(X_train_std, y_train)\n",
    "y_pred = clf.fit(X_train_std, y_train).predict(X_train_std)\n",
    "y_pred_test = clf.predict(X_test_std)\n",
    "print_results('Logistic Regression')"
   ]
  },
  {
   "cell_type": "code",
   "execution_count": 53,
   "metadata": {
    "collapsed": false
   },
   "outputs": [
    {
     "name": "stdout",
     "output_type": "stream",
     "text": [
      " Naive Bayes     Training Set      Test Set   \n",
      "-------------- --------------- ---------------\n",
      "    Error Rate 0.0706845238095 0.0694444444444\n",
      " Accuracy Rate   0.92931547619  0.930555555556\n",
      "True Positives             0.0             0.0\n",
      "True Negatives              --             1.0\n"
     ]
    },
    {
     "data": {
      "text/plain": [
       "(0.069444444444444448, 0.93055555555555558, 0.0, 1.0)"
      ]
     },
     "execution_count": 53,
     "metadata": {},
     "output_type": "execute_result"
    }
   ],
   "source": [
    "# MODEL: Naive Bayes\n",
    "from sklearn.naive_bayes import MultinomialNB\n",
    "clf = MultinomialNB()\n",
    "clf.fit(X_train_std, y_train)\n",
    "y_pred = clf.fit(X_train_std, y_train).predict(X_train_std)\n",
    "y_pred_test = clf.predict(X_test_std)\n",
    "print_results('Naive Bayes')"
   ]
  },
  {
   "cell_type": "code",
   "execution_count": 54,
   "metadata": {
    "collapsed": false
   },
   "outputs": [
    {
     "name": "stdout",
     "output_type": "stream",
     "text": [
      "  Perceptron     Training Set      Test Set    \n",
      "-------------- --------------- ----------------\n",
      "    Error Rate 0.0730406746032  0.0726273148148\n",
      " Accuracy Rate  0.926959325397   0.927372685185\n",
      "True Positives 0.0228070175439 0.00833333333333\n",
      "True Negatives              --   0.995957711443\n"
     ]
    },
    {
     "data": {
      "text/plain": [
       "(0.072627314814814811,\n",
       " 0.92737268518518523,\n",
       " 0.0083333333333333332,\n",
       " 0.99595771144278611)"
      ]
     },
     "execution_count": 54,
     "metadata": {},
     "output_type": "execute_result"
    }
   ],
   "source": [
    "# Perceptron\n",
    "from sklearn import linear_model\n",
    "clf = linear_model.SGDClassifier(loss='perceptron')\n",
    "clf.fit(X_train_std, y_train)\n",
    "y_pred = clf.fit(X_train_std, y_train).predict(X_train_std)\n",
    "y_pred_test = clf.predict(X_test_std)\n",
    "print_results('Perceptron')"
   ]
  },
  {
   "cell_type": "code",
   "execution_count": 55,
   "metadata": {
    "collapsed": false
   },
   "outputs": [
    {
     "data": {
      "text/plain": [
       "(11520,)"
      ]
     },
     "execution_count": 55,
     "metadata": {},
     "output_type": "execute_result"
    }
   ],
   "source": [
    "# define y\n",
    "y = totalData.sad.values\n",
    "y.shape"
   ]
  },
  {
   "cell_type": "code",
   "execution_count": 56,
   "metadata": {
    "collapsed": true
   },
   "outputs": [],
   "source": [
    "# create training and test sets\n",
    "from sklearn.cross_validation import train_test_split\n",
    "\n",
    "X_train, X_test, y_train, y_test = train_test_split(\n",
    "         X, y, test_size=0.3, random_state=0)"
   ]
  },
  {
   "cell_type": "code",
   "execution_count": 57,
   "metadata": {
    "collapsed": true
   },
   "outputs": [],
   "source": [
    "# feature scaling\n",
    "from sklearn.preprocessing import StandardScaler\n",
    "sc = StandardScaler(with_mean=False)\n",
    "sc.fit(X_train)\n",
    "X_train_std = sc.transform(X_train)\n",
    "X_test_std = sc.transform(X_test)"
   ]
  },
  {
   "cell_type": "markdown",
   "metadata": {},
   "source": [
    "# Sad Model Values"
   ]
  },
  {
   "cell_type": "code",
   "execution_count": 58,
   "metadata": {
    "collapsed": false
   },
   "outputs": [
    {
     "name": "stdout",
     "output_type": "stream",
     "text": [
      "     SVM          Training Set   Test Set\n",
      "-------------- ----------------- --------\n",
      "    Error Rate 0.000124007936508      0.0\n",
      " Accuracy Rate    0.999875992063      1.0\n",
      "True Positives               0.0      nan\n",
      "True Negatives                --      1.0\n"
     ]
    },
    {
     "data": {
      "text/plain": [
       "(0.0, 1.0, nan, 1.0)"
      ]
     },
     "execution_count": 58,
     "metadata": {},
     "output_type": "execute_result"
    }
   ],
   "source": [
    "# MODEL: SVM, linear\n",
    "from sklearn import linear_model\n",
    "clf = linear_model.SGDClassifier()\n",
    "clf.fit(X_train_std, y_train)\n",
    "y_pred = clf.fit(X_train_std, y_train).predict(X_train_std)\n",
    "y_pred_test = clf.predict(X_test_std)\n",
    "print_results('SVM')"
   ]
  },
  {
   "cell_type": "code",
   "execution_count": 59,
   "metadata": {
    "collapsed": false
   },
   "outputs": [
    {
     "name": "stdout",
     "output_type": "stream",
     "text": [
      "Logistic Regression    Training Set   Test Set\n",
      "------------------- ----------------- --------\n",
      "         Error Rate 0.000124007936508      0.0\n",
      "      Accuracy Rate    0.999875992063      1.0\n",
      "     True Positives               0.0      nan\n",
      "     True Negatives                --      1.0\n"
     ]
    },
    {
     "data": {
      "text/plain": [
       "(0.0, 1.0, nan, 1.0)"
      ]
     },
     "execution_count": 59,
     "metadata": {},
     "output_type": "execute_result"
    }
   ],
   "source": [
    "# MODEL: logistic regression\n",
    "from sklearn import linear_model\n",
    "clf = linear_model.SGDClassifier(loss='log', n_iter=50, alpha=0.00001)\n",
    "clf.fit(X_train_std, y_train)\n",
    "y_pred = clf.fit(X_train_std, y_train).predict(X_train_std)\n",
    "y_pred_test = clf.predict(X_test_std)\n",
    "print_results('Logistic Regression')"
   ]
  },
  {
   "cell_type": "code",
   "execution_count": 60,
   "metadata": {
    "collapsed": false
   },
   "outputs": [
    {
     "name": "stdout",
     "output_type": "stream",
     "text": [
      " Naive Bayes     Training Set        Test Set    \n",
      "-------------- ---------------- -----------------\n",
      "    Error Rate 0.00124007936508 0.000578703703704\n",
      " Accuracy Rate   0.998759920635    0.999421296296\n",
      "True Positives              0.0               nan\n",
      "True Negatives               --    0.999421296296\n"
     ]
    },
    {
     "data": {
      "text/plain": [
       "(0.00057870370370370367, 0.99942129629629628, nan, 0.99942129629629628)"
      ]
     },
     "execution_count": 60,
     "metadata": {},
     "output_type": "execute_result"
    }
   ],
   "source": [
    "# MODEL: Naive Bayes\n",
    "from sklearn.naive_bayes import MultinomialNB\n",
    "clf = MultinomialNB()\n",
    "clf.fit(X_train_std, y_train)\n",
    "y_pred = clf.fit(X_train_std, y_train).predict(X_train_std)\n",
    "y_pred_test = clf.predict(X_test_std)\n",
    "print_results('Naive Bayes')"
   ]
  },
  {
   "cell_type": "code",
   "execution_count": 61,
   "metadata": {
    "collapsed": false
   },
   "outputs": [
    {
     "name": "stdout",
     "output_type": "stream",
     "text": [
      "  Perceptron      Training Set   Test Set\n",
      "-------------- ----------------- --------\n",
      "    Error Rate 0.000124007936508      0.0\n",
      " Accuracy Rate    0.999875992063      1.0\n",
      "True Positives               0.0      nan\n",
      "True Negatives                --      1.0\n"
     ]
    },
    {
     "data": {
      "text/plain": [
       "(0.0, 1.0, nan, 1.0)"
      ]
     },
     "execution_count": 61,
     "metadata": {},
     "output_type": "execute_result"
    }
   ],
   "source": [
    "# Perceptron\n",
    "from sklearn import linear_model\n",
    "clf = linear_model.SGDClassifier(loss='perceptron')\n",
    "clf.fit(X_train_std, y_train)\n",
    "y_pred = clf.fit(X_train_std, y_train).predict(X_train_std)\n",
    "y_pred_test = clf.predict(X_test_std)\n",
    "print_results('Perceptron')"
   ]
  },
  {
   "cell_type": "code",
   "execution_count": 62,
   "metadata": {
    "collapsed": false
   },
   "outputs": [
    {
     "data": {
      "text/plain": [
       "(11520,)"
      ]
     },
     "execution_count": 62,
     "metadata": {},
     "output_type": "execute_result"
    }
   ],
   "source": [
    "# define y\n",
    "y = totalData.angry.values\n",
    "y.shape"
   ]
  },
  {
   "cell_type": "code",
   "execution_count": 63,
   "metadata": {
    "collapsed": true
   },
   "outputs": [],
   "source": [
    "# create training and test sets\n",
    "from sklearn.cross_validation import train_test_split\n",
    "\n",
    "X_train, X_test, y_train, y_test = train_test_split(\n",
    "         X, y, test_size=0.3, random_state=0)"
   ]
  },
  {
   "cell_type": "code",
   "execution_count": 64,
   "metadata": {
    "collapsed": true
   },
   "outputs": [],
   "source": [
    "# feature scaling\n",
    "from sklearn.preprocessing import StandardScaler\n",
    "sc = StandardScaler(with_mean=False)\n",
    "sc.fit(X_train)\n",
    "X_train_std = sc.transform(X_train)\n",
    "X_test_std = sc.transform(X_test)"
   ]
  },
  {
   "cell_type": "markdown",
   "metadata": {},
   "source": [
    "# Angry Model Results"
   ]
  },
  {
   "cell_type": "code",
   "execution_count": 65,
   "metadata": {
    "collapsed": false
   },
   "outputs": [
    {
     "name": "stdout",
     "output_type": "stream",
     "text": [
      "     SVM         Training Set       Test Set    \n",
      "-------------- ---------------- ----------------\n",
      "    Error Rate 0.00508432539683 0.00376157407407\n",
      " Accuracy Rate   0.994915674603   0.996238425926\n",
      "True Positives              0.0              0.0\n",
      "True Negatives               --              1.0\n"
     ]
    },
    {
     "data": {
      "text/plain": [
       "(0.0037615740740740739, 0.99623842592592593, 0.0, 1.0)"
      ]
     },
     "execution_count": 65,
     "metadata": {},
     "output_type": "execute_result"
    }
   ],
   "source": [
    "# MODEL: SVM, linear\n",
    "from sklearn import linear_model\n",
    "clf = linear_model.SGDClassifier()\n",
    "clf.fit(X_train_std, y_train)\n",
    "y_pred = clf.fit(X_train_std, y_train).predict(X_train_std)\n",
    "y_pred_test = clf.predict(X_test_std)\n",
    "print_results('SVM')"
   ]
  },
  {
   "cell_type": "code",
   "execution_count": 66,
   "metadata": {
    "collapsed": false
   },
   "outputs": [
    {
     "name": "stdout",
     "output_type": "stream",
     "text": [
      "Logistic Regression   Training Set       Test Set    \n",
      "------------------- ---------------- ----------------\n",
      "         Error Rate 0.00520833333333 0.00376157407407\n",
      "      Accuracy Rate   0.994791666667   0.996238425926\n",
      "     True Positives              0.0              0.0\n",
      "     True Negatives               --              1.0\n"
     ]
    },
    {
     "data": {
      "text/plain": [
       "(0.0037615740740740739, 0.99623842592592593, 0.0, 1.0)"
      ]
     },
     "execution_count": 66,
     "metadata": {},
     "output_type": "execute_result"
    }
   ],
   "source": [
    "# MODEL: logistic regression\n",
    "from sklearn import linear_model\n",
    "clf = linear_model.SGDClassifier(loss='log', n_iter=50, alpha=0.00001)\n",
    "clf.fit(X_train_std, y_train)\n",
    "y_pred = clf.fit(X_train_std, y_train).predict(X_train_std)\n",
    "y_pred_test = clf.predict(X_test_std)\n",
    "print_results('Logistic Regression')"
   ]
  },
  {
   "cell_type": "code",
   "execution_count": 67,
   "metadata": {
    "collapsed": false
   },
   "outputs": [
    {
     "name": "stdout",
     "output_type": "stream",
     "text": [
      " Naive Bayes     Training Set       Test Set    \n",
      "-------------- ---------------- ----------------\n",
      "    Error Rate 0.00508432539683 0.00376157407407\n",
      " Accuracy Rate   0.994915674603   0.996238425926\n",
      "True Positives              0.0              0.0\n",
      "True Negatives               --              1.0\n"
     ]
    },
    {
     "data": {
      "text/plain": [
       "(0.0037615740740740739, 0.99623842592592593, 0.0, 1.0)"
      ]
     },
     "execution_count": 67,
     "metadata": {},
     "output_type": "execute_result"
    }
   ],
   "source": [
    "# MODEL: Naive Bayes\n",
    "from sklearn.naive_bayes import MultinomialNB\n",
    "clf = MultinomialNB()\n",
    "clf.fit(X_train_std, y_train)\n",
    "y_pred = clf.fit(X_train_std, y_train).predict(X_train_std)\n",
    "y_pred_test = clf.predict(X_test_std)\n",
    "print_results('Naive Bayes')"
   ]
  },
  {
   "cell_type": "code",
   "execution_count": 68,
   "metadata": {
    "collapsed": false
   },
   "outputs": [
    {
     "name": "stdout",
     "output_type": "stream",
     "text": [
      "  Perceptron     Training Set       Test Set    \n",
      "-------------- ---------------- ----------------\n",
      "    Error Rate 0.00508432539683 0.00376157407407\n",
      " Accuracy Rate   0.994915674603   0.996238425926\n",
      "True Positives              0.0              0.0\n",
      "True Negatives               --              1.0\n"
     ]
    },
    {
     "data": {
      "text/plain": [
       "(0.0037615740740740739, 0.99623842592592593, 0.0, 1.0)"
      ]
     },
     "execution_count": 68,
     "metadata": {},
     "output_type": "execute_result"
    }
   ],
   "source": [
    "# Perceptron\n",
    "from sklearn import linear_model\n",
    "clf = linear_model.SGDClassifier(loss='perceptron')\n",
    "clf.fit(X_train_std, y_train)\n",
    "y_pred = clf.fit(X_train_std, y_train).predict(X_train_std)\n",
    "y_pred_test = clf.predict(X_test_std)\n",
    "print_results('Perceptron')"
   ]
  },
  {
   "cell_type": "code",
   "execution_count": 69,
   "metadata": {
    "collapsed": false
   },
   "outputs": [
    {
     "data": {
      "text/plain": [
       "(11520,)"
      ]
     },
     "execution_count": 69,
     "metadata": {},
     "output_type": "execute_result"
    }
   ],
   "source": [
    "# define y\n",
    "y = totalData.hungry.values\n",
    "y.shape"
   ]
  },
  {
   "cell_type": "code",
   "execution_count": 70,
   "metadata": {
    "collapsed": true
   },
   "outputs": [],
   "source": [
    "# create training and test sets\n",
    "from sklearn.cross_validation import train_test_split\n",
    "\n",
    "X_train, X_test, y_train, y_test = train_test_split(\n",
    "         X, y, test_size=0.3, random_state=0)"
   ]
  },
  {
   "cell_type": "code",
   "execution_count": 71,
   "metadata": {
    "collapsed": true
   },
   "outputs": [],
   "source": [
    "# feature scaling\n",
    "from sklearn.preprocessing import StandardScaler\n",
    "sc = StandardScaler(with_mean=False)\n",
    "sc.fit(X_train)\n",
    "X_train_std = sc.transform(X_train)\n",
    "X_test_std = sc.transform(X_test)"
   ]
  },
  {
   "cell_type": "markdown",
   "metadata": {},
   "source": [
    "# Hungry Model Results"
   ]
  },
  {
   "cell_type": "code",
   "execution_count": 72,
   "metadata": {
    "collapsed": false
   },
   "outputs": [
    {
     "name": "stdout",
     "output_type": "stream",
     "text": [
      "     SVM        Training Set     Test Set   \n",
      "-------------- -------------- --------------\n",
      "    Error Rate 0.497395833333 0.510127314815\n",
      " Accuracy Rate 0.502604166667 0.489872685185\n",
      "True Positives 0.824953445065 0.823008849558\n",
      "True Negatives             -- 0.466563467492\n"
     ]
    },
    {
     "data": {
      "text/plain": [
       "(0.51012731481481477,\n",
       " 0.48987268518518523,\n",
       " 0.82300884955752207,\n",
       " 0.46656346749226008)"
      ]
     },
     "execution_count": 72,
     "metadata": {},
     "output_type": "execute_result"
    }
   ],
   "source": [
    "# MODEL: SVM, linear\n",
    "from sklearn import linear_model\n",
    "clf = linear_model.SGDClassifier()\n",
    "clf.fit(X_train_std, y_train)\n",
    "y_pred = clf.fit(X_train_std, y_train).predict(X_train_std)\n",
    "y_pred_test = clf.predict(X_test_std)\n",
    "print_results('SVM')"
   ]
  },
  {
   "cell_type": "code",
   "execution_count": 73,
   "metadata": {
    "collapsed": false
   },
   "outputs": [
    {
     "name": "stdout",
     "output_type": "stream",
     "text": [
      "Logistic Regression   Training Set      Test Set   \n",
      "------------------- --------------- ---------------\n",
      "         Error Rate 0.0780009920635 0.0763888888889\n",
      "      Accuracy Rate  0.921999007937  0.923611111111\n",
      "     True Positives  0.143389199255  0.110619469027\n",
      "     True Negatives              --  0.980495356037\n"
     ]
    },
    {
     "data": {
      "text/plain": [
       "(0.076388888888888895,\n",
       " 0.92361111111111116,\n",
       " 0.11061946902654868,\n",
       " 0.98049535603715166)"
      ]
     },
     "execution_count": 73,
     "metadata": {},
     "output_type": "execute_result"
    }
   ],
   "source": [
    "# MODEL: logistic regression\n",
    "from sklearn import linear_model\n",
    "clf = linear_model.SGDClassifier(loss='log', n_iter=50, alpha=0.00001)\n",
    "clf.fit(X_train_std, y_train)\n",
    "y_pred = clf.fit(X_train_std, y_train).predict(X_train_std)\n",
    "y_pred_test = clf.predict(X_test_std)\n",
    "print_results('Logistic Regression')"
   ]
  },
  {
   "cell_type": "code",
   "execution_count": 74,
   "metadata": {
    "collapsed": false
   },
   "outputs": [
    {
     "name": "stdout",
     "output_type": "stream",
     "text": [
      " Naive Bayes     Training Set       Test Set   \n",
      "-------------- ---------------- ---------------\n",
      "    Error Rate  0.0664682539683 0.0656828703704\n",
      " Accuracy Rate   0.933531746032   0.93431712963\n",
      "True Positives 0.00186219739292             0.0\n",
      "True Negatives               --  0.999690402477\n"
     ]
    },
    {
     "data": {
      "text/plain": [
       "(0.065682870370370364, 0.93431712962962965, 0.0, 0.9996904024767802)"
      ]
     },
     "execution_count": 74,
     "metadata": {},
     "output_type": "execute_result"
    }
   ],
   "source": [
    "# MODEL: Naive Bayes\n",
    "from sklearn.naive_bayes import MultinomialNB\n",
    "clf = MultinomialNB()\n",
    "clf.fit(X_train_std, y_train)\n",
    "y_pred = clf.fit(X_train_std, y_train).predict(X_train_std)\n",
    "y_pred_test = clf.predict(X_test_std)\n",
    "print_results('Naive Bayes')"
   ]
  },
  {
   "cell_type": "code",
   "execution_count": 75,
   "metadata": {
    "collapsed": false
   },
   "outputs": [
    {
     "name": "stdout",
     "output_type": "stream",
     "text": [
      "  Perceptron     Training Set      Test Set   \n",
      "-------------- --------------- ---------------\n",
      "    Error Rate 0.0678323412698 0.0656828703704\n",
      " Accuracy Rate   0.93216765873   0.93431712963\n",
      "True Positives             0.0             0.0\n",
      "True Negatives              --  0.999690402477\n"
     ]
    },
    {
     "data": {
      "text/plain": [
       "(0.065682870370370364, 0.93431712962962965, 0.0, 0.9996904024767802)"
      ]
     },
     "execution_count": 75,
     "metadata": {},
     "output_type": "execute_result"
    }
   ],
   "source": [
    "# Perceptron\n",
    "from sklearn import linear_model\n",
    "clf = linear_model.SGDClassifier(loss='perceptron')\n",
    "clf.fit(X_train_std, y_train)\n",
    "y_pred = clf.fit(X_train_std, y_train).predict(X_train_std)\n",
    "y_pred_test = clf.predict(X_test_std)\n",
    "print_results('Perceptron')"
   ]
  },
  {
   "cell_type": "code",
   "execution_count": 76,
   "metadata": {
    "collapsed": false
   },
   "outputs": [
    {
     "data": {
      "text/plain": [
       "(11520,)"
      ]
     },
     "execution_count": 76,
     "metadata": {},
     "output_type": "execute_result"
    }
   ],
   "source": [
    "# define y\n",
    "y = totalData.tired.values\n",
    "y.shape"
   ]
  },
  {
   "cell_type": "code",
   "execution_count": 77,
   "metadata": {
    "collapsed": true
   },
   "outputs": [],
   "source": [
    "# create training and test sets\n",
    "from sklearn.cross_validation import train_test_split\n",
    "\n",
    "X_train, X_test, y_train, y_test = train_test_split(\n",
    "         X, y, test_size=0.3, random_state=0)"
   ]
  },
  {
   "cell_type": "code",
   "execution_count": 78,
   "metadata": {
    "collapsed": true
   },
   "outputs": [],
   "source": [
    "# feature scaling\n",
    "from sklearn.preprocessing import StandardScaler\n",
    "sc = StandardScaler(with_mean=False)\n",
    "sc.fit(X_train)\n",
    "X_train_std = sc.transform(X_train)\n",
    "X_test_std = sc.transform(X_test)"
   ]
  },
  {
   "cell_type": "markdown",
   "metadata": {},
   "source": [
    "# Tired Model Results"
   ]
  },
  {
   "cell_type": "code",
   "execution_count": 79,
   "metadata": {
    "collapsed": false
   },
   "outputs": [
    {
     "name": "stdout",
     "output_type": "stream",
     "text": [
      "     SVM          Training Set   Test Set\n",
      "-------------- ----------------- --------\n",
      "    Error Rate 0.000124007936508      0.0\n",
      " Accuracy Rate    0.999875992063      1.0\n",
      "True Positives               0.0      nan\n",
      "True Negatives                --      1.0\n"
     ]
    },
    {
     "data": {
      "text/plain": [
       "(0.0, 1.0, nan, 1.0)"
      ]
     },
     "execution_count": 79,
     "metadata": {},
     "output_type": "execute_result"
    }
   ],
   "source": [
    "# MODEL: SVM, linear\n",
    "from sklearn import linear_model\n",
    "clf = linear_model.SGDClassifier()\n",
    "clf.fit(X_train_std, y_train)\n",
    "y_pred = clf.fit(X_train_std, y_train).predict(X_train_std)\n",
    "y_pred_test = clf.predict(X_test_std)\n",
    "print_results('SVM')"
   ]
  },
  {
   "cell_type": "code",
   "execution_count": 80,
   "metadata": {
    "collapsed": false
   },
   "outputs": [
    {
     "name": "stdout",
     "output_type": "stream",
     "text": [
      "Logistic Regression    Training Set   Test Set\n",
      "------------------- ----------------- --------\n",
      "         Error Rate 0.000124007936508      0.0\n",
      "      Accuracy Rate    0.999875992063      1.0\n",
      "     True Positives               0.0      nan\n",
      "     True Negatives                --      1.0\n"
     ]
    },
    {
     "data": {
      "text/plain": [
       "(0.0, 1.0, nan, 1.0)"
      ]
     },
     "execution_count": 80,
     "metadata": {},
     "output_type": "execute_result"
    }
   ],
   "source": [
    "# MODEL: logistic regression\n",
    "from sklearn import linear_model\n",
    "clf = linear_model.SGDClassifier(loss='log', n_iter=50, alpha=0.00001)\n",
    "clf.fit(X_train_std, y_train)\n",
    "y_pred = clf.fit(X_train_std, y_train).predict(X_train_std)\n",
    "y_pred_test = clf.predict(X_test_std)\n",
    "print_results('Logistic Regression')"
   ]
  },
  {
   "cell_type": "code",
   "execution_count": 81,
   "metadata": {
    "collapsed": false
   },
   "outputs": [
    {
     "name": "stdout",
     "output_type": "stream",
     "text": [
      " Naive Bayes     Training Set        Test Set    \n",
      "-------------- ---------------- -----------------\n",
      "    Error Rate 0.00124007936508 0.000578703703704\n",
      " Accuracy Rate   0.998759920635    0.999421296296\n",
      "True Positives              0.0               nan\n",
      "True Negatives               --    0.999421296296\n"
     ]
    },
    {
     "data": {
      "text/plain": [
       "(0.00057870370370370367, 0.99942129629629628, nan, 0.99942129629629628)"
      ]
     },
     "execution_count": 81,
     "metadata": {},
     "output_type": "execute_result"
    }
   ],
   "source": [
    "# MODEL: Naive Bayes\n",
    "from sklearn.naive_bayes import MultinomialNB\n",
    "clf = MultinomialNB()\n",
    "clf.fit(X_train_std, y_train)\n",
    "y_pred = clf.fit(X_train_std, y_train).predict(X_train_std)\n",
    "y_pred_test = clf.predict(X_test_std)\n",
    "print_results('Naive Bayes')"
   ]
  },
  {
   "cell_type": "code",
   "execution_count": 82,
   "metadata": {
    "collapsed": false
   },
   "outputs": [
    {
     "name": "stdout",
     "output_type": "stream",
     "text": [
      "  Perceptron      Training Set   Test Set\n",
      "-------------- ----------------- --------\n",
      "    Error Rate 0.000124007936508      0.0\n",
      " Accuracy Rate    0.999875992063      1.0\n",
      "True Positives               0.0      nan\n",
      "True Negatives                --      1.0\n"
     ]
    },
    {
     "data": {
      "text/plain": [
       "(0.0, 1.0, nan, 1.0)"
      ]
     },
     "execution_count": 82,
     "metadata": {},
     "output_type": "execute_result"
    }
   ],
   "source": [
    "# Perceptron\n",
    "from sklearn import linear_model\n",
    "clf = linear_model.SGDClassifier(loss='perceptron')\n",
    "clf.fit(X_train_std, y_train)\n",
    "y_pred = clf.fit(X_train_std, y_train).predict(X_train_std)\n",
    "y_pred_test = clf.predict(X_test_std)\n",
    "print_results('Perceptron')"
   ]
  },
  {
   "cell_type": "code",
   "execution_count": 83,
   "metadata": {
    "collapsed": false
   },
   "outputs": [
    {
     "data": {
      "text/plain": [
       "(11520,)"
      ]
     },
     "execution_count": 83,
     "metadata": {},
     "output_type": "execute_result"
    }
   ],
   "source": [
    "# define y\n",
    "y = totalData.bored.values\n",
    "y.shape"
   ]
  },
  {
   "cell_type": "code",
   "execution_count": 84,
   "metadata": {
    "collapsed": true
   },
   "outputs": [],
   "source": [
    "# create training and test sets\n",
    "from sklearn.cross_validation import train_test_split\n",
    "\n",
    "X_train, X_test, y_train, y_test = train_test_split(\n",
    "         X, y, test_size=0.3, random_state=0)"
   ]
  },
  {
   "cell_type": "code",
   "execution_count": 85,
   "metadata": {
    "collapsed": true
   },
   "outputs": [],
   "source": [
    "# feature scaling\n",
    "from sklearn.preprocessing import StandardScaler\n",
    "sc = StandardScaler(with_mean=False)\n",
    "sc.fit(X_train)\n",
    "X_train_std = sc.transform(X_train)\n",
    "X_test_std = sc.transform(X_test)"
   ]
  },
  {
   "cell_type": "markdown",
   "metadata": {},
   "source": [
    "# Bored Model Results"
   ]
  },
  {
   "cell_type": "code",
   "execution_count": 86,
   "metadata": {
    "collapsed": false
   },
   "outputs": [
    {
     "name": "stdout",
     "output_type": "stream",
     "text": [
      "     SVM          Training Set   Test Set\n",
      "-------------- ----------------- --------\n",
      "    Error Rate 0.000124007936508      0.0\n",
      " Accuracy Rate    0.999875992063      1.0\n",
      "True Positives               0.0      nan\n",
      "True Negatives                --      1.0\n"
     ]
    },
    {
     "data": {
      "text/plain": [
       "(0.0, 1.0, nan, 1.0)"
      ]
     },
     "execution_count": 86,
     "metadata": {},
     "output_type": "execute_result"
    }
   ],
   "source": [
    "# MODEL: SVM, linear\n",
    "from sklearn import linear_model\n",
    "clf = linear_model.SGDClassifier()\n",
    "clf.fit(X_train_std, y_train)\n",
    "y_pred = clf.fit(X_train_std, y_train).predict(X_train_std)\n",
    "y_pred_test = clf.predict(X_test_std)\n",
    "print_results('SVM')"
   ]
  },
  {
   "cell_type": "code",
   "execution_count": 87,
   "metadata": {
    "collapsed": false
   },
   "outputs": [
    {
     "name": "stdout",
     "output_type": "stream",
     "text": [
      "Logistic Regression    Training Set   Test Set\n",
      "------------------- ----------------- --------\n",
      "         Error Rate 0.000124007936508      0.0\n",
      "      Accuracy Rate    0.999875992063      1.0\n",
      "     True Positives               0.0      nan\n",
      "     True Negatives                --      1.0\n"
     ]
    },
    {
     "data": {
      "text/plain": [
       "(0.0, 1.0, nan, 1.0)"
      ]
     },
     "execution_count": 87,
     "metadata": {},
     "output_type": "execute_result"
    }
   ],
   "source": [
    "# MODEL: logistic regression\n",
    "from sklearn import linear_model\n",
    "clf = linear_model.SGDClassifier(loss='log', n_iter=50, alpha=0.00001)\n",
    "clf.fit(X_train_std, y_train)\n",
    "y_pred = clf.fit(X_train_std, y_train).predict(X_train_std)\n",
    "y_pred_test = clf.predict(X_test_std)\n",
    "print_results('Logistic Regression')"
   ]
  },
  {
   "cell_type": "code",
   "execution_count": 88,
   "metadata": {
    "collapsed": false
   },
   "outputs": [
    {
     "name": "stdout",
     "output_type": "stream",
     "text": [
      " Naive Bayes     Training Set        Test Set    \n",
      "-------------- ---------------- -----------------\n",
      "    Error Rate 0.00124007936508 0.000578703703704\n",
      " Accuracy Rate   0.998759920635    0.999421296296\n",
      "True Positives              0.0               nan\n",
      "True Negatives               --    0.999421296296\n"
     ]
    },
    {
     "data": {
      "text/plain": [
       "(0.00057870370370370367, 0.99942129629629628, nan, 0.99942129629629628)"
      ]
     },
     "execution_count": 88,
     "metadata": {},
     "output_type": "execute_result"
    }
   ],
   "source": [
    "# MODEL: Naive Bayes\n",
    "from sklearn.naive_bayes import MultinomialNB\n",
    "clf = MultinomialNB()\n",
    "clf.fit(X_train_std, y_train)\n",
    "y_pred = clf.fit(X_train_std, y_train).predict(X_train_std)\n",
    "y_pred_test = clf.predict(X_test_std)\n",
    "print_results('Naive Bayes')"
   ]
  },
  {
   "cell_type": "code",
   "execution_count": 89,
   "metadata": {
    "collapsed": false
   },
   "outputs": [
    {
     "name": "stdout",
     "output_type": "stream",
     "text": [
      "  Perceptron      Training Set   Test Set\n",
      "-------------- ----------------- --------\n",
      "    Error Rate 0.000124007936508      0.0\n",
      " Accuracy Rate    0.999875992063      1.0\n",
      "True Positives               0.0      nan\n",
      "True Negatives                --      1.0\n"
     ]
    },
    {
     "data": {
      "text/plain": [
       "(0.0, 1.0, nan, 1.0)"
      ]
     },
     "execution_count": 89,
     "metadata": {},
     "output_type": "execute_result"
    }
   ],
   "source": [
    "# Perceptron\n",
    "from sklearn import linear_model\n",
    "clf = linear_model.SGDClassifier(loss='perceptron')\n",
    "clf.fit(X_train_std, y_train)\n",
    "y_pred = clf.fit(X_train_std, y_train).predict(X_train_std)\n",
    "y_pred_test = clf.predict(X_test_std)\n",
    "print_results('Perceptron')"
   ]
  }
 ],
 "metadata": {
  "kernelspec": {
   "display_name": "Python 3",
   "language": "python",
   "name": "python3"
  },
  "language_info": {
   "codemirror_mode": {
    "name": "ipython",
    "version": 3
   },
   "file_extension": ".py",
   "mimetype": "text/x-python",
   "name": "python",
   "nbconvert_exporter": "python",
   "pygments_lexer": "ipython3",
   "version": "3.5.1"
  }
 },
 "nbformat": 4,
 "nbformat_minor": 0
}
