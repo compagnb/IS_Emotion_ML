{
 "cells": [
  {
   "cell_type": "code",
   "execution_count": 80,
   "metadata": {
    "collapsed": true
   },
   "outputs": [],
   "source": [
    "import numpy as np #import numpy library\n",
    "import pandas as pd #import pandas library\n",
    "import matplotlib.pyplot as plt #import matplot library\n",
    "%matplotlib inline\n",
    "\n",
    "import glob\n",
    "import os\n",
    "\n",
    "import nltk.classify.util\n",
    "from astropy.table import Table, Column\n",
    "\n",
    "import string\n",
    "\n",
    "from sklearn import svm\n",
    "from sklearn import metrics"
   ]
  },
  {
   "cell_type": "code",
   "execution_count": 81,
   "metadata": {
    "collapsed": false
   },
   "outputs": [],
   "source": [
    " def loadMetricData(user, directory):\n",
    "    path =  user + \"/\" + directory + \"/\"\n",
    "#     print(path)\n",
    "    all_files = glob.glob(os.path.join(path, \"*.csv\")) \n",
    "#     print(all_files)\n",
    "    data = pd.DataFrame()\n",
    "    list_ = []\n",
    "    for file_ in all_files:\n",
    "        data = pd.read_csv(file_,index_col=None, header=0)\n",
    "        list_.append(data)\n",
    "        data = pd.concat(list_)\n",
    "    return data"
   ]
  },
  {
   "cell_type": "code",
   "execution_count": 82,
   "metadata": {
    "collapsed": false
   },
   "outputs": [],
   "source": [
    "# # clean times function\n",
    "def cleanTime(df, col):\n",
    "    df.col = pd.to_datetime(df.col)"
   ]
  },
  {
   "cell_type": "code",
   "execution_count": 83,
   "metadata": {
    "collapsed": false
   },
   "outputs": [],
   "source": [
    "# # replace NAN's\n",
    "# def rmNAN(df, col):\n",
    "#     df.col = df.col.fillna(0)"
   ]
  },
  {
   "cell_type": "code",
   "execution_count": 84,
   "metadata": {
    "collapsed": false
   },
   "outputs": [
    {
     "data": {
      "text/html": [
       "<div>\n",
       "<table border=\"1\" class=\"dataframe\">\n",
       "  <thead>\n",
       "    <tr style=\"text-align: right;\">\n",
       "      <th></th>\n",
       "      <th>timestamp</th>\n",
       "      <th>heartrate</th>\n",
       "      <th>steps</th>\n",
       "      <th>calories</th>\n",
       "      <th>gsr</th>\n",
       "      <th>skintemp</th>\n",
       "      <th>airtemp</th>\n",
       "    </tr>\n",
       "  </thead>\n",
       "  <tbody>\n",
       "    <tr>\n",
       "      <th>1435</th>\n",
       "      <td>2016-05-09 23:55:00</td>\n",
       "      <td>NaN</td>\n",
       "      <td>NaN</td>\n",
       "      <td>NaN</td>\n",
       "      <td>NaN</td>\n",
       "      <td>NaN</td>\n",
       "      <td>NaN</td>\n",
       "    </tr>\n",
       "    <tr>\n",
       "      <th>1436</th>\n",
       "      <td>2016-05-09 23:56:00</td>\n",
       "      <td>NaN</td>\n",
       "      <td>NaN</td>\n",
       "      <td>NaN</td>\n",
       "      <td>NaN</td>\n",
       "      <td>NaN</td>\n",
       "      <td>NaN</td>\n",
       "    </tr>\n",
       "    <tr>\n",
       "      <th>1437</th>\n",
       "      <td>2016-05-09 23:57:00</td>\n",
       "      <td>NaN</td>\n",
       "      <td>NaN</td>\n",
       "      <td>NaN</td>\n",
       "      <td>NaN</td>\n",
       "      <td>NaN</td>\n",
       "      <td>NaN</td>\n",
       "    </tr>\n",
       "    <tr>\n",
       "      <th>1438</th>\n",
       "      <td>2016-05-09 23:58:00</td>\n",
       "      <td>NaN</td>\n",
       "      <td>NaN</td>\n",
       "      <td>NaN</td>\n",
       "      <td>NaN</td>\n",
       "      <td>NaN</td>\n",
       "      <td>NaN</td>\n",
       "    </tr>\n",
       "    <tr>\n",
       "      <th>1439</th>\n",
       "      <td>2016-05-09 23:59:00</td>\n",
       "      <td>NaN</td>\n",
       "      <td>NaN</td>\n",
       "      <td>NaN</td>\n",
       "      <td>NaN</td>\n",
       "      <td>NaN</td>\n",
       "      <td>NaN</td>\n",
       "    </tr>\n",
       "  </tbody>\n",
       "</table>\n",
       "</div>"
      ],
      "text/plain": [
       "                timestamp  heartrate  steps  calories  gsr  skintemp  airtemp\n",
       "1435  2016-05-09 23:55:00        NaN    NaN       NaN  NaN       NaN      NaN\n",
       "1436  2016-05-09 23:56:00        NaN    NaN       NaN  NaN       NaN      NaN\n",
       "1437  2016-05-09 23:57:00        NaN    NaN       NaN  NaN       NaN      NaN\n",
       "1438  2016-05-09 23:58:00        NaN    NaN       NaN  NaN       NaN      NaN\n",
       "1439  2016-05-09 23:59:00        NaN    NaN       NaN  NaN       NaN      NaN"
      ]
     },
     "execution_count": 84,
     "metadata": {},
     "output_type": "execute_result"
    }
   ],
   "source": [
    "sallyMetrics = loadMetricData('sallyKung', \"metrics\")\n",
    "sallyMetrics.tail(5)"
   ]
  },
  {
   "cell_type": "code",
   "execution_count": 85,
   "metadata": {
    "collapsed": false
   },
   "outputs": [
    {
     "data": {
      "text/plain": [
       "timestamp     object\n",
       "heartrate    float64\n",
       "steps        float64\n",
       "calories     float64\n",
       "gsr          float64\n",
       "skintemp     float64\n",
       "airtemp      float64\n",
       "dtype: object"
      ]
     },
     "execution_count": 85,
     "metadata": {},
     "output_type": "execute_result"
    }
   ],
   "source": [
    "sallyMetrics.dtypes"
   ]
  },
  {
   "cell_type": "code",
   "execution_count": 86,
   "metadata": {
    "collapsed": false
   },
   "outputs": [
    {
     "data": {
      "text/html": [
       "<div>\n",
       "<table border=\"1\" class=\"dataframe\">\n",
       "  <thead>\n",
       "    <tr style=\"text-align: right;\">\n",
       "      <th></th>\n",
       "      <th>timestamp</th>\n",
       "      <th>heartrate</th>\n",
       "      <th>steps</th>\n",
       "      <th>calories</th>\n",
       "      <th>gsr</th>\n",
       "      <th>skintemp</th>\n",
       "      <th>airtemp</th>\n",
       "    </tr>\n",
       "  </thead>\n",
       "  <tbody>\n",
       "    <tr>\n",
       "      <th>0</th>\n",
       "      <td>2016-05-02 00:00:00</td>\n",
       "      <td>71</td>\n",
       "      <td>0</td>\n",
       "      <td>0.9</td>\n",
       "      <td>0.000056</td>\n",
       "      <td>91.4</td>\n",
       "      <td>88.7</td>\n",
       "    </tr>\n",
       "    <tr>\n",
       "      <th>1</th>\n",
       "      <td>2016-05-02 00:01:00</td>\n",
       "      <td>71</td>\n",
       "      <td>0</td>\n",
       "      <td>1.1</td>\n",
       "      <td>0.000056</td>\n",
       "      <td>91.4</td>\n",
       "      <td>89.6</td>\n",
       "    </tr>\n",
       "    <tr>\n",
       "      <th>2</th>\n",
       "      <td>2016-05-02 00:02:00</td>\n",
       "      <td>68</td>\n",
       "      <td>0</td>\n",
       "      <td>1.0</td>\n",
       "      <td>0.000058</td>\n",
       "      <td>91.4</td>\n",
       "      <td>90.5</td>\n",
       "    </tr>\n",
       "    <tr>\n",
       "      <th>3</th>\n",
       "      <td>2016-05-02 00:03:00</td>\n",
       "      <td>68</td>\n",
       "      <td>0</td>\n",
       "      <td>1.0</td>\n",
       "      <td>0.000058</td>\n",
       "      <td>92.3</td>\n",
       "      <td>91.4</td>\n",
       "    </tr>\n",
       "    <tr>\n",
       "      <th>4</th>\n",
       "      <td>2016-05-02 00:04:00</td>\n",
       "      <td>70</td>\n",
       "      <td>0</td>\n",
       "      <td>1.1</td>\n",
       "      <td>0.000060</td>\n",
       "      <td>92.3</td>\n",
       "      <td>91.4</td>\n",
       "    </tr>\n",
       "  </tbody>\n",
       "</table>\n",
       "</div>"
      ],
      "text/plain": [
       "            timestamp  heartrate  steps  calories       gsr  skintemp  airtemp\n",
       "0 2016-05-02 00:00:00         71      0       0.9  0.000056      91.4     88.7\n",
       "1 2016-05-02 00:01:00         71      0       1.1  0.000056      91.4     89.6\n",
       "2 2016-05-02 00:02:00         68      0       1.0  0.000058      91.4     90.5\n",
       "3 2016-05-02 00:03:00         68      0       1.0  0.000058      92.3     91.4\n",
       "4 2016-05-02 00:04:00         70      0       1.1  0.000060      92.3     91.4"
      ]
     },
     "execution_count": 86,
     "metadata": {},
     "output_type": "execute_result"
    }
   ],
   "source": [
    "# clean metric data\n",
    "\n",
    "sallyMetrics.timestamp = pd.to_datetime(sallyMetrics.timestamp)\n",
    "\n",
    "sallyMetrics.heartrate = sallyMetrics.heartrate.fillna(0)\n",
    "sallyMetrics.steps = sallyMetrics.steps.fillna(0)\n",
    "sallyMetrics.calories = sallyMetrics.calories.fillna(0)\n",
    "sallyMetrics.gsr = sallyMetrics.gsr.fillna(0)\n",
    "sallyMetrics.skintemp = sallyMetrics.skintemp.fillna(0)\n",
    "sallyMetrics.airtemp = sallyMetrics.airtemp.fillna(0)\n",
    "\n",
    "sallyMetrics.head(5)"
   ]
  },
  {
   "cell_type": "code",
   "execution_count": 87,
   "metadata": {
    "collapsed": false
   },
   "outputs": [
    {
     "data": {
      "text/html": [
       "<div>\n",
       "<table border=\"1\" class=\"dataframe\">\n",
       "  <thead>\n",
       "    <tr style=\"text-align: right;\">\n",
       "      <th></th>\n",
       "      <th>start time</th>\n",
       "      <th>start time ISO</th>\n",
       "      <th>start time timezone</th>\n",
       "      <th>start time offset</th>\n",
       "      <th>end time</th>\n",
       "      <th>end time ISO</th>\n",
       "      <th>end time timezone</th>\n",
       "      <th>end time offset</th>\n",
       "      <th>type</th>\n",
       "      <th>actual seconds</th>\n",
       "      <th>steps</th>\n",
       "      <th>calories</th>\n",
       "      <th>minutes</th>\n",
       "      <th>heart rate avg</th>\n",
       "      <th>heart rate min</th>\n",
       "      <th>heart rate max</th>\n",
       "      <th>state</th>\n",
       "      <th>version</th>\n",
       "      <th>id</th>\n",
       "    </tr>\n",
       "  </thead>\n",
       "  <tbody>\n",
       "    <tr>\n",
       "      <th>6</th>\n",
       "      <td>2016-05-05 00:48:54</td>\n",
       "      <td>2016-05-05T00:48:54Z</td>\n",
       "      <td>America/New_York</td>\n",
       "      <td>-240</td>\n",
       "      <td>2016-05-05 00:55:25</td>\n",
       "      <td>2016-05-05T00:55:25Z</td>\n",
       "      <td>America/New_York</td>\n",
       "      <td>-240</td>\n",
       "      <td>walk</td>\n",
       "      <td>311</td>\n",
       "      <td>725</td>\n",
       "      <td>14.000000</td>\n",
       "      <td>6.516667</td>\n",
       "      <td>103.729904</td>\n",
       "      <td>NaN</td>\n",
       "      <td>NaN</td>\n",
       "      <td>complete</td>\n",
       "      <td>1</td>\n",
       "      <td>walk__2016-05-05T004854</td>\n",
       "    </tr>\n",
       "    <tr>\n",
       "      <th>0</th>\n",
       "      <td>2016-05-05 14:03:04</td>\n",
       "      <td>2016-05-05T14:03:04Z</td>\n",
       "      <td>America/New_York</td>\n",
       "      <td>-240</td>\n",
       "      <td>2016-05-05 14:06:34</td>\n",
       "      <td>2016-05-05T14:06:34Z</td>\n",
       "      <td>America/New_York</td>\n",
       "      <td>-240</td>\n",
       "      <td>bike</td>\n",
       "      <td>210</td>\n",
       "      <td>NaN</td>\n",
       "      <td>5.700000</td>\n",
       "      <td>3.500000</td>\n",
       "      <td>101.328575</td>\n",
       "      <td>NaN</td>\n",
       "      <td>NaN</td>\n",
       "      <td>complete</td>\n",
       "      <td>1</td>\n",
       "      <td>bike__2016-05-05T140304</td>\n",
       "    </tr>\n",
       "    <tr>\n",
       "      <th>1</th>\n",
       "      <td>2016-05-05 15:30:28</td>\n",
       "      <td>2016-05-05T15:30:28Z</td>\n",
       "      <td>America/New_York</td>\n",
       "      <td>-240</td>\n",
       "      <td>2016-05-05 15:39:36</td>\n",
       "      <td>2016-05-05T15:39:36Z</td>\n",
       "      <td>America/New_York</td>\n",
       "      <td>-240</td>\n",
       "      <td>walk</td>\n",
       "      <td>197</td>\n",
       "      <td>503</td>\n",
       "      <td>12.800000</td>\n",
       "      <td>9.133333</td>\n",
       "      <td>113.649750</td>\n",
       "      <td>NaN</td>\n",
       "      <td>NaN</td>\n",
       "      <td>complete</td>\n",
       "      <td>1</td>\n",
       "      <td>walk__2016-05-05T153028</td>\n",
       "    </tr>\n",
       "    <tr>\n",
       "      <th>2</th>\n",
       "      <td>2016-05-05 15:42:03</td>\n",
       "      <td>2016-05-05T15:42:03Z</td>\n",
       "      <td>America/New_York</td>\n",
       "      <td>-240</td>\n",
       "      <td>2016-05-05 15:57:43</td>\n",
       "      <td>2016-05-05T15:57:43Z</td>\n",
       "      <td>America/New_York</td>\n",
       "      <td>-240</td>\n",
       "      <td>walk</td>\n",
       "      <td>565</td>\n",
       "      <td>1235</td>\n",
       "      <td>42.299999</td>\n",
       "      <td>15.666667</td>\n",
       "      <td>121.116814</td>\n",
       "      <td>NaN</td>\n",
       "      <td>NaN</td>\n",
       "      <td>complete</td>\n",
       "      <td>1</td>\n",
       "      <td>walk__2016-05-05T154203</td>\n",
       "    </tr>\n",
       "    <tr>\n",
       "      <th>3</th>\n",
       "      <td>2016-05-05 20:55:25</td>\n",
       "      <td>2016-05-05T20:55:25Z</td>\n",
       "      <td>America/New_York</td>\n",
       "      <td>-240</td>\n",
       "      <td>2016-05-05 21:00:53</td>\n",
       "      <td>2016-05-05T21:00:53Z</td>\n",
       "      <td>America/New_York</td>\n",
       "      <td>-240</td>\n",
       "      <td>walk</td>\n",
       "      <td>189</td>\n",
       "      <td>472</td>\n",
       "      <td>11.900000</td>\n",
       "      <td>5.466667</td>\n",
       "      <td>113.640213</td>\n",
       "      <td>NaN</td>\n",
       "      <td>NaN</td>\n",
       "      <td>complete</td>\n",
       "      <td>1</td>\n",
       "      <td>walk__2016-05-05T205525</td>\n",
       "    </tr>\n",
       "  </tbody>\n",
       "</table>\n",
       "</div>"
      ],
      "text/plain": [
       "            start time        start time ISO start time timezone  \\\n",
       "6  2016-05-05 00:48:54  2016-05-05T00:48:54Z    America/New_York   \n",
       "0  2016-05-05 14:03:04  2016-05-05T14:03:04Z    America/New_York   \n",
       "1  2016-05-05 15:30:28  2016-05-05T15:30:28Z    America/New_York   \n",
       "2  2016-05-05 15:42:03  2016-05-05T15:42:03Z    America/New_York   \n",
       "3  2016-05-05 20:55:25  2016-05-05T20:55:25Z    America/New_York   \n",
       "\n",
       "   start time offset             end time          end time ISO  \\\n",
       "6               -240  2016-05-05 00:55:25  2016-05-05T00:55:25Z   \n",
       "0               -240  2016-05-05 14:06:34  2016-05-05T14:06:34Z   \n",
       "1               -240  2016-05-05 15:39:36  2016-05-05T15:39:36Z   \n",
       "2               -240  2016-05-05 15:57:43  2016-05-05T15:57:43Z   \n",
       "3               -240  2016-05-05 21:00:53  2016-05-05T21:00:53Z   \n",
       "\n",
       "  end time timezone  end time offset  type  actual seconds  steps   calories  \\\n",
       "6  America/New_York             -240  walk             311    725  14.000000   \n",
       "0  America/New_York             -240  bike             210    NaN   5.700000   \n",
       "1  America/New_York             -240  walk             197    503  12.800000   \n",
       "2  America/New_York             -240  walk             565   1235  42.299999   \n",
       "3  America/New_York             -240  walk             189    472  11.900000   \n",
       "\n",
       "     minutes  heart rate avg  heart rate min  heart rate max     state  \\\n",
       "6   6.516667      103.729904             NaN             NaN  complete   \n",
       "0   3.500000      101.328575             NaN             NaN  complete   \n",
       "1   9.133333      113.649750             NaN             NaN  complete   \n",
       "2  15.666667      121.116814             NaN             NaN  complete   \n",
       "3   5.466667      113.640213             NaN             NaN  complete   \n",
       "\n",
       "   version                       id  \n",
       "6        1  walk__2016-05-05T004854  \n",
       "0        1  bike__2016-05-05T140304  \n",
       "1        1  walk__2016-05-05T153028  \n",
       "2        1  walk__2016-05-05T154203  \n",
       "3        1  walk__2016-05-05T205525  "
      ]
     },
     "execution_count": 87,
     "metadata": {},
     "output_type": "execute_result"
    }
   ],
   "source": [
    "sallyActivities = loadMetricData('sallyKung', \"activities\")\n",
    "sallyActivities.tail(5)"
   ]
  },
  {
   "cell_type": "code",
   "execution_count": 88,
   "metadata": {
    "collapsed": false
   },
   "outputs": [
    {
     "data": {
      "text/html": [
       "<div>\n",
       "<table border=\"1\" class=\"dataframe\">\n",
       "  <thead>\n",
       "    <tr style=\"text-align: right;\">\n",
       "      <th></th>\n",
       "      <th>start time</th>\n",
       "      <th>start time ISO</th>\n",
       "      <th>start time timezone</th>\n",
       "      <th>start time offset</th>\n",
       "      <th>end time</th>\n",
       "      <th>end time ISO</th>\n",
       "      <th>end time timezone</th>\n",
       "      <th>end time offset</th>\n",
       "      <th>light mins</th>\n",
       "      <th>deep mins</th>\n",
       "      <th>...</th>\n",
       "      <th>toss turns</th>\n",
       "      <th>type</th>\n",
       "      <th>actual seconds</th>\n",
       "      <th>calories</th>\n",
       "      <th>heart rate avg</th>\n",
       "      <th>heart rate min</th>\n",
       "      <th>heart rate max</th>\n",
       "      <th>state</th>\n",
       "      <th>version</th>\n",
       "      <th>id</th>\n",
       "    </tr>\n",
       "  </thead>\n",
       "  <tbody>\n",
       "    <tr>\n",
       "      <th>0</th>\n",
       "      <td>2016-05-03 03:43:04</td>\n",
       "      <td>2016-05-03T03:43:04Z</td>\n",
       "      <td>America/New_York</td>\n",
       "      <td>-240</td>\n",
       "      <td>2016-05-03 10:17:04</td>\n",
       "      <td>2016-05-03T10:17:04Z</td>\n",
       "      <td>America/New_York</td>\n",
       "      <td>-240</td>\n",
       "      <td>200</td>\n",
       "      <td>77</td>\n",
       "      <td>...</td>\n",
       "      <td>36</td>\n",
       "      <td>sleep</td>\n",
       "      <td>22980</td>\n",
       "      <td>362.299988</td>\n",
       "      <td>70.224983</td>\n",
       "      <td>NaN</td>\n",
       "      <td>NaN</td>\n",
       "      <td>complete</td>\n",
       "      <td>2</td>\n",
       "      <td>sleep__2016-05-03T034304</td>\n",
       "    </tr>\n",
       "    <tr>\n",
       "      <th>0</th>\n",
       "      <td>2016-05-04 03:35:37</td>\n",
       "      <td>2016-05-04T03:35:37Z</td>\n",
       "      <td>America/New_York</td>\n",
       "      <td>-240</td>\n",
       "      <td>2016-05-04 11:30:37</td>\n",
       "      <td>2016-05-04T11:30:37Z</td>\n",
       "      <td>America/New_York</td>\n",
       "      <td>-240</td>\n",
       "      <td>223</td>\n",
       "      <td>148</td>\n",
       "      <td>...</td>\n",
       "      <td>34</td>\n",
       "      <td>sleep</td>\n",
       "      <td>28500</td>\n",
       "      <td>448.600006</td>\n",
       "      <td>69.207352</td>\n",
       "      <td>NaN</td>\n",
       "      <td>NaN</td>\n",
       "      <td>complete</td>\n",
       "      <td>2</td>\n",
       "      <td>sleep__2016-05-04T033537</td>\n",
       "    </tr>\n",
       "    <tr>\n",
       "      <th>0</th>\n",
       "      <td>2016-05-04 11:50:37</td>\n",
       "      <td>2016-05-04T11:50:37Z</td>\n",
       "      <td>America/New_York</td>\n",
       "      <td>-240</td>\n",
       "      <td>2016-05-04 12:22:37</td>\n",
       "      <td>2016-05-04T12:22:37Z</td>\n",
       "      <td>America/New_York</td>\n",
       "      <td>-240</td>\n",
       "      <td>31</td>\n",
       "      <td>0</td>\n",
       "      <td>...</td>\n",
       "      <td>1</td>\n",
       "      <td>sleep</td>\n",
       "      <td>1920</td>\n",
       "      <td>30.400000</td>\n",
       "      <td>70.055222</td>\n",
       "      <td>NaN</td>\n",
       "      <td>NaN</td>\n",
       "      <td>complete</td>\n",
       "      <td>2</td>\n",
       "      <td>sleep__2016-05-04T115037</td>\n",
       "    </tr>\n",
       "    <tr>\n",
       "      <th>1</th>\n",
       "      <td>2016-05-05 03:22:15</td>\n",
       "      <td>2016-05-05T03:22:15Z</td>\n",
       "      <td>America/New_York</td>\n",
       "      <td>-240</td>\n",
       "      <td>2016-05-05 11:46:15</td>\n",
       "      <td>2016-05-05T11:46:15Z</td>\n",
       "      <td>America/New_York</td>\n",
       "      <td>-240</td>\n",
       "      <td>249</td>\n",
       "      <td>145</td>\n",
       "      <td>...</td>\n",
       "      <td>36</td>\n",
       "      <td>sleep</td>\n",
       "      <td>30240</td>\n",
       "      <td>477.799988</td>\n",
       "      <td>67.988586</td>\n",
       "      <td>NaN</td>\n",
       "      <td>NaN</td>\n",
       "      <td>complete</td>\n",
       "      <td>2</td>\n",
       "      <td>sleep__2016-05-05T032215</td>\n",
       "    </tr>\n",
       "  </tbody>\n",
       "</table>\n",
       "<p>4 rows × 24 columns</p>\n",
       "</div>"
      ],
      "text/plain": [
       "            start time        start time ISO start time timezone  \\\n",
       "0  2016-05-03 03:43:04  2016-05-03T03:43:04Z    America/New_York   \n",
       "0  2016-05-04 03:35:37  2016-05-04T03:35:37Z    America/New_York   \n",
       "0  2016-05-04 11:50:37  2016-05-04T11:50:37Z    America/New_York   \n",
       "1  2016-05-05 03:22:15  2016-05-05T03:22:15Z    America/New_York   \n",
       "\n",
       "   start time offset             end time          end time ISO  \\\n",
       "0               -240  2016-05-03 10:17:04  2016-05-03T10:17:04Z   \n",
       "0               -240  2016-05-04 11:30:37  2016-05-04T11:30:37Z   \n",
       "0               -240  2016-05-04 12:22:37  2016-05-04T12:22:37Z   \n",
       "1               -240  2016-05-05 11:46:15  2016-05-05T11:46:15Z   \n",
       "\n",
       "  end time timezone  end time offset  light mins  deep mins  \\\n",
       "0  America/New_York             -240         200         77   \n",
       "0  America/New_York             -240         223        148   \n",
       "0  America/New_York             -240          31          0   \n",
       "1  America/New_York             -240         249        145   \n",
       "\n",
       "             ...             toss turns   type  actual seconds    calories  \\\n",
       "0            ...                     36  sleep           22980  362.299988   \n",
       "0            ...                     34  sleep           28500  448.600006   \n",
       "0            ...                      1  sleep            1920   30.400000   \n",
       "1            ...                     36  sleep           30240  477.799988   \n",
       "\n",
       "   heart rate avg heart rate min  heart rate max     state  version  \\\n",
       "0       70.224983            NaN             NaN  complete        2   \n",
       "0       69.207352            NaN             NaN  complete        2   \n",
       "0       70.055222            NaN             NaN  complete        2   \n",
       "1       67.988586            NaN             NaN  complete        2   \n",
       "\n",
       "                         id  \n",
       "0  sleep__2016-05-03T034304  \n",
       "0  sleep__2016-05-04T033537  \n",
       "0  sleep__2016-05-04T115037  \n",
       "1  sleep__2016-05-05T032215  \n",
       "\n",
       "[4 rows x 24 columns]"
      ]
     },
     "execution_count": 88,
     "metadata": {},
     "output_type": "execute_result"
    }
   ],
   "source": [
    "sallySleep = loadMetricData('sallyKung', \"sleep\")\n",
    "sallySleep.tail(5)"
   ]
  },
  {
   "cell_type": "code",
   "execution_count": 89,
   "metadata": {
    "collapsed": false
   },
   "outputs": [
    {
     "data": {
      "text/plain": [
       "start time              object\n",
       "start time ISO          object\n",
       "start time timezone     object\n",
       "start time offset      float64\n",
       "end time                object\n",
       "end time ISO            object\n",
       "end time timezone       object\n",
       "end time offset        float64\n",
       "light mins             float64\n",
       "deep mins              float64\n",
       "rem mins               float64\n",
       "interruption mins      float64\n",
       "unknown mins           float64\n",
       "interruptions          float64\n",
       "toss turns             float64\n",
       "type                    object\n",
       "actual seconds         float64\n",
       "calories               float64\n",
       "heart rate avg         float64\n",
       "heart rate min         float64\n",
       "heart rate max         float64\n",
       "state                   object\n",
       "version                float64\n",
       "id                      object\n",
       "dtype: object"
      ]
     },
     "execution_count": 89,
     "metadata": {},
     "output_type": "execute_result"
    }
   ],
   "source": [
    "sallySleep.dtypes"
   ]
  },
  {
   "cell_type": "code",
   "execution_count": 90,
   "metadata": {
    "collapsed": false
   },
   "outputs": [
    {
     "data": {
      "text/html": [
       "<div>\n",
       "<table border=\"1\" class=\"dataframe\">\n",
       "  <thead>\n",
       "    <tr style=\"text-align: right;\">\n",
       "      <th></th>\n",
       "      <th>starttime</th>\n",
       "      <th>endtime</th>\n",
       "      <th>date</th>\n",
       "      <th>start</th>\n",
       "      <th>end</th>\n",
       "      <th>activity</th>\n",
       "      <th>location</th>\n",
       "      <th>generalemo</th>\n",
       "      <th>qualitative</th>\n",
       "      <th>excited</th>\n",
       "      <th>happy</th>\n",
       "      <th>calm</th>\n",
       "      <th>anxious</th>\n",
       "      <th>sad</th>\n",
       "      <th>angry</th>\n",
       "      <th>hungry</th>\n",
       "      <th>tired</th>\n",
       "      <th>bored</th>\n",
       "    </tr>\n",
       "  </thead>\n",
       "  <tbody>\n",
       "    <tr>\n",
       "      <th>41</th>\n",
       "      <td>5/6/16 12:49</td>\n",
       "      <td>5/6/16 13:14</td>\n",
       "      <td>5/6/16</td>\n",
       "      <td>12:49 PM</td>\n",
       "      <td>1:14 PM</td>\n",
       "      <td>Orals</td>\n",
       "      <td>79 5th Ave, 16th floor</td>\n",
       "      <td>Anxious</td>\n",
       "      <td>5</td>\n",
       "      <td>NaN</td>\n",
       "      <td>NaN</td>\n",
       "      <td>NaN</td>\n",
       "      <td>NaN</td>\n",
       "      <td>NaN</td>\n",
       "      <td>NaN</td>\n",
       "      <td>NaN</td>\n",
       "      <td>NaN</td>\n",
       "      <td>NaN</td>\n",
       "    </tr>\n",
       "    <tr>\n",
       "      <th>42</th>\n",
       "      <td>5/6/16 13:14</td>\n",
       "      <td>5/6/16 13:30</td>\n",
       "      <td>5/6/16</td>\n",
       "      <td>1:14 PM</td>\n",
       "      <td>1:30 PM</td>\n",
       "      <td>Talking to Abby</td>\n",
       "      <td>79 5th Ave, 16th floor</td>\n",
       "      <td>Calm</td>\n",
       "      <td>5</td>\n",
       "      <td>NaN</td>\n",
       "      <td>NaN</td>\n",
       "      <td>NaN</td>\n",
       "      <td>NaN</td>\n",
       "      <td>NaN</td>\n",
       "      <td>NaN</td>\n",
       "      <td>NaN</td>\n",
       "      <td>NaN</td>\n",
       "      <td>NaN</td>\n",
       "    </tr>\n",
       "    <tr>\n",
       "      <th>43</th>\n",
       "      <td>5/6/16 13:47</td>\n",
       "      <td>5/6/16 15:00</td>\n",
       "      <td>5/6/16</td>\n",
       "      <td>1:47 PM</td>\n",
       "      <td>3:00 PM</td>\n",
       "      <td>With Sarah and Hashem</td>\n",
       "      <td>Durst</td>\n",
       "      <td>Angry</td>\n",
       "      <td>5</td>\n",
       "      <td>NaN</td>\n",
       "      <td>NaN</td>\n",
       "      <td>NaN</td>\n",
       "      <td>NaN</td>\n",
       "      <td>NaN</td>\n",
       "      <td>NaN</td>\n",
       "      <td>NaN</td>\n",
       "      <td>NaN</td>\n",
       "      <td>NaN</td>\n",
       "    </tr>\n",
       "    <tr>\n",
       "      <th>44</th>\n",
       "      <td>5/6/16 15:10</td>\n",
       "      <td>5/6/16 15:30</td>\n",
       "      <td>5/6/16</td>\n",
       "      <td>3:10 PM</td>\n",
       "      <td>3:30 PM</td>\n",
       "      <td>Eating fish and chips with Sarah</td>\n",
       "      <td>66 12th Street, 407</td>\n",
       "      <td>Happy</td>\n",
       "      <td>5</td>\n",
       "      <td>NaN</td>\n",
       "      <td>NaN</td>\n",
       "      <td>NaN</td>\n",
       "      <td>NaN</td>\n",
       "      <td>NaN</td>\n",
       "      <td>NaN</td>\n",
       "      <td>NaN</td>\n",
       "      <td>NaN</td>\n",
       "      <td>NaN</td>\n",
       "    </tr>\n",
       "    <tr>\n",
       "      <th>45</th>\n",
       "      <td>5/6/16 16:21</td>\n",
       "      <td>5/6/16 16:21</td>\n",
       "      <td>5/6/16</td>\n",
       "      <td>4:21 PM</td>\n",
       "      <td>4:21 PM</td>\n",
       "      <td>Sarah messages me on Google</td>\n",
       "      <td>66 12th Street, 407</td>\n",
       "      <td>Annoyed</td>\n",
       "      <td>1</td>\n",
       "      <td>NaN</td>\n",
       "      <td>NaN</td>\n",
       "      <td>NaN</td>\n",
       "      <td>NaN</td>\n",
       "      <td>1</td>\n",
       "      <td>NaN</td>\n",
       "      <td>1</td>\n",
       "      <td>NaN</td>\n",
       "      <td>1</td>\n",
       "    </tr>\n",
       "  </tbody>\n",
       "</table>\n",
       "</div>"
      ],
      "text/plain": [
       "       starttime       endtime    date     start      end  \\\n",
       "41  5/6/16 12:49  5/6/16 13:14  5/6/16  12:49 PM  1:14 PM   \n",
       "42  5/6/16 13:14  5/6/16 13:30  5/6/16   1:14 PM  1:30 PM   \n",
       "43  5/6/16 13:47  5/6/16 15:00  5/6/16   1:47 PM  3:00 PM   \n",
       "44  5/6/16 15:10  5/6/16 15:30  5/6/16   3:10 PM  3:30 PM   \n",
       "45  5/6/16 16:21  5/6/16 16:21  5/6/16   4:21 PM  4:21 PM   \n",
       "\n",
       "                            activity                location generalemo  \\\n",
       "41                             Orals  79 5th Ave, 16th floor    Anxious   \n",
       "42                   Talking to Abby  79 5th Ave, 16th floor       Calm   \n",
       "43             With Sarah and Hashem                   Durst      Angry   \n",
       "44  Eating fish and chips with Sarah     66 12th Street, 407      Happy   \n",
       "45       Sarah messages me on Google     66 12th Street, 407    Annoyed   \n",
       "\n",
       "    qualitative  excited  happy  calm  anxious  sad  angry  hungry  tired  \\\n",
       "41            5      NaN    NaN   NaN      NaN  NaN    NaN     NaN    NaN   \n",
       "42            5      NaN    NaN   NaN      NaN  NaN    NaN     NaN    NaN   \n",
       "43            5      NaN    NaN   NaN      NaN  NaN    NaN     NaN    NaN   \n",
       "44            5      NaN    NaN   NaN      NaN  NaN    NaN     NaN    NaN   \n",
       "45            1      NaN    NaN   NaN      NaN    1    NaN       1    NaN   \n",
       "\n",
       "    bored  \n",
       "41    NaN  \n",
       "42    NaN  \n",
       "43    NaN  \n",
       "44    NaN  \n",
       "45      1  "
      ]
     },
     "execution_count": 90,
     "metadata": {},
     "output_type": "execute_result"
    }
   ],
   "source": [
    "sallyJournal = loadMetricData('sallyKung', \"journal\")\n",
    "sallyJournal.tail(5)"
   ]
  },
  {
   "cell_type": "code",
   "execution_count": 91,
   "metadata": {
    "collapsed": false
   },
   "outputs": [
    {
     "data": {
      "text/plain": [
       "starttime       object\n",
       "endtime         object\n",
       "date            object\n",
       "start           object\n",
       "end             object\n",
       "activity        object\n",
       "location        object\n",
       "generalemo      object\n",
       "qualitative      int64\n",
       "excited        float64\n",
       "happy          float64\n",
       "calm           float64\n",
       "anxious        float64\n",
       "sad            float64\n",
       "angry          float64\n",
       "hungry         float64\n",
       "tired          float64\n",
       "bored          float64\n",
       "dtype: object"
      ]
     },
     "execution_count": 91,
     "metadata": {},
     "output_type": "execute_result"
    }
   ],
   "source": [
    "sallyJournal.dtypes"
   ]
  },
  {
   "cell_type": "code",
   "execution_count": 92,
   "metadata": {
    "collapsed": false,
    "scrolled": true
   },
   "outputs": [
    {
     "name": "stdout",
     "output_type": "stream",
     "text": [
      "(46, 18)\n"
     ]
    },
    {
     "data": {
      "text/html": [
       "<div>\n",
       "<table border=\"1\" class=\"dataframe\">\n",
       "  <thead>\n",
       "    <tr style=\"text-align: right;\">\n",
       "      <th></th>\n",
       "      <th>starttime</th>\n",
       "      <th>endtime</th>\n",
       "      <th>date</th>\n",
       "      <th>start</th>\n",
       "      <th>end</th>\n",
       "      <th>activity</th>\n",
       "      <th>location</th>\n",
       "      <th>generalemo</th>\n",
       "      <th>qualitative</th>\n",
       "      <th>excited</th>\n",
       "      <th>happy</th>\n",
       "      <th>calm</th>\n",
       "      <th>anxious</th>\n",
       "      <th>sad</th>\n",
       "      <th>angry</th>\n",
       "      <th>hungry</th>\n",
       "      <th>tired</th>\n",
       "      <th>bored</th>\n",
       "    </tr>\n",
       "  </thead>\n",
       "  <tbody>\n",
       "    <tr>\n",
       "      <th>0</th>\n",
       "      <td>2016-05-02 13:25:00</td>\n",
       "      <td>2016-05-02 13:28:00</td>\n",
       "      <td>5/2/16</td>\n",
       "      <td>1:25 PM</td>\n",
       "      <td>1:28 PM</td>\n",
       "      <td>Trying on watch</td>\n",
       "      <td>Barb's Office</td>\n",
       "      <td>Excited</td>\n",
       "      <td>8</td>\n",
       "      <td>8</td>\n",
       "      <td>8</td>\n",
       "      <td>0</td>\n",
       "      <td>0</td>\n",
       "      <td>0</td>\n",
       "      <td>0</td>\n",
       "      <td>0</td>\n",
       "      <td>0</td>\n",
       "      <td>0</td>\n",
       "    </tr>\n",
       "    <tr>\n",
       "      <th>1</th>\n",
       "      <td>2016-05-02 13:40:00</td>\n",
       "      <td>2016-05-02 00:00:00</td>\n",
       "      <td>5/2/16</td>\n",
       "      <td>1:40 PM</td>\n",
       "      <td>NaN</td>\n",
       "      <td>Editing photos for work</td>\n",
       "      <td>Barb's Office</td>\n",
       "      <td>Streeeeeessed</td>\n",
       "      <td>6</td>\n",
       "      <td>0</td>\n",
       "      <td>0</td>\n",
       "      <td>0</td>\n",
       "      <td>0</td>\n",
       "      <td>0</td>\n",
       "      <td>0</td>\n",
       "      <td>0</td>\n",
       "      <td>0</td>\n",
       "      <td>0</td>\n",
       "    </tr>\n",
       "    <tr>\n",
       "      <th>2</th>\n",
       "      <td>2016-05-02 13:48:00</td>\n",
       "      <td>2016-05-02 13:48:00</td>\n",
       "      <td>5/2/16</td>\n",
       "      <td>1:48 PM</td>\n",
       "      <td>1:48 PM</td>\n",
       "      <td>Wafer fit perfectly on top of cup</td>\n",
       "      <td>Barb's Office</td>\n",
       "      <td>HAPPY</td>\n",
       "      <td>10</td>\n",
       "      <td>10</td>\n",
       "      <td>10</td>\n",
       "      <td>0</td>\n",
       "      <td>0</td>\n",
       "      <td>0</td>\n",
       "      <td>0</td>\n",
       "      <td>0</td>\n",
       "      <td>0</td>\n",
       "      <td>0</td>\n",
       "    </tr>\n",
       "    <tr>\n",
       "      <th>3</th>\n",
       "      <td>2016-05-02 14:31:00</td>\n",
       "      <td>2016-05-02 14:50:00</td>\n",
       "      <td>5/2/16</td>\n",
       "      <td>2:31 PM</td>\n",
       "      <td>2:50 PM</td>\n",
       "      <td>Sorting through magnetic pins</td>\n",
       "      <td>Barb's Office</td>\n",
       "      <td>Anxious</td>\n",
       "      <td>5</td>\n",
       "      <td>0</td>\n",
       "      <td>0</td>\n",
       "      <td>0</td>\n",
       "      <td>5</td>\n",
       "      <td>0</td>\n",
       "      <td>6</td>\n",
       "      <td>0</td>\n",
       "      <td>0</td>\n",
       "      <td>0</td>\n",
       "    </tr>\n",
       "    <tr>\n",
       "      <th>4</th>\n",
       "      <td>2016-05-02 15:10:00</td>\n",
       "      <td>2016-05-02 15:14:00</td>\n",
       "      <td>5/2/16</td>\n",
       "      <td>3:10 PM</td>\n",
       "      <td>3:14 PM</td>\n",
       "      <td>Trying to figure out where photos went</td>\n",
       "      <td>Barb's Office</td>\n",
       "      <td>ANXIOUS, CONFUSED</td>\n",
       "      <td>9</td>\n",
       "      <td>0</td>\n",
       "      <td>0</td>\n",
       "      <td>0</td>\n",
       "      <td>9</td>\n",
       "      <td>0</td>\n",
       "      <td>0</td>\n",
       "      <td>0</td>\n",
       "      <td>0</td>\n",
       "      <td>0</td>\n",
       "    </tr>\n",
       "  </tbody>\n",
       "</table>\n",
       "</div>"
      ],
      "text/plain": [
       "            starttime             endtime    date    start      end  \\\n",
       "0 2016-05-02 13:25:00 2016-05-02 13:28:00  5/2/16  1:25 PM  1:28 PM   \n",
       "1 2016-05-02 13:40:00 2016-05-02 00:00:00  5/2/16  1:40 PM      NaN   \n",
       "2 2016-05-02 13:48:00 2016-05-02 13:48:00  5/2/16  1:48 PM  1:48 PM   \n",
       "3 2016-05-02 14:31:00 2016-05-02 14:50:00  5/2/16  2:31 PM  2:50 PM   \n",
       "4 2016-05-02 15:10:00 2016-05-02 15:14:00  5/2/16  3:10 PM  3:14 PM   \n",
       "\n",
       "                                 activity       location         generalemo  \\\n",
       "0                         Trying on watch  Barb's Office            Excited   \n",
       "1                 Editing photos for work  Barb's Office      Streeeeeessed   \n",
       "2       Wafer fit perfectly on top of cup  Barb's Office              HAPPY   \n",
       "3           Sorting through magnetic pins  Barb's Office            Anxious   \n",
       "4  Trying to figure out where photos went  Barb's Office  ANXIOUS, CONFUSED   \n",
       "\n",
       "   qualitative  excited  happy  calm  anxious  sad  angry  hungry  tired  \\\n",
       "0            8        8      8     0        0    0      0       0      0   \n",
       "1            6        0      0     0        0    0      0       0      0   \n",
       "2           10       10     10     0        0    0      0       0      0   \n",
       "3            5        0      0     0        5    0      6       0      0   \n",
       "4            9        0      0     0        9    0      0       0      0   \n",
       "\n",
       "   bored  \n",
       "0      0  \n",
       "1      0  \n",
       "2      0  \n",
       "3      0  \n",
       "4      0  "
      ]
     },
     "execution_count": 92,
     "metadata": {},
     "output_type": "execute_result"
    }
   ],
   "source": [
    "# data= barbJournal.iloc[:0]\n",
    "# clean metric data\n",
    "sallyJournal[\"starttime\"]= pd.to_datetime(sallyJournal.starttime)\n",
    "\n",
    "# data= barbJournal.iloc[:1]\n",
    "sallyJournal[\"endtime\"]= pd.to_datetime(sallyJournal.endtime)\n",
    "\n",
    "\n",
    "# sarahJournal.qualitative = sarahJournal.qualitative.convert_objects(convert_numeric=True)\n",
    "# sarahJournal.excited = sarahJournal.excited.convert_objects(convert_numeric=True)\n",
    "# sarahJournal.happy = sarahJournal.happy.convert_objects(convert_numeric=True)\n",
    "\n",
    "sallyJournal.qualitative = sallyJournal.qualitative.fillna(0)\n",
    "sallyJournal.excited = sallyJournal.excited.fillna(0)\n",
    "sallyJournal.happy = sallyJournal.happy.fillna(0)\n",
    "sallyJournal.calm = sallyJournal.calm.fillna(0)\n",
    "sallyJournal.anxious = sallyJournal.anxious.fillna(0)\n",
    "sallyJournal.sad = sallyJournal.sad.fillna(0)\n",
    "sallyJournal.angry = sallyJournal.angry.fillna(0)\n",
    "sallyJournal.hungry = sallyJournal.hungry.fillna(0)\n",
    "sallyJournal.tired = sallyJournal.tired.fillna(0)\n",
    "sallyJournal.bored = sallyJournal.bored.fillna(0)\n",
    "\n",
    "print(sallyJournal.shape)\n",
    "sallyJournal.head(5)\n",
    "# sallyJournal.tail(5)"
   ]
  },
  {
   "cell_type": "code",
   "execution_count": 93,
   "metadata": {
    "collapsed": false
   },
   "outputs": [
    {
     "data": {
      "text/html": [
       "<div>\n",
       "<table border=\"1\" class=\"dataframe\">\n",
       "  <thead>\n",
       "    <tr style=\"text-align: right;\">\n",
       "      <th></th>\n",
       "      <th>starttime</th>\n",
       "      <th>endtime</th>\n",
       "      <th>date</th>\n",
       "      <th>start</th>\n",
       "      <th>end</th>\n",
       "      <th>activity</th>\n",
       "      <th>location</th>\n",
       "      <th>generalemo</th>\n",
       "      <th>qualitative</th>\n",
       "      <th>excited</th>\n",
       "      <th>...</th>\n",
       "      <th>inthungry</th>\n",
       "      <th>intbored</th>\n",
       "      <th>exercise</th>\n",
       "      <th>thesis</th>\n",
       "      <th>sarah</th>\n",
       "      <th>barb</th>\n",
       "      <th>sol</th>\n",
       "      <th>arash</th>\n",
       "      <th>home</th>\n",
       "      <th>work</th>\n",
       "    </tr>\n",
       "  </thead>\n",
       "  <tbody>\n",
       "    <tr>\n",
       "      <th>0</th>\n",
       "      <td>2016-05-02 13:25:00</td>\n",
       "      <td>2016-05-02 13:28:00</td>\n",
       "      <td>5/2/16</td>\n",
       "      <td>1:25 PM</td>\n",
       "      <td>1:28 PM</td>\n",
       "      <td>Trying on watch</td>\n",
       "      <td>Barb's Office</td>\n",
       "      <td>Excited</td>\n",
       "      <td>8</td>\n",
       "      <td>8</td>\n",
       "      <td>...</td>\n",
       "      <td>0</td>\n",
       "      <td>1</td>\n",
       "      <td>False</td>\n",
       "      <td>False</td>\n",
       "      <td>False</td>\n",
       "      <td>False</td>\n",
       "      <td>False</td>\n",
       "      <td>False</td>\n",
       "      <td>False</td>\n",
       "      <td>False</td>\n",
       "    </tr>\n",
       "    <tr>\n",
       "      <th>1</th>\n",
       "      <td>2016-05-02 13:40:00</td>\n",
       "      <td>2016-05-02 00:00:00</td>\n",
       "      <td>5/2/16</td>\n",
       "      <td>1:40 PM</td>\n",
       "      <td>NaN</td>\n",
       "      <td>Editing photos for work</td>\n",
       "      <td>Barb's Office</td>\n",
       "      <td>Streeeeeessed</td>\n",
       "      <td>6</td>\n",
       "      <td>0</td>\n",
       "      <td>...</td>\n",
       "      <td>0</td>\n",
       "      <td>1</td>\n",
       "      <td>False</td>\n",
       "      <td>False</td>\n",
       "      <td>False</td>\n",
       "      <td>False</td>\n",
       "      <td>False</td>\n",
       "      <td>False</td>\n",
       "      <td>False</td>\n",
       "      <td>False</td>\n",
       "    </tr>\n",
       "    <tr>\n",
       "      <th>2</th>\n",
       "      <td>2016-05-02 13:48:00</td>\n",
       "      <td>2016-05-02 13:48:00</td>\n",
       "      <td>5/2/16</td>\n",
       "      <td>1:48 PM</td>\n",
       "      <td>1:48 PM</td>\n",
       "      <td>Wafer fit perfectly on top of cup</td>\n",
       "      <td>Barb's Office</td>\n",
       "      <td>HAPPY</td>\n",
       "      <td>10</td>\n",
       "      <td>10</td>\n",
       "      <td>...</td>\n",
       "      <td>0</td>\n",
       "      <td>1</td>\n",
       "      <td>False</td>\n",
       "      <td>False</td>\n",
       "      <td>False</td>\n",
       "      <td>False</td>\n",
       "      <td>False</td>\n",
       "      <td>False</td>\n",
       "      <td>False</td>\n",
       "      <td>False</td>\n",
       "    </tr>\n",
       "    <tr>\n",
       "      <th>3</th>\n",
       "      <td>2016-05-02 14:31:00</td>\n",
       "      <td>2016-05-02 14:50:00</td>\n",
       "      <td>5/2/16</td>\n",
       "      <td>2:31 PM</td>\n",
       "      <td>2:50 PM</td>\n",
       "      <td>Sorting through magnetic pins</td>\n",
       "      <td>Barb's Office</td>\n",
       "      <td>Anxious</td>\n",
       "      <td>5</td>\n",
       "      <td>0</td>\n",
       "      <td>...</td>\n",
       "      <td>0</td>\n",
       "      <td>1</td>\n",
       "      <td>False</td>\n",
       "      <td>False</td>\n",
       "      <td>False</td>\n",
       "      <td>False</td>\n",
       "      <td>False</td>\n",
       "      <td>False</td>\n",
       "      <td>False</td>\n",
       "      <td>False</td>\n",
       "    </tr>\n",
       "    <tr>\n",
       "      <th>4</th>\n",
       "      <td>2016-05-02 15:10:00</td>\n",
       "      <td>2016-05-02 15:14:00</td>\n",
       "      <td>5/2/16</td>\n",
       "      <td>3:10 PM</td>\n",
       "      <td>3:14 PM</td>\n",
       "      <td>Trying to figure out where photos went</td>\n",
       "      <td>Barb's Office</td>\n",
       "      <td>ANXIOUS, CONFUSED</td>\n",
       "      <td>9</td>\n",
       "      <td>0</td>\n",
       "      <td>...</td>\n",
       "      <td>0</td>\n",
       "      <td>1</td>\n",
       "      <td>False</td>\n",
       "      <td>False</td>\n",
       "      <td>False</td>\n",
       "      <td>False</td>\n",
       "      <td>False</td>\n",
       "      <td>False</td>\n",
       "      <td>False</td>\n",
       "      <td>False</td>\n",
       "    </tr>\n",
       "  </tbody>\n",
       "</table>\n",
       "<p>5 rows × 44 columns</p>\n",
       "</div>"
      ],
      "text/plain": [
       "            starttime             endtime    date    start      end  \\\n",
       "0 2016-05-02 13:25:00 2016-05-02 13:28:00  5/2/16  1:25 PM  1:28 PM   \n",
       "1 2016-05-02 13:40:00 2016-05-02 00:00:00  5/2/16  1:40 PM      NaN   \n",
       "2 2016-05-02 13:48:00 2016-05-02 13:48:00  5/2/16  1:48 PM  1:48 PM   \n",
       "3 2016-05-02 14:31:00 2016-05-02 14:50:00  5/2/16  2:31 PM  2:50 PM   \n",
       "4 2016-05-02 15:10:00 2016-05-02 15:14:00  5/2/16  3:10 PM  3:14 PM   \n",
       "\n",
       "                                 activity       location         generalemo  \\\n",
       "0                         Trying on watch  Barb's Office            Excited   \n",
       "1                 Editing photos for work  Barb's Office      Streeeeeessed   \n",
       "2       Wafer fit perfectly on top of cup  Barb's Office              HAPPY   \n",
       "3           Sorting through magnetic pins  Barb's Office            Anxious   \n",
       "4  Trying to figure out where photos went  Barb's Office  ANXIOUS, CONFUSED   \n",
       "\n",
       "   qualitative  excited  ...    inthungry  intbored  exercise  thesis  sarah  \\\n",
       "0            8        8  ...            0         1     False   False  False   \n",
       "1            6        0  ...            0         1     False   False  False   \n",
       "2           10       10  ...            0         1     False   False  False   \n",
       "3            5        0  ...            0         1     False   False  False   \n",
       "4            9        0  ...            0         1     False   False  False   \n",
       "\n",
       "    barb    sol  arash   home   work  \n",
       "0  False  False  False  False  False  \n",
       "1  False  False  False  False  False  \n",
       "2  False  False  False  False  False  \n",
       "3  False  False  False  False  False  \n",
       "4  False  False  False  False  False  \n",
       "\n",
       "[5 rows x 44 columns]"
      ]
     },
     "execution_count": 93,
     "metadata": {},
     "output_type": "execute_result"
    }
   ],
   "source": [
    "\n",
    "sallyJournal['boolexcited'] =  sallyJournal['excited'] > 0\n",
    "sallyJournal['boolhappy'] =  sallyJournal['happy'] > 0\n",
    "sallyJournal['boolcalm'] =  sallyJournal['calm'] > 0\n",
    "sallyJournal['boolanxious'] =  sallyJournal['anxious'] > 0\n",
    "sallyJournal['boolsad'] =  sallyJournal['sad'] > 0\n",
    "sallyJournal['boolangry'] =  sallyJournal['angry'] > 0\n",
    "sallyJournal['booltired'] =  sallyJournal['tired'] > 0\n",
    "sallyJournal['boolhungry'] =  sallyJournal['hungry'] > 0\n",
    "sallyJournal['boolbored'] =  sallyJournal['bored'] > 0\n",
    "\n",
    "\n",
    "for i in range(0, sallyJournal.shape[0]):\n",
    "#     sallyJournal['intqual'] = int(sallyJournal.iloc[i, 8])\n",
    "    sallyJournal['intexcited'] = int(sallyJournal.iloc[i, 9])\n",
    "    sallyJournal['inthappy'] = int(sallyJournal.iloc[i, 10]) \n",
    "    sallyJournal['intcalm'] = int(sallyJournal.iloc[i, 11])\n",
    "    sallyJournal['intanxious'] = int(sallyJournal.iloc[i, 12])\n",
    "    sallyJournal['intsad'] = int(sallyJournal.iloc[i, 13]) \n",
    "    sallyJournal['intangry'] = int(sallyJournal.iloc[i, 14]) \n",
    "    sallyJournal['inttired'] = int(sallyJournal.iloc[i, 15]) \n",
    "    sallyJournal['inthungry'] = int(sallyJournal.iloc[i, 16]) \n",
    "    sallyJournal['intbored'] = int(sallyJournal.iloc[i, 17]) \n",
    "    \n",
    "    \n",
    "sallyJournal['exercise'] = sallyJournal['activity'].str.contains('exercise')\n",
    "sallyJournal['thesis'] = sallyJournal['activity'].str.contains('thesis')\n",
    "sallyJournal['sarah'] = sallyJournal['activity'].str.contains('sarah')\n",
    "sallyJournal['barb'] = sallyJournal['activity'].str.contains('barb')\n",
    "sallyJournal['sol'] = sallyJournal['activity'].str.contains('sol')\n",
    "sallyJournal['arash'] = sallyJournal['activity'].str.contains('arash')\n",
    "\n",
    "sallyJournal['home'] = sallyJournal['location'].str.contains('home')\n",
    "sallyJournal['work'] = sallyJournal['location'].str.contains(\"barb's office\")\n",
    "\n",
    "\n",
    "\n",
    "\n",
    "\n",
    "\n",
    "\n",
    "boolexcited = sallyJournal.iloc[:, 18].values.reshape(sallyJournal.shape[0], 1)\n",
    "boolhappy = sallyJournal.iloc[:, 19].values.reshape(sallyJournal.shape[0], 1)\n",
    "boolcalm = sallyJournal.iloc[:, 20].values.reshape(sallyJournal.shape[0], 1)\n",
    "boolanxious = sallyJournal.iloc[:, 21].values.reshape(sallyJournal.shape[0], 1)\n",
    "boolsad = sallyJournal.iloc[:, 22].values.reshape(sallyJournal.shape[0], 1)\n",
    "boolangry = sallyJournal.iloc[:, 23].values.reshape(sallyJournal.shape[0], 1)\n",
    "booltired = sallyJournal.iloc[:, 24].values.reshape(sallyJournal.shape[0], 1)\n",
    "boolhungry = sallyJournal.iloc[:, 25].values.reshape(sallyJournal.shape[0], 1)\n",
    "boolbored = sallyJournal.iloc[:, 26].values.reshape(sallyJournal.shape[0], 1)\n",
    "intexcited = sallyJournal.iloc[:, 27].values.reshape(sallyJournal.shape[0], 1)\n",
    "inthappy = sallyJournal.iloc[:, 28].values.reshape(sallyJournal.shape[0], 1)\n",
    "intcalm = sallyJournal.iloc[:, 29].values.reshape(sallyJournal.shape[0], 1)\n",
    "intanxious = sallyJournal.iloc[:, 30].values.reshape(sallyJournal.shape[0], 1)\n",
    "intsad = sallyJournal.iloc[:, 31].values.reshape(sallyJournal.shape[0], 1)\n",
    "intangry = sallyJournal.iloc[:, 32].values.reshape(sallyJournal.shape[0], 1)\n",
    "inttired = sallyJournal.iloc[:, 33].values.reshape(sallyJournal.shape[0], 1)\n",
    "inthungry = sallyJournal.iloc[:, 34].values.reshape(sallyJournal.shape[0], 1)\n",
    "intbored = sallyJournal.iloc[:, 35].values.reshape(sallyJournal.shape[0], 1)\n",
    "exercise = sallyJournal.iloc[:, 36].values.reshape(sallyJournal.shape[0], 1)\n",
    "thesis = sallyJournal.iloc[:, 37].values.reshape(sallyJournal.shape[0], 1)\n",
    "sarah = sallyJournal.iloc[:, 38].values.reshape(sallyJournal.shape[0], 1)\n",
    "barb = sallyJournal.iloc[:, 39].values.reshape(sallyJournal.shape[0], 1)\n",
    "sol = sallyJournal.iloc[:, 40].values.reshape(sallyJournal.shape[0], 1)\n",
    "arash = sallyJournal.iloc[:, 41].values.reshape(sallyJournal.shape[0], 1)\n",
    "work = sallyJournal.iloc[:, 42].values.reshape(sallyJournal.shape[0], 1)\n",
    "home = sallyJournal.iloc[:, 43].values.reshape(sallyJournal.shape[0], 1)\n",
    "\n",
    "sallyJournal.head(5)"
   ]
  },
  {
   "cell_type": "code",
   "execution_count": 94,
   "metadata": {
    "collapsed": false
   },
   "outputs": [],
   "source": [
    "# barbJournal.dtypes"
   ]
  },
  {
   "cell_type": "code",
   "execution_count": 95,
   "metadata": {
    "collapsed": false
   },
   "outputs": [],
   "source": [
    "# barbJournal.excited.convert_objects(convert_numeric=True)"
   ]
  },
  {
   "cell_type": "code",
   "execution_count": 96,
   "metadata": {
    "collapsed": false
   },
   "outputs": [],
   "source": [
    "# function that takes any journal or activity data and creates indicators for activities or emotions\n",
    "\n",
    "def makeIndicators(newvar, metricData, journalData, journal_startdatetime_loc, journal_enddatetime_loc, journal_activity_loc):\n",
    "    '''\n",
    "    Create boolean indicator variable for activities or emotions\n",
    "    newvar, string for name of new indicator variable\n",
    "    activity, string that matches the name of the activity or emotion in the journalData data frame\n",
    "    bioData, data frame of input biometric data\n",
    "    journalData, data frame of input journal or activity data\n",
    "    journal_startdatetime_loc, int of position of the start datetime in journalData\n",
    "    journal_enddatetime_loc, int of position of the end datetime in journalData\n",
    "    journal_activity_loc, int of position of the activity or emotion in journalData\n",
    "    '''\n",
    "\n",
    "    metricData[newvar] = False\n",
    "\n",
    "    for i in range(0, journalData.shape[0]):\n",
    "        metricData['xlt'] = (metricData['timestamp'] >= pd.to_datetime(journalData.iloc[i, journal_startdatetime_loc]))\n",
    "        metricData['xgt'] = (metricData['timestamp'] <= pd.to_datetime(journalData.iloc[i, journal_enddatetime_loc]))\n",
    "#         metricData['xw'] = (journalData.iloc[i, journal_activity_loc])\n",
    "        metricData['xw'] = (journalData.iloc[i, journal_activity_loc] == True)\n",
    "        metricData['xsum'] = metricData['xlt'].astype(int) + metricData['xgt'].astype(int) + metricData['xw'].astype(int)\n",
    "        metricData.loc[metricData['xsum']==3, newvar] = True\n",
    "    \n",
    "    metricData = metricData.drop(['xlt', 'xgt', 'xw', 'xsum'], axis=1)\n",
    "    return metricData"
   ]
  },
  {
   "cell_type": "code",
   "execution_count": 97,
   "metadata": {
    "collapsed": false
   },
   "outputs": [],
   "source": [
    "# indicator for walking\n",
    "totalData = makeIndicators('excitement', sallyMetrics, sallyJournal, 0, 1, 18)\n",
    "totalData = makeIndicators('happy', sallyMetrics, sallyJournal, 0, 1, 19)\n",
    "totalData = makeIndicators('calm', sallyMetrics, sallyJournal, 0, 1, 20)\n",
    "totalData = makeIndicators('anxious', sallyMetrics, sallyJournal, 0, 1, 21)\n",
    "totalData = makeIndicators('sad', sallyMetrics, sallyJournal, 0, 1, 22)\n",
    "totalData = makeIndicators('angry', sallyMetrics, sallyJournal, 0, 1, 23)\n",
    "totalData = makeIndicators('hungry', sallyMetrics, sallyJournal, 0, 1, 24)\n",
    "totalData = makeIndicators('tired', sallyMetrics, sallyJournal, 0, 1, 25)\n",
    "totalData = makeIndicators('bored', sallyMetrics, sallyJournal, 0, 1, 26)\n",
    "\n",
    "totalData = makeIndicators('exercise', sallyMetrics, sallyJournal, 0, 1, 36)\n",
    "totalData = makeIndicators('thesis', sallyMetrics, sallyJournal, 0, 1, 37)\n",
    "totalData = makeIndicators('sarah', sallyMetrics, sallyJournal, 0, 1, 38)\n",
    "totalData = makeIndicators('barb', sallyMetrics, sallyJournal, 0, 1, 39)\n",
    "totalData = makeIndicators('sol', sallyMetrics, sallyJournal, 0, 1, 40)\n",
    "totalData = makeIndicators('arash', sallyMetrics, sallyJournal, 0, 1, 41)\n",
    "totalData = makeIndicators('work', sallyMetrics, sallyJournal, 0, 1, 42)\n",
    "totalData = makeIndicators('home', sallyMetrics, sallyJournal, 0, 1, 43)"
   ]
  },
  {
   "cell_type": "code",
   "execution_count": 98,
   "metadata": {
    "collapsed": false
   },
   "outputs": [
    {
     "name": "stdout",
     "output_type": "stream",
     "text": [
      "          heartrate         steps      calories           gsr      skintemp  \\\n",
      "count  11520.000000  11520.000000  11520.000000  11520.000000  11520.000000   \n",
      "mean      38.592101      4.214844      0.689028      0.007861     39.730790   \n",
      "std       44.972087     19.327125      1.820190      0.171228     44.611131   \n",
      "min        0.000000      0.000000      0.000000      0.000000      0.000000   \n",
      "25%        0.000000      0.000000      0.000000      0.000000      0.000000   \n",
      "50%        0.000000      0.000000      0.000000      0.000000      0.000000   \n",
      "75%       81.000000      0.000000      1.000000      0.000063     88.700000   \n",
      "max      160.000000    695.000000    163.200000      6.650000     97.700000   \n",
      "\n",
      "            airtemp   excitement       happy       calm    anxious  ...    \\\n",
      "count  11520.000000        11520       11520      11520      11520  ...     \n",
      "mean      38.305477  0.000434028  0.00190972  0.0237847  0.0703125  ...     \n",
      "std       43.080236    0.0208297   0.0436605   0.152384   0.255684  ...     \n",
      "min        0.000000        False       False      False      False  ...     \n",
      "25%        0.000000            0           0          0          0  ...     \n",
      "50%        0.000000            0           0          0          0  ...     \n",
      "75%       84.200000            0           0          0          0  ...     \n",
      "max       97.700000         True        True       True       True  ...     \n",
      "\n",
      "             tired        bored exercise thesis  sarah   barb    sol  arash  \\\n",
      "count        11520        11520    11520  11520  11520  11520  11520  11520   \n",
      "mean   8.68056e-05  8.68056e-05        0      0      0      0      0      0   \n",
      "std     0.00931695   0.00931695        0      0      0      0      0      0   \n",
      "min          False        False    False  False  False  False  False  False   \n",
      "25%              0            0        0      0      0      0      0      0   \n",
      "50%              0            0        0      0      0      0      0      0   \n",
      "75%              0            0        0      0      0      0      0      0   \n",
      "max           True         True    False  False  False  False  False  False   \n",
      "\n",
      "              work   home  \n",
      "count        11520  11520  \n",
      "mean   0.000607639      0  \n",
      "std      0.0246439      0  \n",
      "min          False  False  \n",
      "25%              0      0  \n",
      "50%              0      0  \n",
      "75%              0      0  \n",
      "max           True  False  \n",
      "\n",
      "[8 rows x 23 columns]\n"
     ]
    }
   ],
   "source": [
    "print(totalData.describe())"
   ]
  },
  {
   "cell_type": "code",
   "execution_count": 99,
   "metadata": {
    "collapsed": false
   },
   "outputs": [
    {
     "name": "stdout",
     "output_type": "stream",
     "text": [
      "            timestamp  heartrate  steps  calories       gsr  skintemp  \\\n",
      "0 2016-05-02 00:00:00         71      0       0.9  0.000056      91.4   \n",
      "1 2016-05-02 00:01:00         71      0       1.1  0.000056      91.4   \n",
      "2 2016-05-02 00:02:00         68      0       1.0  0.000058      91.4   \n",
      "3 2016-05-02 00:03:00         68      0       1.0  0.000058      92.3   \n",
      "4 2016-05-02 00:04:00         70      0       1.1  0.000060      92.3   \n",
      "\n",
      "   airtemp excitement  happy   calm  ...    tired  bored exercise thesis  \\\n",
      "0     88.7      False  False  False  ...    False  False    False  False   \n",
      "1     89.6      False  False  False  ...    False  False    False  False   \n",
      "2     90.5      False  False  False  ...    False  False    False  False   \n",
      "3     91.4      False  False  False  ...    False  False    False  False   \n",
      "4     91.4      False  False  False  ...    False  False    False  False   \n",
      "\n",
      "   sarah   barb    sol  arash   work   home  \n",
      "0  False  False  False  False  False  False  \n",
      "1  False  False  False  False  False  False  \n",
      "2  False  False  False  False  False  False  \n",
      "3  False  False  False  False  False  False  \n",
      "4  False  False  False  False  False  False  \n",
      "\n",
      "[5 rows x 24 columns]\n"
     ]
    }
   ],
   "source": [
    "print(totalData.head())"
   ]
  },
  {
   "cell_type": "code",
   "execution_count": 100,
   "metadata": {
    "collapsed": false
   },
   "outputs": [],
   "source": [
    "totalData.to_csv('totsally.csv')"
   ]
  },
  {
   "cell_type": "code",
   "execution_count": 101,
   "metadata": {
    "collapsed": false
   },
   "outputs": [
    {
     "data": {
      "text/html": [
       "<div>\n",
       "<table border=\"1\" class=\"dataframe\">\n",
       "  <thead>\n",
       "    <tr style=\"text-align: right;\">\n",
       "      <th></th>\n",
       "      <th>timestamp</th>\n",
       "      <th>heartrate</th>\n",
       "      <th>steps</th>\n",
       "      <th>calories</th>\n",
       "      <th>gsr</th>\n",
       "      <th>skintemp</th>\n",
       "      <th>airtemp</th>\n",
       "      <th>excitement</th>\n",
       "      <th>happy</th>\n",
       "      <th>calm</th>\n",
       "      <th>...</th>\n",
       "      <th>tired</th>\n",
       "      <th>bored</th>\n",
       "      <th>exercise</th>\n",
       "      <th>thesis</th>\n",
       "      <th>sarah</th>\n",
       "      <th>barb</th>\n",
       "      <th>sol</th>\n",
       "      <th>arash</th>\n",
       "      <th>work</th>\n",
       "      <th>home</th>\n",
       "    </tr>\n",
       "  </thead>\n",
       "  <tbody>\n",
       "    <tr>\n",
       "      <th>0</th>\n",
       "      <td>2016-05-02 00:00:00</td>\n",
       "      <td>71</td>\n",
       "      <td>0</td>\n",
       "      <td>0.9</td>\n",
       "      <td>0.000056</td>\n",
       "      <td>91.4</td>\n",
       "      <td>88.7</td>\n",
       "      <td>False</td>\n",
       "      <td>False</td>\n",
       "      <td>False</td>\n",
       "      <td>...</td>\n",
       "      <td>False</td>\n",
       "      <td>False</td>\n",
       "      <td>False</td>\n",
       "      <td>False</td>\n",
       "      <td>False</td>\n",
       "      <td>False</td>\n",
       "      <td>False</td>\n",
       "      <td>False</td>\n",
       "      <td>False</td>\n",
       "      <td>False</td>\n",
       "    </tr>\n",
       "    <tr>\n",
       "      <th>1</th>\n",
       "      <td>2016-05-02 00:01:00</td>\n",
       "      <td>71</td>\n",
       "      <td>0</td>\n",
       "      <td>1.1</td>\n",
       "      <td>0.000056</td>\n",
       "      <td>91.4</td>\n",
       "      <td>89.6</td>\n",
       "      <td>False</td>\n",
       "      <td>False</td>\n",
       "      <td>False</td>\n",
       "      <td>...</td>\n",
       "      <td>False</td>\n",
       "      <td>False</td>\n",
       "      <td>False</td>\n",
       "      <td>False</td>\n",
       "      <td>False</td>\n",
       "      <td>False</td>\n",
       "      <td>False</td>\n",
       "      <td>False</td>\n",
       "      <td>False</td>\n",
       "      <td>False</td>\n",
       "    </tr>\n",
       "    <tr>\n",
       "      <th>2</th>\n",
       "      <td>2016-05-02 00:02:00</td>\n",
       "      <td>68</td>\n",
       "      <td>0</td>\n",
       "      <td>1.0</td>\n",
       "      <td>0.000058</td>\n",
       "      <td>91.4</td>\n",
       "      <td>90.5</td>\n",
       "      <td>False</td>\n",
       "      <td>False</td>\n",
       "      <td>False</td>\n",
       "      <td>...</td>\n",
       "      <td>False</td>\n",
       "      <td>False</td>\n",
       "      <td>False</td>\n",
       "      <td>False</td>\n",
       "      <td>False</td>\n",
       "      <td>False</td>\n",
       "      <td>False</td>\n",
       "      <td>False</td>\n",
       "      <td>False</td>\n",
       "      <td>False</td>\n",
       "    </tr>\n",
       "    <tr>\n",
       "      <th>3</th>\n",
       "      <td>2016-05-02 00:03:00</td>\n",
       "      <td>68</td>\n",
       "      <td>0</td>\n",
       "      <td>1.0</td>\n",
       "      <td>0.000058</td>\n",
       "      <td>92.3</td>\n",
       "      <td>91.4</td>\n",
       "      <td>False</td>\n",
       "      <td>False</td>\n",
       "      <td>False</td>\n",
       "      <td>...</td>\n",
       "      <td>False</td>\n",
       "      <td>False</td>\n",
       "      <td>False</td>\n",
       "      <td>False</td>\n",
       "      <td>False</td>\n",
       "      <td>False</td>\n",
       "      <td>False</td>\n",
       "      <td>False</td>\n",
       "      <td>False</td>\n",
       "      <td>False</td>\n",
       "    </tr>\n",
       "    <tr>\n",
       "      <th>4</th>\n",
       "      <td>2016-05-02 00:04:00</td>\n",
       "      <td>70</td>\n",
       "      <td>0</td>\n",
       "      <td>1.1</td>\n",
       "      <td>0.000060</td>\n",
       "      <td>92.3</td>\n",
       "      <td>91.4</td>\n",
       "      <td>False</td>\n",
       "      <td>False</td>\n",
       "      <td>False</td>\n",
       "      <td>...</td>\n",
       "      <td>False</td>\n",
       "      <td>False</td>\n",
       "      <td>False</td>\n",
       "      <td>False</td>\n",
       "      <td>False</td>\n",
       "      <td>False</td>\n",
       "      <td>False</td>\n",
       "      <td>False</td>\n",
       "      <td>False</td>\n",
       "      <td>False</td>\n",
       "    </tr>\n",
       "  </tbody>\n",
       "</table>\n",
       "<p>5 rows × 24 columns</p>\n",
       "</div>"
      ],
      "text/plain": [
       "            timestamp  heartrate  steps  calories       gsr  skintemp  \\\n",
       "0 2016-05-02 00:00:00         71      0       0.9  0.000056      91.4   \n",
       "1 2016-05-02 00:01:00         71      0       1.1  0.000056      91.4   \n",
       "2 2016-05-02 00:02:00         68      0       1.0  0.000058      91.4   \n",
       "3 2016-05-02 00:03:00         68      0       1.0  0.000058      92.3   \n",
       "4 2016-05-02 00:04:00         70      0       1.1  0.000060      92.3   \n",
       "\n",
       "   airtemp excitement  happy   calm  ...    tired  bored exercise thesis  \\\n",
       "0     88.7      False  False  False  ...    False  False    False  False   \n",
       "1     89.6      False  False  False  ...    False  False    False  False   \n",
       "2     90.5      False  False  False  ...    False  False    False  False   \n",
       "3     91.4      False  False  False  ...    False  False    False  False   \n",
       "4     91.4      False  False  False  ...    False  False    False  False   \n",
       "\n",
       "   sarah   barb    sol  arash   work   home  \n",
       "0  False  False  False  False  False  False  \n",
       "1  False  False  False  False  False  False  \n",
       "2  False  False  False  False  False  False  \n",
       "3  False  False  False  False  False  False  \n",
       "4  False  False  False  False  False  False  \n",
       "\n",
       "[5 rows x 24 columns]"
      ]
     },
     "execution_count": 101,
     "metadata": {},
     "output_type": "execute_result"
    }
   ],
   "source": [
    "totalData.head(5)"
   ]
  },
  {
   "cell_type": "code",
   "execution_count": 102,
   "metadata": {
    "collapsed": false
   },
   "outputs": [
    {
     "name": "stdout",
     "output_type": "stream",
     "text": [
      "(11520, 28)\n",
      "            timestamp  heartrate  steps  calories       gsr  skintemp  \\\n",
      "0 2016-05-02 00:00:00         71      0       0.9  0.000056      91.4   \n",
      "1 2016-05-02 00:01:00         71      0       1.1  0.000056      91.4   \n",
      "2 2016-05-02 00:02:00         68      0       1.0  0.000058      91.4   \n",
      "3 2016-05-02 00:03:00         68      0       1.0  0.000058      92.3   \n",
      "4 2016-05-02 00:04:00         70      0       1.1  0.000060      92.3   \n",
      "\n",
      "   airtemp excitement  happy   calm ...  sarah   barb    sol  arash   work  \\\n",
      "0     88.7      False  False  False ...  False  False  False  False  False   \n",
      "1     89.6      False  False  False ...  False  False  False  False  False   \n",
      "2     90.5      False  False  False ...  False  False  False  False  False   \n",
      "3     91.4      False  False  False ...  False  False  False  False  False   \n",
      "4     91.4      False  False  False ...  False  False  False  False  False   \n",
      "\n",
      "    home weekday month hour min  \n",
      "0  False       0     5    0   0  \n",
      "1  False       0     5    0   1  \n",
      "2  False       0     5    0   2  \n",
      "3  False       0     5    0   3  \n",
      "4  False       0     5    0   4  \n",
      "\n",
      "[5 rows x 28 columns]\n"
     ]
    }
   ],
   "source": [
    "# find day of week (0-6, Mon-Sun)\n",
    "totalData['weekday'] = totalData['timestamp'].dt.weekday\n",
    "totalData['month'] = totalData['timestamp'].dt.month\n",
    "totalData['hour'] = totalData['timestamp'].dt.hour\n",
    "totalData['min'] = totalData['timestamp'].dt.minute\n",
    "\n",
    "\n",
    "print(totalData.shape)\n",
    "print(totalData.head(5))"
   ]
  },
  {
   "cell_type": "code",
   "execution_count": 103,
   "metadata": {
    "collapsed": false
   },
   "outputs": [],
   "source": [
    "heartrate = totalData.iloc[:, 1].values.reshape(totalData.shape[0], 1)\n",
    "steps = totalData.iloc[:, 2].values.reshape(totalData.shape[0], 1)\n",
    "calories = totalData.iloc[:, 3].values.reshape(totalData.shape[0], 1)\n",
    "gsr = totalData.iloc[:, 4].values.reshape(totalData.shape[0], 1)\n",
    "skintemp = totalData.iloc[:, 5].values.reshape(totalData.shape[0], 1)\n",
    "airtemp = totalData.iloc[:, 6].values.reshape(totalData.shape[0], 1)\n",
    "# activity = totalData.iloc[:, 17].values.reshape(totalData.shape[0], 1)\n",
    "exercise = totalData.iloc[:, 17].values.reshape(totalData.shape[0], 1)\n",
    "thesis = totalData.iloc[:, 18].values.reshape(totalData.shape[0], 1)\n",
    "sarah = totalData.iloc[:, 19].values.reshape(totalData.shape[0], 1)\n",
    "barb = totalData.iloc[:, 20].values.reshape(totalData.shape[0], 1)\n",
    "sol = totalData.iloc[:, 21].values.reshape(totalData.shape[0], 1)\n",
    "arash = totalData.iloc[:, 22].values.reshape(totalData.shape[0], 1)\n",
    "work = totalData.iloc[:, 23].values.reshape(totalData.shape[0], 1)\n",
    "home = totalData.iloc[:, 24].values.reshape(totalData.shape[0], 1)\n",
    "# DayOfWeek = totalData.iloc[:, 25].values.reshape(totalData.shape[0], 1)\n",
    "# Month = totalData.iloc[:, 26].values.reshape(totalData.shape[0], 1)\n",
    "weekday = totalData.iloc[:, 25].values.reshape(totalData.shape[0], 1)\n",
    "# month = totalData.iloc[:, 29].values.reshape(totalData.shape[0], 1)\n",
    "hour = totalData.iloc[:, 26].values.reshape(totalData.shape[0], 1)\n",
    "curmin = totalData.iloc[:, 27].values.reshape(totalData.shape[0], 1)"
   ]
  },
  {
   "cell_type": "code",
   "execution_count": 104,
   "metadata": {
    "collapsed": false
   },
   "outputs": [
    {
     "data": {
      "text/plain": [
       "(11520, 17)"
      ]
     },
     "execution_count": 104,
     "metadata": {},
     "output_type": "execute_result"
    }
   ],
   "source": [
    "# concatenate to numpy dataset\n",
    "X = np.concatenate((\n",
    "        heartrate, \n",
    "        steps, \n",
    "        calories, \n",
    "        gsr, \n",
    "        skintemp, \n",
    "        airtemp, \n",
    "        exercise, \n",
    "        thesis, \n",
    "        sarah, \n",
    "        barb, \n",
    "        sol, \n",
    "        arash, \n",
    "        work, \n",
    "        home, \n",
    "        weekday, \n",
    "        hour, \n",
    "        curmin\n",
    "    ), axis=1)\n",
    "\n",
    "X.shape"
   ]
  },
  {
   "cell_type": "code",
   "execution_count": 105,
   "metadata": {
    "collapsed": false
   },
   "outputs": [
    {
     "data": {
      "text/plain": [
       "(11520,)"
      ]
     },
     "execution_count": 105,
     "metadata": {},
     "output_type": "execute_result"
    }
   ],
   "source": [
    "# define y\n",
    "y = totalData.excitement.values\n",
    "y.shape"
   ]
  },
  {
   "cell_type": "code",
   "execution_count": 106,
   "metadata": {
    "collapsed": true
   },
   "outputs": [],
   "source": [
    "# create training and test sets\n",
    "from sklearn.cross_validation import train_test_split\n",
    "\n",
    "X_train, X_test, y_train, y_test = train_test_split(\n",
    "         X, y, test_size=0.3, random_state=0)"
   ]
  },
  {
   "cell_type": "code",
   "execution_count": 107,
   "metadata": {
    "collapsed": true
   },
   "outputs": [],
   "source": [
    "# feature scaling\n",
    "from sklearn.preprocessing import StandardScaler\n",
    "sc = StandardScaler(with_mean=False)\n",
    "sc.fit(X_train)\n",
    "X_train_std = sc.transform(X_train)\n",
    "X_test_std = sc.transform(X_test)"
   ]
  },
  {
   "cell_type": "code",
   "execution_count": 108,
   "metadata": {
    "collapsed": true
   },
   "outputs": [],
   "source": [
    "# report on training and test sets\n",
    "global SVMerror, SVMacc, SVMtp, SVMtn, LRerror, LRacc, LRtp, LRtn, NBerror, NBacc, NBtp, NBtn, Perror, Pacc, Ptp, Ptn\n",
    "\n",
    "\n",
    "\n",
    "def print_results(model):\n",
    "    #print('Error rate on training set: ')\n",
    "    erTRAIN = ((y_train != y_pred).sum() / X_train.shape[0])\n",
    "    #print('Accuracy rate on training set: ')\n",
    "    AccTRAIN = (1 - (y_train != y_pred).sum() / X_train.shape[0])\n",
    "    #print('True positive rate on training tet:')\n",
    "    TruPosTRAIN = ((y_train==True) & (y_pred==True)).sum() / y_train.sum()\n",
    "    #TruNegTEST = (((y_train==False) & (y_pred_train==False)).sum() / (y_train.shape[0] - y_train.sum()))\n",
    "    #print('**************')\n",
    "    #('Error rate on test set: ')\n",
    "    erTEST = ((y_test != y_pred_test).sum() / X_test.shape[0])\n",
    "    #print('Accuracy rate on test set: ')\n",
    "    AccTEST = (1 - (y_test != y_pred_test).sum() / X_test.shape[0])\n",
    "    #print('True positive rate on test set')\n",
    "    TruPosTEST = (((y_test==True) & (y_pred_test==True)).sum() / y_test.sum())\n",
    "    #print('True negative rate on test set')\n",
    "    TruNegTEST = (((y_test==False) & (y_pred_test==False)).sum() / (y_test.shape[0] - y_test.sum()))\n",
    "    data_rows = [('Error Rate', erTRAIN, erTEST),\n",
    "                 ('Accuracy Rate', AccTRAIN, AccTEST),\n",
    "                 ('True Positives', TruPosTRAIN, TruPosTEST),\n",
    "                 ('True Negatives', '--', TruNegTEST)]\n",
    "    t = Table(rows=data_rows, names=(model, 'Training Set', 'Test Set'), meta={'name': model + ': Training and Test Set Results'})\n",
    "    print(t)\n",
    "    if model == 'SVM':\n",
    "        SVMerror = erTEST\n",
    "        SVMacc = AccTEST\n",
    "        SVMtp = TruPosTEST\n",
    "        SVMtn = TruNegTEST\n",
    "        return(SVMerror, SVMacc, SVMtp, SVMtn)\n",
    "    elif model == 'Logistic Regression':\n",
    "        LRerror = erTEST\n",
    "        LRacc = AccTEST\n",
    "        LRtp = TruPosTEST\n",
    "        LRtn = TruNegTEST\n",
    "        return(LRerror, LRacc, LRtp, LRtn)\n",
    "    elif model == 'Naive Bayes':\n",
    "        NBerror = erTEST\n",
    "        NBacc = AccTEST\n",
    "        NBtp = TruPosTEST\n",
    "        NBtn = TruNegTEST\n",
    "        return(NBerror, NBacc, NBtp, NBtn)\n",
    "    elif model == 'Perceptron':\n",
    "        Perror = erTEST\n",
    "        Pacc = AccTEST\n",
    "        Ptp = TruPosTEST\n",
    "        Ptn = TruNegTEST\n",
    "        return(Perror, Pacc, Ptp, Ptn)\n",
    "    print('done')\n",
    "      \n",
    "    #t.show_in_browser(jsviewer=True) \n",
    "    \n",
    "    \n",
    "def all_models_table():\n",
    "    all_rows = [('SVM', SVMerror, SVMacc, SVMtp, SVMtn),\n",
    "            ('Logistic Regression', LRerror, LRacc, LRtp, LRtn),\n",
    "            ('Naive Bayes', NBerror, NBacc, NBtp, NBtn),\n",
    "            ('Perceptron', Perror, Pacc, Ptp, Ptn)]\n",
    "    tt = Table(rows=all_rows, names=('', 'Error Rate', 'Accuracy', 'True +', 'True -'), meta={'3/15/2016'})\n",
    "    print(tt)"
   ]
  },
  {
   "cell_type": "markdown",
   "metadata": {},
   "source": [
    "# Excited Model Results"
   ]
  },
  {
   "cell_type": "code",
   "execution_count": 109,
   "metadata": {
    "collapsed": false
   },
   "outputs": [
    {
     "name": "stdout",
     "output_type": "stream",
     "text": [
      "     SVM          Training Set        Test Set    \n",
      "-------------- ----------------- -----------------\n",
      "    Error Rate 0.000496031746032 0.000289351851852\n",
      " Accuracy Rate    0.999503968254    0.999710648148\n",
      "True Positives               0.0               0.0\n",
      "True Negatives                --               1.0\n"
     ]
    },
    {
     "data": {
      "text/plain": [
       "(0.00028935185185185184, 0.99971064814814814, 0.0, 1.0)"
      ]
     },
     "execution_count": 109,
     "metadata": {},
     "output_type": "execute_result"
    }
   ],
   "source": [
    "# MODEL: SVM, linear\n",
    "from sklearn import linear_model\n",
    "clf = linear_model.SGDClassifier()\n",
    "clf.fit(X_train_std, y_train)\n",
    "y_pred = clf.fit(X_train_std, y_train).predict(X_train_std)\n",
    "y_pred_test = clf.predict(X_test_std)\n",
    "print_results('SVM')"
   ]
  },
  {
   "cell_type": "code",
   "execution_count": 110,
   "metadata": {
    "collapsed": false
   },
   "outputs": [
    {
     "name": "stdout",
     "output_type": "stream",
     "text": [
      "Logistic Regression    Training Set        Test Set    \n",
      "------------------- ----------------- -----------------\n",
      "         Error Rate 0.000496031746032 0.000289351851852\n",
      "      Accuracy Rate    0.999503968254    0.999710648148\n",
      "     True Positives               0.0               0.0\n",
      "     True Negatives                --               1.0\n"
     ]
    },
    {
     "data": {
      "text/plain": [
       "(0.00028935185185185184, 0.99971064814814814, 0.0, 1.0)"
      ]
     },
     "execution_count": 110,
     "metadata": {},
     "output_type": "execute_result"
    }
   ],
   "source": [
    "# MODEL: logistic regression\n",
    "from sklearn import linear_model\n",
    "clf = linear_model.SGDClassifier(loss='log', n_iter=50, alpha=0.00001)\n",
    "clf.fit(X_train_std, y_train)\n",
    "y_pred = clf.fit(X_train_std, y_train).predict(X_train_std)\n",
    "y_pred_test = clf.predict(X_test_std)\n",
    "print_results('Logistic Regression')"
   ]
  },
  {
   "cell_type": "code",
   "execution_count": 111,
   "metadata": {
    "collapsed": false
   },
   "outputs": [
    {
     "name": "stdout",
     "output_type": "stream",
     "text": [
      " Naive Bayes     Training Set       Test Set    \n",
      "-------------- ---------------- ----------------\n",
      "    Error Rate 0.00322420634921 0.00376157407407\n",
      " Accuracy Rate   0.996775793651   0.996238425926\n",
      "True Positives              0.0              0.0\n",
      "True Negatives               --   0.996526772793\n"
     ]
    },
    {
     "data": {
      "text/plain": [
       "(0.0037615740740740739, 0.99623842592592593, 0.0, 0.99652677279305357)"
      ]
     },
     "execution_count": 111,
     "metadata": {},
     "output_type": "execute_result"
    }
   ],
   "source": [
    "# MODEL: Naive Bayes\n",
    "from sklearn.naive_bayes import MultinomialNB\n",
    "clf = MultinomialNB()\n",
    "clf.fit(X_train_std, y_train)\n",
    "y_pred = clf.fit(X_train_std, y_train).predict(X_train_std)\n",
    "y_pred_test = clf.predict(X_test_std)\n",
    "print_results('Naive Bayes')"
   ]
  },
  {
   "cell_type": "code",
   "execution_count": 112,
   "metadata": {
    "collapsed": false
   },
   "outputs": [
    {
     "name": "stdout",
     "output_type": "stream",
     "text": [
      "  Perceptron      Training Set        Test Set    \n",
      "-------------- ----------------- -----------------\n",
      "    Error Rate 0.000496031746032 0.000289351851852\n",
      " Accuracy Rate    0.999503968254    0.999710648148\n",
      "True Positives               0.0               0.0\n",
      "True Negatives                --               1.0\n"
     ]
    },
    {
     "data": {
      "text/plain": [
       "(0.00028935185185185184, 0.99971064814814814, 0.0, 1.0)"
      ]
     },
     "execution_count": 112,
     "metadata": {},
     "output_type": "execute_result"
    }
   ],
   "source": [
    "# Perceptron\n",
    "from sklearn import linear_model\n",
    "clf = linear_model.SGDClassifier(loss='perceptron')\n",
    "clf.fit(X_train_std, y_train)\n",
    "y_pred = clf.fit(X_train_std, y_train).predict(X_train_std)\n",
    "y_pred_test = clf.predict(X_test_std)\n",
    "print_results('Perceptron')"
   ]
  },
  {
   "cell_type": "code",
   "execution_count": 113,
   "metadata": {
    "collapsed": false
   },
   "outputs": [
    {
     "data": {
      "text/plain": [
       "(11520,)"
      ]
     },
     "execution_count": 113,
     "metadata": {},
     "output_type": "execute_result"
    }
   ],
   "source": [
    "# define y\n",
    "y = totalData.happy.values\n",
    "y.shape"
   ]
  },
  {
   "cell_type": "code",
   "execution_count": 114,
   "metadata": {
    "collapsed": true
   },
   "outputs": [],
   "source": [
    "# create training and test sets\n",
    "from sklearn.cross_validation import train_test_split\n",
    "\n",
    "X_train, X_test, y_train, y_test = train_test_split(\n",
    "         X, y, test_size=0.3, random_state=0)"
   ]
  },
  {
   "cell_type": "code",
   "execution_count": 115,
   "metadata": {
    "collapsed": true
   },
   "outputs": [],
   "source": [
    "# feature scaling\n",
    "from sklearn.preprocessing import StandardScaler\n",
    "sc = StandardScaler(with_mean=False)\n",
    "sc.fit(X_train)\n",
    "X_train_std = sc.transform(X_train)\n",
    "X_test_std = sc.transform(X_test)"
   ]
  },
  {
   "cell_type": "markdown",
   "metadata": {},
   "source": [
    "# Happy Model Results"
   ]
  },
  {
   "cell_type": "code",
   "execution_count": 116,
   "metadata": {
    "collapsed": false
   },
   "outputs": [
    {
     "name": "stdout",
     "output_type": "stream",
     "text": [
      "     SVM         Training Set       Test Set    \n",
      "-------------- ---------------- ----------------\n",
      "    Error Rate 0.00210813492063 0.00144675925926\n",
      " Accuracy Rate   0.997891865079   0.998553240741\n",
      "True Positives              0.0              0.0\n",
      "True Negatives               --              1.0\n"
     ]
    },
    {
     "data": {
      "text/plain": [
       "(0.0014467592592592592, 0.9985532407407407, 0.0, 1.0)"
      ]
     },
     "execution_count": 116,
     "metadata": {},
     "output_type": "execute_result"
    }
   ],
   "source": [
    "# MODEL: SVM, linear\n",
    "from sklearn import linear_model\n",
    "clf = linear_model.SGDClassifier()\n",
    "clf.fit(X_train_std, y_train)\n",
    "y_pred = clf.fit(X_train_std, y_train).predict(X_train_std)\n",
    "y_pred_test = clf.predict(X_test_std)\n",
    "print_results('SVM')"
   ]
  },
  {
   "cell_type": "code",
   "execution_count": 117,
   "metadata": {
    "collapsed": false
   },
   "outputs": [
    {
     "name": "stdout",
     "output_type": "stream",
     "text": [
      "Logistic Regression   Training Set       Test Set    \n",
      "------------------- ---------------- ----------------\n",
      "         Error Rate 0.00210813492063 0.00144675925926\n",
      "      Accuracy Rate   0.997891865079   0.998553240741\n",
      "     True Positives              0.0              0.0\n",
      "     True Negatives               --              1.0\n"
     ]
    },
    {
     "data": {
      "text/plain": [
       "(0.0014467592592592592, 0.9985532407407407, 0.0, 1.0)"
      ]
     },
     "execution_count": 117,
     "metadata": {},
     "output_type": "execute_result"
    }
   ],
   "source": [
    "# MODEL: logistic regression\n",
    "from sklearn import linear_model\n",
    "clf = linear_model.SGDClassifier(loss='log', n_iter=50, alpha=0.00001)\n",
    "clf.fit(X_train_std, y_train)\n",
    "y_pred = clf.fit(X_train_std, y_train).predict(X_train_std)\n",
    "y_pred_test = clf.predict(X_test_std)\n",
    "print_results('Logistic Regression')"
   ]
  },
  {
   "cell_type": "code",
   "execution_count": 118,
   "metadata": {
    "collapsed": false
   },
   "outputs": [
    {
     "name": "stdout",
     "output_type": "stream",
     "text": [
      " Naive Bayes     Training Set       Test Set    \n",
      "-------------- ---------------- ----------------\n",
      "    Error Rate 0.00347222222222 0.00231481481481\n",
      " Accuracy Rate   0.996527777778   0.997685185185\n",
      "True Positives              0.0              0.0\n",
      "True Negatives               --   0.999130686757\n"
     ]
    },
    {
     "data": {
      "text/plain": [
       "(0.0023148148148148147, 0.99768518518518523, 0.0, 0.99913068675746164)"
      ]
     },
     "execution_count": 118,
     "metadata": {},
     "output_type": "execute_result"
    }
   ],
   "source": [
    "# MODEL: Naive Bayes\n",
    "from sklearn.naive_bayes import MultinomialNB\n",
    "clf = MultinomialNB()\n",
    "clf.fit(X_train_std, y_train)\n",
    "y_pred = clf.fit(X_train_std, y_train).predict(X_train_std)\n",
    "y_pred_test = clf.predict(X_test_std)\n",
    "print_results('Naive Bayes')"
   ]
  },
  {
   "cell_type": "code",
   "execution_count": 119,
   "metadata": {
    "collapsed": false
   },
   "outputs": [
    {
     "name": "stdout",
     "output_type": "stream",
     "text": [
      "  Perceptron     Training Set       Test Set    \n",
      "-------------- ---------------- ----------------\n",
      "    Error Rate 0.00210813492063 0.00144675925926\n",
      " Accuracy Rate   0.997891865079   0.998553240741\n",
      "True Positives              0.0              0.0\n",
      "True Negatives               --              1.0\n"
     ]
    },
    {
     "data": {
      "text/plain": [
       "(0.0014467592592592592, 0.9985532407407407, 0.0, 1.0)"
      ]
     },
     "execution_count": 119,
     "metadata": {},
     "output_type": "execute_result"
    }
   ],
   "source": [
    "# Perceptron\n",
    "from sklearn import linear_model\n",
    "clf = linear_model.SGDClassifier(loss='perceptron')\n",
    "clf.fit(X_train_std, y_train)\n",
    "y_pred = clf.fit(X_train_std, y_train).predict(X_train_std)\n",
    "y_pred_test = clf.predict(X_test_std)\n",
    "print_results('Perceptron')"
   ]
  },
  {
   "cell_type": "code",
   "execution_count": 120,
   "metadata": {
    "collapsed": false
   },
   "outputs": [
    {
     "data": {
      "text/plain": [
       "(11520,)"
      ]
     },
     "execution_count": 120,
     "metadata": {},
     "output_type": "execute_result"
    }
   ],
   "source": [
    "# define y\n",
    "y = totalData.calm.values\n",
    "y.shape"
   ]
  },
  {
   "cell_type": "code",
   "execution_count": 121,
   "metadata": {
    "collapsed": true
   },
   "outputs": [],
   "source": [
    "# create training and test sets\n",
    "from sklearn.cross_validation import train_test_split\n",
    "\n",
    "X_train, X_test, y_train, y_test = train_test_split(\n",
    "         X, y, test_size=0.3, random_state=0)"
   ]
  },
  {
   "cell_type": "code",
   "execution_count": 122,
   "metadata": {
    "collapsed": true
   },
   "outputs": [],
   "source": [
    "# feature scaling\n",
    "from sklearn.preprocessing import StandardScaler\n",
    "sc = StandardScaler(with_mean=False)\n",
    "sc.fit(X_train)\n",
    "X_train_std = sc.transform(X_train)\n",
    "X_test_std = sc.transform(X_test)"
   ]
  },
  {
   "cell_type": "markdown",
   "metadata": {},
   "source": [
    "# Calm Model Results"
   ]
  },
  {
   "cell_type": "code",
   "execution_count": 123,
   "metadata": {
    "collapsed": false
   },
   "outputs": [
    {
     "name": "stdout",
     "output_type": "stream",
     "text": [
      "     SVM         Training Set      Test Set   \n",
      "-------------- --------------- ---------------\n",
      "    Error Rate  0.030505952381 0.0350115740741\n",
      " Accuracy Rate  0.969494047619  0.964988425926\n",
      "True Positives 0.0222222222222 0.0212765957447\n",
      "True Negatives              --  0.991374182035\n"
     ]
    },
    {
     "data": {
      "text/plain": [
       "(0.035011574074074077,\n",
       " 0.96498842592592593,\n",
       " 0.021276595744680851,\n",
       " 0.99137418203450323)"
      ]
     },
     "execution_count": 123,
     "metadata": {},
     "output_type": "execute_result"
    }
   ],
   "source": [
    "# MODEL: SVM, linear\n",
    "from sklearn import linear_model\n",
    "clf = linear_model.SGDClassifier()\n",
    "clf.fit(X_train_std, y_train)\n",
    "y_pred = clf.fit(X_train_std, y_train).predict(X_train_std)\n",
    "y_pred_test = clf.predict(X_test_std)\n",
    "print_results('SVM')"
   ]
  },
  {
   "cell_type": "code",
   "execution_count": 124,
   "metadata": {
    "collapsed": false
   },
   "outputs": [
    {
     "name": "stdout",
     "output_type": "stream",
     "text": [
      "Logistic Regression   Training Set       Test Set   \n",
      "------------------- ---------------- ---------------\n",
      "         Error Rate  0.0292658730159 0.0347222222222\n",
      "      Accuracy Rate   0.970734126984  0.965277777778\n",
      "     True Positives 0.00555555555556             0.0\n",
      "     True Negatives               --  0.992266508031\n"
     ]
    },
    {
     "data": {
      "text/plain": [
       "(0.034722222222222224, 0.96527777777777779, 0.0, 0.99226650803093397)"
      ]
     },
     "execution_count": 124,
     "metadata": {},
     "output_type": "execute_result"
    }
   ],
   "source": [
    "# MODEL: logistic regression\n",
    "from sklearn import linear_model\n",
    "clf = linear_model.SGDClassifier(loss='log', n_iter=50, alpha=0.00001)\n",
    "clf.fit(X_train_std, y_train)\n",
    "y_pred = clf.fit(X_train_std, y_train).predict(X_train_std)\n",
    "y_pred_test = clf.predict(X_test_std)\n",
    "print_results('Logistic Regression')"
   ]
  },
  {
   "cell_type": "code",
   "execution_count": 125,
   "metadata": {
    "collapsed": false
   },
   "outputs": [
    {
     "name": "stdout",
     "output_type": "stream",
     "text": [
      " Naive Bayes     Training Set      Test Set   \n",
      "-------------- --------------- ---------------\n",
      "    Error Rate 0.0419146825397 0.0434027777778\n",
      " Accuracy Rate   0.95808531746  0.956597222222\n",
      "True Positives 0.0777777777778 0.0957446808511\n",
      "True Negatives              --  0.980666270077\n"
     ]
    },
    {
     "data": {
      "text/plain": [
       "(0.043402777777777776,\n",
       " 0.95659722222222221,\n",
       " 0.095744680851063829,\n",
       " 0.98066627007733487)"
      ]
     },
     "execution_count": 125,
     "metadata": {},
     "output_type": "execute_result"
    }
   ],
   "source": [
    "# MODEL: Naive Bayes\n",
    "from sklearn.naive_bayes import MultinomialNB\n",
    "clf = MultinomialNB()\n",
    "clf.fit(X_train_std, y_train)\n",
    "y_pred = clf.fit(X_train_std, y_train).predict(X_train_std)\n",
    "y_pred_test = clf.predict(X_test_std)\n",
    "print_results('Naive Bayes')"
   ]
  },
  {
   "cell_type": "code",
   "execution_count": 126,
   "metadata": {
    "collapsed": false
   },
   "outputs": [
    {
     "name": "stdout",
     "output_type": "stream",
     "text": [
      "  Perceptron     Training Set      Test Set   \n",
      "-------------- --------------- ---------------\n",
      "    Error Rate 0.0224454365079 0.0271990740741\n",
      " Accuracy Rate  0.977554563492  0.972800925926\n",
      "True Positives             0.0             0.0\n",
      "True Negatives              --             1.0\n"
     ]
    },
    {
     "data": {
      "text/plain": [
       "(0.027199074074074073, 0.97280092592592593, 0.0, 1.0)"
      ]
     },
     "execution_count": 126,
     "metadata": {},
     "output_type": "execute_result"
    }
   ],
   "source": [
    "# Perceptron\n",
    "from sklearn import linear_model\n",
    "clf = linear_model.SGDClassifier(loss='perceptron')\n",
    "clf.fit(X_train_std, y_train)\n",
    "y_pred = clf.fit(X_train_std, y_train).predict(X_train_std)\n",
    "y_pred_test = clf.predict(X_test_std)\n",
    "print_results('Perceptron')"
   ]
  },
  {
   "cell_type": "code",
   "execution_count": 127,
   "metadata": {
    "collapsed": false
   },
   "outputs": [
    {
     "data": {
      "text/plain": [
       "(11520,)"
      ]
     },
     "execution_count": 127,
     "metadata": {},
     "output_type": "execute_result"
    }
   ],
   "source": [
    "# define y\n",
    "y = totalData.anxious.values\n",
    "y.shape"
   ]
  },
  {
   "cell_type": "code",
   "execution_count": 128,
   "metadata": {
    "collapsed": true
   },
   "outputs": [],
   "source": [
    "# create training and test sets\n",
    "from sklearn.cross_validation import train_test_split\n",
    "\n",
    "X_train, X_test, y_train, y_test = train_test_split(\n",
    "         X, y, test_size=0.3, random_state=0)"
   ]
  },
  {
   "cell_type": "code",
   "execution_count": 129,
   "metadata": {
    "collapsed": true
   },
   "outputs": [],
   "source": [
    "# feature scaling\n",
    "from sklearn.preprocessing import StandardScaler\n",
    "sc = StandardScaler(with_mean=False)\n",
    "sc.fit(X_train)\n",
    "X_train_std = sc.transform(X_train)\n",
    "X_test_std = sc.transform(X_test)"
   ]
  },
  {
   "cell_type": "markdown",
   "metadata": {},
   "source": [
    "# Anxious Model Results"
   ]
  },
  {
   "cell_type": "code",
   "execution_count": 130,
   "metadata": {
    "collapsed": false
   },
   "outputs": [
    {
     "name": "stdout",
     "output_type": "stream",
     "text": [
      "     SVM         Training Set      Test Set   \n",
      "-------------- --------------- ---------------\n",
      "    Error Rate 0.0634920634921 0.0613425925926\n",
      " Accuracy Rate  0.936507936508  0.938657407407\n",
      "True Positives  0.129824561404          0.1375\n",
      "True Negatives              --  0.998445273632\n"
     ]
    },
    {
     "data": {
      "text/plain": [
       "(0.061342592592592594,\n",
       " 0.93865740740740744,\n",
       " 0.13750000000000001,\n",
       " 0.99844527363184077)"
      ]
     },
     "execution_count": 130,
     "metadata": {},
     "output_type": "execute_result"
    }
   ],
   "source": [
    "# MODEL: SVM, linear\n",
    "from sklearn import linear_model\n",
    "clf = linear_model.SGDClassifier()\n",
    "clf.fit(X_train_std, y_train)\n",
    "y_pred = clf.fit(X_train_std, y_train).predict(X_train_std)\n",
    "y_pred_test = clf.predict(X_test_std)\n",
    "print_results('SVM')"
   ]
  },
  {
   "cell_type": "code",
   "execution_count": 131,
   "metadata": {
    "collapsed": false
   },
   "outputs": [
    {
     "name": "stdout",
     "output_type": "stream",
     "text": [
      "Logistic Regression   Training Set      Test Set   \n",
      "------------------- --------------- ---------------\n",
      "         Error Rate 0.0570436507937 0.0535300925926\n",
      "      Accuracy Rate  0.942956349206  0.946469907407\n",
      "     True Positives  0.357894736842  0.345833333333\n",
      "     True Negatives              --  0.991293532338\n"
     ]
    },
    {
     "data": {
      "text/plain": [
       "(0.053530092592592594,\n",
       " 0.94646990740740744,\n",
       " 0.34583333333333333,\n",
       " 0.99129353233830841)"
      ]
     },
     "execution_count": 131,
     "metadata": {},
     "output_type": "execute_result"
    }
   ],
   "source": [
    "# MODEL: logistic regression\n",
    "from sklearn import linear_model\n",
    "clf = linear_model.SGDClassifier(loss='log', n_iter=50, alpha=0.00001)\n",
    "clf.fit(X_train_std, y_train)\n",
    "y_pred = clf.fit(X_train_std, y_train).predict(X_train_std)\n",
    "y_pred_test = clf.predict(X_test_std)\n",
    "print_results('Logistic Regression')"
   ]
  },
  {
   "cell_type": "code",
   "execution_count": 132,
   "metadata": {
    "collapsed": false
   },
   "outputs": [
    {
     "name": "stdout",
     "output_type": "stream",
     "text": [
      " Naive Bayes     Training Set      Test Set   \n",
      "-------------- --------------- ---------------\n",
      "    Error Rate  0.108630952381  0.105902777778\n",
      " Accuracy Rate  0.891369047619  0.894097222222\n",
      "True Positives 0.0912280701754 0.0583333333333\n",
      "True Negatives              --  0.956467661692\n"
     ]
    },
    {
     "data": {
      "text/plain": [
       "(0.10590277777777778,\n",
       " 0.89409722222222221,\n",
       " 0.058333333333333334,\n",
       " 0.95646766169154229)"
      ]
     },
     "execution_count": 132,
     "metadata": {},
     "output_type": "execute_result"
    }
   ],
   "source": [
    "# MODEL: Naive Bayes\n",
    "from sklearn.naive_bayes import MultinomialNB\n",
    "clf = MultinomialNB()\n",
    "clf.fit(X_train_std, y_train)\n",
    "y_pred = clf.fit(X_train_std, y_train).predict(X_train_std)\n",
    "y_pred_test = clf.predict(X_test_std)\n",
    "print_results('Naive Bayes')"
   ]
  },
  {
   "cell_type": "code",
   "execution_count": 133,
   "metadata": {
    "collapsed": false
   },
   "outputs": [
    {
     "name": "stdout",
     "output_type": "stream",
     "text": [
      "  Perceptron     Training Set       Test Set   \n",
      "-------------- ---------------- ---------------\n",
      "    Error Rate  0.0706845238095 0.0694444444444\n",
      " Accuracy Rate    0.92931547619  0.930555555556\n",
      "True Positives 0.00350877192982             0.0\n",
      "True Negatives               --             1.0\n"
     ]
    },
    {
     "data": {
      "text/plain": [
       "(0.069444444444444448, 0.93055555555555558, 0.0, 1.0)"
      ]
     },
     "execution_count": 133,
     "metadata": {},
     "output_type": "execute_result"
    }
   ],
   "source": [
    "# Perceptron\n",
    "from sklearn import linear_model\n",
    "clf = linear_model.SGDClassifier(loss='perceptron')\n",
    "clf.fit(X_train_std, y_train)\n",
    "y_pred = clf.fit(X_train_std, y_train).predict(X_train_std)\n",
    "y_pred_test = clf.predict(X_test_std)\n",
    "print_results('Perceptron')"
   ]
  },
  {
   "cell_type": "code",
   "execution_count": 134,
   "metadata": {
    "collapsed": false
   },
   "outputs": [
    {
     "data": {
      "text/plain": [
       "(11520,)"
      ]
     },
     "execution_count": 134,
     "metadata": {},
     "output_type": "execute_result"
    }
   ],
   "source": [
    "# define y\n",
    "y = totalData.sad.values\n",
    "y.shape"
   ]
  },
  {
   "cell_type": "code",
   "execution_count": 135,
   "metadata": {
    "collapsed": true
   },
   "outputs": [],
   "source": [
    "# create training and test sets\n",
    "from sklearn.cross_validation import train_test_split\n",
    "\n",
    "X_train, X_test, y_train, y_test = train_test_split(\n",
    "         X, y, test_size=0.3, random_state=0)"
   ]
  },
  {
   "cell_type": "code",
   "execution_count": 136,
   "metadata": {
    "collapsed": true
   },
   "outputs": [],
   "source": [
    "# feature scaling\n",
    "from sklearn.preprocessing import StandardScaler\n",
    "sc = StandardScaler(with_mean=False)\n",
    "sc.fit(X_train)\n",
    "X_train_std = sc.transform(X_train)\n",
    "X_test_std = sc.transform(X_test)"
   ]
  },
  {
   "cell_type": "markdown",
   "metadata": {},
   "source": [
    "# Sad Model Values"
   ]
  },
  {
   "cell_type": "code",
   "execution_count": 137,
   "metadata": {
    "collapsed": false
   },
   "outputs": [
    {
     "name": "stdout",
     "output_type": "stream",
     "text": [
      "     SVM          Training Set   Test Set\n",
      "-------------- ----------------- --------\n",
      "    Error Rate 0.000124007936508      0.0\n",
      " Accuracy Rate    0.999875992063      1.0\n",
      "True Positives               0.0      nan\n",
      "True Negatives                --      1.0\n"
     ]
    },
    {
     "data": {
      "text/plain": [
       "(0.0, 1.0, nan, 1.0)"
      ]
     },
     "execution_count": 137,
     "metadata": {},
     "output_type": "execute_result"
    }
   ],
   "source": [
    "# MODEL: SVM, linear\n",
    "from sklearn import linear_model\n",
    "clf = linear_model.SGDClassifier()\n",
    "clf.fit(X_train_std, y_train)\n",
    "y_pred = clf.fit(X_train_std, y_train).predict(X_train_std)\n",
    "y_pred_test = clf.predict(X_test_std)\n",
    "print_results('SVM')"
   ]
  },
  {
   "cell_type": "code",
   "execution_count": 138,
   "metadata": {
    "collapsed": false
   },
   "outputs": [
    {
     "name": "stdout",
     "output_type": "stream",
     "text": [
      "Logistic Regression    Training Set   Test Set\n",
      "------------------- ----------------- --------\n",
      "         Error Rate 0.000124007936508      0.0\n",
      "      Accuracy Rate    0.999875992063      1.0\n",
      "     True Positives               0.0      nan\n",
      "     True Negatives                --      1.0\n"
     ]
    },
    {
     "data": {
      "text/plain": [
       "(0.0, 1.0, nan, 1.0)"
      ]
     },
     "execution_count": 138,
     "metadata": {},
     "output_type": "execute_result"
    }
   ],
   "source": [
    "# MODEL: logistic regression\n",
    "from sklearn import linear_model\n",
    "clf = linear_model.SGDClassifier(loss='log', n_iter=50, alpha=0.00001)\n",
    "clf.fit(X_train_std, y_train)\n",
    "y_pred = clf.fit(X_train_std, y_train).predict(X_train_std)\n",
    "y_pred_test = clf.predict(X_test_std)\n",
    "print_results('Logistic Regression')"
   ]
  },
  {
   "cell_type": "code",
   "execution_count": 139,
   "metadata": {
    "collapsed": false
   },
   "outputs": [
    {
     "name": "stdout",
     "output_type": "stream",
     "text": [
      " Naive Bayes     Training Set       Test Set    \n",
      "-------------- ---------------- ----------------\n",
      "    Error Rate 0.00297619047619 0.00347222222222\n",
      " Accuracy Rate   0.997023809524   0.996527777778\n",
      "True Positives              0.0              nan\n",
      "True Negatives               --   0.996527777778\n"
     ]
    },
    {
     "data": {
      "text/plain": [
       "(0.003472222222222222, 0.99652777777777779, nan, 0.99652777777777779)"
      ]
     },
     "execution_count": 139,
     "metadata": {},
     "output_type": "execute_result"
    }
   ],
   "source": [
    "# MODEL: Naive Bayes\n",
    "from sklearn.naive_bayes import MultinomialNB\n",
    "clf = MultinomialNB()\n",
    "clf.fit(X_train_std, y_train)\n",
    "y_pred = clf.fit(X_train_std, y_train).predict(X_train_std)\n",
    "y_pred_test = clf.predict(X_test_std)\n",
    "print_results('Naive Bayes')"
   ]
  },
  {
   "cell_type": "code",
   "execution_count": 140,
   "metadata": {
    "collapsed": false
   },
   "outputs": [
    {
     "name": "stdout",
     "output_type": "stream",
     "text": [
      "  Perceptron      Training Set   Test Set\n",
      "-------------- ----------------- --------\n",
      "    Error Rate 0.000124007936508      0.0\n",
      " Accuracy Rate    0.999875992063      1.0\n",
      "True Positives               0.0      nan\n",
      "True Negatives                --      1.0\n"
     ]
    },
    {
     "data": {
      "text/plain": [
       "(0.0, 1.0, nan, 1.0)"
      ]
     },
     "execution_count": 140,
     "metadata": {},
     "output_type": "execute_result"
    }
   ],
   "source": [
    "# Perceptron\n",
    "from sklearn import linear_model\n",
    "clf = linear_model.SGDClassifier(loss='perceptron')\n",
    "clf.fit(X_train_std, y_train)\n",
    "y_pred = clf.fit(X_train_std, y_train).predict(X_train_std)\n",
    "y_pred_test = clf.predict(X_test_std)\n",
    "print_results('Perceptron')"
   ]
  },
  {
   "cell_type": "code",
   "execution_count": 141,
   "metadata": {
    "collapsed": false
   },
   "outputs": [
    {
     "data": {
      "text/plain": [
       "(11520,)"
      ]
     },
     "execution_count": 141,
     "metadata": {},
     "output_type": "execute_result"
    }
   ],
   "source": [
    "# define y\n",
    "y = totalData.angry.values\n",
    "y.shape"
   ]
  },
  {
   "cell_type": "code",
   "execution_count": 142,
   "metadata": {
    "collapsed": true
   },
   "outputs": [],
   "source": [
    "# create training and test sets\n",
    "from sklearn.cross_validation import train_test_split\n",
    "\n",
    "X_train, X_test, y_train, y_test = train_test_split(\n",
    "         X, y, test_size=0.3, random_state=0)"
   ]
  },
  {
   "cell_type": "code",
   "execution_count": 143,
   "metadata": {
    "collapsed": true
   },
   "outputs": [],
   "source": [
    "# feature scaling\n",
    "from sklearn.preprocessing import StandardScaler\n",
    "sc = StandardScaler(with_mean=False)\n",
    "sc.fit(X_train)\n",
    "X_train_std = sc.transform(X_train)\n",
    "X_test_std = sc.transform(X_test)"
   ]
  },
  {
   "cell_type": "markdown",
   "metadata": {},
   "source": [
    "# Angry Model Results"
   ]
  },
  {
   "cell_type": "code",
   "execution_count": 144,
   "metadata": {
    "collapsed": false
   },
   "outputs": [
    {
     "name": "stdout",
     "output_type": "stream",
     "text": [
      "     SVM         Training Set       Test Set    \n",
      "-------------- ---------------- ----------------\n",
      "    Error Rate 0.00496031746032 0.00318287037037\n",
      " Accuracy Rate    0.99503968254    0.99681712963\n",
      "True Positives   0.121951219512   0.153846153846\n",
      "True Negatives               --              1.0\n"
     ]
    },
    {
     "data": {
      "text/plain": [
       "(0.0031828703703703702, 0.99681712962962965, 0.15384615384615385, 1.0)"
      ]
     },
     "execution_count": 144,
     "metadata": {},
     "output_type": "execute_result"
    }
   ],
   "source": [
    "# MODEL: SVM, linear\n",
    "from sklearn import linear_model\n",
    "clf = linear_model.SGDClassifier()\n",
    "clf.fit(X_train_std, y_train)\n",
    "y_pred = clf.fit(X_train_std, y_train).predict(X_train_std)\n",
    "y_pred_test = clf.predict(X_test_std)\n",
    "print_results('SVM')"
   ]
  },
  {
   "cell_type": "code",
   "execution_count": 145,
   "metadata": {
    "collapsed": false
   },
   "outputs": [
    {
     "name": "stdout",
     "output_type": "stream",
     "text": [
      "Logistic Regression   Training Set       Test Set    \n",
      "------------------- ---------------- ----------------\n",
      "         Error Rate 0.00446428571429 0.00318287037037\n",
      "      Accuracy Rate   0.995535714286    0.99681712963\n",
      "     True Positives   0.121951219512   0.153846153846\n",
      "     True Negatives               --              1.0\n"
     ]
    },
    {
     "data": {
      "text/plain": [
       "(0.0031828703703703702, 0.99681712962962965, 0.15384615384615385, 1.0)"
      ]
     },
     "execution_count": 145,
     "metadata": {},
     "output_type": "execute_result"
    }
   ],
   "source": [
    "# MODEL: logistic regression\n",
    "from sklearn import linear_model\n",
    "clf = linear_model.SGDClassifier(loss='log', n_iter=50, alpha=0.00001)\n",
    "clf.fit(X_train_std, y_train)\n",
    "y_pred = clf.fit(X_train_std, y_train).predict(X_train_std)\n",
    "y_pred_test = clf.predict(X_test_std)\n",
    "print_results('Logistic Regression')"
   ]
  },
  {
   "cell_type": "code",
   "execution_count": 146,
   "metadata": {
    "collapsed": false
   },
   "outputs": [
    {
     "name": "stdout",
     "output_type": "stream",
     "text": [
      " Naive Bayes     Training Set       Test Set    \n",
      "-------------- ---------------- ----------------\n",
      "    Error Rate 0.00458829365079 0.00318287037037\n",
      " Accuracy Rate   0.995411706349    0.99681712963\n",
      "True Positives   0.121951219512   0.153846153846\n",
      "True Negatives               --              1.0\n"
     ]
    },
    {
     "data": {
      "text/plain": [
       "(0.0031828703703703702, 0.99681712962962965, 0.15384615384615385, 1.0)"
      ]
     },
     "execution_count": 146,
     "metadata": {},
     "output_type": "execute_result"
    }
   ],
   "source": [
    "# MODEL: Naive Bayes\n",
    "from sklearn.naive_bayes import MultinomialNB\n",
    "clf = MultinomialNB()\n",
    "clf.fit(X_train_std, y_train)\n",
    "y_pred = clf.fit(X_train_std, y_train).predict(X_train_std)\n",
    "y_pred_test = clf.predict(X_test_std)\n",
    "print_results('Naive Bayes')"
   ]
  },
  {
   "cell_type": "code",
   "execution_count": 147,
   "metadata": {
    "collapsed": false
   },
   "outputs": [
    {
     "name": "stdout",
     "output_type": "stream",
     "text": [
      "  Perceptron     Training Set       Test Set    \n",
      "-------------- ---------------- ----------------\n",
      "    Error Rate 0.00446428571429 0.00318287037037\n",
      " Accuracy Rate   0.995535714286    0.99681712963\n",
      "True Positives   0.121951219512   0.153846153846\n",
      "True Negatives               --              1.0\n"
     ]
    },
    {
     "data": {
      "text/plain": [
       "(0.0031828703703703702, 0.99681712962962965, 0.15384615384615385, 1.0)"
      ]
     },
     "execution_count": 147,
     "metadata": {},
     "output_type": "execute_result"
    }
   ],
   "source": [
    "# Perceptron\n",
    "from sklearn import linear_model\n",
    "clf = linear_model.SGDClassifier(loss='perceptron')\n",
    "clf.fit(X_train_std, y_train)\n",
    "y_pred = clf.fit(X_train_std, y_train).predict(X_train_std)\n",
    "y_pred_test = clf.predict(X_test_std)\n",
    "print_results('Perceptron')"
   ]
  },
  {
   "cell_type": "code",
   "execution_count": 148,
   "metadata": {
    "collapsed": false
   },
   "outputs": [
    {
     "data": {
      "text/plain": [
       "(11520,)"
      ]
     },
     "execution_count": 148,
     "metadata": {},
     "output_type": "execute_result"
    }
   ],
   "source": [
    "# define y\n",
    "y = totalData.hungry.values\n",
    "y.shape"
   ]
  },
  {
   "cell_type": "code",
   "execution_count": 149,
   "metadata": {
    "collapsed": true
   },
   "outputs": [],
   "source": [
    "# create training and test sets\n",
    "from sklearn.cross_validation import train_test_split\n",
    "\n",
    "X_train, X_test, y_train, y_test = train_test_split(\n",
    "         X, y, test_size=0.3, random_state=0)"
   ]
  },
  {
   "cell_type": "code",
   "execution_count": 150,
   "metadata": {
    "collapsed": true
   },
   "outputs": [],
   "source": [
    "# feature scaling\n",
    "from sklearn.preprocessing import StandardScaler\n",
    "sc = StandardScaler(with_mean=False)\n",
    "sc.fit(X_train)\n",
    "X_train_std = sc.transform(X_train)\n",
    "X_test_std = sc.transform(X_test)"
   ]
  },
  {
   "cell_type": "markdown",
   "metadata": {},
   "source": [
    "# Hungry Model Results"
   ]
  },
  {
   "cell_type": "code",
   "execution_count": 151,
   "metadata": {
    "collapsed": false
   },
   "outputs": [
    {
     "name": "stdout",
     "output_type": "stream",
     "text": [
      "     SVM        Training Set      Test Set   \n",
      "-------------- -------------- ---------------\n",
      "    Error Rate 0.055183531746 0.0532407407407\n",
      " Accuracy Rate 0.944816468254  0.946759259259\n",
      "True Positives 0.199255121043  0.203539823009\n",
      "True Negatives             --  0.998761609907\n"
     ]
    },
    {
     "data": {
      "text/plain": [
       "(0.053240740740740741,\n",
       " 0.9467592592592593,\n",
       " 0.20353982300884957,\n",
       " 0.99876160990712071)"
      ]
     },
     "execution_count": 151,
     "metadata": {},
     "output_type": "execute_result"
    }
   ],
   "source": [
    "# MODEL: SVM, linear\n",
    "from sklearn import linear_model\n",
    "clf = linear_model.SGDClassifier()\n",
    "clf.fit(X_train_std, y_train)\n",
    "y_pred = clf.fit(X_train_std, y_train).predict(X_train_std)\n",
    "y_pred_test = clf.predict(X_test_std)\n",
    "print_results('SVM')"
   ]
  },
  {
   "cell_type": "code",
   "execution_count": 152,
   "metadata": {
    "collapsed": false
   },
   "outputs": [
    {
     "name": "stdout",
     "output_type": "stream",
     "text": [
      "Logistic Regression   Training Set      Test Set   \n",
      "------------------- --------------- ---------------\n",
      "         Error Rate 0.0657242063492  0.064525462963\n",
      "      Accuracy Rate  0.934275793651  0.935474537037\n",
      "     True Positives 0.0148975791434 0.0132743362832\n",
      "     True Negatives              --             1.0\n"
     ]
    },
    {
     "data": {
      "text/plain": [
       "(0.064525462962962965, 0.93547453703703698, 0.013274336283185841, 1.0)"
      ]
     },
     "execution_count": 152,
     "metadata": {},
     "output_type": "execute_result"
    }
   ],
   "source": [
    "# MODEL: logistic regression\n",
    "from sklearn import linear_model\n",
    "clf = linear_model.SGDClassifier(loss='log', n_iter=50, alpha=0.00001)\n",
    "clf.fit(X_train_std, y_train)\n",
    "y_pred = clf.fit(X_train_std, y_train).predict(X_train_std)\n",
    "y_pred_test = clf.predict(X_test_std)\n",
    "print_results('Logistic Regression')"
   ]
  },
  {
   "cell_type": "code",
   "execution_count": 153,
   "metadata": {
    "collapsed": false
   },
   "outputs": [
    {
     "name": "stdout",
     "output_type": "stream",
     "text": [
      " Naive Bayes     Training Set      Test Set   \n",
      "-------------- --------------- ---------------\n",
      "    Error Rate 0.0975942460317 0.0928819444444\n",
      " Accuracy Rate  0.902405753968  0.907118055556\n",
      "True Positives 0.0558659217877 0.0309734513274\n",
      "True Negatives              --  0.968421052632\n"
     ]
    },
    {
     "data": {
      "text/plain": [
       "(0.092881944444444448,\n",
       " 0.90711805555555558,\n",
       " 0.030973451327433628,\n",
       " 0.96842105263157896)"
      ]
     },
     "execution_count": 153,
     "metadata": {},
     "output_type": "execute_result"
    }
   ],
   "source": [
    "# MODEL: Naive Bayes\n",
    "from sklearn.naive_bayes import MultinomialNB\n",
    "clf = MultinomialNB()\n",
    "clf.fit(X_train_std, y_train)\n",
    "y_pred = clf.fit(X_train_std, y_train).predict(X_train_std)\n",
    "y_pred_test = clf.predict(X_test_std)\n",
    "print_results('Naive Bayes')"
   ]
  },
  {
   "cell_type": "code",
   "execution_count": 154,
   "metadata": {
    "collapsed": false
   },
   "outputs": [
    {
     "name": "stdout",
     "output_type": "stream",
     "text": [
      "  Perceptron    Training Set     Test Set   \n",
      "-------------- -------------- --------------\n",
      "    Error Rate 0.138392857143 0.138599537037\n",
      " Accuracy Rate 0.861607142857 0.861400462963\n",
      "True Positives 0.791433891993 0.756637168142\n",
      "True Negatives             -- 0.868730650155\n"
     ]
    },
    {
     "data": {
      "text/plain": [
       "(0.13859953703703703,\n",
       " 0.86140046296296302,\n",
       " 0.75663716814159288,\n",
       " 0.86873065015479878)"
      ]
     },
     "execution_count": 154,
     "metadata": {},
     "output_type": "execute_result"
    }
   ],
   "source": [
    "# Perceptron\n",
    "from sklearn import linear_model\n",
    "clf = linear_model.SGDClassifier(loss='perceptron')\n",
    "clf.fit(X_train_std, y_train)\n",
    "y_pred = clf.fit(X_train_std, y_train).predict(X_train_std)\n",
    "y_pred_test = clf.predict(X_test_std)\n",
    "print_results('Perceptron')"
   ]
  },
  {
   "cell_type": "code",
   "execution_count": 155,
   "metadata": {
    "collapsed": false
   },
   "outputs": [
    {
     "data": {
      "text/plain": [
       "(11520,)"
      ]
     },
     "execution_count": 155,
     "metadata": {},
     "output_type": "execute_result"
    }
   ],
   "source": [
    "# define y\n",
    "y = totalData.tired.values\n",
    "y.shape"
   ]
  },
  {
   "cell_type": "code",
   "execution_count": 156,
   "metadata": {
    "collapsed": true
   },
   "outputs": [],
   "source": [
    "# create training and test sets\n",
    "from sklearn.cross_validation import train_test_split\n",
    "\n",
    "X_train, X_test, y_train, y_test = train_test_split(\n",
    "         X, y, test_size=0.3, random_state=0)"
   ]
  },
  {
   "cell_type": "code",
   "execution_count": 157,
   "metadata": {
    "collapsed": true
   },
   "outputs": [],
   "source": [
    "# feature scaling\n",
    "from sklearn.preprocessing import StandardScaler\n",
    "sc = StandardScaler(with_mean=False)\n",
    "sc.fit(X_train)\n",
    "X_train_std = sc.transform(X_train)\n",
    "X_test_std = sc.transform(X_test)"
   ]
  },
  {
   "cell_type": "markdown",
   "metadata": {},
   "source": [
    "# Tired Model Results"
   ]
  },
  {
   "cell_type": "code",
   "execution_count": 158,
   "metadata": {
    "collapsed": false
   },
   "outputs": [
    {
     "name": "stdout",
     "output_type": "stream",
     "text": [
      "     SVM          Training Set   Test Set\n",
      "-------------- ----------------- --------\n",
      "    Error Rate 0.000124007936508      0.0\n",
      " Accuracy Rate    0.999875992063      1.0\n",
      "True Positives               0.0      nan\n",
      "True Negatives                --      1.0\n"
     ]
    },
    {
     "data": {
      "text/plain": [
       "(0.0, 1.0, nan, 1.0)"
      ]
     },
     "execution_count": 158,
     "metadata": {},
     "output_type": "execute_result"
    }
   ],
   "source": [
    "# MODEL: SVM, linear\n",
    "from sklearn import linear_model\n",
    "clf = linear_model.SGDClassifier()\n",
    "clf.fit(X_train_std, y_train)\n",
    "y_pred = clf.fit(X_train_std, y_train).predict(X_train_std)\n",
    "y_pred_test = clf.predict(X_test_std)\n",
    "print_results('SVM')"
   ]
  },
  {
   "cell_type": "code",
   "execution_count": 159,
   "metadata": {
    "collapsed": false
   },
   "outputs": [
    {
     "name": "stdout",
     "output_type": "stream",
     "text": [
      "Logistic Regression    Training Set   Test Set\n",
      "------------------- ----------------- --------\n",
      "         Error Rate 0.000124007936508      0.0\n",
      "      Accuracy Rate    0.999875992063      1.0\n",
      "     True Positives               0.0      nan\n",
      "     True Negatives                --      1.0\n"
     ]
    },
    {
     "data": {
      "text/plain": [
       "(0.0, 1.0, nan, 1.0)"
      ]
     },
     "execution_count": 159,
     "metadata": {},
     "output_type": "execute_result"
    }
   ],
   "source": [
    "# MODEL: logistic regression\n",
    "from sklearn import linear_model\n",
    "clf = linear_model.SGDClassifier(loss='log', n_iter=50, alpha=0.00001)\n",
    "clf.fit(X_train_std, y_train)\n",
    "y_pred = clf.fit(X_train_std, y_train).predict(X_train_std)\n",
    "y_pred_test = clf.predict(X_test_std)\n",
    "print_results('Logistic Regression')"
   ]
  },
  {
   "cell_type": "code",
   "execution_count": 160,
   "metadata": {
    "collapsed": false
   },
   "outputs": [
    {
     "name": "stdout",
     "output_type": "stream",
     "text": [
      " Naive Bayes     Training Set       Test Set    \n",
      "-------------- ---------------- ----------------\n",
      "    Error Rate 0.00297619047619 0.00347222222222\n",
      " Accuracy Rate   0.997023809524   0.996527777778\n",
      "True Positives              0.0              nan\n",
      "True Negatives               --   0.996527777778\n"
     ]
    },
    {
     "data": {
      "text/plain": [
       "(0.003472222222222222, 0.99652777777777779, nan, 0.99652777777777779)"
      ]
     },
     "execution_count": 160,
     "metadata": {},
     "output_type": "execute_result"
    }
   ],
   "source": [
    "# MODEL: Naive Bayes\n",
    "from sklearn.naive_bayes import MultinomialNB\n",
    "clf = MultinomialNB()\n",
    "clf.fit(X_train_std, y_train)\n",
    "y_pred = clf.fit(X_train_std, y_train).predict(X_train_std)\n",
    "y_pred_test = clf.predict(X_test_std)\n",
    "print_results('Naive Bayes')"
   ]
  },
  {
   "cell_type": "code",
   "execution_count": 161,
   "metadata": {
    "collapsed": false
   },
   "outputs": [
    {
     "name": "stdout",
     "output_type": "stream",
     "text": [
      "  Perceptron      Training Set   Test Set\n",
      "-------------- ----------------- --------\n",
      "    Error Rate 0.000124007936508      0.0\n",
      " Accuracy Rate    0.999875992063      1.0\n",
      "True Positives               0.0      nan\n",
      "True Negatives                --      1.0\n"
     ]
    },
    {
     "data": {
      "text/plain": [
       "(0.0, 1.0, nan, 1.0)"
      ]
     },
     "execution_count": 161,
     "metadata": {},
     "output_type": "execute_result"
    }
   ],
   "source": [
    "# Perceptron\n",
    "from sklearn import linear_model\n",
    "clf = linear_model.SGDClassifier(loss='perceptron')\n",
    "clf.fit(X_train_std, y_train)\n",
    "y_pred = clf.fit(X_train_std, y_train).predict(X_train_std)\n",
    "y_pred_test = clf.predict(X_test_std)\n",
    "print_results('Perceptron')"
   ]
  },
  {
   "cell_type": "code",
   "execution_count": 162,
   "metadata": {
    "collapsed": false
   },
   "outputs": [
    {
     "data": {
      "text/plain": [
       "(11520,)"
      ]
     },
     "execution_count": 162,
     "metadata": {},
     "output_type": "execute_result"
    }
   ],
   "source": [
    "# define y\n",
    "y = totalData.bored.values\n",
    "y.shape"
   ]
  },
  {
   "cell_type": "code",
   "execution_count": 163,
   "metadata": {
    "collapsed": true
   },
   "outputs": [],
   "source": [
    "# create training and test sets\n",
    "from sklearn.cross_validation import train_test_split\n",
    "\n",
    "X_train, X_test, y_train, y_test = train_test_split(\n",
    "         X, y, test_size=0.3, random_state=0)"
   ]
  },
  {
   "cell_type": "code",
   "execution_count": 164,
   "metadata": {
    "collapsed": true
   },
   "outputs": [],
   "source": [
    "# feature scaling\n",
    "from sklearn.preprocessing import StandardScaler\n",
    "sc = StandardScaler(with_mean=False)\n",
    "sc.fit(X_train)\n",
    "X_train_std = sc.transform(X_train)\n",
    "X_test_std = sc.transform(X_test)"
   ]
  },
  {
   "cell_type": "markdown",
   "metadata": {},
   "source": [
    "# Bored Model Results"
   ]
  },
  {
   "cell_type": "code",
   "execution_count": 165,
   "metadata": {
    "collapsed": false
   },
   "outputs": [
    {
     "name": "stdout",
     "output_type": "stream",
     "text": [
      "     SVM          Training Set   Test Set\n",
      "-------------- ----------------- --------\n",
      "    Error Rate 0.000124007936508      0.0\n",
      " Accuracy Rate    0.999875992063      1.0\n",
      "True Positives               0.0      nan\n",
      "True Negatives                --      1.0\n"
     ]
    },
    {
     "data": {
      "text/plain": [
       "(0.0, 1.0, nan, 1.0)"
      ]
     },
     "execution_count": 165,
     "metadata": {},
     "output_type": "execute_result"
    }
   ],
   "source": [
    "# MODEL: SVM, linear\n",
    "from sklearn import linear_model\n",
    "clf = linear_model.SGDClassifier()\n",
    "clf.fit(X_train_std, y_train)\n",
    "y_pred = clf.fit(X_train_std, y_train).predict(X_train_std)\n",
    "y_pred_test = clf.predict(X_test_std)\n",
    "print_results('SVM')"
   ]
  },
  {
   "cell_type": "code",
   "execution_count": 166,
   "metadata": {
    "collapsed": false
   },
   "outputs": [
    {
     "name": "stdout",
     "output_type": "stream",
     "text": [
      "Logistic Regression    Training Set   Test Set\n",
      "------------------- ----------------- --------\n",
      "         Error Rate 0.000124007936508      0.0\n",
      "      Accuracy Rate    0.999875992063      1.0\n",
      "     True Positives               0.0      nan\n",
      "     True Negatives                --      1.0\n"
     ]
    },
    {
     "data": {
      "text/plain": [
       "(0.0, 1.0, nan, 1.0)"
      ]
     },
     "execution_count": 166,
     "metadata": {},
     "output_type": "execute_result"
    }
   ],
   "source": [
    "# MODEL: logistic regression\n",
    "from sklearn import linear_model\n",
    "clf = linear_model.SGDClassifier(loss='log', n_iter=50, alpha=0.00001)\n",
    "clf.fit(X_train_std, y_train)\n",
    "y_pred = clf.fit(X_train_std, y_train).predict(X_train_std)\n",
    "y_pred_test = clf.predict(X_test_std)\n",
    "print_results('Logistic Regression')"
   ]
  },
  {
   "cell_type": "code",
   "execution_count": 167,
   "metadata": {
    "collapsed": false
   },
   "outputs": [
    {
     "name": "stdout",
     "output_type": "stream",
     "text": [
      " Naive Bayes     Training Set       Test Set    \n",
      "-------------- ---------------- ----------------\n",
      "    Error Rate 0.00297619047619 0.00347222222222\n",
      " Accuracy Rate   0.997023809524   0.996527777778\n",
      "True Positives              0.0              nan\n",
      "True Negatives               --   0.996527777778\n"
     ]
    },
    {
     "data": {
      "text/plain": [
       "(0.003472222222222222, 0.99652777777777779, nan, 0.99652777777777779)"
      ]
     },
     "execution_count": 167,
     "metadata": {},
     "output_type": "execute_result"
    }
   ],
   "source": [
    "# MODEL: Naive Bayes\n",
    "from sklearn.naive_bayes import MultinomialNB\n",
    "clf = MultinomialNB()\n",
    "clf.fit(X_train_std, y_train)\n",
    "y_pred = clf.fit(X_train_std, y_train).predict(X_train_std)\n",
    "y_pred_test = clf.predict(X_test_std)\n",
    "print_results('Naive Bayes')"
   ]
  },
  {
   "cell_type": "code",
   "execution_count": 168,
   "metadata": {
    "collapsed": false
   },
   "outputs": [
    {
     "name": "stdout",
     "output_type": "stream",
     "text": [
      "  Perceptron      Training Set   Test Set\n",
      "-------------- ----------------- --------\n",
      "    Error Rate 0.000124007936508      0.0\n",
      " Accuracy Rate    0.999875992063      1.0\n",
      "True Positives               0.0      nan\n",
      "True Negatives                --      1.0\n"
     ]
    },
    {
     "data": {
      "text/plain": [
       "(0.0, 1.0, nan, 1.0)"
      ]
     },
     "execution_count": 168,
     "metadata": {},
     "output_type": "execute_result"
    }
   ],
   "source": [
    "# Perceptron\n",
    "from sklearn import linear_model\n",
    "clf = linear_model.SGDClassifier(loss='perceptron')\n",
    "clf.fit(X_train_std, y_train)\n",
    "y_pred = clf.fit(X_train_std, y_train).predict(X_train_std)\n",
    "y_pred_test = clf.predict(X_test_std)\n",
    "print_results('Perceptron')"
   ]
  }
 ],
 "metadata": {
  "kernelspec": {
   "display_name": "Python 3",
   "language": "python",
   "name": "python3"
  },
  "language_info": {
   "codemirror_mode": {
    "name": "ipython",
    "version": 3
   },
   "file_extension": ".py",
   "mimetype": "text/x-python",
   "name": "python",
   "nbconvert_exporter": "python",
   "pygments_lexer": "ipython3",
   "version": "3.5.1"
  }
 },
 "nbformat": 4,
 "nbformat_minor": 0
}
