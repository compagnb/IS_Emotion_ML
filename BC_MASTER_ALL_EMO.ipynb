{
 "cells": [
  {
   "cell_type": "code",
   "execution_count": 1,
   "metadata": {
    "collapsed": true
   },
   "outputs": [],
   "source": [
    "import numpy as np #import numpy library\n",
    "import pandas as pd #import pandas library\n",
    "import matplotlib.pyplot as plt #import matplot library\n",
    "%matplotlib inline\n",
    "\n",
    "import glob\n",
    "import os\n",
    "\n",
    "import nltk.classify.util\n",
    "from astropy.table import Table, Column\n",
    "\n",
    "import string\n",
    "\n",
    "from sklearn import svm\n",
    "from sklearn import metrics"
   ]
  },
  {
   "cell_type": "code",
   "execution_count": 2,
   "metadata": {
    "collapsed": false
   },
   "outputs": [],
   "source": [
    " def loadMetricData(user, directory):\n",
    "    path =  user + \"/\" + directory + \"/\"\n",
    "#     print(path)\n",
    "    all_files = glob.glob(os.path.join(path, \"*.csv\")) \n",
    "#     print(all_files)\n",
    "    data = pd.DataFrame()\n",
    "    list_ = []\n",
    "    for file_ in all_files:\n",
    "        data = pd.read_csv(file_,index_col=None, header=0)\n",
    "        list_.append(data)\n",
    "        data = pd.concat(list_)\n",
    "    return data"
   ]
  },
  {
   "cell_type": "code",
   "execution_count": 3,
   "metadata": {
    "collapsed": false
   },
   "outputs": [],
   "source": [
    "# # clean times function\n",
    "def cleanTime(df, col):\n",
    "    df.col = pd.to_datetime(df.col)"
   ]
  },
  {
   "cell_type": "code",
   "execution_count": 4,
   "metadata": {
    "collapsed": false
   },
   "outputs": [],
   "source": [
    "# # replace NAN's\n",
    "# def rmNAN(df, col):\n",
    "#     df.col = df.col.fillna(0)"
   ]
  },
  {
   "cell_type": "code",
   "execution_count": 5,
   "metadata": {
    "collapsed": false
   },
   "outputs": [
    {
     "data": {
      "text/html": [
       "<div>\n",
       "<table border=\"1\" class=\"dataframe\">\n",
       "  <thead>\n",
       "    <tr style=\"text-align: right;\">\n",
       "      <th></th>\n",
       "      <th>timestamp</th>\n",
       "      <th>heartrate</th>\n",
       "      <th>steps</th>\n",
       "      <th>calories</th>\n",
       "      <th>gsr</th>\n",
       "      <th>skintemp</th>\n",
       "      <th>airtemp</th>\n",
       "    </tr>\n",
       "  </thead>\n",
       "  <tbody>\n",
       "    <tr>\n",
       "      <th>1435</th>\n",
       "      <td>2016-05-02 23:55:00</td>\n",
       "      <td>NaN</td>\n",
       "      <td>NaN</td>\n",
       "      <td>NaN</td>\n",
       "      <td>NaN</td>\n",
       "      <td>NaN</td>\n",
       "      <td>NaN</td>\n",
       "    </tr>\n",
       "    <tr>\n",
       "      <th>1436</th>\n",
       "      <td>2016-05-02 23:56:00</td>\n",
       "      <td>NaN</td>\n",
       "      <td>NaN</td>\n",
       "      <td>NaN</td>\n",
       "      <td>NaN</td>\n",
       "      <td>NaN</td>\n",
       "      <td>NaN</td>\n",
       "    </tr>\n",
       "    <tr>\n",
       "      <th>1437</th>\n",
       "      <td>2016-05-02 23:57:00</td>\n",
       "      <td>NaN</td>\n",
       "      <td>NaN</td>\n",
       "      <td>NaN</td>\n",
       "      <td>NaN</td>\n",
       "      <td>NaN</td>\n",
       "      <td>NaN</td>\n",
       "    </tr>\n",
       "    <tr>\n",
       "      <th>1438</th>\n",
       "      <td>2016-05-02 23:58:00</td>\n",
       "      <td>NaN</td>\n",
       "      <td>NaN</td>\n",
       "      <td>NaN</td>\n",
       "      <td>NaN</td>\n",
       "      <td>NaN</td>\n",
       "      <td>NaN</td>\n",
       "    </tr>\n",
       "    <tr>\n",
       "      <th>1439</th>\n",
       "      <td>2016-05-02 23:59:00</td>\n",
       "      <td>NaN</td>\n",
       "      <td>NaN</td>\n",
       "      <td>NaN</td>\n",
       "      <td>NaN</td>\n",
       "      <td>NaN</td>\n",
       "      <td>NaN</td>\n",
       "    </tr>\n",
       "  </tbody>\n",
       "</table>\n",
       "</div>"
      ],
      "text/plain": [
       "                timestamp  heartrate  steps  calories  gsr  skintemp  airtemp\n",
       "1435  2016-05-02 23:55:00        NaN    NaN       NaN  NaN       NaN      NaN\n",
       "1436  2016-05-02 23:56:00        NaN    NaN       NaN  NaN       NaN      NaN\n",
       "1437  2016-05-02 23:57:00        NaN    NaN       NaN  NaN       NaN      NaN\n",
       "1438  2016-05-02 23:58:00        NaN    NaN       NaN  NaN       NaN      NaN\n",
       "1439  2016-05-02 23:59:00        NaN    NaN       NaN  NaN       NaN      NaN"
      ]
     },
     "execution_count": 5,
     "metadata": {},
     "output_type": "execute_result"
    }
   ],
   "source": [
    "barbMetrics = loadMetricData('barbComp', \"metrics\")\n",
    "barbMetrics.tail(5)"
   ]
  },
  {
   "cell_type": "code",
   "execution_count": 6,
   "metadata": {
    "collapsed": false
   },
   "outputs": [
    {
     "data": {
      "text/plain": [
       "timestamp     object\n",
       "heartrate    float64\n",
       "steps        float64\n",
       "calories     float64\n",
       "gsr          float64\n",
       "skintemp     float64\n",
       "airtemp      float64\n",
       "dtype: object"
      ]
     },
     "execution_count": 6,
     "metadata": {},
     "output_type": "execute_result"
    }
   ],
   "source": [
    "barbMetrics.dtypes"
   ]
  },
  {
   "cell_type": "code",
   "execution_count": 7,
   "metadata": {
    "collapsed": false
   },
   "outputs": [
    {
     "data": {
      "text/html": [
       "<div>\n",
       "<table border=\"1\" class=\"dataframe\">\n",
       "  <thead>\n",
       "    <tr style=\"text-align: right;\">\n",
       "      <th></th>\n",
       "      <th>timestamp</th>\n",
       "      <th>heartrate</th>\n",
       "      <th>steps</th>\n",
       "      <th>calories</th>\n",
       "      <th>gsr</th>\n",
       "      <th>skintemp</th>\n",
       "      <th>airtemp</th>\n",
       "    </tr>\n",
       "  </thead>\n",
       "  <tbody>\n",
       "    <tr>\n",
       "      <th>0</th>\n",
       "      <td>2016-04-26 00:00:00</td>\n",
       "      <td>0</td>\n",
       "      <td>0</td>\n",
       "      <td>0</td>\n",
       "      <td>0</td>\n",
       "      <td>0</td>\n",
       "      <td>0</td>\n",
       "    </tr>\n",
       "    <tr>\n",
       "      <th>1</th>\n",
       "      <td>2016-04-26 00:01:00</td>\n",
       "      <td>0</td>\n",
       "      <td>0</td>\n",
       "      <td>0</td>\n",
       "      <td>0</td>\n",
       "      <td>0</td>\n",
       "      <td>0</td>\n",
       "    </tr>\n",
       "    <tr>\n",
       "      <th>2</th>\n",
       "      <td>2016-04-26 00:02:00</td>\n",
       "      <td>0</td>\n",
       "      <td>0</td>\n",
       "      <td>0</td>\n",
       "      <td>0</td>\n",
       "      <td>0</td>\n",
       "      <td>0</td>\n",
       "    </tr>\n",
       "    <tr>\n",
       "      <th>3</th>\n",
       "      <td>2016-04-26 00:03:00</td>\n",
       "      <td>0</td>\n",
       "      <td>0</td>\n",
       "      <td>0</td>\n",
       "      <td>0</td>\n",
       "      <td>0</td>\n",
       "      <td>0</td>\n",
       "    </tr>\n",
       "    <tr>\n",
       "      <th>4</th>\n",
       "      <td>2016-04-26 00:04:00</td>\n",
       "      <td>0</td>\n",
       "      <td>0</td>\n",
       "      <td>0</td>\n",
       "      <td>0</td>\n",
       "      <td>0</td>\n",
       "      <td>0</td>\n",
       "    </tr>\n",
       "  </tbody>\n",
       "</table>\n",
       "</div>"
      ],
      "text/plain": [
       "            timestamp  heartrate  steps  calories  gsr  skintemp  airtemp\n",
       "0 2016-04-26 00:00:00          0      0         0    0         0        0\n",
       "1 2016-04-26 00:01:00          0      0         0    0         0        0\n",
       "2 2016-04-26 00:02:00          0      0         0    0         0        0\n",
       "3 2016-04-26 00:03:00          0      0         0    0         0        0\n",
       "4 2016-04-26 00:04:00          0      0         0    0         0        0"
      ]
     },
     "execution_count": 7,
     "metadata": {},
     "output_type": "execute_result"
    }
   ],
   "source": [
    "# clean metric data\n",
    "\n",
    "barbMetrics.timestamp = pd.to_datetime(barbMetrics.timestamp)\n",
    "\n",
    "barbMetrics.heartrate = barbMetrics.heartrate.fillna(0)\n",
    "barbMetrics.steps = barbMetrics.steps.fillna(0)\n",
    "barbMetrics.calories = barbMetrics.calories.fillna(0)\n",
    "barbMetrics.gsr = barbMetrics.gsr.fillna(0)\n",
    "barbMetrics.skintemp = barbMetrics.skintemp.fillna(0)\n",
    "barbMetrics.airtemp = barbMetrics.airtemp.fillna(0)\n",
    "\n",
    "barbMetrics.head(5)"
   ]
  },
  {
   "cell_type": "code",
   "execution_count": 8,
   "metadata": {
    "collapsed": false
   },
   "outputs": [
    {
     "data": {
      "text/html": [
       "<div>\n",
       "<table border=\"1\" class=\"dataframe\">\n",
       "  <thead>\n",
       "    <tr style=\"text-align: right;\">\n",
       "      <th></th>\n",
       "      <th>start time</th>\n",
       "      <th>start time ISO</th>\n",
       "      <th>start time timezone</th>\n",
       "      <th>start time offset</th>\n",
       "      <th>end time</th>\n",
       "      <th>end time ISO</th>\n",
       "      <th>end time timezone</th>\n",
       "      <th>end time offset</th>\n",
       "      <th>type</th>\n",
       "      <th>actual seconds</th>\n",
       "      <th>steps</th>\n",
       "      <th>calories</th>\n",
       "      <th>minutes</th>\n",
       "      <th>heart rate avg</th>\n",
       "      <th>heart rate min</th>\n",
       "      <th>heart rate max</th>\n",
       "      <th>state</th>\n",
       "      <th>version</th>\n",
       "      <th>id</th>\n",
       "    </tr>\n",
       "  </thead>\n",
       "  <tbody>\n",
       "    <tr>\n",
       "      <th>0</th>\n",
       "      <td>2016-05-02 11:58:04</td>\n",
       "      <td>2016-05-02T11:58:04Z</td>\n",
       "      <td>America/New_York</td>\n",
       "      <td>-240</td>\n",
       "      <td>2016-05-02 12:02:15</td>\n",
       "      <td>2016-05-02T12:02:15Z</td>\n",
       "      <td>America/New_York</td>\n",
       "      <td>-240</td>\n",
       "      <td>walk</td>\n",
       "      <td>251</td>\n",
       "      <td>433</td>\n",
       "      <td>23.000000</td>\n",
       "      <td>4.183333</td>\n",
       "      <td>112.243027</td>\n",
       "      <td>NaN</td>\n",
       "      <td>NaN</td>\n",
       "      <td>complete</td>\n",
       "      <td>1</td>\n",
       "      <td>walk__2016-05-02T115804</td>\n",
       "    </tr>\n",
       "    <tr>\n",
       "      <th>1</th>\n",
       "      <td>2016-05-02 12:05:02</td>\n",
       "      <td>2016-05-02T12:05:02Z</td>\n",
       "      <td>America/New_York</td>\n",
       "      <td>-240</td>\n",
       "      <td>2016-05-02 12:17:42</td>\n",
       "      <td>2016-05-02T12:17:42Z</td>\n",
       "      <td>America/New_York</td>\n",
       "      <td>-240</td>\n",
       "      <td>walk</td>\n",
       "      <td>646</td>\n",
       "      <td>1152</td>\n",
       "      <td>71.300003</td>\n",
       "      <td>12.666667</td>\n",
       "      <td>114.549538</td>\n",
       "      <td>NaN</td>\n",
       "      <td>NaN</td>\n",
       "      <td>complete</td>\n",
       "      <td>1</td>\n",
       "      <td>walk__2016-05-02T120502</td>\n",
       "    </tr>\n",
       "    <tr>\n",
       "      <th>2</th>\n",
       "      <td>2016-05-02 13:01:23</td>\n",
       "      <td>2016-05-02T13:01:23Z</td>\n",
       "      <td>America/New_York</td>\n",
       "      <td>-240</td>\n",
       "      <td>2016-05-02 13:10:46</td>\n",
       "      <td>2016-05-02T13:10:46Z</td>\n",
       "      <td>America/New_York</td>\n",
       "      <td>-240</td>\n",
       "      <td>walk</td>\n",
       "      <td>307</td>\n",
       "      <td>485</td>\n",
       "      <td>18.600000</td>\n",
       "      <td>9.383333</td>\n",
       "      <td>102.285713</td>\n",
       "      <td>NaN</td>\n",
       "      <td>NaN</td>\n",
       "      <td>complete</td>\n",
       "      <td>1</td>\n",
       "      <td>walk__2016-05-02T130123</td>\n",
       "    </tr>\n",
       "    <tr>\n",
       "      <th>3</th>\n",
       "      <td>2016-05-02 16:13:28</td>\n",
       "      <td>2016-05-02T16:13:28Z</td>\n",
       "      <td>America/New_York</td>\n",
       "      <td>-240</td>\n",
       "      <td>2016-05-02 16:23:46</td>\n",
       "      <td>2016-05-02T16:23:46Z</td>\n",
       "      <td>America/New_York</td>\n",
       "      <td>-240</td>\n",
       "      <td>walk</td>\n",
       "      <td>272</td>\n",
       "      <td>486</td>\n",
       "      <td>31.100000</td>\n",
       "      <td>10.300000</td>\n",
       "      <td>121.375000</td>\n",
       "      <td>NaN</td>\n",
       "      <td>NaN</td>\n",
       "      <td>complete</td>\n",
       "      <td>1</td>\n",
       "      <td>walk__2016-05-02T161328</td>\n",
       "    </tr>\n",
       "    <tr>\n",
       "      <th>4</th>\n",
       "      <td>2016-05-02 16:47:41</td>\n",
       "      <td>2016-05-02T16:47:41Z</td>\n",
       "      <td>America/New_York</td>\n",
       "      <td>-240</td>\n",
       "      <td>2016-05-02 16:53:08</td>\n",
       "      <td>2016-05-02T16:53:08Z</td>\n",
       "      <td>America/New_York</td>\n",
       "      <td>-240</td>\n",
       "      <td>walk</td>\n",
       "      <td>233</td>\n",
       "      <td>435</td>\n",
       "      <td>26.299999</td>\n",
       "      <td>5.450000</td>\n",
       "      <td>116.309013</td>\n",
       "      <td>NaN</td>\n",
       "      <td>NaN</td>\n",
       "      <td>complete</td>\n",
       "      <td>1</td>\n",
       "      <td>walk__2016-05-02T164741</td>\n",
       "    </tr>\n",
       "  </tbody>\n",
       "</table>\n",
       "</div>"
      ],
      "text/plain": [
       "            start time        start time ISO start time timezone  \\\n",
       "0  2016-05-02 11:58:04  2016-05-02T11:58:04Z    America/New_York   \n",
       "1  2016-05-02 12:05:02  2016-05-02T12:05:02Z    America/New_York   \n",
       "2  2016-05-02 13:01:23  2016-05-02T13:01:23Z    America/New_York   \n",
       "3  2016-05-02 16:13:28  2016-05-02T16:13:28Z    America/New_York   \n",
       "4  2016-05-02 16:47:41  2016-05-02T16:47:41Z    America/New_York   \n",
       "\n",
       "   start time offset             end time          end time ISO  \\\n",
       "0               -240  2016-05-02 12:02:15  2016-05-02T12:02:15Z   \n",
       "1               -240  2016-05-02 12:17:42  2016-05-02T12:17:42Z   \n",
       "2               -240  2016-05-02 13:10:46  2016-05-02T13:10:46Z   \n",
       "3               -240  2016-05-02 16:23:46  2016-05-02T16:23:46Z   \n",
       "4               -240  2016-05-02 16:53:08  2016-05-02T16:53:08Z   \n",
       "\n",
       "  end time timezone  end time offset  type  actual seconds  steps   calories  \\\n",
       "0  America/New_York             -240  walk             251    433  23.000000   \n",
       "1  America/New_York             -240  walk             646   1152  71.300003   \n",
       "2  America/New_York             -240  walk             307    485  18.600000   \n",
       "3  America/New_York             -240  walk             272    486  31.100000   \n",
       "4  America/New_York             -240  walk             233    435  26.299999   \n",
       "\n",
       "     minutes  heart rate avg  heart rate min  heart rate max     state  \\\n",
       "0   4.183333      112.243027             NaN             NaN  complete   \n",
       "1  12.666667      114.549538             NaN             NaN  complete   \n",
       "2   9.383333      102.285713             NaN             NaN  complete   \n",
       "3  10.300000      121.375000             NaN             NaN  complete   \n",
       "4   5.450000      116.309013             NaN             NaN  complete   \n",
       "\n",
       "   version                       id  \n",
       "0        1  walk__2016-05-02T115804  \n",
       "1        1  walk__2016-05-02T120502  \n",
       "2        1  walk__2016-05-02T130123  \n",
       "3        1  walk__2016-05-02T161328  \n",
       "4        1  walk__2016-05-02T164741  "
      ]
     },
     "execution_count": 8,
     "metadata": {},
     "output_type": "execute_result"
    }
   ],
   "source": [
    "barbActivities = loadMetricData('barbComp', \"activities\")\n",
    "barbActivities.tail(5)"
   ]
  },
  {
   "cell_type": "code",
   "execution_count": 9,
   "metadata": {
    "collapsed": false
   },
   "outputs": [
    {
     "data": {
      "text/html": [
       "<div>\n",
       "<table border=\"1\" class=\"dataframe\">\n",
       "  <thead>\n",
       "    <tr style=\"text-align: right;\">\n",
       "      <th></th>\n",
       "      <th>start time</th>\n",
       "      <th>start time ISO</th>\n",
       "      <th>start time timezone</th>\n",
       "      <th>start time offset</th>\n",
       "      <th>end time</th>\n",
       "      <th>end time ISO</th>\n",
       "      <th>end time timezone</th>\n",
       "      <th>end time offset</th>\n",
       "      <th>light mins</th>\n",
       "      <th>deep mins</th>\n",
       "      <th>...</th>\n",
       "      <th>toss turns</th>\n",
       "      <th>type</th>\n",
       "      <th>actual seconds</th>\n",
       "      <th>calories</th>\n",
       "      <th>heart rate avg</th>\n",
       "      <th>heart rate min</th>\n",
       "      <th>heart rate max</th>\n",
       "      <th>state</th>\n",
       "      <th>version</th>\n",
       "      <th>id</th>\n",
       "    </tr>\n",
       "  </thead>\n",
       "  <tbody>\n",
       "    <tr>\n",
       "      <th>0</th>\n",
       "      <td>2016-04-29 22:38:22</td>\n",
       "      <td>2016-04-29T22:38:22Z</td>\n",
       "      <td>America/New_York</td>\n",
       "      <td>-240</td>\n",
       "      <td>2016-04-29 23:11:22</td>\n",
       "      <td>2016-04-29T23:11:22Z</td>\n",
       "      <td>America/New_York</td>\n",
       "      <td>-240</td>\n",
       "      <td>32</td>\n",
       "      <td>0</td>\n",
       "      <td>...</td>\n",
       "      <td>0</td>\n",
       "      <td>sleep</td>\n",
       "      <td>1980</td>\n",
       "      <td>41.599998</td>\n",
       "      <td>77.544754</td>\n",
       "      <td>NaN</td>\n",
       "      <td>NaN</td>\n",
       "      <td>complete</td>\n",
       "      <td>2</td>\n",
       "      <td>sleep__2016-04-29T223822</td>\n",
       "    </tr>\n",
       "    <tr>\n",
       "      <th>1</th>\n",
       "      <td>2016-04-30 04:54:42</td>\n",
       "      <td>2016-04-30T04:54:42Z</td>\n",
       "      <td>America/New_York</td>\n",
       "      <td>-240</td>\n",
       "      <td>2016-04-30 13:54:42</td>\n",
       "      <td>2016-04-30T13:54:42Z</td>\n",
       "      <td>America/New_York</td>\n",
       "      <td>-240</td>\n",
       "      <td>275</td>\n",
       "      <td>139</td>\n",
       "      <td>...</td>\n",
       "      <td>27</td>\n",
       "      <td>sleep</td>\n",
       "      <td>32400</td>\n",
       "      <td>622.700012</td>\n",
       "      <td>67.379333</td>\n",
       "      <td>NaN</td>\n",
       "      <td>NaN</td>\n",
       "      <td>complete</td>\n",
       "      <td>2</td>\n",
       "      <td>sleep__2016-04-30T045442</td>\n",
       "    </tr>\n",
       "    <tr>\n",
       "      <th>0</th>\n",
       "      <td>2016-05-01 17:35:39</td>\n",
       "      <td>2016-05-01T17:35:39Z</td>\n",
       "      <td>America/New_York</td>\n",
       "      <td>-240</td>\n",
       "      <td>2016-05-01 18:13:39</td>\n",
       "      <td>2016-05-01T18:13:39Z</td>\n",
       "      <td>America/New_York</td>\n",
       "      <td>-240</td>\n",
       "      <td>37</td>\n",
       "      <td>0</td>\n",
       "      <td>...</td>\n",
       "      <td>2</td>\n",
       "      <td>sleep</td>\n",
       "      <td>2280</td>\n",
       "      <td>43.700001</td>\n",
       "      <td>59.494274</td>\n",
       "      <td>NaN</td>\n",
       "      <td>NaN</td>\n",
       "      <td>complete</td>\n",
       "      <td>2</td>\n",
       "      <td>sleep__2016-05-01T173539</td>\n",
       "    </tr>\n",
       "    <tr>\n",
       "      <th>1</th>\n",
       "      <td>2016-05-02 01:57:39</td>\n",
       "      <td>2016-05-02T01:57:39Z</td>\n",
       "      <td>America/New_York</td>\n",
       "      <td>-240</td>\n",
       "      <td>2016-05-02 03:09:39</td>\n",
       "      <td>2016-05-02T03:09:39Z</td>\n",
       "      <td>America/New_York</td>\n",
       "      <td>-240</td>\n",
       "      <td>71</td>\n",
       "      <td>0</td>\n",
       "      <td>...</td>\n",
       "      <td>4</td>\n",
       "      <td>sleep</td>\n",
       "      <td>4320</td>\n",
       "      <td>89.099998</td>\n",
       "      <td>79.341530</td>\n",
       "      <td>NaN</td>\n",
       "      <td>NaN</td>\n",
       "      <td>complete</td>\n",
       "      <td>2</td>\n",
       "      <td>sleep__2016-05-02T015739</td>\n",
       "    </tr>\n",
       "    <tr>\n",
       "      <th>2</th>\n",
       "      <td>2016-05-02 03:58:39</td>\n",
       "      <td>2016-05-02T03:58:39Z</td>\n",
       "      <td>America/New_York</td>\n",
       "      <td>-240</td>\n",
       "      <td>2016-05-02 10:40:39</td>\n",
       "      <td>2016-05-02T10:40:39Z</td>\n",
       "      <td>America/New_York</td>\n",
       "      <td>-240</td>\n",
       "      <td>210</td>\n",
       "      <td>103</td>\n",
       "      <td>...</td>\n",
       "      <td>18</td>\n",
       "      <td>sleep</td>\n",
       "      <td>23760</td>\n",
       "      <td>460.600006</td>\n",
       "      <td>58.690727</td>\n",
       "      <td>NaN</td>\n",
       "      <td>NaN</td>\n",
       "      <td>complete</td>\n",
       "      <td>2</td>\n",
       "      <td>sleep__2016-05-02T035839</td>\n",
       "    </tr>\n",
       "  </tbody>\n",
       "</table>\n",
       "<p>5 rows × 24 columns</p>\n",
       "</div>"
      ],
      "text/plain": [
       "            start time        start time ISO start time timezone  \\\n",
       "0  2016-04-29 22:38:22  2016-04-29T22:38:22Z    America/New_York   \n",
       "1  2016-04-30 04:54:42  2016-04-30T04:54:42Z    America/New_York   \n",
       "0  2016-05-01 17:35:39  2016-05-01T17:35:39Z    America/New_York   \n",
       "1  2016-05-02 01:57:39  2016-05-02T01:57:39Z    America/New_York   \n",
       "2  2016-05-02 03:58:39  2016-05-02T03:58:39Z    America/New_York   \n",
       "\n",
       "   start time offset             end time          end time ISO  \\\n",
       "0               -240  2016-04-29 23:11:22  2016-04-29T23:11:22Z   \n",
       "1               -240  2016-04-30 13:54:42  2016-04-30T13:54:42Z   \n",
       "0               -240  2016-05-01 18:13:39  2016-05-01T18:13:39Z   \n",
       "1               -240  2016-05-02 03:09:39  2016-05-02T03:09:39Z   \n",
       "2               -240  2016-05-02 10:40:39  2016-05-02T10:40:39Z   \n",
       "\n",
       "  end time timezone  end time offset  light mins  deep mins  \\\n",
       "0  America/New_York             -240          32          0   \n",
       "1  America/New_York             -240         275        139   \n",
       "0  America/New_York             -240          37          0   \n",
       "1  America/New_York             -240          71          0   \n",
       "2  America/New_York             -240         210        103   \n",
       "\n",
       "             ...             toss turns   type  actual seconds    calories  \\\n",
       "0            ...                      0  sleep            1980   41.599998   \n",
       "1            ...                     27  sleep           32400  622.700012   \n",
       "0            ...                      2  sleep            2280   43.700001   \n",
       "1            ...                      4  sleep            4320   89.099998   \n",
       "2            ...                     18  sleep           23760  460.600006   \n",
       "\n",
       "   heart rate avg heart rate min  heart rate max     state  version  \\\n",
       "0       77.544754            NaN             NaN  complete        2   \n",
       "1       67.379333            NaN             NaN  complete        2   \n",
       "0       59.494274            NaN             NaN  complete        2   \n",
       "1       79.341530            NaN             NaN  complete        2   \n",
       "2       58.690727            NaN             NaN  complete        2   \n",
       "\n",
       "                         id  \n",
       "0  sleep__2016-04-29T223822  \n",
       "1  sleep__2016-04-30T045442  \n",
       "0  sleep__2016-05-01T173539  \n",
       "1  sleep__2016-05-02T015739  \n",
       "2  sleep__2016-05-02T035839  \n",
       "\n",
       "[5 rows x 24 columns]"
      ]
     },
     "execution_count": 9,
     "metadata": {},
     "output_type": "execute_result"
    }
   ],
   "source": [
    "barbSleep = loadMetricData('barbComp', \"sleep\")\n",
    "barbSleep.tail(5)"
   ]
  },
  {
   "cell_type": "code",
   "execution_count": 10,
   "metadata": {
    "collapsed": false
   },
   "outputs": [
    {
     "data": {
      "text/plain": [
       "start time              object\n",
       "start time ISO          object\n",
       "start time timezone     object\n",
       "start time offset      float64\n",
       "end time                object\n",
       "end time ISO            object\n",
       "end time timezone       object\n",
       "end time offset        float64\n",
       "light mins             float64\n",
       "deep mins              float64\n",
       "rem mins               float64\n",
       "interruption mins      float64\n",
       "unknown mins           float64\n",
       "interruptions          float64\n",
       "toss turns             float64\n",
       "type                    object\n",
       "actual seconds         float64\n",
       "calories               float64\n",
       "heart rate avg         float64\n",
       "heart rate min         float64\n",
       "heart rate max         float64\n",
       "state                   object\n",
       "version                float64\n",
       "id                      object\n",
       "dtype: object"
      ]
     },
     "execution_count": 10,
     "metadata": {},
     "output_type": "execute_result"
    }
   ],
   "source": [
    "barbSleep.dtypes"
   ]
  },
  {
   "cell_type": "code",
   "execution_count": 11,
   "metadata": {
    "collapsed": false
   },
   "outputs": [
    {
     "data": {
      "text/html": [
       "<div>\n",
       "<table border=\"1\" class=\"dataframe\">\n",
       "  <thead>\n",
       "    <tr style=\"text-align: right;\">\n",
       "      <th></th>\n",
       "      <th>starttime</th>\n",
       "      <th>endtime</th>\n",
       "      <th>date</th>\n",
       "      <th>start</th>\n",
       "      <th>end</th>\n",
       "      <th>activity</th>\n",
       "      <th>location</th>\n",
       "      <th>generalemo</th>\n",
       "      <th>qualitative</th>\n",
       "      <th>excited</th>\n",
       "      <th>happy</th>\n",
       "      <th>calm</th>\n",
       "      <th>anxious</th>\n",
       "      <th>sad</th>\n",
       "      <th>angry</th>\n",
       "      <th>hungry</th>\n",
       "      <th>tired</th>\n",
       "      <th>bored</th>\n",
       "    </tr>\n",
       "  </thead>\n",
       "  <tbody>\n",
       "    <tr>\n",
       "      <th>113</th>\n",
       "      <td>5/2/16 7:15</td>\n",
       "      <td>5/2/16 8:15</td>\n",
       "      <td>5/2/16</td>\n",
       "      <td>7:15 AM</td>\n",
       "      <td>8:15 AM</td>\n",
       "      <td>Train Commute</td>\n",
       "      <td>NaN</td>\n",
       "      <td>NaN</td>\n",
       "      <td>NaN</td>\n",
       "      <td>NaN</td>\n",
       "      <td>NaN</td>\n",
       "      <td>6</td>\n",
       "      <td>NaN</td>\n",
       "      <td>NaN</td>\n",
       "      <td>NaN</td>\n",
       "      <td>NaN</td>\n",
       "      <td>NaN</td>\n",
       "      <td>NaN</td>\n",
       "    </tr>\n",
       "    <tr>\n",
       "      <th>114</th>\n",
       "      <td>5/2/16 8:15</td>\n",
       "      <td>5/2/16 9:30</td>\n",
       "      <td>5/2/16</td>\n",
       "      <td>8:15 AM</td>\n",
       "      <td>9:30 AM</td>\n",
       "      <td>setting up computers</td>\n",
       "      <td>work</td>\n",
       "      <td>NaN</td>\n",
       "      <td>NaN</td>\n",
       "      <td>NaN</td>\n",
       "      <td>NaN</td>\n",
       "      <td>NaN</td>\n",
       "      <td>8</td>\n",
       "      <td>NaN</td>\n",
       "      <td>NaN</td>\n",
       "      <td>NaN</td>\n",
       "      <td>NaN</td>\n",
       "      <td>NaN</td>\n",
       "    </tr>\n",
       "    <tr>\n",
       "      <th>115</th>\n",
       "      <td>5/2/16 9:30</td>\n",
       "      <td>5/2/16 11:13</td>\n",
       "      <td>5/2/16</td>\n",
       "      <td>9:30 AM</td>\n",
       "      <td>11:13 AM</td>\n",
       "      <td>Class and setting up computers</td>\n",
       "      <td>work</td>\n",
       "      <td>NaN</td>\n",
       "      <td>NaN</td>\n",
       "      <td>NaN</td>\n",
       "      <td>NaN</td>\n",
       "      <td>NaN</td>\n",
       "      <td>6</td>\n",
       "      <td>6</td>\n",
       "      <td>NaN</td>\n",
       "      <td>NaN</td>\n",
       "      <td>NaN</td>\n",
       "      <td>NaN</td>\n",
       "    </tr>\n",
       "    <tr>\n",
       "      <th>116</th>\n",
       "      <td>5/2/16 11:13</td>\n",
       "      <td>5/2/16 12:00</td>\n",
       "      <td>5/2/16</td>\n",
       "      <td>11:13 AM</td>\n",
       "      <td>12:00 PM</td>\n",
       "      <td>Work</td>\n",
       "      <td>work</td>\n",
       "      <td>NaN</td>\n",
       "      <td>NaN</td>\n",
       "      <td>NaN</td>\n",
       "      <td>NaN</td>\n",
       "      <td>NaN</td>\n",
       "      <td>NaN</td>\n",
       "      <td>NaN</td>\n",
       "      <td>NaN</td>\n",
       "      <td>NaN</td>\n",
       "      <td>NaN</td>\n",
       "      <td>NaN</td>\n",
       "    </tr>\n",
       "    <tr>\n",
       "      <th>117</th>\n",
       "      <td>5/2/16 12:00</td>\n",
       "      <td>5/2/16 13:18</td>\n",
       "      <td>5/2/16</td>\n",
       "      <td>12:00 PM</td>\n",
       "      <td>1:18 PM</td>\n",
       "      <td>meeting with anne</td>\n",
       "      <td>work</td>\n",
       "      <td>NaN</td>\n",
       "      <td>NaN</td>\n",
       "      <td>NaN</td>\n",
       "      <td>NaN</td>\n",
       "      <td>NaN</td>\n",
       "      <td>NaN</td>\n",
       "      <td>NaN</td>\n",
       "      <td>NaN</td>\n",
       "      <td>NaN</td>\n",
       "      <td>NaN</td>\n",
       "      <td>NaN</td>\n",
       "    </tr>\n",
       "  </tbody>\n",
       "</table>\n",
       "</div>"
      ],
      "text/plain": [
       "        starttime       endtime    date     start       end  \\\n",
       "113   5/2/16 7:15   5/2/16 8:15  5/2/16   7:15 AM   8:15 AM   \n",
       "114   5/2/16 8:15   5/2/16 9:30  5/2/16   8:15 AM   9:30 AM   \n",
       "115   5/2/16 9:30  5/2/16 11:13  5/2/16   9:30 AM  11:13 AM   \n",
       "116  5/2/16 11:13  5/2/16 12:00  5/2/16  11:13 AM  12:00 PM   \n",
       "117  5/2/16 12:00  5/2/16 13:18  5/2/16  12:00 PM   1:18 PM   \n",
       "\n",
       "                           activity location generalemo  qualitative  excited  \\\n",
       "113                   Train Commute      NaN        NaN          NaN      NaN   \n",
       "114            setting up computers     work        NaN          NaN      NaN   \n",
       "115  Class and setting up computers     work        NaN          NaN      NaN   \n",
       "116                            Work     work        NaN          NaN      NaN   \n",
       "117               meeting with anne     work        NaN          NaN      NaN   \n",
       "\n",
       "     happy  calm  anxious  sad  angry  hungry  tired  bored  \n",
       "113    NaN     6      NaN  NaN    NaN     NaN    NaN    NaN  \n",
       "114    NaN   NaN        8  NaN    NaN     NaN    NaN    NaN  \n",
       "115    NaN   NaN        6    6    NaN     NaN    NaN    NaN  \n",
       "116    NaN   NaN      NaN  NaN    NaN     NaN    NaN    NaN  \n",
       "117    NaN   NaN      NaN  NaN    NaN     NaN    NaN    NaN  "
      ]
     },
     "execution_count": 11,
     "metadata": {},
     "output_type": "execute_result"
    }
   ],
   "source": [
    "barbJournal = loadMetricData('barbComp', \"journal\")\n",
    "barbJournal.tail(5)"
   ]
  },
  {
   "cell_type": "code",
   "execution_count": 12,
   "metadata": {
    "collapsed": false
   },
   "outputs": [
    {
     "data": {
      "text/plain": [
       "starttime       object\n",
       "endtime         object\n",
       "date            object\n",
       "start           object\n",
       "end             object\n",
       "activity        object\n",
       "location        object\n",
       "generalemo      object\n",
       "qualitative    float64\n",
       "excited        float64\n",
       "happy          float64\n",
       "calm           float64\n",
       "anxious        float64\n",
       "sad            float64\n",
       "angry          float64\n",
       "hungry         float64\n",
       "tired          float64\n",
       "bored          float64\n",
       "dtype: object"
      ]
     },
     "execution_count": 12,
     "metadata": {},
     "output_type": "execute_result"
    }
   ],
   "source": [
    "barbJournal.dtypes"
   ]
  },
  {
   "cell_type": "code",
   "execution_count": 13,
   "metadata": {
    "collapsed": false,
    "scrolled": true
   },
   "outputs": [
    {
     "name": "stdout",
     "output_type": "stream",
     "text": [
      "(118, 18)\n"
     ]
    },
    {
     "data": {
      "text/html": [
       "<div>\n",
       "<table border=\"1\" class=\"dataframe\">\n",
       "  <thead>\n",
       "    <tr style=\"text-align: right;\">\n",
       "      <th></th>\n",
       "      <th>starttime</th>\n",
       "      <th>endtime</th>\n",
       "      <th>date</th>\n",
       "      <th>start</th>\n",
       "      <th>end</th>\n",
       "      <th>activity</th>\n",
       "      <th>location</th>\n",
       "      <th>generalemo</th>\n",
       "      <th>qualitative</th>\n",
       "      <th>excited</th>\n",
       "      <th>happy</th>\n",
       "      <th>calm</th>\n",
       "      <th>anxious</th>\n",
       "      <th>sad</th>\n",
       "      <th>angry</th>\n",
       "      <th>hungry</th>\n",
       "      <th>tired</th>\n",
       "      <th>bored</th>\n",
       "    </tr>\n",
       "  </thead>\n",
       "  <tbody>\n",
       "    <tr>\n",
       "      <th>0</th>\n",
       "      <td>2016-04-26 09:28:00</td>\n",
       "      <td>2016-04-26 09:33:00</td>\n",
       "      <td>4/26/16</td>\n",
       "      <td>9:28 AM</td>\n",
       "      <td>9:33 AM</td>\n",
       "      <td>setting up basis, drinking coffee, listening t...</td>\n",
       "      <td>work</td>\n",
       "      <td>Calm</td>\n",
       "      <td>0</td>\n",
       "      <td>1</td>\n",
       "      <td>2</td>\n",
       "      <td>6</td>\n",
       "      <td>0</td>\n",
       "      <td>0</td>\n",
       "      <td>0</td>\n",
       "      <td>0</td>\n",
       "      <td>2</td>\n",
       "      <td>1</td>\n",
       "    </tr>\n",
       "    <tr>\n",
       "      <th>1</th>\n",
       "      <td>2016-04-26 09:33:00</td>\n",
       "      <td>2016-04-26 10:02:00</td>\n",
       "      <td>4/26/16</td>\n",
       "      <td>9:33 AM</td>\n",
       "      <td>10:02 AM</td>\n",
       "      <td>listening to 80's pop, going through work email</td>\n",
       "      <td>work</td>\n",
       "      <td>Calm</td>\n",
       "      <td>0</td>\n",
       "      <td>0</td>\n",
       "      <td>2</td>\n",
       "      <td>6</td>\n",
       "      <td>0</td>\n",
       "      <td>0</td>\n",
       "      <td>0</td>\n",
       "      <td>0</td>\n",
       "      <td>2</td>\n",
       "      <td>0</td>\n",
       "    </tr>\n",
       "    <tr>\n",
       "      <th>2</th>\n",
       "      <td>2016-04-26 10:02:00</td>\n",
       "      <td>2016-04-26 10:25:00</td>\n",
       "      <td>4/26/16</td>\n",
       "      <td>10:02 AM</td>\n",
       "      <td>10:25 AM</td>\n",
       "      <td>meeting with student</td>\n",
       "      <td>work</td>\n",
       "      <td>Calm</td>\n",
       "      <td>0</td>\n",
       "      <td>0</td>\n",
       "      <td>0</td>\n",
       "      <td>6</td>\n",
       "      <td>0</td>\n",
       "      <td>0</td>\n",
       "      <td>0</td>\n",
       "      <td>0</td>\n",
       "      <td>4</td>\n",
       "      <td>0</td>\n",
       "    </tr>\n",
       "    <tr>\n",
       "      <th>3</th>\n",
       "      <td>2016-04-26 10:25:00</td>\n",
       "      <td>2016-04-26 10:35:00</td>\n",
       "      <td>4/26/16</td>\n",
       "      <td>10:25 AM</td>\n",
       "      <td>10:35 AM</td>\n",
       "      <td>meeting with mick</td>\n",
       "      <td>work</td>\n",
       "      <td>Calm</td>\n",
       "      <td>0</td>\n",
       "      <td>0</td>\n",
       "      <td>0</td>\n",
       "      <td>6</td>\n",
       "      <td>0</td>\n",
       "      <td>0</td>\n",
       "      <td>0</td>\n",
       "      <td>0</td>\n",
       "      <td>4</td>\n",
       "      <td>0</td>\n",
       "    </tr>\n",
       "    <tr>\n",
       "      <th>4</th>\n",
       "      <td>2016-04-26 10:35:00</td>\n",
       "      <td>2016-04-26 10:45:00</td>\n",
       "      <td>4/26/16</td>\n",
       "      <td>10:35 AM</td>\n",
       "      <td>10:45 AM</td>\n",
       "      <td>meeting with student</td>\n",
       "      <td>school</td>\n",
       "      <td>Calm</td>\n",
       "      <td>0</td>\n",
       "      <td>0</td>\n",
       "      <td>0</td>\n",
       "      <td>6</td>\n",
       "      <td>0</td>\n",
       "      <td>0</td>\n",
       "      <td>0</td>\n",
       "      <td>0</td>\n",
       "      <td>4</td>\n",
       "      <td>0</td>\n",
       "    </tr>\n",
       "  </tbody>\n",
       "</table>\n",
       "</div>"
      ],
      "text/plain": [
       "            starttime             endtime     date     start       end  \\\n",
       "0 2016-04-26 09:28:00 2016-04-26 09:33:00  4/26/16   9:28 AM   9:33 AM   \n",
       "1 2016-04-26 09:33:00 2016-04-26 10:02:00  4/26/16   9:33 AM  10:02 AM   \n",
       "2 2016-04-26 10:02:00 2016-04-26 10:25:00  4/26/16  10:02 AM  10:25 AM   \n",
       "3 2016-04-26 10:25:00 2016-04-26 10:35:00  4/26/16  10:25 AM  10:35 AM   \n",
       "4 2016-04-26 10:35:00 2016-04-26 10:45:00  4/26/16  10:35 AM  10:45 AM   \n",
       "\n",
       "                                            activity location generalemo  \\\n",
       "0  setting up basis, drinking coffee, listening t...     work       Calm   \n",
       "1    listening to 80's pop, going through work email     work       Calm   \n",
       "2                               meeting with student     work       Calm   \n",
       "3                                  meeting with mick     work       Calm   \n",
       "4                               meeting with student   school       Calm   \n",
       "\n",
       "   qualitative  excited  happy  calm  anxious  sad  angry  hungry  tired  \\\n",
       "0            0        1      2     6        0    0      0       0      2   \n",
       "1            0        0      2     6        0    0      0       0      2   \n",
       "2            0        0      0     6        0    0      0       0      4   \n",
       "3            0        0      0     6        0    0      0       0      4   \n",
       "4            0        0      0     6        0    0      0       0      4   \n",
       "\n",
       "   bored  \n",
       "0      1  \n",
       "1      0  \n",
       "2      0  \n",
       "3      0  \n",
       "4      0  "
      ]
     },
     "execution_count": 13,
     "metadata": {},
     "output_type": "execute_result"
    }
   ],
   "source": [
    "# data= barbJournal.iloc[:0]\n",
    "# clean metric data\n",
    "barbJournal[\"starttime\"]= pd.to_datetime(barbJournal.starttime)\n",
    "\n",
    "# data= barbJournal.iloc[:1]\n",
    "barbJournal[\"endtime\"]= pd.to_datetime(barbJournal.endtime)\n",
    "\n",
    "\n",
    "# sarahJournal.qualitative = sarahJournal.qualitative.convert_objects(convert_numeric=True)\n",
    "# sarahJournal.excited = sarahJournal.excited.convert_objects(convert_numeric=True)\n",
    "# sarahJournal.happy = sarahJournal.happy.convert_objects(convert_numeric=True)\n",
    "\n",
    "barbJournal.qualitative = barbJournal.qualitative.fillna(0)\n",
    "barbJournal.excited = barbJournal.excited.fillna(0)\n",
    "barbJournal.happy = barbJournal.happy.fillna(0)\n",
    "barbJournal.calm = barbJournal.calm.fillna(0)\n",
    "barbJournal.anxious = barbJournal.anxious.fillna(0)\n",
    "barbJournal.sad = barbJournal.sad.fillna(0)\n",
    "barbJournal.angry = barbJournal.angry.fillna(0)\n",
    "barbJournal.hungry = barbJournal.hungry.fillna(0)\n",
    "barbJournal.tired = barbJournal.tired.fillna(0)\n",
    "barbJournal.bored = barbJournal.bored.fillna(0)\n",
    "\n",
    "print(barbJournal.shape)\n",
    "barbJournal.head(5)\n",
    "# barbJournal.tail(5)"
   ]
  },
  {
   "cell_type": "code",
   "execution_count": 14,
   "metadata": {
    "collapsed": false
   },
   "outputs": [
    {
     "data": {
      "text/html": [
       "<div>\n",
       "<table border=\"1\" class=\"dataframe\">\n",
       "  <thead>\n",
       "    <tr style=\"text-align: right;\">\n",
       "      <th></th>\n",
       "      <th>starttime</th>\n",
       "      <th>endtime</th>\n",
       "      <th>date</th>\n",
       "      <th>start</th>\n",
       "      <th>end</th>\n",
       "      <th>activity</th>\n",
       "      <th>location</th>\n",
       "      <th>generalemo</th>\n",
       "      <th>qualitative</th>\n",
       "      <th>excited</th>\n",
       "      <th>...</th>\n",
       "      <th>intbored</th>\n",
       "      <th>exercise</th>\n",
       "      <th>code</th>\n",
       "      <th>anne</th>\n",
       "      <th>will</th>\n",
       "      <th>mick</th>\n",
       "      <th>geyer</th>\n",
       "      <th>home</th>\n",
       "      <th>work</th>\n",
       "      <th>school</th>\n",
       "    </tr>\n",
       "  </thead>\n",
       "  <tbody>\n",
       "    <tr>\n",
       "      <th>0</th>\n",
       "      <td>2016-04-26 09:28:00</td>\n",
       "      <td>2016-04-26 09:33:00</td>\n",
       "      <td>4/26/16</td>\n",
       "      <td>9:28 AM</td>\n",
       "      <td>9:33 AM</td>\n",
       "      <td>setting up basis, drinking coffee, listening t...</td>\n",
       "      <td>work</td>\n",
       "      <td>Calm</td>\n",
       "      <td>0</td>\n",
       "      <td>1</td>\n",
       "      <td>...</td>\n",
       "      <td>0</td>\n",
       "      <td>False</td>\n",
       "      <td>False</td>\n",
       "      <td>False</td>\n",
       "      <td>False</td>\n",
       "      <td>False</td>\n",
       "      <td>False</td>\n",
       "      <td>False</td>\n",
       "      <td>True</td>\n",
       "      <td>False</td>\n",
       "    </tr>\n",
       "    <tr>\n",
       "      <th>1</th>\n",
       "      <td>2016-04-26 09:33:00</td>\n",
       "      <td>2016-04-26 10:02:00</td>\n",
       "      <td>4/26/16</td>\n",
       "      <td>9:33 AM</td>\n",
       "      <td>10:02 AM</td>\n",
       "      <td>listening to 80's pop, going through work email</td>\n",
       "      <td>work</td>\n",
       "      <td>Calm</td>\n",
       "      <td>0</td>\n",
       "      <td>0</td>\n",
       "      <td>...</td>\n",
       "      <td>0</td>\n",
       "      <td>False</td>\n",
       "      <td>False</td>\n",
       "      <td>False</td>\n",
       "      <td>False</td>\n",
       "      <td>False</td>\n",
       "      <td>False</td>\n",
       "      <td>False</td>\n",
       "      <td>True</td>\n",
       "      <td>False</td>\n",
       "    </tr>\n",
       "    <tr>\n",
       "      <th>2</th>\n",
       "      <td>2016-04-26 10:02:00</td>\n",
       "      <td>2016-04-26 10:25:00</td>\n",
       "      <td>4/26/16</td>\n",
       "      <td>10:02 AM</td>\n",
       "      <td>10:25 AM</td>\n",
       "      <td>meeting with student</td>\n",
       "      <td>work</td>\n",
       "      <td>Calm</td>\n",
       "      <td>0</td>\n",
       "      <td>0</td>\n",
       "      <td>...</td>\n",
       "      <td>0</td>\n",
       "      <td>False</td>\n",
       "      <td>False</td>\n",
       "      <td>False</td>\n",
       "      <td>False</td>\n",
       "      <td>False</td>\n",
       "      <td>False</td>\n",
       "      <td>False</td>\n",
       "      <td>True</td>\n",
       "      <td>False</td>\n",
       "    </tr>\n",
       "    <tr>\n",
       "      <th>3</th>\n",
       "      <td>2016-04-26 10:25:00</td>\n",
       "      <td>2016-04-26 10:35:00</td>\n",
       "      <td>4/26/16</td>\n",
       "      <td>10:25 AM</td>\n",
       "      <td>10:35 AM</td>\n",
       "      <td>meeting with mick</td>\n",
       "      <td>work</td>\n",
       "      <td>Calm</td>\n",
       "      <td>0</td>\n",
       "      <td>0</td>\n",
       "      <td>...</td>\n",
       "      <td>0</td>\n",
       "      <td>False</td>\n",
       "      <td>False</td>\n",
       "      <td>False</td>\n",
       "      <td>False</td>\n",
       "      <td>True</td>\n",
       "      <td>False</td>\n",
       "      <td>False</td>\n",
       "      <td>True</td>\n",
       "      <td>False</td>\n",
       "    </tr>\n",
       "    <tr>\n",
       "      <th>4</th>\n",
       "      <td>2016-04-26 10:35:00</td>\n",
       "      <td>2016-04-26 10:45:00</td>\n",
       "      <td>4/26/16</td>\n",
       "      <td>10:35 AM</td>\n",
       "      <td>10:45 AM</td>\n",
       "      <td>meeting with student</td>\n",
       "      <td>school</td>\n",
       "      <td>Calm</td>\n",
       "      <td>0</td>\n",
       "      <td>0</td>\n",
       "      <td>...</td>\n",
       "      <td>0</td>\n",
       "      <td>False</td>\n",
       "      <td>False</td>\n",
       "      <td>False</td>\n",
       "      <td>False</td>\n",
       "      <td>False</td>\n",
       "      <td>False</td>\n",
       "      <td>False</td>\n",
       "      <td>False</td>\n",
       "      <td>True</td>\n",
       "    </tr>\n",
       "  </tbody>\n",
       "</table>\n",
       "<p>5 rows × 45 columns</p>\n",
       "</div>"
      ],
      "text/plain": [
       "            starttime             endtime     date     start       end  \\\n",
       "0 2016-04-26 09:28:00 2016-04-26 09:33:00  4/26/16   9:28 AM   9:33 AM   \n",
       "1 2016-04-26 09:33:00 2016-04-26 10:02:00  4/26/16   9:33 AM  10:02 AM   \n",
       "2 2016-04-26 10:02:00 2016-04-26 10:25:00  4/26/16  10:02 AM  10:25 AM   \n",
       "3 2016-04-26 10:25:00 2016-04-26 10:35:00  4/26/16  10:25 AM  10:35 AM   \n",
       "4 2016-04-26 10:35:00 2016-04-26 10:45:00  4/26/16  10:35 AM  10:45 AM   \n",
       "\n",
       "                                            activity location generalemo  \\\n",
       "0  setting up basis, drinking coffee, listening t...     work       Calm   \n",
       "1    listening to 80's pop, going through work email     work       Calm   \n",
       "2                               meeting with student     work       Calm   \n",
       "3                                  meeting with mick     work       Calm   \n",
       "4                               meeting with student   school       Calm   \n",
       "\n",
       "   qualitative  excited  ...    intbored  exercise   code   anne   will  \\\n",
       "0            0        1  ...           0     False  False  False  False   \n",
       "1            0        0  ...           0     False  False  False  False   \n",
       "2            0        0  ...           0     False  False  False  False   \n",
       "3            0        0  ...           0     False  False  False  False   \n",
       "4            0        0  ...           0     False  False  False  False   \n",
       "\n",
       "    mick  geyer   home   work school  \n",
       "0  False  False  False   True  False  \n",
       "1  False  False  False   True  False  \n",
       "2  False  False  False   True  False  \n",
       "3   True  False  False   True  False  \n",
       "4  False  False  False  False   True  \n",
       "\n",
       "[5 rows x 45 columns]"
      ]
     },
     "execution_count": 14,
     "metadata": {},
     "output_type": "execute_result"
    }
   ],
   "source": [
    "\n",
    "barbJournal['boolexcited'] =  barbJournal['excited'] > 0\n",
    "barbJournal['boolhappy'] =  barbJournal['happy'] > 0\n",
    "barbJournal['boolcalm'] =  barbJournal['calm'] > 0\n",
    "barbJournal['boolanxious'] =  barbJournal['anxious'] > 0\n",
    "barbJournal['boolsad'] =  barbJournal['sad'] > 0\n",
    "barbJournal['boolangry'] =  barbJournal['angry'] > 0\n",
    "barbJournal['booltired'] =  barbJournal['tired'] > 0\n",
    "barbJournal['boolhungry'] =  barbJournal['hungry'] > 0\n",
    "barbJournal['boolbored'] =  barbJournal['bored'] > 0\n",
    "\n",
    "\n",
    "for i in range(0, barbJournal.shape[0]):\n",
    "#     barbJournal['intqual'] = int(barbJournal.iloc[i, 8])\n",
    "    barbJournal['intexcited'] = int(barbJournal.iloc[i, 9])\n",
    "    barbJournal['inthappy'] = int(barbJournal.iloc[i, 10]) \n",
    "    barbJournal['intcalm'] = int(barbJournal.iloc[i, 11])\n",
    "    barbJournal['intanxious'] = int(barbJournal.iloc[i, 12])\n",
    "    barbJournal['intsad'] = int(barbJournal.iloc[i, 13]) \n",
    "    barbJournal['intangry'] = int(barbJournal.iloc[i, 14]) \n",
    "    barbJournal['inttired'] = int(barbJournal.iloc[i, 15]) \n",
    "    barbJournal['inthungry'] = int(barbJournal.iloc[i, 16]) \n",
    "    barbJournal['intbored'] = int(barbJournal.iloc[i, 17]) \n",
    "    \n",
    "barbJournal['exercise'] = barbJournal['activity'].str.contains('exercise')\n",
    "barbJournal['code'] = barbJournal['activity'].str.contains('code')\n",
    "barbJournal['anne'] = barbJournal['activity'].str.contains('anne')\n",
    "barbJournal['will'] = barbJournal['activity'].str.contains('will')\n",
    "barbJournal['mick'] = barbJournal['activity'].str.contains('mick')\n",
    "barbJournal['geyer'] = barbJournal['activity'].str.contains('geyer')\n",
    "\n",
    "barbJournal['home'] = barbJournal['location'].str.contains('home')\n",
    "barbJournal['work'] = barbJournal['location'].str.contains(\"work\")\n",
    "barbJournal['school'] = barbJournal['location'].str.contains(\"school\")\n",
    "\n",
    "\n",
    "\n",
    "\n",
    "boolexcited = barbJournal.iloc[:, 18].values.reshape(barbJournal.shape[0], 1)\n",
    "boolhappy = barbJournal.iloc[:, 19].values.reshape(barbJournal.shape[0], 1)\n",
    "boolcalm = barbJournal.iloc[:, 20].values.reshape(barbJournal.shape[0], 1)\n",
    "boolanxious = barbJournal.iloc[:, 21].values.reshape(barbJournal.shape[0], 1)\n",
    "boolsad = barbJournal.iloc[:, 22].values.reshape(barbJournal.shape[0], 1)\n",
    "boolangry = barbJournal.iloc[:, 23].values.reshape(barbJournal.shape[0], 1)\n",
    "booltired = barbJournal.iloc[:, 24].values.reshape(barbJournal.shape[0], 1)\n",
    "boolhungry = barbJournal.iloc[:, 25].values.reshape(barbJournal.shape[0], 1)\n",
    "boolbored = barbJournal.iloc[:, 26].values.reshape(barbJournal.shape[0], 1)\n",
    "intexcited = barbJournal.iloc[:, 27].values.reshape(barbJournal.shape[0], 1)\n",
    "inthappy = barbJournal.iloc[:, 28].values.reshape(barbJournal.shape[0], 1)\n",
    "intcalm = barbJournal.iloc[:, 29].values.reshape(barbJournal.shape[0], 1)\n",
    "intanxious = barbJournal.iloc[:, 30].values.reshape(barbJournal.shape[0], 1)\n",
    "intsad = barbJournal.iloc[:, 31].values.reshape(barbJournal.shape[0], 1)\n",
    "intangry = barbJournal.iloc[:, 32].values.reshape(barbJournal.shape[0], 1)\n",
    "inttired = barbJournal.iloc[:, 33].values.reshape(barbJournal.shape[0], 1)\n",
    "inthungry = barbJournal.iloc[:, 34].values.reshape(barbJournal.shape[0], 1)\n",
    "intbored = barbJournal.iloc[:, 35].values.reshape(barbJournal.shape[0], 1)\n",
    "exercise = barbJournal.iloc[:, 36].values.reshape(barbJournal.shape[0], 1)\n",
    "code = barbJournal.iloc[:, 37].values.reshape(barbJournal.shape[0], 1)\n",
    "anne = barbJournal.iloc[:, 38].values.reshape(barbJournal.shape[0], 1)\n",
    "will = barbJournal.iloc[:, 39].values.reshape(barbJournal.shape[0], 1)\n",
    "mick = barbJournal.iloc[:, 40].values.reshape(barbJournal.shape[0], 1)\n",
    "geyer = barbJournal.iloc[:, 41].values.reshape(barbJournal.shape[0], 1)\n",
    "home = barbJournal.iloc[:, 42].values.reshape(barbJournal.shape[0], 1)\n",
    "work = barbJournal.iloc[:, 43].values.reshape(barbJournal.shape[0], 1)\n",
    "school = barbJournal.iloc[:, 44].values.reshape(barbJournal.shape[0], 1)\n",
    "\n",
    "barbJournal.head(5)"
   ]
  },
  {
   "cell_type": "code",
   "execution_count": 15,
   "metadata": {
    "collapsed": false
   },
   "outputs": [],
   "source": [
    "# barbJournal.dtypes"
   ]
  },
  {
   "cell_type": "code",
   "execution_count": 16,
   "metadata": {
    "collapsed": false
   },
   "outputs": [],
   "source": [
    "# barbJournal.excited.convert_objects(convert_numeric=True)"
   ]
  },
  {
   "cell_type": "code",
   "execution_count": 17,
   "metadata": {
    "collapsed": false
   },
   "outputs": [],
   "source": [
    "# function that takes any journal or activity data and creates indicators for activities or emotions\n",
    "\n",
    "def makeIndicators(newvar, metricData, journalData, journal_startdatetime_loc, journal_enddatetime_loc, journal_activity_loc):\n",
    "    '''\n",
    "    Create boolean indicator variable for activities or emotions\n",
    "    newvar, string for name of new indicator variable\n",
    "    activity, string that matches the name of the activity or emotion in the journalData data frame\n",
    "    bioData, data frame of input biometric data\n",
    "    journalData, data frame of input journal or activity data\n",
    "    journal_startdatetime_loc, int of position of the start datetime in journalData\n",
    "    journal_enddatetime_loc, int of position of the end datetime in journalData\n",
    "    journal_activity_loc, int of position of the activity or emotion in journalData\n",
    "    '''\n",
    "\n",
    "    metricData[newvar] = False\n",
    "\n",
    "    for i in range(0, journalData.shape[0]):\n",
    "        metricData['xlt'] = (metricData['timestamp'] >= pd.to_datetime(journalData.iloc[i, journal_startdatetime_loc]))\n",
    "        metricData['xgt'] = (metricData['timestamp'] <= pd.to_datetime(journalData.iloc[i, journal_enddatetime_loc]))\n",
    "#         metricData['xw'] = (journalData.iloc[i, journal_activity_loc])\n",
    "        metricData['xw'] = (journalData.iloc[i, journal_activity_loc] == True)\n",
    "        metricData['xsum'] = metricData['xlt'].astype(int) + metricData['xgt'].astype(int) + metricData['xw'].astype(int)\n",
    "        metricData.loc[metricData['xsum']==3, newvar] = True\n",
    "    \n",
    "    metricData = metricData.drop(['xlt', 'xgt', 'xw', 'xsum'], axis=1)\n",
    "    return metricData"
   ]
  },
  {
   "cell_type": "code",
   "execution_count": 18,
   "metadata": {
    "collapsed": false
   },
   "outputs": [],
   "source": [
    "# indicator for walking\n",
    "totalData = makeIndicators('excitement', barbMetrics, barbJournal, 0, 1, 18)\n",
    "totalData = makeIndicators('happy', barbMetrics, barbJournal, 0, 1, 19)\n",
    "totalData = makeIndicators('calm', barbMetrics, barbJournal, 0, 1, 20)\n",
    "totalData = makeIndicators('anxious', barbMetrics, barbJournal, 0, 1, 21)\n",
    "totalData = makeIndicators('sad', barbMetrics, barbJournal, 0, 1, 22)\n",
    "totalData = makeIndicators('angry', barbMetrics, barbJournal, 0, 1, 23)\n",
    "totalData = makeIndicators('hungry', barbMetrics, barbJournal, 0, 1, 24)\n",
    "totalData = makeIndicators('tired', barbMetrics, barbJournal, 0, 1, 25)\n",
    "totalData = makeIndicators('bored', barbMetrics, barbJournal, 0, 1, 26)\n",
    "\n",
    "totalData = makeIndicators('exercise', barbMetrics, barbJournal, 0, 1, 36)\n",
    "totalData = makeIndicators('code', barbMetrics, barbJournal, 0, 1, 37)\n",
    "totalData = makeIndicators('anne', barbMetrics, barbJournal, 0, 1, 38)\n",
    "totalData = makeIndicators('will', barbMetrics, barbJournal, 0, 1, 39)\n",
    "totalData = makeIndicators('mick', barbMetrics, barbJournal, 0, 1, 40)\n",
    "totalData = makeIndicators('geyer', barbMetrics, barbJournal, 0, 1, 41)\n",
    "totalData = makeIndicators('home', barbMetrics, barbJournal, 0, 1, 42)\n",
    "totalData = makeIndicators('work', barbMetrics, barbJournal, 0, 1, 43)\n",
    "totalData = makeIndicators('school', barbMetrics, barbJournal, 0, 1, 44)\n"
   ]
  },
  {
   "cell_type": "code",
   "execution_count": 19,
   "metadata": {
    "collapsed": false
   },
   "outputs": [
    {
     "name": "stdout",
     "output_type": "stream",
     "text": [
      "          heartrate         steps      calories           gsr      skintemp  \\\n",
      "count  10080.000000  10080.000000  10080.000000  10080.000000  10080.000000   \n",
      "mean      65.284623      3.466567      1.658363      0.001082     70.396171   \n",
      "std       35.596657     16.000542      1.467958      0.018148     35.013143   \n",
      "min        0.000000      0.000000      0.000000      0.000000      0.000000   \n",
      "25%       57.000000      0.000000      1.100000      0.000055     82.400000   \n",
      "50%       76.000000      0.000000      1.300000      0.000060     86.900000   \n",
      "75%       88.000000      0.000000      1.900000      0.000073     88.700000   \n",
      "max      198.000000    124.000000     17.200000      0.719000     97.700000   \n",
      "\n",
      "            airtemp   excitement      happy      calm   anxious    ...      \\\n",
      "count  10080.000000        10080      10080     10080     10080    ...       \n",
      "mean      67.822421  0.000595238  0.0570437  0.500198  0.338294    ...       \n",
      "std       33.805046    0.0243914   0.231938  0.500025  0.473152    ...       \n",
      "min        0.000000        False      False     False     False    ...       \n",
      "25%       78.800000            0          0         0         0    ...       \n",
      "50%       83.300000            0          0         1         0    ...       \n",
      "75%       86.000000            0          0         1         1    ...       \n",
      "max      105.800000         True       True      True      True    ...       \n",
      "\n",
      "             bored   exercise       code       anne   will        mick  \\\n",
      "count        10080      10080      10080      10080  10080       10080   \n",
      "mean   0.000595238  0.0117063  0.0014881  0.0078373      0  0.00109127   \n",
      "std      0.0243914   0.107566   0.038549  0.0881853      0    0.033018   \n",
      "min          False      False      False      False  False       False   \n",
      "25%              0          0          0          0      0           0   \n",
      "50%              0          0          0          0      0           0   \n",
      "75%              0          0          0          0      0           0   \n",
      "max           True       True       True       True  False        True   \n",
      "\n",
      "            geyer      home      work     school  \n",
      "count       10080     10080     10080      10080  \n",
      "mean   0.00863095  0.388194  0.292163  0.0615079  \n",
      "std     0.0925057  0.487363  0.454779   0.240272  \n",
      "min         False     False     False      False  \n",
      "25%             0         0         0          0  \n",
      "50%             0         0         0          0  \n",
      "75%             0         1         1          0  \n",
      "max          True      True      True       True  \n",
      "\n",
      "[8 rows x 24 columns]\n"
     ]
    }
   ],
   "source": [
    "print(totalData.describe())"
   ]
  },
  {
   "cell_type": "code",
   "execution_count": 20,
   "metadata": {
    "collapsed": false
   },
   "outputs": [
    {
     "name": "stdout",
     "output_type": "stream",
     "text": [
      "            timestamp  heartrate  steps  calories  gsr  skintemp  airtemp  \\\n",
      "0 2016-04-26 00:00:00          0      0         0    0         0        0   \n",
      "1 2016-04-26 00:01:00          0      0         0    0         0        0   \n",
      "2 2016-04-26 00:02:00          0      0         0    0         0        0   \n",
      "3 2016-04-26 00:03:00          0      0         0    0         0        0   \n",
      "4 2016-04-26 00:04:00          0      0         0    0         0        0   \n",
      "\n",
      "  excitement  happy   calm  ...    bored exercise   code   anne   will   mick  \\\n",
      "0      False  False  False  ...    False    False  False  False  False  False   \n",
      "1      False  False  False  ...    False    False  False  False  False  False   \n",
      "2      False  False  False  ...    False    False  False  False  False  False   \n",
      "3      False  False  False  ...    False    False  False  False  False  False   \n",
      "4      False  False  False  ...    False    False  False  False  False  False   \n",
      "\n",
      "   geyer   home   work school  \n",
      "0  False  False  False  False  \n",
      "1  False  False  False  False  \n",
      "2  False  False  False  False  \n",
      "3  False  False  False  False  \n",
      "4  False  False  False  False  \n",
      "\n",
      "[5 rows x 25 columns]\n"
     ]
    }
   ],
   "source": [
    "print(totalData.head())"
   ]
  },
  {
   "cell_type": "code",
   "execution_count": 21,
   "metadata": {
    "collapsed": false
   },
   "outputs": [],
   "source": [
    "totalData.to_csv('barbTotal.csv')"
   ]
  },
  {
   "cell_type": "code",
   "execution_count": 22,
   "metadata": {
    "collapsed": false
   },
   "outputs": [
    {
     "data": {
      "text/html": [
       "<div>\n",
       "<table border=\"1\" class=\"dataframe\">\n",
       "  <thead>\n",
       "    <tr style=\"text-align: right;\">\n",
       "      <th></th>\n",
       "      <th>timestamp</th>\n",
       "      <th>heartrate</th>\n",
       "      <th>steps</th>\n",
       "      <th>calories</th>\n",
       "      <th>gsr</th>\n",
       "      <th>skintemp</th>\n",
       "      <th>airtemp</th>\n",
       "      <th>excitement</th>\n",
       "      <th>happy</th>\n",
       "      <th>calm</th>\n",
       "      <th>...</th>\n",
       "      <th>bored</th>\n",
       "      <th>exercise</th>\n",
       "      <th>code</th>\n",
       "      <th>anne</th>\n",
       "      <th>will</th>\n",
       "      <th>mick</th>\n",
       "      <th>geyer</th>\n",
       "      <th>home</th>\n",
       "      <th>work</th>\n",
       "      <th>school</th>\n",
       "    </tr>\n",
       "  </thead>\n",
       "  <tbody>\n",
       "    <tr>\n",
       "      <th>0</th>\n",
       "      <td>2016-04-26 00:00:00</td>\n",
       "      <td>0</td>\n",
       "      <td>0</td>\n",
       "      <td>0</td>\n",
       "      <td>0</td>\n",
       "      <td>0</td>\n",
       "      <td>0</td>\n",
       "      <td>False</td>\n",
       "      <td>False</td>\n",
       "      <td>False</td>\n",
       "      <td>...</td>\n",
       "      <td>False</td>\n",
       "      <td>False</td>\n",
       "      <td>False</td>\n",
       "      <td>False</td>\n",
       "      <td>False</td>\n",
       "      <td>False</td>\n",
       "      <td>False</td>\n",
       "      <td>False</td>\n",
       "      <td>False</td>\n",
       "      <td>False</td>\n",
       "    </tr>\n",
       "    <tr>\n",
       "      <th>1</th>\n",
       "      <td>2016-04-26 00:01:00</td>\n",
       "      <td>0</td>\n",
       "      <td>0</td>\n",
       "      <td>0</td>\n",
       "      <td>0</td>\n",
       "      <td>0</td>\n",
       "      <td>0</td>\n",
       "      <td>False</td>\n",
       "      <td>False</td>\n",
       "      <td>False</td>\n",
       "      <td>...</td>\n",
       "      <td>False</td>\n",
       "      <td>False</td>\n",
       "      <td>False</td>\n",
       "      <td>False</td>\n",
       "      <td>False</td>\n",
       "      <td>False</td>\n",
       "      <td>False</td>\n",
       "      <td>False</td>\n",
       "      <td>False</td>\n",
       "      <td>False</td>\n",
       "    </tr>\n",
       "    <tr>\n",
       "      <th>2</th>\n",
       "      <td>2016-04-26 00:02:00</td>\n",
       "      <td>0</td>\n",
       "      <td>0</td>\n",
       "      <td>0</td>\n",
       "      <td>0</td>\n",
       "      <td>0</td>\n",
       "      <td>0</td>\n",
       "      <td>False</td>\n",
       "      <td>False</td>\n",
       "      <td>False</td>\n",
       "      <td>...</td>\n",
       "      <td>False</td>\n",
       "      <td>False</td>\n",
       "      <td>False</td>\n",
       "      <td>False</td>\n",
       "      <td>False</td>\n",
       "      <td>False</td>\n",
       "      <td>False</td>\n",
       "      <td>False</td>\n",
       "      <td>False</td>\n",
       "      <td>False</td>\n",
       "    </tr>\n",
       "    <tr>\n",
       "      <th>3</th>\n",
       "      <td>2016-04-26 00:03:00</td>\n",
       "      <td>0</td>\n",
       "      <td>0</td>\n",
       "      <td>0</td>\n",
       "      <td>0</td>\n",
       "      <td>0</td>\n",
       "      <td>0</td>\n",
       "      <td>False</td>\n",
       "      <td>False</td>\n",
       "      <td>False</td>\n",
       "      <td>...</td>\n",
       "      <td>False</td>\n",
       "      <td>False</td>\n",
       "      <td>False</td>\n",
       "      <td>False</td>\n",
       "      <td>False</td>\n",
       "      <td>False</td>\n",
       "      <td>False</td>\n",
       "      <td>False</td>\n",
       "      <td>False</td>\n",
       "      <td>False</td>\n",
       "    </tr>\n",
       "    <tr>\n",
       "      <th>4</th>\n",
       "      <td>2016-04-26 00:04:00</td>\n",
       "      <td>0</td>\n",
       "      <td>0</td>\n",
       "      <td>0</td>\n",
       "      <td>0</td>\n",
       "      <td>0</td>\n",
       "      <td>0</td>\n",
       "      <td>False</td>\n",
       "      <td>False</td>\n",
       "      <td>False</td>\n",
       "      <td>...</td>\n",
       "      <td>False</td>\n",
       "      <td>False</td>\n",
       "      <td>False</td>\n",
       "      <td>False</td>\n",
       "      <td>False</td>\n",
       "      <td>False</td>\n",
       "      <td>False</td>\n",
       "      <td>False</td>\n",
       "      <td>False</td>\n",
       "      <td>False</td>\n",
       "    </tr>\n",
       "  </tbody>\n",
       "</table>\n",
       "<p>5 rows × 25 columns</p>\n",
       "</div>"
      ],
      "text/plain": [
       "            timestamp  heartrate  steps  calories  gsr  skintemp  airtemp  \\\n",
       "0 2016-04-26 00:00:00          0      0         0    0         0        0   \n",
       "1 2016-04-26 00:01:00          0      0         0    0         0        0   \n",
       "2 2016-04-26 00:02:00          0      0         0    0         0        0   \n",
       "3 2016-04-26 00:03:00          0      0         0    0         0        0   \n",
       "4 2016-04-26 00:04:00          0      0         0    0         0        0   \n",
       "\n",
       "  excitement  happy   calm  ...    bored exercise   code   anne   will   mick  \\\n",
       "0      False  False  False  ...    False    False  False  False  False  False   \n",
       "1      False  False  False  ...    False    False  False  False  False  False   \n",
       "2      False  False  False  ...    False    False  False  False  False  False   \n",
       "3      False  False  False  ...    False    False  False  False  False  False   \n",
       "4      False  False  False  ...    False    False  False  False  False  False   \n",
       "\n",
       "   geyer   home   work school  \n",
       "0  False  False  False  False  \n",
       "1  False  False  False  False  \n",
       "2  False  False  False  False  \n",
       "3  False  False  False  False  \n",
       "4  False  False  False  False  \n",
       "\n",
       "[5 rows x 25 columns]"
      ]
     },
     "execution_count": 22,
     "metadata": {},
     "output_type": "execute_result"
    }
   ],
   "source": [
    "totalData.head(5)"
   ]
  },
  {
   "cell_type": "code",
   "execution_count": 23,
   "metadata": {
    "collapsed": false
   },
   "outputs": [
    {
     "name": "stdout",
     "output_type": "stream",
     "text": [
      "(10080, 29)\n",
      "            timestamp  heartrate  steps  calories  gsr  skintemp  airtemp  \\\n",
      "0 2016-04-26 00:00:00          0      0         0    0         0        0   \n",
      "1 2016-04-26 00:01:00          0      0         0    0         0        0   \n",
      "2 2016-04-26 00:02:00          0      0         0    0         0        0   \n",
      "3 2016-04-26 00:03:00          0      0         0    0         0        0   \n",
      "4 2016-04-26 00:04:00          0      0         0    0         0        0   \n",
      "\n",
      "  excitement  happy   calm ...   will   mick  geyer   home   work school  \\\n",
      "0      False  False  False ...  False  False  False  False  False  False   \n",
      "1      False  False  False ...  False  False  False  False  False  False   \n",
      "2      False  False  False ...  False  False  False  False  False  False   \n",
      "3      False  False  False ...  False  False  False  False  False  False   \n",
      "4      False  False  False ...  False  False  False  False  False  False   \n",
      "\n",
      "  weekday month hour min  \n",
      "0       1     4    0   0  \n",
      "1       1     4    0   1  \n",
      "2       1     4    0   2  \n",
      "3       1     4    0   3  \n",
      "4       1     4    0   4  \n",
      "\n",
      "[5 rows x 29 columns]\n"
     ]
    }
   ],
   "source": [
    "# find day of week (0-6, Mon-Sun)\n",
    "totalData['weekday'] = totalData['timestamp'].dt.weekday\n",
    "totalData['month'] = totalData['timestamp'].dt.month\n",
    "totalData['hour'] = totalData['timestamp'].dt.hour\n",
    "totalData['min'] = totalData['timestamp'].dt.minute\n",
    "\n",
    "\n",
    "print(totalData.shape)\n",
    "print(totalData.head(5))"
   ]
  },
  {
   "cell_type": "code",
   "execution_count": 24,
   "metadata": {
    "collapsed": false
   },
   "outputs": [],
   "source": [
    "heartrate = totalData.iloc[:, 1].values.reshape(totalData.shape[0], 1)\n",
    "steps = totalData.iloc[:, 2].values.reshape(totalData.shape[0], 1)\n",
    "calories = totalData.iloc[:, 3].values.reshape(totalData.shape[0], 1)\n",
    "gsr = totalData.iloc[:, 4].values.reshape(totalData.shape[0], 1)\n",
    "skintemp = totalData.iloc[:, 5].values.reshape(totalData.shape[0], 1)\n",
    "airtemp = totalData.iloc[:, 6].values.reshape(totalData.shape[0], 1)\n",
    "# activity = totalData.iloc[:, 17].values.reshape(totalData.shape[0], 1)\n",
    "exercise = totalData.iloc[:, 17].values.reshape(totalData.shape[0], 1)\n",
    "code = totalData.iloc[:, 18].values.reshape(totalData.shape[0], 1)\n",
    "anne = totalData.iloc[:, 19].values.reshape(totalData.shape[0], 1)\n",
    "will = totalData.iloc[:, 20].values.reshape(totalData.shape[0], 1)\n",
    "mick = totalData.iloc[:, 21].values.reshape(totalData.shape[0], 1)\n",
    "geyer = totalData.iloc[:, 22].values.reshape(totalData.shape[0], 1)\n",
    "home = totalData.iloc[:, 23].values.reshape(totalData.shape[0], 1)\n",
    "work = totalData.iloc[:, 24].values.reshape(totalData.shape[0], 1)\n",
    "school = totalData.iloc[:, 25].values.reshape(totalData.shape[0], 1)\n",
    "# DayOfWeek = totalData.iloc[:, 25].values.reshape(totalData.shape[0], 1)\n",
    "# Month = totalData.iloc[:, 26].values.reshape(totalData.shape[0], 1)\n",
    "weekday = totalData.iloc[:, 26].values.reshape(totalData.shape[0], 1)\n",
    "# month = totalData.iloc[:, 29].values.reshape(totalData.shape[0], 1)\n",
    "hour = totalData.iloc[:, 27].values.reshape(totalData.shape[0], 1)\n",
    "curmin = totalData.iloc[:, 28].values.reshape(totalData.shape[0], 1)"
   ]
  },
  {
   "cell_type": "code",
   "execution_count": 25,
   "metadata": {
    "collapsed": false
   },
   "outputs": [
    {
     "data": {
      "text/plain": [
       "(10080, 18)"
      ]
     },
     "execution_count": 25,
     "metadata": {},
     "output_type": "execute_result"
    }
   ],
   "source": [
    "# concatenate to numpy dataset\n",
    "X = np.concatenate((\n",
    "        heartrate, \n",
    "        steps, \n",
    "        calories, \n",
    "        gsr, \n",
    "        skintemp, \n",
    "        airtemp, \n",
    "        exercise, \n",
    "        code, \n",
    "        anne, \n",
    "        will, \n",
    "        mick, \n",
    "        geyer, \n",
    "        home, \n",
    "        work, \n",
    "        school,\n",
    "        weekday, \n",
    "        hour, \n",
    "        curmin\n",
    "    ), axis=1)\n",
    "\n",
    "X.shape"
   ]
  },
  {
   "cell_type": "code",
   "execution_count": 26,
   "metadata": {
    "collapsed": false
   },
   "outputs": [
    {
     "data": {
      "text/plain": [
       "(10080,)"
      ]
     },
     "execution_count": 26,
     "metadata": {},
     "output_type": "execute_result"
    }
   ],
   "source": [
    "# define y\n",
    "y = totalData.excitement.values\n",
    "y.shape"
   ]
  },
  {
   "cell_type": "code",
   "execution_count": 27,
   "metadata": {
    "collapsed": true
   },
   "outputs": [],
   "source": [
    "# create training and test sets\n",
    "from sklearn.cross_validation import train_test_split\n",
    "\n",
    "X_train, X_test, y_train, y_test = train_test_split(\n",
    "         X, y, test_size=0.3, random_state=0)"
   ]
  },
  {
   "cell_type": "code",
   "execution_count": 28,
   "metadata": {
    "collapsed": true
   },
   "outputs": [],
   "source": [
    "# feature scaling\n",
    "from sklearn.preprocessing import StandardScaler\n",
    "sc = StandardScaler(with_mean=False)\n",
    "sc.fit(X_train)\n",
    "X_train_std = sc.transform(X_train)\n",
    "X_test_std = sc.transform(X_test)"
   ]
  },
  {
   "cell_type": "code",
   "execution_count": 29,
   "metadata": {
    "collapsed": true
   },
   "outputs": [],
   "source": [
    "# report on training and test sets\n",
    "global SVMerror, SVMacc, SVMtp, SVMtn, LRerror, LRacc, LRtp, LRtn, NBerror, NBacc, NBtp, NBtn, Perror, Pacc, Ptp, Ptn\n",
    "\n",
    "\n",
    "\n",
    "def print_results(model):\n",
    "    #print('Error rate on training set: ')\n",
    "    erTRAIN = ((y_train != y_pred).sum() / X_train.shape[0])\n",
    "    #print('Accuracy rate on training set: ')\n",
    "    AccTRAIN = (1 - (y_train != y_pred).sum() / X_train.shape[0])\n",
    "    #print('True positive rate on training tet:')\n",
    "    TruPosTRAIN = ((y_train==True) & (y_pred==True)).sum() / y_train.sum()\n",
    "    #TruNegTEST = (((y_train==False) & (y_pred_train==False)).sum() / (y_train.shape[0] - y_train.sum()))\n",
    "    #print('**************')\n",
    "    #('Error rate on test set: ')\n",
    "    erTEST = ((y_test != y_pred_test).sum() / X_test.shape[0])\n",
    "    #print('Accuracy rate on test set: ')\n",
    "    AccTEST = (1 - (y_test != y_pred_test).sum() / X_test.shape[0])\n",
    "    #print('True positive rate on test set')\n",
    "    TruPosTEST = (((y_test==True) & (y_pred_test==True)).sum() / y_test.sum())\n",
    "    #print('True negative rate on test set')\n",
    "    TruNegTEST = (((y_test==False) & (y_pred_test==False)).sum() / (y_test.shape[0] - y_test.sum()))\n",
    "    data_rows = [('Error Rate', erTRAIN, erTEST),\n",
    "                 ('Accuracy Rate', AccTRAIN, AccTEST),\n",
    "                 ('True Positives', TruPosTRAIN, TruPosTEST),\n",
    "                 ('True Negatives', '--', TruNegTEST)]\n",
    "    t = Table(rows=data_rows, names=(model, 'Training Set', 'Test Set'), meta={'name': model + ': Training and Test Set Results'})\n",
    "    print(t)\n",
    "    if model == 'SVM':\n",
    "        SVMerror = erTEST\n",
    "        SVMacc = AccTEST\n",
    "        SVMtp = TruPosTEST\n",
    "        SVMtn = TruNegTEST\n",
    "        return(SVMerror, SVMacc, SVMtp, SVMtn)\n",
    "    elif model == 'Logistic Regression':\n",
    "        LRerror = erTEST\n",
    "        LRacc = AccTEST\n",
    "        LRtp = TruPosTEST\n",
    "        LRtn = TruNegTEST\n",
    "        return(LRerror, LRacc, LRtp, LRtn)\n",
    "    elif model == 'Naive Bayes':\n",
    "        NBerror = erTEST\n",
    "        NBacc = AccTEST\n",
    "        NBtp = TruPosTEST\n",
    "        NBtn = TruNegTEST\n",
    "        return(NBerror, NBacc, NBtp, NBtn)\n",
    "    elif model == 'Perceptron':\n",
    "        Perror = erTEST\n",
    "        Pacc = AccTEST\n",
    "        Ptp = TruPosTEST\n",
    "        Ptn = TruNegTEST\n",
    "        return(Perror, Pacc, Ptp, Ptn)\n",
    "    print('done')\n",
    "      \n",
    "    #t.show_in_browser(jsviewer=True) \n",
    "    \n",
    "    \n",
    "def all_models_table():\n",
    "    all_rows = [('SVM', SVMerror, SVMacc, SVMtp, SVMtn),\n",
    "            ('Logistic Regression', LRerror, LRacc, LRtp, LRtn),\n",
    "            ('Naive Bayes', NBerror, NBacc, NBtp, NBtn),\n",
    "            ('Perceptron', Perror, Pacc, Ptp, Ptn)]\n",
    "    tt = Table(rows=all_rows, names=('', 'Error Rate', 'Accuracy', 'True +', 'True -'), meta={'3/15/2016'})\n",
    "    print(tt)"
   ]
  },
  {
   "cell_type": "markdown",
   "metadata": {},
   "source": [
    "# Excited Model Results"
   ]
  },
  {
   "cell_type": "code",
   "execution_count": 30,
   "metadata": {
    "collapsed": false
   },
   "outputs": [
    {
     "name": "stdout",
     "output_type": "stream",
     "text": [
      "     SVM          Training Set        Test Set    \n",
      "-------------- ----------------- -----------------\n",
      "    Error Rate 0.000708616780045 0.000330687830688\n",
      " Accuracy Rate     0.99929138322    0.999669312169\n",
      "True Positives               0.0               0.0\n",
      "True Negatives                --               1.0\n"
     ]
    },
    {
     "data": {
      "text/plain": [
       "(0.00033068783068783067, 0.99966931216931221, 0.0, 1.0)"
      ]
     },
     "execution_count": 30,
     "metadata": {},
     "output_type": "execute_result"
    }
   ],
   "source": [
    "# MODEL: SVM, linear\n",
    "from sklearn import linear_model\n",
    "clf = linear_model.SGDClassifier()\n",
    "clf.fit(X_train_std, y_train)\n",
    "y_pred = clf.fit(X_train_std, y_train).predict(X_train_std)\n",
    "y_pred_test = clf.predict(X_test_std)\n",
    "print_results('SVM')"
   ]
  },
  {
   "cell_type": "code",
   "execution_count": 31,
   "metadata": {
    "collapsed": false
   },
   "outputs": [
    {
     "name": "stdout",
     "output_type": "stream",
     "text": [
      "Logistic Regression    Training Set        Test Set    \n",
      "------------------- ----------------- -----------------\n",
      "         Error Rate 0.000566893424036 0.000330687830688\n",
      "      Accuracy Rate    0.999433106576    0.999669312169\n",
      "     True Positives               0.4               0.0\n",
      "     True Negatives                --               1.0\n"
     ]
    },
    {
     "data": {
      "text/plain": [
       "(0.00033068783068783067, 0.99966931216931221, 0.0, 1.0)"
      ]
     },
     "execution_count": 31,
     "metadata": {},
     "output_type": "execute_result"
    }
   ],
   "source": [
    "# MODEL: logistic regression\n",
    "from sklearn import linear_model\n",
    "clf = linear_model.SGDClassifier(loss='log', n_iter=50, alpha=0.00001)\n",
    "clf.fit(X_train_std, y_train)\n",
    "y_pred = clf.fit(X_train_std, y_train).predict(X_train_std)\n",
    "y_pred_test = clf.predict(X_test_std)\n",
    "print_results('Logistic Regression')"
   ]
  },
  {
   "cell_type": "code",
   "execution_count": 32,
   "metadata": {
    "collapsed": false
   },
   "outputs": [
    {
     "name": "stdout",
     "output_type": "stream",
     "text": [
      " Naive Bayes     Training Set      Test Set   \n",
      "-------------- --------------- ---------------\n",
      "    Error Rate 0.0189909297052 0.0198412698413\n",
      " Accuracy Rate  0.981009070295  0.980158730159\n",
      "True Positives             0.0             0.0\n",
      "True Negatives              --  0.980482963943\n"
     ]
    },
    {
     "data": {
      "text/plain": [
       "(0.01984126984126984, 0.98015873015873012, 0.0, 0.98048296394310286)"
      ]
     },
     "execution_count": 32,
     "metadata": {},
     "output_type": "execute_result"
    }
   ],
   "source": [
    "# MODEL: Naive Bayes\n",
    "from sklearn.naive_bayes import MultinomialNB\n",
    "clf = MultinomialNB()\n",
    "clf.fit(X_train_std, y_train)\n",
    "y_pred = clf.fit(X_train_std, y_train).predict(X_train_std)\n",
    "y_pred_test = clf.predict(X_test_std)\n",
    "print_results('Naive Bayes')"
   ]
  },
  {
   "cell_type": "code",
   "execution_count": 33,
   "metadata": {
    "collapsed": false
   },
   "outputs": [
    {
     "name": "stdout",
     "output_type": "stream",
     "text": [
      "  Perceptron      Training Set        Test Set    \n",
      "-------------- ----------------- -----------------\n",
      "    Error Rate 0.000566893424036 0.000330687830688\n",
      " Accuracy Rate    0.999433106576    0.999669312169\n",
      "True Positives               0.4               0.0\n",
      "True Negatives                --               1.0\n"
     ]
    },
    {
     "data": {
      "text/plain": [
       "(0.00033068783068783067, 0.99966931216931221, 0.0, 1.0)"
      ]
     },
     "execution_count": 33,
     "metadata": {},
     "output_type": "execute_result"
    }
   ],
   "source": [
    "# Perceptron\n",
    "from sklearn import linear_model\n",
    "clf = linear_model.SGDClassifier(loss='perceptron')\n",
    "clf.fit(X_train_std, y_train)\n",
    "y_pred = clf.fit(X_train_std, y_train).predict(X_train_std)\n",
    "y_pred_test = clf.predict(X_test_std)\n",
    "print_results('Perceptron')"
   ]
  },
  {
   "cell_type": "code",
   "execution_count": 34,
   "metadata": {
    "collapsed": false
   },
   "outputs": [
    {
     "data": {
      "text/plain": [
       "(10080,)"
      ]
     },
     "execution_count": 34,
     "metadata": {},
     "output_type": "execute_result"
    }
   ],
   "source": [
    "# define y\n",
    "y = totalData.happy.values\n",
    "y.shape"
   ]
  },
  {
   "cell_type": "code",
   "execution_count": 35,
   "metadata": {
    "collapsed": true
   },
   "outputs": [],
   "source": [
    "# create training and test sets\n",
    "from sklearn.cross_validation import train_test_split\n",
    "\n",
    "X_train, X_test, y_train, y_test = train_test_split(\n",
    "         X, y, test_size=0.3, random_state=0)"
   ]
  },
  {
   "cell_type": "code",
   "execution_count": 36,
   "metadata": {
    "collapsed": true
   },
   "outputs": [],
   "source": [
    "# feature scaling\n",
    "from sklearn.preprocessing import StandardScaler\n",
    "sc = StandardScaler(with_mean=False)\n",
    "sc.fit(X_train)\n",
    "X_train_std = sc.transform(X_train)\n",
    "X_test_std = sc.transform(X_test)"
   ]
  },
  {
   "cell_type": "markdown",
   "metadata": {},
   "source": [
    "# Happy Model Results"
   ]
  },
  {
   "cell_type": "code",
   "execution_count": 37,
   "metadata": {
    "collapsed": false
   },
   "outputs": [
    {
     "name": "stdout",
     "output_type": "stream",
     "text": [
      "     SVM         Training Set      Test Set   \n",
      "-------------- --------------- ---------------\n",
      "    Error Rate 0.0569727891156 0.0512566137566\n",
      " Accuracy Rate  0.943027210884  0.948743386243\n",
      "True Positives 0.0289855072464 0.0372670807453\n",
      "True Negatives              --             1.0\n"
     ]
    },
    {
     "data": {
      "text/plain": [
       "(0.051256613756613757, 0.94874338624338628, 0.037267080745341616, 1.0)"
      ]
     },
     "execution_count": 37,
     "metadata": {},
     "output_type": "execute_result"
    }
   ],
   "source": [
    "# MODEL: SVM, linear\n",
    "from sklearn import linear_model\n",
    "clf = linear_model.SGDClassifier()\n",
    "clf.fit(X_train_std, y_train)\n",
    "y_pred = clf.fit(X_train_std, y_train).predict(X_train_std)\n",
    "y_pred_test = clf.predict(X_test_std)\n",
    "print_results('SVM')"
   ]
  },
  {
   "cell_type": "code",
   "execution_count": 38,
   "metadata": {
    "collapsed": false
   },
   "outputs": [
    {
     "name": "stdout",
     "output_type": "stream",
     "text": [
      "Logistic Regression   Training Set      Test Set   \n",
      "------------------- --------------- ---------------\n",
      "         Error Rate 0.0562641723356 0.0512566137566\n",
      "      Accuracy Rate  0.943735827664  0.948743386243\n",
      "     True Positives  0.048309178744 0.0434782608696\n",
      "     True Negatives              --  0.999650716032\n"
     ]
    },
    {
     "data": {
      "text/plain": [
       "(0.051256613756613757,\n",
       " 0.94874338624338628,\n",
       " 0.043478260869565216,\n",
       " 0.99965071603213418)"
      ]
     },
     "execution_count": 38,
     "metadata": {},
     "output_type": "execute_result"
    }
   ],
   "source": [
    "# MODEL: logistic regression\n",
    "from sklearn import linear_model\n",
    "clf = linear_model.SGDClassifier(loss='log', n_iter=50, alpha=0.00001)\n",
    "clf.fit(X_train_std, y_train)\n",
    "y_pred = clf.fit(X_train_std, y_train).predict(X_train_std)\n",
    "y_pred_test = clf.predict(X_test_std)\n",
    "print_results('Logistic Regression')"
   ]
  },
  {
   "cell_type": "code",
   "execution_count": 39,
   "metadata": {
    "collapsed": false
   },
   "outputs": [
    {
     "name": "stdout",
     "output_type": "stream",
     "text": [
      " Naive Bayes    Training Set      Test Set   \n",
      "-------------- -------------- ---------------\n",
      "    Error Rate 0.093112244898 0.0929232804233\n",
      " Accuracy Rate 0.906887755102  0.907076719577\n",
      "True Positives 0.176328502415  0.136645962733\n",
      "True Negatives             --  0.950401676563\n"
     ]
    },
    {
     "data": {
      "text/plain": [
       "(0.092923280423280422,\n",
       " 0.90707671957671954,\n",
       " 0.13664596273291926,\n",
       " 0.95040167656304575)"
      ]
     },
     "execution_count": 39,
     "metadata": {},
     "output_type": "execute_result"
    }
   ],
   "source": [
    "# MODEL: Naive Bayes\n",
    "from sklearn.naive_bayes import MultinomialNB\n",
    "clf = MultinomialNB()\n",
    "clf.fit(X_train_std, y_train)\n",
    "y_pred = clf.fit(X_train_std, y_train).predict(X_train_std)\n",
    "y_pred_test = clf.predict(X_test_std)\n",
    "print_results('Naive Bayes')"
   ]
  },
  {
   "cell_type": "code",
   "execution_count": 40,
   "metadata": {
    "collapsed": false
   },
   "outputs": [
    {
     "name": "stdout",
     "output_type": "stream",
     "text": [
      "  Perceptron     Training Set      Test Set   \n",
      "-------------- --------------- ---------------\n",
      "    Error Rate 0.0571145124717 0.0512566137566\n",
      " Accuracy Rate  0.942885487528  0.948743386243\n",
      "True Positives 0.0265700483092 0.0372670807453\n",
      "True Negatives              --             1.0\n"
     ]
    },
    {
     "data": {
      "text/plain": [
       "(0.051256613756613757, 0.94874338624338628, 0.037267080745341616, 1.0)"
      ]
     },
     "execution_count": 40,
     "metadata": {},
     "output_type": "execute_result"
    }
   ],
   "source": [
    "# Perceptron\n",
    "from sklearn import linear_model\n",
    "clf = linear_model.SGDClassifier(loss='perceptron')\n",
    "clf.fit(X_train_std, y_train)\n",
    "y_pred = clf.fit(X_train_std, y_train).predict(X_train_std)\n",
    "y_pred_test = clf.predict(X_test_std)\n",
    "print_results('Perceptron')"
   ]
  },
  {
   "cell_type": "code",
   "execution_count": 41,
   "metadata": {
    "collapsed": false
   },
   "outputs": [
    {
     "data": {
      "text/plain": [
       "(10080,)"
      ]
     },
     "execution_count": 41,
     "metadata": {},
     "output_type": "execute_result"
    }
   ],
   "source": [
    "# define y\n",
    "y = totalData.calm.values\n",
    "y.shape"
   ]
  },
  {
   "cell_type": "code",
   "execution_count": 42,
   "metadata": {
    "collapsed": true
   },
   "outputs": [],
   "source": [
    "# create training and test sets\n",
    "from sklearn.cross_validation import train_test_split\n",
    "\n",
    "X_train, X_test, y_train, y_test = train_test_split(\n",
    "         X, y, test_size=0.3, random_state=0)"
   ]
  },
  {
   "cell_type": "code",
   "execution_count": 43,
   "metadata": {
    "collapsed": true
   },
   "outputs": [],
   "source": [
    "# feature scaling\n",
    "from sklearn.preprocessing import StandardScaler\n",
    "sc = StandardScaler(with_mean=False)\n",
    "sc.fit(X_train)\n",
    "X_train_std = sc.transform(X_train)\n",
    "X_test_std = sc.transform(X_test)"
   ]
  },
  {
   "cell_type": "markdown",
   "metadata": {},
   "source": [
    "# Calm Model Results"
   ]
  },
  {
   "cell_type": "code",
   "execution_count": 44,
   "metadata": {
    "collapsed": false
   },
   "outputs": [
    {
     "name": "stdout",
     "output_type": "stream",
     "text": [
      "     SVM        Training Set     Test Set   \n",
      "-------------- -------------- --------------\n",
      "    Error Rate 0.265164399093 0.258267195767\n",
      " Accuracy Rate 0.734835600907 0.741732804233\n",
      "True Positives 0.745521751493 0.775737704918\n",
      "True Negatives             -- 0.707138092061\n"
     ]
    },
    {
     "data": {
      "text/plain": [
       "(0.25826719576719576,\n",
       " 0.74173280423280419,\n",
       " 0.77573770491803273,\n",
       " 0.70713809206137423)"
      ]
     },
     "execution_count": 44,
     "metadata": {},
     "output_type": "execute_result"
    }
   ],
   "source": [
    "# MODEL: SVM, linear\n",
    "from sklearn import linear_model\n",
    "clf = linear_model.SGDClassifier()\n",
    "clf.fit(X_train_std, y_train)\n",
    "y_pred = clf.fit(X_train_std, y_train).predict(X_train_std)\n",
    "y_pred_test = clf.predict(X_test_std)\n",
    "print_results('SVM')"
   ]
  },
  {
   "cell_type": "code",
   "execution_count": 45,
   "metadata": {
    "collapsed": false
   },
   "outputs": [
    {
     "name": "stdout",
     "output_type": "stream",
     "text": [
      "Logistic Regression  Training Set     Test Set   \n",
      "------------------- -------------- --------------\n",
      "         Error Rate 0.269699546485 0.260912698413\n",
      "      Accuracy Rate 0.730300453515 0.739087301587\n",
      "     True Positives 0.861814046062  0.87737704918\n",
      "     True Negatives             -- 0.598398932622\n"
     ]
    },
    {
     "data": {
      "text/plain": [
       "(0.26091269841269843,\n",
       " 0.73908730158730163,\n",
       " 0.87737704918032788,\n",
       " 0.59839893262174781)"
      ]
     },
     "execution_count": 45,
     "metadata": {},
     "output_type": "execute_result"
    }
   ],
   "source": [
    "# MODEL: logistic regression\n",
    "from sklearn import linear_model\n",
    "clf = linear_model.SGDClassifier(loss='log', n_iter=50, alpha=0.00001)\n",
    "clf.fit(X_train_std, y_train)\n",
    "y_pred = clf.fit(X_train_std, y_train).predict(X_train_std)\n",
    "y_pred_test = clf.predict(X_test_std)\n",
    "print_results('Logistic Regression')"
   ]
  },
  {
   "cell_type": "code",
   "execution_count": 46,
   "metadata": {
    "collapsed": false
   },
   "outputs": [
    {
     "name": "stdout",
     "output_type": "stream",
     "text": [
      " Naive Bayes    Training Set     Test Set   \n",
      "-------------- -------------- --------------\n",
      "    Error Rate 0.294217687075 0.289682539683\n",
      " Accuracy Rate 0.705782312925 0.710317460317\n",
      "True Positives 0.758316747228 0.773770491803\n",
      "True Negatives             -- 0.645763842562\n"
     ]
    },
    {
     "data": {
      "text/plain": [
       "(0.28968253968253971,\n",
       " 0.71031746031746024,\n",
       " 0.77377049180327873,\n",
       " 0.64576384256170782)"
      ]
     },
     "execution_count": 46,
     "metadata": {},
     "output_type": "execute_result"
    }
   ],
   "source": [
    "# MODEL: Naive Bayes\n",
    "from sklearn.naive_bayes import MultinomialNB\n",
    "clf = MultinomialNB()\n",
    "clf.fit(X_train_std, y_train)\n",
    "y_pred = clf.fit(X_train_std, y_train).predict(X_train_std)\n",
    "y_pred_test = clf.predict(X_test_std)\n",
    "print_results('Naive Bayes')"
   ]
  },
  {
   "cell_type": "code",
   "execution_count": 47,
   "metadata": {
    "collapsed": false
   },
   "outputs": [
    {
     "name": "stdout",
     "output_type": "stream",
     "text": [
      "  Perceptron    Training Set     Test Set   \n",
      "-------------- -------------- --------------\n",
      "    Error Rate 0.298185941043 0.292658730159\n",
      " Accuracy Rate 0.701814058957 0.707341269841\n",
      "True Positives 0.988058003981 0.991475409836\n",
      "True Negatives             -- 0.418278852568\n"
     ]
    },
    {
     "data": {
      "text/plain": [
       "(0.29265873015873017,\n",
       " 0.70734126984126977,\n",
       " 0.99147540983606552,\n",
       " 0.41827885256837893)"
      ]
     },
     "execution_count": 47,
     "metadata": {},
     "output_type": "execute_result"
    }
   ],
   "source": [
    "# Perceptron\n",
    "from sklearn import linear_model\n",
    "clf = linear_model.SGDClassifier(loss='perceptron')\n",
    "clf.fit(X_train_std, y_train)\n",
    "y_pred = clf.fit(X_train_std, y_train).predict(X_train_std)\n",
    "y_pred_test = clf.predict(X_test_std)\n",
    "print_results('Perceptron')"
   ]
  },
  {
   "cell_type": "code",
   "execution_count": 48,
   "metadata": {
    "collapsed": false
   },
   "outputs": [
    {
     "data": {
      "text/plain": [
       "(10080,)"
      ]
     },
     "execution_count": 48,
     "metadata": {},
     "output_type": "execute_result"
    }
   ],
   "source": [
    "# define y\n",
    "y = totalData.anxious.values\n",
    "y.shape"
   ]
  },
  {
   "cell_type": "code",
   "execution_count": 49,
   "metadata": {
    "collapsed": true
   },
   "outputs": [],
   "source": [
    "# create training and test sets\n",
    "from sklearn.cross_validation import train_test_split\n",
    "\n",
    "X_train, X_test, y_train, y_test = train_test_split(\n",
    "         X, y, test_size=0.3, random_state=0)"
   ]
  },
  {
   "cell_type": "code",
   "execution_count": 50,
   "metadata": {
    "collapsed": true
   },
   "outputs": [],
   "source": [
    "# feature scaling\n",
    "from sklearn.preprocessing import StandardScaler\n",
    "sc = StandardScaler(with_mean=False)\n",
    "sc.fit(X_train)\n",
    "X_train_std = sc.transform(X_train)\n",
    "X_test_std = sc.transform(X_test)"
   ]
  },
  {
   "cell_type": "markdown",
   "metadata": {},
   "source": [
    "# Anxious Model Results"
   ]
  },
  {
   "cell_type": "code",
   "execution_count": 51,
   "metadata": {
    "collapsed": false
   },
   "outputs": [
    {
     "name": "stdout",
     "output_type": "stream",
     "text": [
      "     SVM        Training Set    Test Set  \n",
      "-------------- -------------- ------------\n",
      "    Error Rate 0.365646258503        0.375\n",
      " Accuracy Rate 0.634353741497        0.625\n",
      "True Positives 0.807208717519 0.8056640625\n",
      "True Negatives             --       0.5325\n"
     ]
    },
    {
     "data": {
      "text/plain": [
       "(0.375, 0.625, 0.8056640625, 0.53249999999999997)"
      ]
     },
     "execution_count": 51,
     "metadata": {},
     "output_type": "execute_result"
    }
   ],
   "source": [
    "# MODEL: SVM, linear\n",
    "from sklearn import linear_model\n",
    "clf = linear_model.SGDClassifier()\n",
    "clf.fit(X_train_std, y_train)\n",
    "y_pred = clf.fit(X_train_std, y_train).predict(X_train_std)\n",
    "y_pred_test = clf.predict(X_test_std)\n",
    "print_results('SVM')"
   ]
  },
  {
   "cell_type": "code",
   "execution_count": 52,
   "metadata": {
    "collapsed": false
   },
   "outputs": [
    {
     "name": "stdout",
     "output_type": "stream",
     "text": [
      "Logistic Regression  Training Set     Test Set   \n",
      "------------------- -------------- --------------\n",
      "         Error Rate 0.281462585034 0.278439153439\n",
      "      Accuracy Rate 0.718537414966 0.721560846561\n",
      "     True Positives 0.240150880134    0.251953125\n",
      "     True Negatives             --          0.962\n"
     ]
    },
    {
     "data": {
      "text/plain": [
       "(0.27843915343915343, 0.72156084656084651, 0.251953125, 0.96199999999999997)"
      ]
     },
     "execution_count": 52,
     "metadata": {},
     "output_type": "execute_result"
    }
   ],
   "source": [
    "# MODEL: logistic regression\n",
    "from sklearn import linear_model\n",
    "clf = linear_model.SGDClassifier(loss='log', n_iter=50, alpha=0.00001)\n",
    "clf.fit(X_train_std, y_train)\n",
    "y_pred = clf.fit(X_train_std, y_train).predict(X_train_std)\n",
    "y_pred_test = clf.predict(X_test_std)\n",
    "print_results('Logistic Regression')"
   ]
  },
  {
   "cell_type": "code",
   "execution_count": 53,
   "metadata": {
    "collapsed": false
   },
   "outputs": [
    {
     "name": "stdout",
     "output_type": "stream",
     "text": [
      " Naive Bayes    Training Set     Test Set   \n",
      "-------------- -------------- --------------\n",
      "    Error Rate 0.367630385488 0.367394179894\n",
      " Accuracy Rate 0.632369614512 0.632605820106\n",
      "True Positives 0.481559094719        0.46875\n",
      "True Negatives             --         0.7165\n"
     ]
    },
    {
     "data": {
      "text/plain": [
       "(0.36739417989417988, 0.63260582010582012, 0.46875, 0.71650000000000003)"
      ]
     },
     "execution_count": 53,
     "metadata": {},
     "output_type": "execute_result"
    }
   ],
   "source": [
    "# MODEL: Naive Bayes\n",
    "from sklearn.naive_bayes import MultinomialNB\n",
    "clf = MultinomialNB()\n",
    "clf.fit(X_train_std, y_train)\n",
    "y_pred = clf.fit(X_train_std, y_train).predict(X_train_std)\n",
    "y_pred_test = clf.predict(X_test_std)\n",
    "print_results('Naive Bayes')"
   ]
  },
  {
   "cell_type": "code",
   "execution_count": 54,
   "metadata": {
    "collapsed": false
   },
   "outputs": [
    {
     "name": "stdout",
     "output_type": "stream",
     "text": [
      "  Perceptron    Training Set     Test Set   \n",
      "-------------- -------------- --------------\n",
      "    Error Rate 0.260487528345 0.256283068783\n",
      " Accuracy Rate 0.739512471655 0.743716931217\n",
      "True Positives 0.237636211232   0.2529296875\n",
      "True Negatives             --          0.995\n"
     ]
    },
    {
     "data": {
      "text/plain": [
       "(0.25628306878306878, 0.74371693121693117, 0.2529296875, 0.995)"
      ]
     },
     "execution_count": 54,
     "metadata": {},
     "output_type": "execute_result"
    }
   ],
   "source": [
    "# Perceptron\n",
    "from sklearn import linear_model\n",
    "clf = linear_model.SGDClassifier(loss='perceptron')\n",
    "clf.fit(X_train_std, y_train)\n",
    "y_pred = clf.fit(X_train_std, y_train).predict(X_train_std)\n",
    "y_pred_test = clf.predict(X_test_std)\n",
    "print_results('Perceptron')"
   ]
  },
  {
   "cell_type": "code",
   "execution_count": 55,
   "metadata": {
    "collapsed": false
   },
   "outputs": [
    {
     "data": {
      "text/plain": [
       "(10080,)"
      ]
     },
     "execution_count": 55,
     "metadata": {},
     "output_type": "execute_result"
    }
   ],
   "source": [
    "# define y\n",
    "y = totalData.sad.values\n",
    "y.shape"
   ]
  },
  {
   "cell_type": "code",
   "execution_count": 56,
   "metadata": {
    "collapsed": true
   },
   "outputs": [],
   "source": [
    "# create training and test sets\n",
    "from sklearn.cross_validation import train_test_split\n",
    "\n",
    "X_train, X_test, y_train, y_test = train_test_split(\n",
    "         X, y, test_size=0.3, random_state=0)"
   ]
  },
  {
   "cell_type": "code",
   "execution_count": 57,
   "metadata": {
    "collapsed": true
   },
   "outputs": [],
   "source": [
    "# feature scaling\n",
    "from sklearn.preprocessing import StandardScaler\n",
    "sc = StandardScaler(with_mean=False)\n",
    "sc.fit(X_train)\n",
    "X_train_std = sc.transform(X_train)\n",
    "X_test_std = sc.transform(X_test)"
   ]
  },
  {
   "cell_type": "markdown",
   "metadata": {},
   "source": [
    "# Sad Model Values"
   ]
  },
  {
   "cell_type": "code",
   "execution_count": 58,
   "metadata": {
    "collapsed": false
   },
   "outputs": [
    {
     "name": "stdout",
     "output_type": "stream",
     "text": [
      "     SVM         Training Set       Test Set   \n",
      "-------------- ---------------- ---------------\n",
      "    Error Rate  0.0668934240363 0.0658068783069\n",
      " Accuracy Rate   0.933106575964  0.934193121693\n",
      "True Positives 0.00212765957447             0.0\n",
      "True Negatives               --  0.999646142958\n"
     ]
    },
    {
     "data": {
      "text/plain": [
       "(0.065806878306878314, 0.93419312169312163, 0.0, 0.99964614295824483)"
      ]
     },
     "execution_count": 58,
     "metadata": {},
     "output_type": "execute_result"
    }
   ],
   "source": [
    "# MODEL: SVM, linear\n",
    "from sklearn import linear_model\n",
    "clf = linear_model.SGDClassifier()\n",
    "clf.fit(X_train_std, y_train)\n",
    "y_pred = clf.fit(X_train_std, y_train).predict(X_train_std)\n",
    "y_pred_test = clf.predict(X_test_std)\n",
    "print_results('SVM')"
   ]
  },
  {
   "cell_type": "code",
   "execution_count": 59,
   "metadata": {
    "collapsed": false
   },
   "outputs": [
    {
     "name": "stdout",
     "output_type": "stream",
     "text": [
      "Logistic Regression   Training Set      Test Set   \n",
      "------------------- --------------- ---------------\n",
      "         Error Rate 0.0520124716553 0.0555555555556\n",
      "      Accuracy Rate  0.947987528345  0.944444444444\n",
      "     True Positives  0.946808510638  0.959595959596\n",
      "     True Negatives              --  0.943382873319\n"
     ]
    },
    {
     "data": {
      "text/plain": [
       "(0.055555555555555552,\n",
       " 0.94444444444444442,\n",
       " 0.95959595959595956,\n",
       " 0.94338287331917903)"
      ]
     },
     "execution_count": 59,
     "metadata": {},
     "output_type": "execute_result"
    }
   ],
   "source": [
    "# MODEL: logistic regression\n",
    "from sklearn import linear_model\n",
    "clf = linear_model.SGDClassifier(loss='log', n_iter=50, alpha=0.00001)\n",
    "clf.fit(X_train_std, y_train)\n",
    "y_pred = clf.fit(X_train_std, y_train).predict(X_train_std)\n",
    "y_pred_test = clf.predict(X_test_std)\n",
    "print_results('Logistic Regression')"
   ]
  },
  {
   "cell_type": "code",
   "execution_count": 60,
   "metadata": {
    "collapsed": false
   },
   "outputs": [
    {
     "name": "stdout",
     "output_type": "stream",
     "text": [
      " Naive Bayes     Training Set      Test Set   \n",
      "-------------- --------------- ---------------\n",
      "    Error Rate 0.0761054421769 0.0816798941799\n",
      " Accuracy Rate  0.923894557823   0.91832010582\n",
      "True Positives   0.56170212766  0.550505050505\n",
      "True Negatives              --  0.944090587403\n"
     ]
    },
    {
     "data": {
      "text/plain": [
       "(0.081679894179894186,\n",
       " 0.91832010582010581,\n",
       " 0.5505050505050505,\n",
       " 0.94409058740268936)"
      ]
     },
     "execution_count": 60,
     "metadata": {},
     "output_type": "execute_result"
    }
   ],
   "source": [
    "# MODEL: Naive Bayes\n",
    "from sklearn.naive_bayes import MultinomialNB\n",
    "clf = MultinomialNB()\n",
    "clf.fit(X_train_std, y_train)\n",
    "y_pred = clf.fit(X_train_std, y_train).predict(X_train_std)\n",
    "y_pred_test = clf.predict(X_test_std)\n",
    "print_results('Naive Bayes')"
   ]
  },
  {
   "cell_type": "code",
   "execution_count": 61,
   "metadata": {
    "collapsed": false
   },
   "outputs": [
    {
     "name": "stdout",
     "output_type": "stream",
     "text": [
      "  Perceptron     Training Set      Test Set   \n",
      "-------------- --------------- ---------------\n",
      "    Error Rate 0.0609410430839 0.0611772486772\n",
      " Accuracy Rate  0.939058956916  0.938822751323\n",
      "True Positives  0.104255319149 0.0757575757576\n",
      "True Negatives              --  0.999292285916\n"
     ]
    },
    {
     "data": {
      "text/plain": [
       "(0.061177248677248677,\n",
       " 0.93882275132275128,\n",
       " 0.07575757575757576,\n",
       " 0.99929228591648978)"
      ]
     },
     "execution_count": 61,
     "metadata": {},
     "output_type": "execute_result"
    }
   ],
   "source": [
    "# Perceptron\n",
    "from sklearn import linear_model\n",
    "clf = linear_model.SGDClassifier(loss='perceptron')\n",
    "clf.fit(X_train_std, y_train)\n",
    "y_pred = clf.fit(X_train_std, y_train).predict(X_train_std)\n",
    "y_pred_test = clf.predict(X_test_std)\n",
    "print_results('Perceptron')"
   ]
  },
  {
   "cell_type": "code",
   "execution_count": 62,
   "metadata": {
    "collapsed": false
   },
   "outputs": [
    {
     "data": {
      "text/plain": [
       "(10080,)"
      ]
     },
     "execution_count": 62,
     "metadata": {},
     "output_type": "execute_result"
    }
   ],
   "source": [
    "# define y\n",
    "y = totalData.angry.values\n",
    "y.shape"
   ]
  },
  {
   "cell_type": "code",
   "execution_count": 63,
   "metadata": {
    "collapsed": true
   },
   "outputs": [],
   "source": [
    "# create training and test sets\n",
    "from sklearn.cross_validation import train_test_split\n",
    "\n",
    "X_train, X_test, y_train, y_test = train_test_split(\n",
    "         X, y, test_size=0.3, random_state=0)"
   ]
  },
  {
   "cell_type": "code",
   "execution_count": 64,
   "metadata": {
    "collapsed": true
   },
   "outputs": [],
   "source": [
    "# feature scaling\n",
    "from sklearn.preprocessing import StandardScaler\n",
    "sc = StandardScaler(with_mean=False)\n",
    "sc.fit(X_train)\n",
    "X_train_std = sc.transform(X_train)\n",
    "X_test_std = sc.transform(X_test)"
   ]
  },
  {
   "cell_type": "markdown",
   "metadata": {},
   "source": [
    "# Angry Model Results"
   ]
  },
  {
   "cell_type": "code",
   "execution_count": 65,
   "metadata": {
    "collapsed": false
   },
   "outputs": [
    {
     "name": "stdout",
     "output_type": "stream",
     "text": [
      "     SVM        Training Set     Test Set   \n",
      "-------------- -------------- --------------\n",
      "    Error Rate 0.294075963719 0.281084656085\n",
      " Accuracy Rate 0.705924036281 0.718915343915\n",
      "True Positives 0.721739130435 0.735677083333\n",
      "True Negatives             -- 0.713209219858\n"
     ]
    },
    {
     "data": {
      "text/plain": [
       "(0.2810846560846561,\n",
       " 0.71891534391534395,\n",
       " 0.73567708333333337,\n",
       " 0.713209219858156)"
      ]
     },
     "execution_count": 65,
     "metadata": {},
     "output_type": "execute_result"
    }
   ],
   "source": [
    "# MODEL: SVM, linear\n",
    "from sklearn import linear_model\n",
    "clf = linear_model.SGDClassifier()\n",
    "clf.fit(X_train_std, y_train)\n",
    "y_pred = clf.fit(X_train_std, y_train).predict(X_train_std)\n",
    "y_pred_test = clf.predict(X_test_std)\n",
    "print_results('SVM')"
   ]
  },
  {
   "cell_type": "code",
   "execution_count": 66,
   "metadata": {
    "collapsed": false
   },
   "outputs": [
    {
     "name": "stdout",
     "output_type": "stream",
     "text": [
      "Logistic Regression  Training Set     Test Set   \n",
      "------------------- -------------- --------------\n",
      "         Error Rate 0.193452380952 0.166997354497\n",
      "      Accuracy Rate 0.806547619048 0.833002645503\n",
      "     True Positives 0.670108695652       0.703125\n",
      "     True Negatives             -- 0.877216312057\n"
     ]
    },
    {
     "data": {
      "text/plain": [
       "(0.16699735449735451, 0.83300264550264547, 0.703125, 0.87721631205673756)"
      ]
     },
     "execution_count": 66,
     "metadata": {},
     "output_type": "execute_result"
    }
   ],
   "source": [
    "# MODEL: logistic regression\n",
    "from sklearn import linear_model\n",
    "clf = linear_model.SGDClassifier(loss='log', n_iter=50, alpha=0.00001)\n",
    "clf.fit(X_train_std, y_train)\n",
    "y_pred = clf.fit(X_train_std, y_train).predict(X_train_std)\n",
    "y_pred_test = clf.predict(X_test_std)\n",
    "print_results('Logistic Regression')"
   ]
  },
  {
   "cell_type": "code",
   "execution_count": 67,
   "metadata": {
    "collapsed": false
   },
   "outputs": [
    {
     "name": "stdout",
     "output_type": "stream",
     "text": [
      " Naive Bayes    Training Set     Test Set   \n",
      "-------------- -------------- --------------\n",
      "    Error Rate 0.221088435374 0.194113756614\n",
      " Accuracy Rate 0.778911564626 0.805886243386\n",
      "True Positives 0.655434782609 0.678385416667\n",
      "True Negatives             -- 0.849290780142\n"
     ]
    },
    {
     "data": {
      "text/plain": [
       "(0.19411375661375663,\n",
       " 0.80588624338624337,\n",
       " 0.67838541666666663,\n",
       " 0.849290780141844)"
      ]
     },
     "execution_count": 67,
     "metadata": {},
     "output_type": "execute_result"
    }
   ],
   "source": [
    "# MODEL: Naive Bayes\n",
    "from sklearn.naive_bayes import MultinomialNB\n",
    "clf = MultinomialNB()\n",
    "clf.fit(X_train_std, y_train)\n",
    "y_pred = clf.fit(X_train_std, y_train).predict(X_train_std)\n",
    "y_pred_test = clf.predict(X_test_std)\n",
    "print_results('Naive Bayes')"
   ]
  },
  {
   "cell_type": "code",
   "execution_count": 68,
   "metadata": {
    "collapsed": false
   },
   "outputs": [
    {
     "name": "stdout",
     "output_type": "stream",
     "text": [
      "  Perceptron    Training Set     Test Set   \n",
      "-------------- -------------- --------------\n",
      "    Error Rate 0.210884353741 0.191468253968\n",
      " Accuracy Rate 0.789115646259 0.808531746032\n",
      "True Positives 0.379891304348 0.408854166667\n",
      "True Negatives             -- 0.944592198582\n"
     ]
    },
    {
     "data": {
      "text/plain": [
       "(0.19146825396825398,\n",
       " 0.80853174603174605,\n",
       " 0.40885416666666669,\n",
       " 0.94459219858156029)"
      ]
     },
     "execution_count": 68,
     "metadata": {},
     "output_type": "execute_result"
    }
   ],
   "source": [
    "# Perceptron\n",
    "from sklearn import linear_model\n",
    "clf = linear_model.SGDClassifier(loss='perceptron')\n",
    "clf.fit(X_train_std, y_train)\n",
    "y_pred = clf.fit(X_train_std, y_train).predict(X_train_std)\n",
    "y_pred_test = clf.predict(X_test_std)\n",
    "print_results('Perceptron')"
   ]
  },
  {
   "cell_type": "code",
   "execution_count": 69,
   "metadata": {
    "collapsed": false
   },
   "outputs": [
    {
     "data": {
      "text/plain": [
       "(10080,)"
      ]
     },
     "execution_count": 69,
     "metadata": {},
     "output_type": "execute_result"
    }
   ],
   "source": [
    "# define y\n",
    "y = totalData.hungry.values\n",
    "y.shape"
   ]
  },
  {
   "cell_type": "code",
   "execution_count": 70,
   "metadata": {
    "collapsed": true
   },
   "outputs": [],
   "source": [
    "# create training and test sets\n",
    "from sklearn.cross_validation import train_test_split\n",
    "\n",
    "X_train, X_test, y_train, y_test = train_test_split(\n",
    "         X, y, test_size=0.3, random_state=0)"
   ]
  },
  {
   "cell_type": "code",
   "execution_count": 71,
   "metadata": {
    "collapsed": true
   },
   "outputs": [],
   "source": [
    "# feature scaling\n",
    "from sklearn.preprocessing import StandardScaler\n",
    "sc = StandardScaler(with_mean=False)\n",
    "sc.fit(X_train)\n",
    "X_train_std = sc.transform(X_train)\n",
    "X_test_std = sc.transform(X_test)"
   ]
  },
  {
   "cell_type": "markdown",
   "metadata": {},
   "source": [
    "# Hungry Model Results"
   ]
  },
  {
   "cell_type": "code",
   "execution_count": 72,
   "metadata": {
    "collapsed": false
   },
   "outputs": [
    {
     "name": "stdout",
     "output_type": "stream",
     "text": [
      "     SVM        Training Set      Test Set   \n",
      "-------------- -------------- ---------------\n",
      "    Error Rate 0.015306122449 0.0125661375661\n",
      " Accuracy Rate 0.984693877551  0.987433862434\n",
      "True Positives 0.701149425287  0.730158730159\n",
      "True Negatives             --   0.99861973775\n"
     ]
    },
    {
     "data": {
      "text/plain": [
       "(0.012566137566137565,\n",
       " 0.98743386243386244,\n",
       " 0.73015873015873012,\n",
       " 0.99861973775017254)"
      ]
     },
     "execution_count": 72,
     "metadata": {},
     "output_type": "execute_result"
    }
   ],
   "source": [
    "# MODEL: SVM, linear\n",
    "from sklearn import linear_model\n",
    "clf = linear_model.SGDClassifier()\n",
    "clf.fit(X_train_std, y_train)\n",
    "y_pred = clf.fit(X_train_std, y_train).predict(X_train_std)\n",
    "y_pred_test = clf.predict(X_test_std)\n",
    "print_results('SVM')"
   ]
  },
  {
   "cell_type": "code",
   "execution_count": 73,
   "metadata": {
    "collapsed": false
   },
   "outputs": [
    {
     "name": "stdout",
     "output_type": "stream",
     "text": [
      "Logistic Regression   Training Set       Test Set   \n",
      "------------------- ---------------- ---------------\n",
      "         Error Rate 0.00184240362812 0.0026455026455\n",
      "      Accuracy Rate   0.998157596372  0.997354497354\n",
      "     True Positives   0.994252873563  0.992063492063\n",
      "     True Negatives               --  0.997584541063\n"
     ]
    },
    {
     "data": {
      "text/plain": [
       "(0.0026455026455026454,\n",
       " 0.99735449735449733,\n",
       " 0.99206349206349209,\n",
       " 0.99758454106280192)"
      ]
     },
     "execution_count": 73,
     "metadata": {},
     "output_type": "execute_result"
    }
   ],
   "source": [
    "# MODEL: logistic regression\n",
    "from sklearn import linear_model\n",
    "clf = linear_model.SGDClassifier(loss='log', n_iter=50, alpha=0.00001)\n",
    "clf.fit(X_train_std, y_train)\n",
    "y_pred = clf.fit(X_train_std, y_train).predict(X_train_std)\n",
    "y_pred_test = clf.predict(X_test_std)\n",
    "print_results('Logistic Regression')"
   ]
  },
  {
   "cell_type": "code",
   "execution_count": 74,
   "metadata": {
    "collapsed": false
   },
   "outputs": [
    {
     "name": "stdout",
     "output_type": "stream",
     "text": [
      " Naive Bayes     Training Set     Test Set   \n",
      "-------------- --------------- --------------\n",
      "    Error Rate 0.0949546485261  0.10119047619\n",
      " Accuracy Rate  0.905045351474  0.89880952381\n",
      "True Positives  0.261494252874 0.285714285714\n",
      "True Negatives              -- 0.925465838509\n"
     ]
    },
    {
     "data": {
      "text/plain": [
       "(0.10119047619047619,\n",
       " 0.89880952380952384,\n",
       " 0.2857142857142857,\n",
       " 0.92546583850931674)"
      ]
     },
     "execution_count": 74,
     "metadata": {},
     "output_type": "execute_result"
    }
   ],
   "source": [
    "# MODEL: Naive Bayes\n",
    "from sklearn.naive_bayes import MultinomialNB\n",
    "clf = MultinomialNB()\n",
    "clf.fit(X_train_std, y_train)\n",
    "y_pred = clf.fit(X_train_std, y_train).predict(X_train_std)\n",
    "y_pred_test = clf.predict(X_test_std)\n",
    "print_results('Naive Bayes')"
   ]
  },
  {
   "cell_type": "code",
   "execution_count": 75,
   "metadata": {
    "collapsed": false
   },
   "outputs": [
    {
     "name": "stdout",
     "output_type": "stream",
     "text": [
      "  Perceptron     Training Set      Test Set   \n",
      "-------------- --------------- ---------------\n",
      "    Error Rate 0.0488945578231 0.0396825396825\n",
      " Accuracy Rate  0.951105442177  0.960317460317\n",
      "True Positives  0.014367816092  0.047619047619\n",
      "True Negatives              --             1.0\n"
     ]
    },
    {
     "data": {
      "text/plain": [
       "(0.03968253968253968, 0.96031746031746035, 0.047619047619047616, 1.0)"
      ]
     },
     "execution_count": 75,
     "metadata": {},
     "output_type": "execute_result"
    }
   ],
   "source": [
    "# Perceptron\n",
    "from sklearn import linear_model\n",
    "clf = linear_model.SGDClassifier(loss='perceptron')\n",
    "clf.fit(X_train_std, y_train)\n",
    "y_pred = clf.fit(X_train_std, y_train).predict(X_train_std)\n",
    "y_pred_test = clf.predict(X_test_std)\n",
    "print_results('Perceptron')"
   ]
  },
  {
   "cell_type": "code",
   "execution_count": 76,
   "metadata": {
    "collapsed": false
   },
   "outputs": [
    {
     "data": {
      "text/plain": [
       "(10080,)"
      ]
     },
     "execution_count": 76,
     "metadata": {},
     "output_type": "execute_result"
    }
   ],
   "source": [
    "# define y\n",
    "y = totalData.tired.values\n",
    "y.shape"
   ]
  },
  {
   "cell_type": "code",
   "execution_count": 77,
   "metadata": {
    "collapsed": true
   },
   "outputs": [],
   "source": [
    "# create training and test sets\n",
    "from sklearn.cross_validation import train_test_split\n",
    "\n",
    "X_train, X_test, y_train, y_test = train_test_split(\n",
    "         X, y, test_size=0.3, random_state=0)"
   ]
  },
  {
   "cell_type": "code",
   "execution_count": 78,
   "metadata": {
    "collapsed": true
   },
   "outputs": [],
   "source": [
    "# feature scaling\n",
    "from sklearn.preprocessing import StandardScaler\n",
    "sc = StandardScaler(with_mean=False)\n",
    "sc.fit(X_train)\n",
    "X_train_std = sc.transform(X_train)\n",
    "X_test_std = sc.transform(X_test)"
   ]
  },
  {
   "cell_type": "markdown",
   "metadata": {},
   "source": [
    "# Tired Model Results"
   ]
  },
  {
   "cell_type": "code",
   "execution_count": 79,
   "metadata": {
    "collapsed": false
   },
   "outputs": [
    {
     "name": "stdout",
     "output_type": "stream",
     "text": [
      "     SVM         Training Set        Test Set    \n",
      "-------------- ---------------- -----------------\n",
      "    Error Rate 0.00127551020408 0.000992063492063\n",
      " Accuracy Rate   0.998724489796    0.999007936508\n",
      "True Positives              0.0               0.0\n",
      "True Negatives               --               1.0\n"
     ]
    },
    {
     "data": {
      "text/plain": [
       "(0.00099206349206349201, 0.99900793650793651, 0.0, 1.0)"
      ]
     },
     "execution_count": 79,
     "metadata": {},
     "output_type": "execute_result"
    }
   ],
   "source": [
    "# MODEL: SVM, linear\n",
    "from sklearn import linear_model\n",
    "clf = linear_model.SGDClassifier()\n",
    "clf.fit(X_train_std, y_train)\n",
    "y_pred = clf.fit(X_train_std, y_train).predict(X_train_std)\n",
    "y_pred_test = clf.predict(X_test_std)\n",
    "print_results('SVM')"
   ]
  },
  {
   "cell_type": "code",
   "execution_count": 80,
   "metadata": {
    "collapsed": false
   },
   "outputs": [
    {
     "name": "stdout",
     "output_type": "stream",
     "text": [
      "Logistic Regression   Training Set        Test Set    \n",
      "------------------- ---------------- -----------------\n",
      "         Error Rate 0.00127551020408 0.000992063492063\n",
      "      Accuracy Rate   0.998724489796    0.999007936508\n",
      "     True Positives              0.0               0.0\n",
      "     True Negatives               --               1.0\n"
     ]
    },
    {
     "data": {
      "text/plain": [
       "(0.00099206349206349201, 0.99900793650793651, 0.0, 1.0)"
      ]
     },
     "execution_count": 80,
     "metadata": {},
     "output_type": "execute_result"
    }
   ],
   "source": [
    "# MODEL: logistic regression\n",
    "from sklearn import linear_model\n",
    "clf = linear_model.SGDClassifier(loss='log', n_iter=50, alpha=0.00001)\n",
    "clf.fit(X_train_std, y_train)\n",
    "y_pred = clf.fit(X_train_std, y_train).predict(X_train_std)\n",
    "y_pred_test = clf.predict(X_test_std)\n",
    "print_results('Logistic Regression')"
   ]
  },
  {
   "cell_type": "code",
   "execution_count": 81,
   "metadata": {
    "collapsed": false
   },
   "outputs": [
    {
     "name": "stdout",
     "output_type": "stream",
     "text": [
      " Naive Bayes     Training Set       Test Set    \n",
      "-------------- ---------------- ----------------\n",
      "    Error Rate 0.00751133786848 0.00925925925926\n",
      " Accuracy Rate   0.992488662132   0.990740740741\n",
      "True Positives              0.0              0.0\n",
      "True Negatives               --   0.991724594505\n"
     ]
    },
    {
     "data": {
      "text/plain": [
       "(0.0092592592592592587, 0.9907407407407407, 0.0, 0.99172459450513073)"
      ]
     },
     "execution_count": 81,
     "metadata": {},
     "output_type": "execute_result"
    }
   ],
   "source": [
    "# MODEL: Naive Bayes\n",
    "from sklearn.naive_bayes import MultinomialNB\n",
    "clf = MultinomialNB()\n",
    "clf.fit(X_train_std, y_train)\n",
    "y_pred = clf.fit(X_train_std, y_train).predict(X_train_std)\n",
    "y_pred_test = clf.predict(X_test_std)\n",
    "print_results('Naive Bayes')"
   ]
  },
  {
   "cell_type": "code",
   "execution_count": 82,
   "metadata": {
    "collapsed": false
   },
   "outputs": [
    {
     "name": "stdout",
     "output_type": "stream",
     "text": [
      "  Perceptron     Training Set        Test Set    \n",
      "-------------- ---------------- -----------------\n",
      "    Error Rate 0.00127551020408 0.000992063492063\n",
      " Accuracy Rate   0.998724489796    0.999007936508\n",
      "True Positives              0.0               0.0\n",
      "True Negatives               --               1.0\n"
     ]
    },
    {
     "data": {
      "text/plain": [
       "(0.00099206349206349201, 0.99900793650793651, 0.0, 1.0)"
      ]
     },
     "execution_count": 82,
     "metadata": {},
     "output_type": "execute_result"
    }
   ],
   "source": [
    "# Perceptron\n",
    "from sklearn import linear_model\n",
    "clf = linear_model.SGDClassifier(loss='perceptron')\n",
    "clf.fit(X_train_std, y_train)\n",
    "y_pred = clf.fit(X_train_std, y_train).predict(X_train_std)\n",
    "y_pred_test = clf.predict(X_test_std)\n",
    "print_results('Perceptron')"
   ]
  },
  {
   "cell_type": "code",
   "execution_count": 83,
   "metadata": {
    "collapsed": false
   },
   "outputs": [
    {
     "data": {
      "text/plain": [
       "(10080,)"
      ]
     },
     "execution_count": 83,
     "metadata": {},
     "output_type": "execute_result"
    }
   ],
   "source": [
    "# define y\n",
    "y = totalData.bored.values\n",
    "y.shape"
   ]
  },
  {
   "cell_type": "code",
   "execution_count": 84,
   "metadata": {
    "collapsed": true
   },
   "outputs": [],
   "source": [
    "# create training and test sets\n",
    "from sklearn.cross_validation import train_test_split\n",
    "\n",
    "X_train, X_test, y_train, y_test = train_test_split(\n",
    "         X, y, test_size=0.3, random_state=0)"
   ]
  },
  {
   "cell_type": "code",
   "execution_count": 85,
   "metadata": {
    "collapsed": true
   },
   "outputs": [],
   "source": [
    "# feature scaling\n",
    "from sklearn.preprocessing import StandardScaler\n",
    "sc = StandardScaler(with_mean=False)\n",
    "sc.fit(X_train)\n",
    "X_train_std = sc.transform(X_train)\n",
    "X_test_std = sc.transform(X_test)"
   ]
  },
  {
   "cell_type": "markdown",
   "metadata": {},
   "source": [
    "# Bored Model Results"
   ]
  },
  {
   "cell_type": "code",
   "execution_count": 86,
   "metadata": {
    "collapsed": false
   },
   "outputs": [
    {
     "name": "stdout",
     "output_type": "stream",
     "text": [
      "     SVM          Training Set        Test Set    \n",
      "-------------- ----------------- -----------------\n",
      "    Error Rate 0.000708616780045 0.000330687830688\n",
      " Accuracy Rate     0.99929138322    0.999669312169\n",
      "True Positives               0.0               0.0\n",
      "True Negatives                --               1.0\n"
     ]
    },
    {
     "data": {
      "text/plain": [
       "(0.00033068783068783067, 0.99966931216931221, 0.0, 1.0)"
      ]
     },
     "execution_count": 86,
     "metadata": {},
     "output_type": "execute_result"
    }
   ],
   "source": [
    "# MODEL: SVM, linear\n",
    "from sklearn import linear_model\n",
    "clf = linear_model.SGDClassifier()\n",
    "clf.fit(X_train_std, y_train)\n",
    "y_pred = clf.fit(X_train_std, y_train).predict(X_train_std)\n",
    "y_pred_test = clf.predict(X_test_std)\n",
    "print_results('SVM')"
   ]
  },
  {
   "cell_type": "code",
   "execution_count": 87,
   "metadata": {
    "collapsed": false
   },
   "outputs": [
    {
     "name": "stdout",
     "output_type": "stream",
     "text": [
      "Logistic Regression    Training Set        Test Set    \n",
      "------------------- ----------------- -----------------\n",
      "         Error Rate 0.000708616780045 0.000330687830688\n",
      "      Accuracy Rate     0.99929138322    0.999669312169\n",
      "     True Positives               0.0               0.0\n",
      "     True Negatives                --               1.0\n"
     ]
    },
    {
     "data": {
      "text/plain": [
       "(0.00033068783068783067, 0.99966931216931221, 0.0, 1.0)"
      ]
     },
     "execution_count": 87,
     "metadata": {},
     "output_type": "execute_result"
    }
   ],
   "source": [
    "# MODEL: logistic regression\n",
    "from sklearn import linear_model\n",
    "clf = linear_model.SGDClassifier(loss='log', n_iter=50, alpha=0.00001)\n",
    "clf.fit(X_train_std, y_train)\n",
    "y_pred = clf.fit(X_train_std, y_train).predict(X_train_std)\n",
    "y_pred_test = clf.predict(X_test_std)\n",
    "print_results('Logistic Regression')"
   ]
  },
  {
   "cell_type": "code",
   "execution_count": 88,
   "metadata": {
    "collapsed": false
   },
   "outputs": [
    {
     "name": "stdout",
     "output_type": "stream",
     "text": [
      " Naive Bayes     Training Set      Test Set   \n",
      "-------------- --------------- ---------------\n",
      "    Error Rate 0.0189909297052 0.0198412698413\n",
      " Accuracy Rate  0.981009070295  0.980158730159\n",
      "True Positives             0.0             0.0\n",
      "True Negatives              --  0.980482963943\n"
     ]
    },
    {
     "data": {
      "text/plain": [
       "(0.01984126984126984, 0.98015873015873012, 0.0, 0.98048296394310286)"
      ]
     },
     "execution_count": 88,
     "metadata": {},
     "output_type": "execute_result"
    }
   ],
   "source": [
    "# MODEL: Naive Bayes\n",
    "from sklearn.naive_bayes import MultinomialNB\n",
    "clf = MultinomialNB()\n",
    "clf.fit(X_train_std, y_train)\n",
    "y_pred = clf.fit(X_train_std, y_train).predict(X_train_std)\n",
    "y_pred_test = clf.predict(X_test_std)\n",
    "print_results('Naive Bayes')"
   ]
  },
  {
   "cell_type": "code",
   "execution_count": 89,
   "metadata": {
    "collapsed": false
   },
   "outputs": [
    {
     "name": "stdout",
     "output_type": "stream",
     "text": [
      "  Perceptron      Training Set        Test Set    \n",
      "-------------- ----------------- -----------------\n",
      "    Error Rate 0.000708616780045 0.000330687830688\n",
      " Accuracy Rate     0.99929138322    0.999669312169\n",
      "True Positives               0.0               0.0\n",
      "True Negatives                --               1.0\n"
     ]
    },
    {
     "data": {
      "text/plain": [
       "(0.00033068783068783067, 0.99966931216931221, 0.0, 1.0)"
      ]
     },
     "execution_count": 89,
     "metadata": {},
     "output_type": "execute_result"
    }
   ],
   "source": [
    "# Perceptron\n",
    "from sklearn import linear_model\n",
    "clf = linear_model.SGDClassifier(loss='perceptron')\n",
    "clf.fit(X_train_std, y_train)\n",
    "y_pred = clf.fit(X_train_std, y_train).predict(X_train_std)\n",
    "y_pred_test = clf.predict(X_test_std)\n",
    "print_results('Perceptron')"
   ]
  }
 ],
 "metadata": {
  "kernelspec": {
   "display_name": "Python 3",
   "language": "python",
   "name": "python3"
  },
  "language_info": {
   "codemirror_mode": {
    "name": "ipython",
    "version": 3
   },
   "file_extension": ".py",
   "mimetype": "text/x-python",
   "name": "python",
   "nbconvert_exporter": "python",
   "pygments_lexer": "ipython3",
   "version": "3.5.1"
  }
 },
 "nbformat": 4,
 "nbformat_minor": 0
}
