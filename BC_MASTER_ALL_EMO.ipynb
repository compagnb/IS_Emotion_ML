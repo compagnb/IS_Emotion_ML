{
 "cells": [
  {
   "cell_type": "code",
   "execution_count": 1,
   "metadata": {
    "collapsed": true
   },
   "outputs": [],
   "source": [
    "import numpy as np #import numpy library\n",
    "import pandas as pd #import pandas library\n",
    "import matplotlib.pyplot as plt #import matplot library\n",
    "%matplotlib inline\n",
    "\n",
    "import glob\n",
    "import os\n",
    "\n",
    "import nltk.classify.util\n",
    "from astropy.table import Table, Column\n",
    "\n",
    "import string\n",
    "\n",
    "from sklearn import svm\n",
    "from sklearn import metrics"
   ]
  },
  {
   "cell_type": "code",
   "execution_count": 2,
   "metadata": {
    "collapsed": false
   },
   "outputs": [],
   "source": [
    " def loadMetricData(user, directory):\n",
    "    path =  user + \"/\" + directory + \"/\"\n",
    "#     print(path)\n",
    "    all_files = glob.glob(os.path.join(path, \"*.csv\")) \n",
    "#     print(all_files)\n",
    "    data = pd.DataFrame()\n",
    "    list_ = []\n",
    "    for file_ in all_files:\n",
    "        data = pd.read_csv(file_,index_col=None, header=0)\n",
    "        list_.append(data)\n",
    "        data = pd.concat(list_)\n",
    "    return data"
   ]
  },
  {
   "cell_type": "code",
   "execution_count": 3,
   "metadata": {
    "collapsed": false
   },
   "outputs": [],
   "source": [
    "# # clean times function\n",
    "def cleanTime(df, col):\n",
    "    df.col = pd.to_datetime(df.col)"
   ]
  },
  {
   "cell_type": "code",
   "execution_count": 4,
   "metadata": {
    "collapsed": false
   },
   "outputs": [],
   "source": [
    "# # replace NAN's\n",
    "# def rmNAN(df, col):\n",
    "#     df.col = df.col.fillna(0)"
   ]
  },
  {
   "cell_type": "code",
   "execution_count": 5,
   "metadata": {
    "collapsed": false
   },
   "outputs": [
    {
     "data": {
      "text/html": [
       "<div>\n",
       "<table border=\"1\" class=\"dataframe\">\n",
       "  <thead>\n",
       "    <tr style=\"text-align: right;\">\n",
       "      <th></th>\n",
       "      <th>timestamp</th>\n",
       "      <th>heartrate</th>\n",
       "      <th>steps</th>\n",
       "      <th>calories</th>\n",
       "      <th>gsr</th>\n",
       "      <th>skintemp</th>\n",
       "      <th>airtemp</th>\n",
       "    </tr>\n",
       "  </thead>\n",
       "  <tbody>\n",
       "    <tr>\n",
       "      <th>1435</th>\n",
       "      <td>2016-05-02 23:55:00</td>\n",
       "      <td>70</td>\n",
       "      <td>0</td>\n",
       "      <td>1.2</td>\n",
       "      <td>0.000055</td>\n",
       "      <td>84.2</td>\n",
       "      <td>81.5</td>\n",
       "    </tr>\n",
       "    <tr>\n",
       "      <th>1436</th>\n",
       "      <td>2016-05-02 23:56:00</td>\n",
       "      <td>73</td>\n",
       "      <td>0</td>\n",
       "      <td>1.2</td>\n",
       "      <td>0.000055</td>\n",
       "      <td>84.2</td>\n",
       "      <td>81.5</td>\n",
       "    </tr>\n",
       "    <tr>\n",
       "      <th>1437</th>\n",
       "      <td>2016-05-02 23:57:00</td>\n",
       "      <td>74</td>\n",
       "      <td>0</td>\n",
       "      <td>1.2</td>\n",
       "      <td>0.000057</td>\n",
       "      <td>84.2</td>\n",
       "      <td>81.5</td>\n",
       "    </tr>\n",
       "    <tr>\n",
       "      <th>1438</th>\n",
       "      <td>2016-05-02 23:58:00</td>\n",
       "      <td>74</td>\n",
       "      <td>0</td>\n",
       "      <td>1.2</td>\n",
       "      <td>0.000054</td>\n",
       "      <td>84.2</td>\n",
       "      <td>81.5</td>\n",
       "    </tr>\n",
       "    <tr>\n",
       "      <th>1439</th>\n",
       "      <td>2016-05-02 23:59:00</td>\n",
       "      <td>73</td>\n",
       "      <td>0</td>\n",
       "      <td>1.1</td>\n",
       "      <td>0.000053</td>\n",
       "      <td>83.3</td>\n",
       "      <td>80.6</td>\n",
       "    </tr>\n",
       "  </tbody>\n",
       "</table>\n",
       "</div>"
      ],
      "text/plain": [
       "                timestamp  heartrate  steps  calories       gsr  skintemp  \\\n",
       "1435  2016-05-02 23:55:00         70      0       1.2  0.000055      84.2   \n",
       "1436  2016-05-02 23:56:00         73      0       1.2  0.000055      84.2   \n",
       "1437  2016-05-02 23:57:00         74      0       1.2  0.000057      84.2   \n",
       "1438  2016-05-02 23:58:00         74      0       1.2  0.000054      84.2   \n",
       "1439  2016-05-02 23:59:00         73      0       1.1  0.000053      83.3   \n",
       "\n",
       "      airtemp  \n",
       "1435     81.5  \n",
       "1436     81.5  \n",
       "1437     81.5  \n",
       "1438     81.5  \n",
       "1439     80.6  "
      ]
     },
     "execution_count": 5,
     "metadata": {},
     "output_type": "execute_result"
    }
   ],
   "source": [
    "barbMetrics = loadMetricData('barbComp', \"metrics\")\n",
    "barbMetrics.tail(5)"
   ]
  },
  {
   "cell_type": "code",
   "execution_count": 6,
   "metadata": {
    "collapsed": false
   },
   "outputs": [
    {
     "data": {
      "text/plain": [
       "timestamp     object\n",
       "heartrate    float64\n",
       "steps        float64\n",
       "calories     float64\n",
       "gsr          float64\n",
       "skintemp     float64\n",
       "airtemp      float64\n",
       "dtype: object"
      ]
     },
     "execution_count": 6,
     "metadata": {},
     "output_type": "execute_result"
    }
   ],
   "source": [
    "barbMetrics.dtypes"
   ]
  },
  {
   "cell_type": "code",
   "execution_count": 7,
   "metadata": {
    "collapsed": false
   },
   "outputs": [
    {
     "data": {
      "text/html": [
       "<div>\n",
       "<table border=\"1\" class=\"dataframe\">\n",
       "  <thead>\n",
       "    <tr style=\"text-align: right;\">\n",
       "      <th></th>\n",
       "      <th>timestamp</th>\n",
       "      <th>heartrate</th>\n",
       "      <th>steps</th>\n",
       "      <th>calories</th>\n",
       "      <th>gsr</th>\n",
       "      <th>skintemp</th>\n",
       "      <th>airtemp</th>\n",
       "    </tr>\n",
       "  </thead>\n",
       "  <tbody>\n",
       "    <tr>\n",
       "      <th>0</th>\n",
       "      <td>2016-04-26 00:00:00</td>\n",
       "      <td>0</td>\n",
       "      <td>0</td>\n",
       "      <td>1.3</td>\n",
       "      <td>0</td>\n",
       "      <td>0</td>\n",
       "      <td>0</td>\n",
       "    </tr>\n",
       "    <tr>\n",
       "      <th>1</th>\n",
       "      <td>2016-04-26 00:01:00</td>\n",
       "      <td>0</td>\n",
       "      <td>0</td>\n",
       "      <td>1.1</td>\n",
       "      <td>0</td>\n",
       "      <td>0</td>\n",
       "      <td>0</td>\n",
       "    </tr>\n",
       "    <tr>\n",
       "      <th>2</th>\n",
       "      <td>2016-04-26 00:02:00</td>\n",
       "      <td>0</td>\n",
       "      <td>0</td>\n",
       "      <td>1.2</td>\n",
       "      <td>0</td>\n",
       "      <td>0</td>\n",
       "      <td>0</td>\n",
       "    </tr>\n",
       "    <tr>\n",
       "      <th>3</th>\n",
       "      <td>2016-04-26 00:03:00</td>\n",
       "      <td>0</td>\n",
       "      <td>0</td>\n",
       "      <td>1.1</td>\n",
       "      <td>0</td>\n",
       "      <td>0</td>\n",
       "      <td>0</td>\n",
       "    </tr>\n",
       "    <tr>\n",
       "      <th>4</th>\n",
       "      <td>2016-04-26 00:04:00</td>\n",
       "      <td>0</td>\n",
       "      <td>0</td>\n",
       "      <td>1.2</td>\n",
       "      <td>0</td>\n",
       "      <td>0</td>\n",
       "      <td>0</td>\n",
       "    </tr>\n",
       "  </tbody>\n",
       "</table>\n",
       "</div>"
      ],
      "text/plain": [
       "            timestamp  heartrate  steps  calories  gsr  skintemp  airtemp\n",
       "0 2016-04-26 00:00:00          0      0       1.3    0         0        0\n",
       "1 2016-04-26 00:01:00          0      0       1.1    0         0        0\n",
       "2 2016-04-26 00:02:00          0      0       1.2    0         0        0\n",
       "3 2016-04-26 00:03:00          0      0       1.1    0         0        0\n",
       "4 2016-04-26 00:04:00          0      0       1.2    0         0        0"
      ]
     },
     "execution_count": 7,
     "metadata": {},
     "output_type": "execute_result"
    }
   ],
   "source": [
    "# clean metric data\n",
    "\n",
    "barbMetrics.timestamp = pd.to_datetime(barbMetrics.timestamp)\n",
    "\n",
    "barbMetrics.heartrate = barbMetrics.heartrate.fillna(0)\n",
    "barbMetrics.steps = barbMetrics.steps.fillna(0)\n",
    "barbMetrics.calories = barbMetrics.calories.fillna(0)\n",
    "barbMetrics.gsr = barbMetrics.gsr.fillna(0)\n",
    "barbMetrics.skintemp = barbMetrics.skintemp.fillna(0)\n",
    "barbMetrics.airtemp = barbMetrics.airtemp.fillna(0)\n",
    "\n",
    "barbMetrics.head(5)"
   ]
  },
  {
   "cell_type": "code",
   "execution_count": 8,
   "metadata": {
    "collapsed": false
   },
   "outputs": [
    {
     "data": {
      "text/html": [
       "<div>\n",
       "<table border=\"1\" class=\"dataframe\">\n",
       "  <thead>\n",
       "    <tr style=\"text-align: right;\">\n",
       "      <th></th>\n",
       "      <th>start time</th>\n",
       "      <th>start time ISO</th>\n",
       "      <th>start time timezone</th>\n",
       "      <th>start time offset</th>\n",
       "      <th>end time</th>\n",
       "      <th>end time ISO</th>\n",
       "      <th>end time timezone</th>\n",
       "      <th>end time offset</th>\n",
       "      <th>type</th>\n",
       "      <th>actual seconds</th>\n",
       "      <th>steps</th>\n",
       "      <th>calories</th>\n",
       "      <th>minutes</th>\n",
       "      <th>heart rate avg</th>\n",
       "      <th>heart rate min</th>\n",
       "      <th>heart rate max</th>\n",
       "      <th>state</th>\n",
       "      <th>version</th>\n",
       "      <th>id</th>\n",
       "    </tr>\n",
       "  </thead>\n",
       "  <tbody>\n",
       "    <tr>\n",
       "      <th>0</th>\n",
       "      <td>2016-05-02 20:22:21</td>\n",
       "      <td>2016-05-02T20:22:21Z</td>\n",
       "      <td>America/New_York</td>\n",
       "      <td>-240</td>\n",
       "      <td>2016-05-02 20:30:10</td>\n",
       "      <td>2016-05-02T20:30:10Z</td>\n",
       "      <td>America/New_York</td>\n",
       "      <td>-240</td>\n",
       "      <td>walk</td>\n",
       "      <td>248</td>\n",
       "      <td>475</td>\n",
       "      <td>35.900002</td>\n",
       "      <td>7.816667</td>\n",
       "      <td>128.032257</td>\n",
       "      <td>NaN</td>\n",
       "      <td>NaN</td>\n",
       "      <td>complete</td>\n",
       "      <td>1</td>\n",
       "      <td>walk__2016-05-02T202221</td>\n",
       "    </tr>\n",
       "    <tr>\n",
       "      <th>1</th>\n",
       "      <td>2016-05-02 23:45:44</td>\n",
       "      <td>2016-05-02T23:45:44Z</td>\n",
       "      <td>America/New_York</td>\n",
       "      <td>-240</td>\n",
       "      <td>2016-05-02 23:52:29</td>\n",
       "      <td>2016-05-02T23:52:29Z</td>\n",
       "      <td>America/New_York</td>\n",
       "      <td>-240</td>\n",
       "      <td>walk</td>\n",
       "      <td>311</td>\n",
       "      <td>632</td>\n",
       "      <td>35.400002</td>\n",
       "      <td>6.750000</td>\n",
       "      <td>120.395256</td>\n",
       "      <td>NaN</td>\n",
       "      <td>NaN</td>\n",
       "      <td>complete</td>\n",
       "      <td>1</td>\n",
       "      <td>walk__2016-05-02T234544</td>\n",
       "    </tr>\n",
       "    <tr>\n",
       "      <th>2</th>\n",
       "      <td>2016-05-03 00:57:18</td>\n",
       "      <td>2016-05-03T00:57:18Z</td>\n",
       "      <td>America/New_York</td>\n",
       "      <td>-240</td>\n",
       "      <td>2016-05-03 01:00:19</td>\n",
       "      <td>2016-05-03T01:00:19Z</td>\n",
       "      <td>America/New_York</td>\n",
       "      <td>-240</td>\n",
       "      <td>walk</td>\n",
       "      <td>181</td>\n",
       "      <td>357</td>\n",
       "      <td>18.200001</td>\n",
       "      <td>3.016667</td>\n",
       "      <td>113.889503</td>\n",
       "      <td>NaN</td>\n",
       "      <td>NaN</td>\n",
       "      <td>complete</td>\n",
       "      <td>1</td>\n",
       "      <td>walk__2016-05-03T005718</td>\n",
       "    </tr>\n",
       "    <tr>\n",
       "      <th>3</th>\n",
       "      <td>2016-05-03 01:24:39</td>\n",
       "      <td>2016-05-03T01:24:39Z</td>\n",
       "      <td>America/New_York</td>\n",
       "      <td>-240</td>\n",
       "      <td>2016-05-03 01:30:02</td>\n",
       "      <td>2016-05-03T01:30:02Z</td>\n",
       "      <td>America/New_York</td>\n",
       "      <td>-240</td>\n",
       "      <td>walk</td>\n",
       "      <td>188</td>\n",
       "      <td>348</td>\n",
       "      <td>21.500000</td>\n",
       "      <td>5.383333</td>\n",
       "      <td>119.536720</td>\n",
       "      <td>NaN</td>\n",
       "      <td>NaN</td>\n",
       "      <td>complete</td>\n",
       "      <td>1</td>\n",
       "      <td>walk__2016-05-03T012439</td>\n",
       "    </tr>\n",
       "    <tr>\n",
       "      <th>4</th>\n",
       "      <td>2016-05-03 01:46:18</td>\n",
       "      <td>2016-05-03T01:46:18Z</td>\n",
       "      <td>America/New_York</td>\n",
       "      <td>-240</td>\n",
       "      <td>2016-05-03 01:55:22</td>\n",
       "      <td>2016-05-03T01:55:22Z</td>\n",
       "      <td>America/New_York</td>\n",
       "      <td>-240</td>\n",
       "      <td>walk</td>\n",
       "      <td>316</td>\n",
       "      <td>518</td>\n",
       "      <td>23.000000</td>\n",
       "      <td>9.066667</td>\n",
       "      <td>109.281647</td>\n",
       "      <td>NaN</td>\n",
       "      <td>NaN</td>\n",
       "      <td>complete</td>\n",
       "      <td>1</td>\n",
       "      <td>walk__2016-05-03T014618</td>\n",
       "    </tr>\n",
       "  </tbody>\n",
       "</table>\n",
       "</div>"
      ],
      "text/plain": [
       "            start time        start time ISO start time timezone  \\\n",
       "0  2016-05-02 20:22:21  2016-05-02T20:22:21Z    America/New_York   \n",
       "1  2016-05-02 23:45:44  2016-05-02T23:45:44Z    America/New_York   \n",
       "2  2016-05-03 00:57:18  2016-05-03T00:57:18Z    America/New_York   \n",
       "3  2016-05-03 01:24:39  2016-05-03T01:24:39Z    America/New_York   \n",
       "4  2016-05-03 01:46:18  2016-05-03T01:46:18Z    America/New_York   \n",
       "\n",
       "   start time offset             end time          end time ISO  \\\n",
       "0               -240  2016-05-02 20:30:10  2016-05-02T20:30:10Z   \n",
       "1               -240  2016-05-02 23:52:29  2016-05-02T23:52:29Z   \n",
       "2               -240  2016-05-03 01:00:19  2016-05-03T01:00:19Z   \n",
       "3               -240  2016-05-03 01:30:02  2016-05-03T01:30:02Z   \n",
       "4               -240  2016-05-03 01:55:22  2016-05-03T01:55:22Z   \n",
       "\n",
       "  end time timezone  end time offset  type  actual seconds  steps   calories  \\\n",
       "0  America/New_York             -240  walk             248    475  35.900002   \n",
       "1  America/New_York             -240  walk             311    632  35.400002   \n",
       "2  America/New_York             -240  walk             181    357  18.200001   \n",
       "3  America/New_York             -240  walk             188    348  21.500000   \n",
       "4  America/New_York             -240  walk             316    518  23.000000   \n",
       "\n",
       "    minutes  heart rate avg  heart rate min  heart rate max     state  \\\n",
       "0  7.816667      128.032257             NaN             NaN  complete   \n",
       "1  6.750000      120.395256             NaN             NaN  complete   \n",
       "2  3.016667      113.889503             NaN             NaN  complete   \n",
       "3  5.383333      119.536720             NaN             NaN  complete   \n",
       "4  9.066667      109.281647             NaN             NaN  complete   \n",
       "\n",
       "   version                       id  \n",
       "0        1  walk__2016-05-02T202221  \n",
       "1        1  walk__2016-05-02T234544  \n",
       "2        1  walk__2016-05-03T005718  \n",
       "3        1  walk__2016-05-03T012439  \n",
       "4        1  walk__2016-05-03T014618  "
      ]
     },
     "execution_count": 8,
     "metadata": {},
     "output_type": "execute_result"
    }
   ],
   "source": [
    "barbActivities = loadMetricData('barbComp', \"activities\")\n",
    "barbActivities.tail(5)"
   ]
  },
  {
   "cell_type": "code",
   "execution_count": 9,
   "metadata": {
    "collapsed": false
   },
   "outputs": [
    {
     "data": {
      "text/html": [
       "<div>\n",
       "<table border=\"1\" class=\"dataframe\">\n",
       "  <thead>\n",
       "    <tr style=\"text-align: right;\">\n",
       "      <th></th>\n",
       "      <th>start time</th>\n",
       "      <th>start time ISO</th>\n",
       "      <th>start time timezone</th>\n",
       "      <th>start time offset</th>\n",
       "      <th>end time</th>\n",
       "      <th>end time ISO</th>\n",
       "      <th>end time timezone</th>\n",
       "      <th>end time offset</th>\n",
       "      <th>light mins</th>\n",
       "      <th>deep mins</th>\n",
       "      <th>...</th>\n",
       "      <th>toss turns</th>\n",
       "      <th>type</th>\n",
       "      <th>actual seconds</th>\n",
       "      <th>calories</th>\n",
       "      <th>heart rate avg</th>\n",
       "      <th>heart rate min</th>\n",
       "      <th>heart rate max</th>\n",
       "      <th>state</th>\n",
       "      <th>version</th>\n",
       "      <th>id</th>\n",
       "    </tr>\n",
       "  </thead>\n",
       "  <tbody>\n",
       "    <tr>\n",
       "      <th>0</th>\n",
       "      <td>2016-05-03 06:42:37</td>\n",
       "      <td>2016-05-03T06:42:37Z</td>\n",
       "      <td>America/New_York</td>\n",
       "      <td>-240</td>\n",
       "      <td>2016-05-03 07:39:37</td>\n",
       "      <td>2016-05-03T07:39:37Z</td>\n",
       "      <td>America/New_York</td>\n",
       "      <td>-240</td>\n",
       "      <td>56</td>\n",
       "      <td>0</td>\n",
       "      <td>...</td>\n",
       "      <td>0</td>\n",
       "      <td>sleep</td>\n",
       "      <td>3420</td>\n",
       "      <td>65.300003</td>\n",
       "      <td>59.01646</td>\n",
       "      <td>NaN</td>\n",
       "      <td>NaN</td>\n",
       "      <td>complete</td>\n",
       "      <td>2</td>\n",
       "      <td>sleep__2016-05-03T064237</td>\n",
       "    </tr>\n",
       "  </tbody>\n",
       "</table>\n",
       "<p>1 rows × 24 columns</p>\n",
       "</div>"
      ],
      "text/plain": [
       "            start time        start time ISO start time timezone  \\\n",
       "0  2016-05-03 06:42:37  2016-05-03T06:42:37Z    America/New_York   \n",
       "\n",
       "   start time offset             end time          end time ISO  \\\n",
       "0               -240  2016-05-03 07:39:37  2016-05-03T07:39:37Z   \n",
       "\n",
       "  end time timezone  end time offset  light mins  deep mins  \\\n",
       "0  America/New_York             -240          56          0   \n",
       "\n",
       "             ...             toss turns   type  actual seconds   calories  \\\n",
       "0            ...                      0  sleep            3420  65.300003   \n",
       "\n",
       "   heart rate avg heart rate min  heart rate max     state  version  \\\n",
       "0        59.01646            NaN             NaN  complete        2   \n",
       "\n",
       "                         id  \n",
       "0  sleep__2016-05-03T064237  \n",
       "\n",
       "[1 rows x 24 columns]"
      ]
     },
     "execution_count": 9,
     "metadata": {},
     "output_type": "execute_result"
    }
   ],
   "source": [
    "barbSleep = loadMetricData('barbComp', \"sleep\")\n",
    "barbSleep.tail(5)"
   ]
  },
  {
   "cell_type": "code",
   "execution_count": 10,
   "metadata": {
    "collapsed": false
   },
   "outputs": [
    {
     "data": {
      "text/plain": [
       "start time              object\n",
       "start time ISO          object\n",
       "start time timezone     object\n",
       "start time offset      float64\n",
       "end time                object\n",
       "end time ISO            object\n",
       "end time timezone       object\n",
       "end time offset        float64\n",
       "light mins             float64\n",
       "deep mins              float64\n",
       "rem mins               float64\n",
       "interruption mins      float64\n",
       "unknown mins           float64\n",
       "interruptions          float64\n",
       "toss turns             float64\n",
       "type                    object\n",
       "actual seconds         float64\n",
       "calories               float64\n",
       "heart rate avg         float64\n",
       "heart rate min         float64\n",
       "heart rate max         float64\n",
       "state                   object\n",
       "version                float64\n",
       "id                      object\n",
       "dtype: object"
      ]
     },
     "execution_count": 10,
     "metadata": {},
     "output_type": "execute_result"
    }
   ],
   "source": [
    "barbSleep.dtypes"
   ]
  },
  {
   "cell_type": "code",
   "execution_count": 11,
   "metadata": {
    "collapsed": false
   },
   "outputs": [
    {
     "data": {
      "text/html": [
       "<div>\n",
       "<table border=\"1\" class=\"dataframe\">\n",
       "  <thead>\n",
       "    <tr style=\"text-align: right;\">\n",
       "      <th></th>\n",
       "      <th>starttime</th>\n",
       "      <th>endtime</th>\n",
       "      <th>date</th>\n",
       "      <th>start</th>\n",
       "      <th>end</th>\n",
       "      <th>activity</th>\n",
       "      <th>location</th>\n",
       "      <th>generalemo</th>\n",
       "      <th>qualitative</th>\n",
       "      <th>excited</th>\n",
       "      <th>happy</th>\n",
       "      <th>calm</th>\n",
       "      <th>anxious</th>\n",
       "      <th>sad</th>\n",
       "      <th>angry</th>\n",
       "      <th>hungry</th>\n",
       "      <th>tired</th>\n",
       "      <th>bored</th>\n",
       "    </tr>\n",
       "  </thead>\n",
       "  <tbody>\n",
       "    <tr>\n",
       "      <th>113</th>\n",
       "      <td>5/2/16 7:15</td>\n",
       "      <td>5/2/16 8:15</td>\n",
       "      <td>5/2/16</td>\n",
       "      <td>7:15 AM</td>\n",
       "      <td>8:15 AM</td>\n",
       "      <td>Train Commute</td>\n",
       "      <td>NaN</td>\n",
       "      <td>NaN</td>\n",
       "      <td>NaN</td>\n",
       "      <td>NaN</td>\n",
       "      <td>NaN</td>\n",
       "      <td>6</td>\n",
       "      <td>NaN</td>\n",
       "      <td>NaN</td>\n",
       "      <td>NaN</td>\n",
       "      <td>NaN</td>\n",
       "      <td>NaN</td>\n",
       "      <td>NaN</td>\n",
       "    </tr>\n",
       "    <tr>\n",
       "      <th>114</th>\n",
       "      <td>5/2/16 8:15</td>\n",
       "      <td>5/2/16 9:30</td>\n",
       "      <td>5/2/16</td>\n",
       "      <td>8:15 AM</td>\n",
       "      <td>9:30 AM</td>\n",
       "      <td>setting up computers</td>\n",
       "      <td>work</td>\n",
       "      <td>NaN</td>\n",
       "      <td>NaN</td>\n",
       "      <td>NaN</td>\n",
       "      <td>NaN</td>\n",
       "      <td>NaN</td>\n",
       "      <td>8</td>\n",
       "      <td>NaN</td>\n",
       "      <td>NaN</td>\n",
       "      <td>NaN</td>\n",
       "      <td>NaN</td>\n",
       "      <td>NaN</td>\n",
       "    </tr>\n",
       "    <tr>\n",
       "      <th>115</th>\n",
       "      <td>5/2/16 9:30</td>\n",
       "      <td>5/2/16 11:13</td>\n",
       "      <td>5/2/16</td>\n",
       "      <td>9:30 AM</td>\n",
       "      <td>11:13 AM</td>\n",
       "      <td>Class and setting up computers</td>\n",
       "      <td>work</td>\n",
       "      <td>NaN</td>\n",
       "      <td>NaN</td>\n",
       "      <td>NaN</td>\n",
       "      <td>NaN</td>\n",
       "      <td>NaN</td>\n",
       "      <td>6</td>\n",
       "      <td>6</td>\n",
       "      <td>NaN</td>\n",
       "      <td>NaN</td>\n",
       "      <td>NaN</td>\n",
       "      <td>NaN</td>\n",
       "    </tr>\n",
       "    <tr>\n",
       "      <th>116</th>\n",
       "      <td>5/2/16 11:13</td>\n",
       "      <td>5/2/16 12:00</td>\n",
       "      <td>5/2/16</td>\n",
       "      <td>11:13 AM</td>\n",
       "      <td>12:00 PM</td>\n",
       "      <td>Work</td>\n",
       "      <td>work</td>\n",
       "      <td>NaN</td>\n",
       "      <td>NaN</td>\n",
       "      <td>NaN</td>\n",
       "      <td>NaN</td>\n",
       "      <td>NaN</td>\n",
       "      <td>NaN</td>\n",
       "      <td>NaN</td>\n",
       "      <td>NaN</td>\n",
       "      <td>NaN</td>\n",
       "      <td>NaN</td>\n",
       "      <td>NaN</td>\n",
       "    </tr>\n",
       "    <tr>\n",
       "      <th>117</th>\n",
       "      <td>5/2/16 12:00</td>\n",
       "      <td>5/2/16 13:18</td>\n",
       "      <td>5/2/16</td>\n",
       "      <td>12:00 PM</td>\n",
       "      <td>1:18 PM</td>\n",
       "      <td>meeting with anne</td>\n",
       "      <td>work</td>\n",
       "      <td>NaN</td>\n",
       "      <td>NaN</td>\n",
       "      <td>NaN</td>\n",
       "      <td>NaN</td>\n",
       "      <td>NaN</td>\n",
       "      <td>NaN</td>\n",
       "      <td>NaN</td>\n",
       "      <td>NaN</td>\n",
       "      <td>NaN</td>\n",
       "      <td>NaN</td>\n",
       "      <td>NaN</td>\n",
       "    </tr>\n",
       "  </tbody>\n",
       "</table>\n",
       "</div>"
      ],
      "text/plain": [
       "        starttime       endtime    date     start       end  \\\n",
       "113   5/2/16 7:15   5/2/16 8:15  5/2/16   7:15 AM   8:15 AM   \n",
       "114   5/2/16 8:15   5/2/16 9:30  5/2/16   8:15 AM   9:30 AM   \n",
       "115   5/2/16 9:30  5/2/16 11:13  5/2/16   9:30 AM  11:13 AM   \n",
       "116  5/2/16 11:13  5/2/16 12:00  5/2/16  11:13 AM  12:00 PM   \n",
       "117  5/2/16 12:00  5/2/16 13:18  5/2/16  12:00 PM   1:18 PM   \n",
       "\n",
       "                           activity location generalemo  qualitative  excited  \\\n",
       "113                   Train Commute      NaN        NaN          NaN      NaN   \n",
       "114            setting up computers     work        NaN          NaN      NaN   \n",
       "115  Class and setting up computers     work        NaN          NaN      NaN   \n",
       "116                            Work     work        NaN          NaN      NaN   \n",
       "117               meeting with anne     work        NaN          NaN      NaN   \n",
       "\n",
       "     happy  calm  anxious  sad  angry  hungry  tired  bored  \n",
       "113    NaN     6      NaN  NaN    NaN     NaN    NaN    NaN  \n",
       "114    NaN   NaN        8  NaN    NaN     NaN    NaN    NaN  \n",
       "115    NaN   NaN        6    6    NaN     NaN    NaN    NaN  \n",
       "116    NaN   NaN      NaN  NaN    NaN     NaN    NaN    NaN  \n",
       "117    NaN   NaN      NaN  NaN    NaN     NaN    NaN    NaN  "
      ]
     },
     "execution_count": 11,
     "metadata": {},
     "output_type": "execute_result"
    }
   ],
   "source": [
    "barbJournal = loadMetricData('barbComp', \"journal\")\n",
    "barbJournal.tail(5)"
   ]
  },
  {
   "cell_type": "code",
   "execution_count": 12,
   "metadata": {
    "collapsed": false
   },
   "outputs": [
    {
     "data": {
      "text/plain": [
       "starttime       object\n",
       "endtime         object\n",
       "date            object\n",
       "start           object\n",
       "end             object\n",
       "activity        object\n",
       "location        object\n",
       "generalemo      object\n",
       "qualitative    float64\n",
       "excited        float64\n",
       "happy          float64\n",
       "calm           float64\n",
       "anxious        float64\n",
       "sad            float64\n",
       "angry          float64\n",
       "hungry         float64\n",
       "tired          float64\n",
       "bored          float64\n",
       "dtype: object"
      ]
     },
     "execution_count": 12,
     "metadata": {},
     "output_type": "execute_result"
    }
   ],
   "source": [
    "barbJournal.dtypes"
   ]
  },
  {
   "cell_type": "code",
   "execution_count": 13,
   "metadata": {
    "collapsed": false,
    "scrolled": true
   },
   "outputs": [
    {
     "name": "stdout",
     "output_type": "stream",
     "text": [
      "(118, 18)\n"
     ]
    },
    {
     "data": {
      "text/html": [
       "<div>\n",
       "<table border=\"1\" class=\"dataframe\">\n",
       "  <thead>\n",
       "    <tr style=\"text-align: right;\">\n",
       "      <th></th>\n",
       "      <th>starttime</th>\n",
       "      <th>endtime</th>\n",
       "      <th>date</th>\n",
       "      <th>start</th>\n",
       "      <th>end</th>\n",
       "      <th>activity</th>\n",
       "      <th>location</th>\n",
       "      <th>generalemo</th>\n",
       "      <th>qualitative</th>\n",
       "      <th>excited</th>\n",
       "      <th>happy</th>\n",
       "      <th>calm</th>\n",
       "      <th>anxious</th>\n",
       "      <th>sad</th>\n",
       "      <th>angry</th>\n",
       "      <th>hungry</th>\n",
       "      <th>tired</th>\n",
       "      <th>bored</th>\n",
       "    </tr>\n",
       "  </thead>\n",
       "  <tbody>\n",
       "    <tr>\n",
       "      <th>0</th>\n",
       "      <td>2016-04-26 09:28:00</td>\n",
       "      <td>2016-04-26 09:33:00</td>\n",
       "      <td>4/26/16</td>\n",
       "      <td>9:28 AM</td>\n",
       "      <td>9:33 AM</td>\n",
       "      <td>setting up basis, drinking coffee, listening t...</td>\n",
       "      <td>work</td>\n",
       "      <td>Calm</td>\n",
       "      <td>0</td>\n",
       "      <td>1</td>\n",
       "      <td>2</td>\n",
       "      <td>6</td>\n",
       "      <td>0</td>\n",
       "      <td>0</td>\n",
       "      <td>0</td>\n",
       "      <td>0</td>\n",
       "      <td>2</td>\n",
       "      <td>1</td>\n",
       "    </tr>\n",
       "    <tr>\n",
       "      <th>1</th>\n",
       "      <td>2016-04-26 09:33:00</td>\n",
       "      <td>2016-04-26 10:02:00</td>\n",
       "      <td>4/26/16</td>\n",
       "      <td>9:33 AM</td>\n",
       "      <td>10:02 AM</td>\n",
       "      <td>listening to 80's pop, going through work email</td>\n",
       "      <td>work</td>\n",
       "      <td>Calm</td>\n",
       "      <td>0</td>\n",
       "      <td>0</td>\n",
       "      <td>2</td>\n",
       "      <td>6</td>\n",
       "      <td>0</td>\n",
       "      <td>0</td>\n",
       "      <td>0</td>\n",
       "      <td>0</td>\n",
       "      <td>2</td>\n",
       "      <td>0</td>\n",
       "    </tr>\n",
       "    <tr>\n",
       "      <th>2</th>\n",
       "      <td>2016-04-26 10:02:00</td>\n",
       "      <td>2016-04-26 10:25:00</td>\n",
       "      <td>4/26/16</td>\n",
       "      <td>10:02 AM</td>\n",
       "      <td>10:25 AM</td>\n",
       "      <td>meeting with student</td>\n",
       "      <td>work</td>\n",
       "      <td>Calm</td>\n",
       "      <td>0</td>\n",
       "      <td>0</td>\n",
       "      <td>0</td>\n",
       "      <td>6</td>\n",
       "      <td>0</td>\n",
       "      <td>0</td>\n",
       "      <td>0</td>\n",
       "      <td>0</td>\n",
       "      <td>4</td>\n",
       "      <td>0</td>\n",
       "    </tr>\n",
       "    <tr>\n",
       "      <th>3</th>\n",
       "      <td>2016-04-26 10:25:00</td>\n",
       "      <td>2016-04-26 10:35:00</td>\n",
       "      <td>4/26/16</td>\n",
       "      <td>10:25 AM</td>\n",
       "      <td>10:35 AM</td>\n",
       "      <td>meeting with mick</td>\n",
       "      <td>work</td>\n",
       "      <td>Calm</td>\n",
       "      <td>0</td>\n",
       "      <td>0</td>\n",
       "      <td>0</td>\n",
       "      <td>6</td>\n",
       "      <td>0</td>\n",
       "      <td>0</td>\n",
       "      <td>0</td>\n",
       "      <td>0</td>\n",
       "      <td>4</td>\n",
       "      <td>0</td>\n",
       "    </tr>\n",
       "    <tr>\n",
       "      <th>4</th>\n",
       "      <td>2016-04-26 10:35:00</td>\n",
       "      <td>2016-04-26 10:45:00</td>\n",
       "      <td>4/26/16</td>\n",
       "      <td>10:35 AM</td>\n",
       "      <td>10:45 AM</td>\n",
       "      <td>meeting with student</td>\n",
       "      <td>school</td>\n",
       "      <td>Calm</td>\n",
       "      <td>0</td>\n",
       "      <td>0</td>\n",
       "      <td>0</td>\n",
       "      <td>6</td>\n",
       "      <td>0</td>\n",
       "      <td>0</td>\n",
       "      <td>0</td>\n",
       "      <td>0</td>\n",
       "      <td>4</td>\n",
       "      <td>0</td>\n",
       "    </tr>\n",
       "  </tbody>\n",
       "</table>\n",
       "</div>"
      ],
      "text/plain": [
       "            starttime             endtime     date     start       end  \\\n",
       "0 2016-04-26 09:28:00 2016-04-26 09:33:00  4/26/16   9:28 AM   9:33 AM   \n",
       "1 2016-04-26 09:33:00 2016-04-26 10:02:00  4/26/16   9:33 AM  10:02 AM   \n",
       "2 2016-04-26 10:02:00 2016-04-26 10:25:00  4/26/16  10:02 AM  10:25 AM   \n",
       "3 2016-04-26 10:25:00 2016-04-26 10:35:00  4/26/16  10:25 AM  10:35 AM   \n",
       "4 2016-04-26 10:35:00 2016-04-26 10:45:00  4/26/16  10:35 AM  10:45 AM   \n",
       "\n",
       "                                            activity location generalemo  \\\n",
       "0  setting up basis, drinking coffee, listening t...     work       Calm   \n",
       "1    listening to 80's pop, going through work email     work       Calm   \n",
       "2                               meeting with student     work       Calm   \n",
       "3                                  meeting with mick     work       Calm   \n",
       "4                               meeting with student   school       Calm   \n",
       "\n",
       "   qualitative  excited  happy  calm  anxious  sad  angry  hungry  tired  \\\n",
       "0            0        1      2     6        0    0      0       0      2   \n",
       "1            0        0      2     6        0    0      0       0      2   \n",
       "2            0        0      0     6        0    0      0       0      4   \n",
       "3            0        0      0     6        0    0      0       0      4   \n",
       "4            0        0      0     6        0    0      0       0      4   \n",
       "\n",
       "   bored  \n",
       "0      1  \n",
       "1      0  \n",
       "2      0  \n",
       "3      0  \n",
       "4      0  "
      ]
     },
     "execution_count": 13,
     "metadata": {},
     "output_type": "execute_result"
    }
   ],
   "source": [
    "# data= barbJournal.iloc[:0]\n",
    "# clean metric data\n",
    "barbJournal[\"starttime\"]= pd.to_datetime(barbJournal.starttime)\n",
    "\n",
    "# data= barbJournal.iloc[:1]\n",
    "barbJournal[\"endtime\"]= pd.to_datetime(barbJournal.endtime)\n",
    "\n",
    "\n",
    "# sarahJournal.qualitative = sarahJournal.qualitative.convert_objects(convert_numeric=True)\n",
    "# sarahJournal.excited = sarahJournal.excited.convert_objects(convert_numeric=True)\n",
    "# sarahJournal.happy = sarahJournal.happy.convert_objects(convert_numeric=True)\n",
    "\n",
    "barbJournal.qualitative = barbJournal.qualitative.fillna(0)\n",
    "barbJournal.excited = barbJournal.excited.fillna(0)\n",
    "barbJournal.happy = barbJournal.happy.fillna(0)\n",
    "barbJournal.calm = barbJournal.calm.fillna(0)\n",
    "barbJournal.anxious = barbJournal.anxious.fillna(0)\n",
    "barbJournal.sad = barbJournal.sad.fillna(0)\n",
    "barbJournal.angry = barbJournal.angry.fillna(0)\n",
    "barbJournal.hungry = barbJournal.hungry.fillna(0)\n",
    "barbJournal.tired = barbJournal.tired.fillna(0)\n",
    "barbJournal.bored = barbJournal.bored.fillna(0)\n",
    "\n",
    "print(barbJournal.shape)\n",
    "barbJournal.head(5)\n",
    "# barbJournal.tail(5)"
   ]
  },
  {
   "cell_type": "code",
   "execution_count": 14,
   "metadata": {
    "collapsed": false
   },
   "outputs": [
    {
     "data": {
      "text/html": [
       "<div>\n",
       "<table border=\"1\" class=\"dataframe\">\n",
       "  <thead>\n",
       "    <tr style=\"text-align: right;\">\n",
       "      <th></th>\n",
       "      <th>starttime</th>\n",
       "      <th>endtime</th>\n",
       "      <th>date</th>\n",
       "      <th>start</th>\n",
       "      <th>end</th>\n",
       "      <th>activity</th>\n",
       "      <th>location</th>\n",
       "      <th>generalemo</th>\n",
       "      <th>qualitative</th>\n",
       "      <th>excited</th>\n",
       "      <th>...</th>\n",
       "      <th>intbored</th>\n",
       "      <th>exercise</th>\n",
       "      <th>code</th>\n",
       "      <th>anne</th>\n",
       "      <th>will</th>\n",
       "      <th>mick</th>\n",
       "      <th>geyer</th>\n",
       "      <th>home</th>\n",
       "      <th>work</th>\n",
       "      <th>school</th>\n",
       "    </tr>\n",
       "  </thead>\n",
       "  <tbody>\n",
       "    <tr>\n",
       "      <th>0</th>\n",
       "      <td>2016-04-26 09:28:00</td>\n",
       "      <td>2016-04-26 09:33:00</td>\n",
       "      <td>4/26/16</td>\n",
       "      <td>9:28 AM</td>\n",
       "      <td>9:33 AM</td>\n",
       "      <td>setting up basis, drinking coffee, listening t...</td>\n",
       "      <td>work</td>\n",
       "      <td>Calm</td>\n",
       "      <td>0</td>\n",
       "      <td>1</td>\n",
       "      <td>...</td>\n",
       "      <td>0</td>\n",
       "      <td>False</td>\n",
       "      <td>False</td>\n",
       "      <td>False</td>\n",
       "      <td>False</td>\n",
       "      <td>False</td>\n",
       "      <td>False</td>\n",
       "      <td>False</td>\n",
       "      <td>True</td>\n",
       "      <td>False</td>\n",
       "    </tr>\n",
       "    <tr>\n",
       "      <th>1</th>\n",
       "      <td>2016-04-26 09:33:00</td>\n",
       "      <td>2016-04-26 10:02:00</td>\n",
       "      <td>4/26/16</td>\n",
       "      <td>9:33 AM</td>\n",
       "      <td>10:02 AM</td>\n",
       "      <td>listening to 80's pop, going through work email</td>\n",
       "      <td>work</td>\n",
       "      <td>Calm</td>\n",
       "      <td>0</td>\n",
       "      <td>0</td>\n",
       "      <td>...</td>\n",
       "      <td>0</td>\n",
       "      <td>False</td>\n",
       "      <td>False</td>\n",
       "      <td>False</td>\n",
       "      <td>False</td>\n",
       "      <td>False</td>\n",
       "      <td>False</td>\n",
       "      <td>False</td>\n",
       "      <td>True</td>\n",
       "      <td>False</td>\n",
       "    </tr>\n",
       "    <tr>\n",
       "      <th>2</th>\n",
       "      <td>2016-04-26 10:02:00</td>\n",
       "      <td>2016-04-26 10:25:00</td>\n",
       "      <td>4/26/16</td>\n",
       "      <td>10:02 AM</td>\n",
       "      <td>10:25 AM</td>\n",
       "      <td>meeting with student</td>\n",
       "      <td>work</td>\n",
       "      <td>Calm</td>\n",
       "      <td>0</td>\n",
       "      <td>0</td>\n",
       "      <td>...</td>\n",
       "      <td>0</td>\n",
       "      <td>False</td>\n",
       "      <td>False</td>\n",
       "      <td>False</td>\n",
       "      <td>False</td>\n",
       "      <td>False</td>\n",
       "      <td>False</td>\n",
       "      <td>False</td>\n",
       "      <td>True</td>\n",
       "      <td>False</td>\n",
       "    </tr>\n",
       "    <tr>\n",
       "      <th>3</th>\n",
       "      <td>2016-04-26 10:25:00</td>\n",
       "      <td>2016-04-26 10:35:00</td>\n",
       "      <td>4/26/16</td>\n",
       "      <td>10:25 AM</td>\n",
       "      <td>10:35 AM</td>\n",
       "      <td>meeting with mick</td>\n",
       "      <td>work</td>\n",
       "      <td>Calm</td>\n",
       "      <td>0</td>\n",
       "      <td>0</td>\n",
       "      <td>...</td>\n",
       "      <td>0</td>\n",
       "      <td>False</td>\n",
       "      <td>False</td>\n",
       "      <td>False</td>\n",
       "      <td>False</td>\n",
       "      <td>True</td>\n",
       "      <td>False</td>\n",
       "      <td>False</td>\n",
       "      <td>True</td>\n",
       "      <td>False</td>\n",
       "    </tr>\n",
       "    <tr>\n",
       "      <th>4</th>\n",
       "      <td>2016-04-26 10:35:00</td>\n",
       "      <td>2016-04-26 10:45:00</td>\n",
       "      <td>4/26/16</td>\n",
       "      <td>10:35 AM</td>\n",
       "      <td>10:45 AM</td>\n",
       "      <td>meeting with student</td>\n",
       "      <td>school</td>\n",
       "      <td>Calm</td>\n",
       "      <td>0</td>\n",
       "      <td>0</td>\n",
       "      <td>...</td>\n",
       "      <td>0</td>\n",
       "      <td>False</td>\n",
       "      <td>False</td>\n",
       "      <td>False</td>\n",
       "      <td>False</td>\n",
       "      <td>False</td>\n",
       "      <td>False</td>\n",
       "      <td>False</td>\n",
       "      <td>False</td>\n",
       "      <td>True</td>\n",
       "    </tr>\n",
       "  </tbody>\n",
       "</table>\n",
       "<p>5 rows × 45 columns</p>\n",
       "</div>"
      ],
      "text/plain": [
       "            starttime             endtime     date     start       end  \\\n",
       "0 2016-04-26 09:28:00 2016-04-26 09:33:00  4/26/16   9:28 AM   9:33 AM   \n",
       "1 2016-04-26 09:33:00 2016-04-26 10:02:00  4/26/16   9:33 AM  10:02 AM   \n",
       "2 2016-04-26 10:02:00 2016-04-26 10:25:00  4/26/16  10:02 AM  10:25 AM   \n",
       "3 2016-04-26 10:25:00 2016-04-26 10:35:00  4/26/16  10:25 AM  10:35 AM   \n",
       "4 2016-04-26 10:35:00 2016-04-26 10:45:00  4/26/16  10:35 AM  10:45 AM   \n",
       "\n",
       "                                            activity location generalemo  \\\n",
       "0  setting up basis, drinking coffee, listening t...     work       Calm   \n",
       "1    listening to 80's pop, going through work email     work       Calm   \n",
       "2                               meeting with student     work       Calm   \n",
       "3                                  meeting with mick     work       Calm   \n",
       "4                               meeting with student   school       Calm   \n",
       "\n",
       "   qualitative  excited  ...    intbored  exercise   code   anne   will  \\\n",
       "0            0        1  ...           0     False  False  False  False   \n",
       "1            0        0  ...           0     False  False  False  False   \n",
       "2            0        0  ...           0     False  False  False  False   \n",
       "3            0        0  ...           0     False  False  False  False   \n",
       "4            0        0  ...           0     False  False  False  False   \n",
       "\n",
       "    mick  geyer   home   work school  \n",
       "0  False  False  False   True  False  \n",
       "1  False  False  False   True  False  \n",
       "2  False  False  False   True  False  \n",
       "3   True  False  False   True  False  \n",
       "4  False  False  False  False   True  \n",
       "\n",
       "[5 rows x 45 columns]"
      ]
     },
     "execution_count": 14,
     "metadata": {},
     "output_type": "execute_result"
    }
   ],
   "source": [
    "\n",
    "barbJournal['boolexcited'] =  barbJournal['excited'] > 0\n",
    "barbJournal['boolhappy'] =  barbJournal['happy'] > 0\n",
    "barbJournal['boolcalm'] =  barbJournal['calm'] > 0\n",
    "barbJournal['boolanxious'] =  barbJournal['anxious'] > 0\n",
    "barbJournal['boolsad'] =  barbJournal['sad'] > 0\n",
    "barbJournal['boolangry'] =  barbJournal['angry'] > 0\n",
    "barbJournal['booltired'] =  barbJournal['tired'] > 0\n",
    "barbJournal['boolhungry'] =  barbJournal['hungry'] > 0\n",
    "barbJournal['boolbored'] =  barbJournal['bored'] > 0\n",
    "\n",
    "\n",
    "for i in range(0, barbJournal.shape[0]):\n",
    "#     barbJournal['intqual'] = int(barbJournal.iloc[i, 8])\n",
    "    barbJournal['intexcited'] = int(barbJournal.iloc[i, 9])\n",
    "    barbJournal['inthappy'] = int(barbJournal.iloc[i, 10]) \n",
    "    barbJournal['intcalm'] = int(barbJournal.iloc[i, 11])\n",
    "    barbJournal['intanxious'] = int(barbJournal.iloc[i, 12])\n",
    "    barbJournal['intsad'] = int(barbJournal.iloc[i, 13]) \n",
    "    barbJournal['intangry'] = int(barbJournal.iloc[i, 14]) \n",
    "    barbJournal['inttired'] = int(barbJournal.iloc[i, 15]) \n",
    "    barbJournal['inthungry'] = int(barbJournal.iloc[i, 16]) \n",
    "    barbJournal['intbored'] = int(barbJournal.iloc[i, 17]) \n",
    "    \n",
    "barbJournal['exercise'] = barbJournal['activity'].str.contains('exercise')\n",
    "barbJournal['code'] = barbJournal['activity'].str.contains('code')\n",
    "barbJournal['anne'] = barbJournal['activity'].str.contains('anne')\n",
    "barbJournal['will'] = barbJournal['activity'].str.contains('will')\n",
    "barbJournal['mick'] = barbJournal['activity'].str.contains('mick')\n",
    "barbJournal['geyer'] = barbJournal['activity'].str.contains('geyer')\n",
    "\n",
    "barbJournal['home'] = barbJournal['location'].str.contains('home')\n",
    "barbJournal['work'] = barbJournal['location'].str.contains(\"work\")\n",
    "barbJournal['school'] = barbJournal['location'].str.contains(\"school\")\n",
    "\n",
    "\n",
    "\n",
    "\n",
    "boolexcited = barbJournal.iloc[:, 18].values.reshape(barbJournal.shape[0], 1)\n",
    "boolhappy = barbJournal.iloc[:, 19].values.reshape(barbJournal.shape[0], 1)\n",
    "boolcalm = barbJournal.iloc[:, 20].values.reshape(barbJournal.shape[0], 1)\n",
    "boolanxious = barbJournal.iloc[:, 21].values.reshape(barbJournal.shape[0], 1)\n",
    "boolsad = barbJournal.iloc[:, 22].values.reshape(barbJournal.shape[0], 1)\n",
    "boolangry = barbJournal.iloc[:, 23].values.reshape(barbJournal.shape[0], 1)\n",
    "booltired = barbJournal.iloc[:, 24].values.reshape(barbJournal.shape[0], 1)\n",
    "boolhungry = barbJournal.iloc[:, 25].values.reshape(barbJournal.shape[0], 1)\n",
    "boolbored = barbJournal.iloc[:, 26].values.reshape(barbJournal.shape[0], 1)\n",
    "intexcited = barbJournal.iloc[:, 27].values.reshape(barbJournal.shape[0], 1)\n",
    "inthappy = barbJournal.iloc[:, 28].values.reshape(barbJournal.shape[0], 1)\n",
    "intcalm = barbJournal.iloc[:, 29].values.reshape(barbJournal.shape[0], 1)\n",
    "intanxious = barbJournal.iloc[:, 30].values.reshape(barbJournal.shape[0], 1)\n",
    "intsad = barbJournal.iloc[:, 31].values.reshape(barbJournal.shape[0], 1)\n",
    "intangry = barbJournal.iloc[:, 32].values.reshape(barbJournal.shape[0], 1)\n",
    "inttired = barbJournal.iloc[:, 33].values.reshape(barbJournal.shape[0], 1)\n",
    "inthungry = barbJournal.iloc[:, 34].values.reshape(barbJournal.shape[0], 1)\n",
    "intbored = barbJournal.iloc[:, 35].values.reshape(barbJournal.shape[0], 1)\n",
    "exercise = barbJournal.iloc[:, 36].values.reshape(barbJournal.shape[0], 1)\n",
    "code = barbJournal.iloc[:, 37].values.reshape(barbJournal.shape[0], 1)\n",
    "anne = barbJournal.iloc[:, 38].values.reshape(barbJournal.shape[0], 1)\n",
    "will = barbJournal.iloc[:, 39].values.reshape(barbJournal.shape[0], 1)\n",
    "mick = barbJournal.iloc[:, 40].values.reshape(barbJournal.shape[0], 1)\n",
    "geyer = barbJournal.iloc[:, 41].values.reshape(barbJournal.shape[0], 1)\n",
    "home = barbJournal.iloc[:, 42].values.reshape(barbJournal.shape[0], 1)\n",
    "work = barbJournal.iloc[:, 43].values.reshape(barbJournal.shape[0], 1)\n",
    "school = barbJournal.iloc[:, 44].values.reshape(barbJournal.shape[0], 1)\n",
    "\n",
    "barbJournal.head(5)"
   ]
  },
  {
   "cell_type": "code",
   "execution_count": 15,
   "metadata": {
    "collapsed": false
   },
   "outputs": [],
   "source": [
    "# barbJournal.dtypes"
   ]
  },
  {
   "cell_type": "code",
   "execution_count": 16,
   "metadata": {
    "collapsed": false
   },
   "outputs": [],
   "source": [
    "# barbJournal.excited.convert_objects(convert_numeric=True)"
   ]
  },
  {
   "cell_type": "code",
   "execution_count": 17,
   "metadata": {
    "collapsed": false
   },
   "outputs": [],
   "source": [
    "# function that takes any journal or activity data and creates indicators for activities or emotions\n",
    "\n",
    "def makeIndicators(newvar, metricData, journalData, journal_startdatetime_loc, journal_enddatetime_loc, journal_activity_loc):\n",
    "    '''\n",
    "    Create boolean indicator variable for activities or emotions\n",
    "    newvar, string for name of new indicator variable\n",
    "    activity, string that matches the name of the activity or emotion in the journalData data frame\n",
    "    bioData, data frame of input biometric data\n",
    "    journalData, data frame of input journal or activity data\n",
    "    journal_startdatetime_loc, int of position of the start datetime in journalData\n",
    "    journal_enddatetime_loc, int of position of the end datetime in journalData\n",
    "    journal_activity_loc, int of position of the activity or emotion in journalData\n",
    "    '''\n",
    "\n",
    "    metricData[newvar] = False\n",
    "\n",
    "    for i in range(0, journalData.shape[0]):\n",
    "        metricData['xlt'] = (metricData['timestamp'] >= pd.to_datetime(journalData.iloc[i, journal_startdatetime_loc]))\n",
    "        metricData['xgt'] = (metricData['timestamp'] <= pd.to_datetime(journalData.iloc[i, journal_enddatetime_loc]))\n",
    "#         metricData['xw'] = (journalData.iloc[i, journal_activity_loc])\n",
    "        metricData['xw'] = (journalData.iloc[i, journal_activity_loc] == True)\n",
    "        metricData['xsum'] = metricData['xlt'].astype(int) + metricData['xgt'].astype(int) + metricData['xw'].astype(int)\n",
    "        metricData.loc[metricData['xsum']==3, newvar] = True\n",
    "    \n",
    "    metricData = metricData.drop(['xlt', 'xgt', 'xw', 'xsum'], axis=1)\n",
    "    return metricData"
   ]
  },
  {
   "cell_type": "code",
   "execution_count": 18,
   "metadata": {
    "collapsed": false
   },
   "outputs": [],
   "source": [
    "# indicator for walking\n",
    "totalData = makeIndicators('excitement', barbMetrics, barbJournal, 0, 1, 18)\n",
    "totalData = makeIndicators('happy', barbMetrics, barbJournal, 0, 1, 19)\n",
    "totalData = makeIndicators('calm', barbMetrics, barbJournal, 0, 1, 20)\n",
    "totalData = makeIndicators('anxious', barbMetrics, barbJournal, 0, 1, 21)\n",
    "totalData = makeIndicators('sad', barbMetrics, barbJournal, 0, 1, 22)\n",
    "totalData = makeIndicators('angry', barbMetrics, barbJournal, 0, 1, 23)\n",
    "totalData = makeIndicators('hungry', barbMetrics, barbJournal, 0, 1, 24)\n",
    "totalData = makeIndicators('tired', barbMetrics, barbJournal, 0, 1, 25)\n",
    "totalData = makeIndicators('bored', barbMetrics, barbJournal, 0, 1, 26)\n",
    "\n",
    "totalData = makeIndicators('exercise', barbMetrics, barbJournal, 0, 1, 36)\n",
    "totalData = makeIndicators('code', barbMetrics, barbJournal, 0, 1, 37)\n",
    "totalData = makeIndicators('anne', barbMetrics, barbJournal, 0, 1, 38)\n",
    "totalData = makeIndicators('will', barbMetrics, barbJournal, 0, 1, 39)\n",
    "totalData = makeIndicators('mick', barbMetrics, barbJournal, 0, 1, 40)\n",
    "totalData = makeIndicators('geyer', barbMetrics, barbJournal, 0, 1, 41)\n",
    "totalData = makeIndicators('home', barbMetrics, barbJournal, 0, 1, 42)\n",
    "totalData = makeIndicators('work', barbMetrics, barbJournal, 0, 1, 43)\n",
    "totalData = makeIndicators('school', barbMetrics, barbJournal, 0, 1, 44)\n"
   ]
  },
  {
   "cell_type": "code",
   "execution_count": 19,
   "metadata": {
    "collapsed": false
   },
   "outputs": [
    {
     "name": "stdout",
     "output_type": "stream",
     "text": [
      "         heartrate        steps     calories          gsr     skintemp  \\\n",
      "count  8640.000000  8640.000000  8640.000000  8640.000000  8640.000000   \n",
      "mean      5.796065     0.834722     0.549975     0.000003     5.425810   \n",
      "std      21.923344     6.034856     0.828393     0.000013    20.735248   \n",
      "min       0.000000     0.000000     0.000000     0.000000     0.000000   \n",
      "25%       0.000000     0.000000     0.000000     0.000000     0.000000   \n",
      "50%       0.000000     0.000000     0.000000     0.000000     0.000000   \n",
      "75%       0.000000     0.000000     1.200000     0.000000     0.000000   \n",
      "max     152.000000   127.000000    10.100000     0.000065    88.700000   \n",
      "\n",
      "           airtemp   excitement      happy      calm   anxious    ...      \\\n",
      "count  8640.000000         8640       8640      8640      8640    ...       \n",
      "mean      5.261435  0.000694444  0.0665509  0.515162  0.366551    ...       \n",
      "std      20.108585    0.0263447   0.249257  0.499799   0.48189    ...       \n",
      "min       0.000000        False      False     False     False    ...       \n",
      "25%       0.000000            0          0         0         0    ...       \n",
      "50%       0.000000            0          0         1         0    ...       \n",
      "75%       0.000000            0          0         1         1    ...       \n",
      "max      86.000000         True       True      True      True    ...       \n",
      "\n",
      "             bored   exercise        code        anne   will        mick  \\\n",
      "count         8640       8640        8640        8640   8640        8640   \n",
      "mean   0.000694444  0.0136574  0.00173611  0.00914352      0  0.00127315   \n",
      "std      0.0263447   0.116071   0.0416329   0.0951891      0   0.0356605   \n",
      "min          False      False       False       False  False       False   \n",
      "25%              0          0           0           0      0           0   \n",
      "50%              0          0           0           0      0           0   \n",
      "75%              0          0           0           0      0           0   \n",
      "max           True       True        True        True  False        True   \n",
      "\n",
      "            geyer      home      work     school  \n",
      "count        8640      8640      8640       8640  \n",
      "mean   0.00763889  0.372917  0.257523  0.0717593  \n",
      "std     0.0870713  0.483608  0.437295   0.258104  \n",
      "min         False     False     False      False  \n",
      "25%             0         0         0          0  \n",
      "50%             0         0         0          0  \n",
      "75%             0         1         1          0  \n",
      "max          True      True      True       True  \n",
      "\n",
      "[8 rows x 24 columns]\n"
     ]
    }
   ],
   "source": [
    "print(totalData.describe())"
   ]
  },
  {
   "cell_type": "code",
   "execution_count": 20,
   "metadata": {
    "collapsed": false
   },
   "outputs": [
    {
     "name": "stdout",
     "output_type": "stream",
     "text": [
      "            timestamp  heartrate  steps  calories  gsr  skintemp  airtemp  \\\n",
      "0 2016-04-26 00:00:00          0      0       1.3    0         0        0   \n",
      "1 2016-04-26 00:01:00          0      0       1.1    0         0        0   \n",
      "2 2016-04-26 00:02:00          0      0       1.2    0         0        0   \n",
      "3 2016-04-26 00:03:00          0      0       1.1    0         0        0   \n",
      "4 2016-04-26 00:04:00          0      0       1.2    0         0        0   \n",
      "\n",
      "  excitement  happy   calm  ...    bored exercise   code   anne   will   mick  \\\n",
      "0      False  False  False  ...    False    False  False  False  False  False   \n",
      "1      False  False  False  ...    False    False  False  False  False  False   \n",
      "2      False  False  False  ...    False    False  False  False  False  False   \n",
      "3      False  False  False  ...    False    False  False  False  False  False   \n",
      "4      False  False  False  ...    False    False  False  False  False  False   \n",
      "\n",
      "   geyer   home   work school  \n",
      "0  False  False  False  False  \n",
      "1  False  False  False  False  \n",
      "2  False  False  False  False  \n",
      "3  False  False  False  False  \n",
      "4  False  False  False  False  \n",
      "\n",
      "[5 rows x 25 columns]\n"
     ]
    }
   ],
   "source": [
    "print(totalData.head())"
   ]
  },
  {
   "cell_type": "code",
   "execution_count": 21,
   "metadata": {
    "collapsed": false
   },
   "outputs": [],
   "source": [
    "totalData.to_csv('totsarah.csv')"
   ]
  },
  {
   "cell_type": "code",
   "execution_count": 22,
   "metadata": {
    "collapsed": false
   },
   "outputs": [
    {
     "data": {
      "text/html": [
       "<div>\n",
       "<table border=\"1\" class=\"dataframe\">\n",
       "  <thead>\n",
       "    <tr style=\"text-align: right;\">\n",
       "      <th></th>\n",
       "      <th>timestamp</th>\n",
       "      <th>heartrate</th>\n",
       "      <th>steps</th>\n",
       "      <th>calories</th>\n",
       "      <th>gsr</th>\n",
       "      <th>skintemp</th>\n",
       "      <th>airtemp</th>\n",
       "      <th>excitement</th>\n",
       "      <th>happy</th>\n",
       "      <th>calm</th>\n",
       "      <th>...</th>\n",
       "      <th>bored</th>\n",
       "      <th>exercise</th>\n",
       "      <th>code</th>\n",
       "      <th>anne</th>\n",
       "      <th>will</th>\n",
       "      <th>mick</th>\n",
       "      <th>geyer</th>\n",
       "      <th>home</th>\n",
       "      <th>work</th>\n",
       "      <th>school</th>\n",
       "    </tr>\n",
       "  </thead>\n",
       "  <tbody>\n",
       "    <tr>\n",
       "      <th>0</th>\n",
       "      <td>2016-04-26 00:00:00</td>\n",
       "      <td>0</td>\n",
       "      <td>0</td>\n",
       "      <td>1.3</td>\n",
       "      <td>0</td>\n",
       "      <td>0</td>\n",
       "      <td>0</td>\n",
       "      <td>False</td>\n",
       "      <td>False</td>\n",
       "      <td>False</td>\n",
       "      <td>...</td>\n",
       "      <td>False</td>\n",
       "      <td>False</td>\n",
       "      <td>False</td>\n",
       "      <td>False</td>\n",
       "      <td>False</td>\n",
       "      <td>False</td>\n",
       "      <td>False</td>\n",
       "      <td>False</td>\n",
       "      <td>False</td>\n",
       "      <td>False</td>\n",
       "    </tr>\n",
       "    <tr>\n",
       "      <th>1</th>\n",
       "      <td>2016-04-26 00:01:00</td>\n",
       "      <td>0</td>\n",
       "      <td>0</td>\n",
       "      <td>1.1</td>\n",
       "      <td>0</td>\n",
       "      <td>0</td>\n",
       "      <td>0</td>\n",
       "      <td>False</td>\n",
       "      <td>False</td>\n",
       "      <td>False</td>\n",
       "      <td>...</td>\n",
       "      <td>False</td>\n",
       "      <td>False</td>\n",
       "      <td>False</td>\n",
       "      <td>False</td>\n",
       "      <td>False</td>\n",
       "      <td>False</td>\n",
       "      <td>False</td>\n",
       "      <td>False</td>\n",
       "      <td>False</td>\n",
       "      <td>False</td>\n",
       "    </tr>\n",
       "    <tr>\n",
       "      <th>2</th>\n",
       "      <td>2016-04-26 00:02:00</td>\n",
       "      <td>0</td>\n",
       "      <td>0</td>\n",
       "      <td>1.2</td>\n",
       "      <td>0</td>\n",
       "      <td>0</td>\n",
       "      <td>0</td>\n",
       "      <td>False</td>\n",
       "      <td>False</td>\n",
       "      <td>False</td>\n",
       "      <td>...</td>\n",
       "      <td>False</td>\n",
       "      <td>False</td>\n",
       "      <td>False</td>\n",
       "      <td>False</td>\n",
       "      <td>False</td>\n",
       "      <td>False</td>\n",
       "      <td>False</td>\n",
       "      <td>False</td>\n",
       "      <td>False</td>\n",
       "      <td>False</td>\n",
       "    </tr>\n",
       "    <tr>\n",
       "      <th>3</th>\n",
       "      <td>2016-04-26 00:03:00</td>\n",
       "      <td>0</td>\n",
       "      <td>0</td>\n",
       "      <td>1.1</td>\n",
       "      <td>0</td>\n",
       "      <td>0</td>\n",
       "      <td>0</td>\n",
       "      <td>False</td>\n",
       "      <td>False</td>\n",
       "      <td>False</td>\n",
       "      <td>...</td>\n",
       "      <td>False</td>\n",
       "      <td>False</td>\n",
       "      <td>False</td>\n",
       "      <td>False</td>\n",
       "      <td>False</td>\n",
       "      <td>False</td>\n",
       "      <td>False</td>\n",
       "      <td>False</td>\n",
       "      <td>False</td>\n",
       "      <td>False</td>\n",
       "    </tr>\n",
       "    <tr>\n",
       "      <th>4</th>\n",
       "      <td>2016-04-26 00:04:00</td>\n",
       "      <td>0</td>\n",
       "      <td>0</td>\n",
       "      <td>1.2</td>\n",
       "      <td>0</td>\n",
       "      <td>0</td>\n",
       "      <td>0</td>\n",
       "      <td>False</td>\n",
       "      <td>False</td>\n",
       "      <td>False</td>\n",
       "      <td>...</td>\n",
       "      <td>False</td>\n",
       "      <td>False</td>\n",
       "      <td>False</td>\n",
       "      <td>False</td>\n",
       "      <td>False</td>\n",
       "      <td>False</td>\n",
       "      <td>False</td>\n",
       "      <td>False</td>\n",
       "      <td>False</td>\n",
       "      <td>False</td>\n",
       "    </tr>\n",
       "  </tbody>\n",
       "</table>\n",
       "<p>5 rows × 25 columns</p>\n",
       "</div>"
      ],
      "text/plain": [
       "            timestamp  heartrate  steps  calories  gsr  skintemp  airtemp  \\\n",
       "0 2016-04-26 00:00:00          0      0       1.3    0         0        0   \n",
       "1 2016-04-26 00:01:00          0      0       1.1    0         0        0   \n",
       "2 2016-04-26 00:02:00          0      0       1.2    0         0        0   \n",
       "3 2016-04-26 00:03:00          0      0       1.1    0         0        0   \n",
       "4 2016-04-26 00:04:00          0      0       1.2    0         0        0   \n",
       "\n",
       "  excitement  happy   calm  ...    bored exercise   code   anne   will   mick  \\\n",
       "0      False  False  False  ...    False    False  False  False  False  False   \n",
       "1      False  False  False  ...    False    False  False  False  False  False   \n",
       "2      False  False  False  ...    False    False  False  False  False  False   \n",
       "3      False  False  False  ...    False    False  False  False  False  False   \n",
       "4      False  False  False  ...    False    False  False  False  False  False   \n",
       "\n",
       "   geyer   home   work school  \n",
       "0  False  False  False  False  \n",
       "1  False  False  False  False  \n",
       "2  False  False  False  False  \n",
       "3  False  False  False  False  \n",
       "4  False  False  False  False  \n",
       "\n",
       "[5 rows x 25 columns]"
      ]
     },
     "execution_count": 22,
     "metadata": {},
     "output_type": "execute_result"
    }
   ],
   "source": [
    "totalData.head(5)"
   ]
  },
  {
   "cell_type": "code",
   "execution_count": 23,
   "metadata": {
    "collapsed": false
   },
   "outputs": [
    {
     "name": "stdout",
     "output_type": "stream",
     "text": [
      "(8640, 29)\n",
      "            timestamp  heartrate  steps  calories  gsr  skintemp  airtemp  \\\n",
      "0 2016-04-26 00:00:00          0      0       1.3    0         0        0   \n",
      "1 2016-04-26 00:01:00          0      0       1.1    0         0        0   \n",
      "2 2016-04-26 00:02:00          0      0       1.2    0         0        0   \n",
      "3 2016-04-26 00:03:00          0      0       1.1    0         0        0   \n",
      "4 2016-04-26 00:04:00          0      0       1.2    0         0        0   \n",
      "\n",
      "  excitement  happy   calm ...   will   mick  geyer   home   work school  \\\n",
      "0      False  False  False ...  False  False  False  False  False  False   \n",
      "1      False  False  False ...  False  False  False  False  False  False   \n",
      "2      False  False  False ...  False  False  False  False  False  False   \n",
      "3      False  False  False ...  False  False  False  False  False  False   \n",
      "4      False  False  False ...  False  False  False  False  False  False   \n",
      "\n",
      "  weekday month hour min  \n",
      "0       1     4    0   0  \n",
      "1       1     4    0   1  \n",
      "2       1     4    0   2  \n",
      "3       1     4    0   3  \n",
      "4       1     4    0   4  \n",
      "\n",
      "[5 rows x 29 columns]\n"
     ]
    }
   ],
   "source": [
    "# find day of week (0-6, Mon-Sun)\n",
    "totalData['weekday'] = totalData['timestamp'].dt.weekday\n",
    "totalData['month'] = totalData['timestamp'].dt.month\n",
    "totalData['hour'] = totalData['timestamp'].dt.hour\n",
    "totalData['min'] = totalData['timestamp'].dt.minute\n",
    "\n",
    "\n",
    "print(totalData.shape)\n",
    "print(totalData.head(5))"
   ]
  },
  {
   "cell_type": "code",
   "execution_count": 24,
   "metadata": {
    "collapsed": false
   },
   "outputs": [],
   "source": [
    "heartrate = totalData.iloc[:, 1].values.reshape(totalData.shape[0], 1)\n",
    "steps = totalData.iloc[:, 2].values.reshape(totalData.shape[0], 1)\n",
    "calories = totalData.iloc[:, 3].values.reshape(totalData.shape[0], 1)\n",
    "gsr = totalData.iloc[:, 4].values.reshape(totalData.shape[0], 1)\n",
    "skintemp = totalData.iloc[:, 5].values.reshape(totalData.shape[0], 1)\n",
    "airtemp = totalData.iloc[:, 6].values.reshape(totalData.shape[0], 1)\n",
    "# activity = totalData.iloc[:, 17].values.reshape(totalData.shape[0], 1)\n",
    "exercise = totalData.iloc[:, 17].values.reshape(totalData.shape[0], 1)\n",
    "code = totalData.iloc[:, 18].values.reshape(totalData.shape[0], 1)\n",
    "anne = totalData.iloc[:, 19].values.reshape(totalData.shape[0], 1)\n",
    "will = totalData.iloc[:, 20].values.reshape(totalData.shape[0], 1)\n",
    "mick = totalData.iloc[:, 21].values.reshape(totalData.shape[0], 1)\n",
    "geyer = totalData.iloc[:, 22].values.reshape(totalData.shape[0], 1)\n",
    "home = totalData.iloc[:, 23].values.reshape(totalData.shape[0], 1)\n",
    "work = totalData.iloc[:, 24].values.reshape(totalData.shape[0], 1)\n",
    "school = totalData.iloc[:, 25].values.reshape(totalData.shape[0], 1)\n",
    "# DayOfWeek = totalData.iloc[:, 25].values.reshape(totalData.shape[0], 1)\n",
    "# Month = totalData.iloc[:, 26].values.reshape(totalData.shape[0], 1)\n",
    "weekday = totalData.iloc[:, 26].values.reshape(totalData.shape[0], 1)\n",
    "# month = totalData.iloc[:, 29].values.reshape(totalData.shape[0], 1)\n",
    "hour = totalData.iloc[:, 27].values.reshape(totalData.shape[0], 1)\n",
    "curmin = totalData.iloc[:, 28].values.reshape(totalData.shape[0], 1)"
   ]
  },
  {
   "cell_type": "code",
   "execution_count": 25,
   "metadata": {
    "collapsed": false
   },
   "outputs": [
    {
     "data": {
      "text/plain": [
       "(8640, 18)"
      ]
     },
     "execution_count": 25,
     "metadata": {},
     "output_type": "execute_result"
    }
   ],
   "source": [
    "# concatenate to numpy dataset\n",
    "X = np.concatenate((\n",
    "        heartrate, \n",
    "        steps, \n",
    "        calories, \n",
    "        gsr, \n",
    "        skintemp, \n",
    "        airtemp, \n",
    "        exercise, \n",
    "        code, \n",
    "        anne, \n",
    "        will, \n",
    "        mick, \n",
    "        geyer, \n",
    "        home, \n",
    "        work, \n",
    "        school,\n",
    "        weekday, \n",
    "        hour, \n",
    "        curmin\n",
    "    ), axis=1)\n",
    "\n",
    "X.shape"
   ]
  },
  {
   "cell_type": "code",
   "execution_count": 26,
   "metadata": {
    "collapsed": false
   },
   "outputs": [
    {
     "data": {
      "text/plain": [
       "(8640,)"
      ]
     },
     "execution_count": 26,
     "metadata": {},
     "output_type": "execute_result"
    }
   ],
   "source": [
    "# define y\n",
    "y = totalData.excitement.values\n",
    "y.shape"
   ]
  },
  {
   "cell_type": "code",
   "execution_count": 27,
   "metadata": {
    "collapsed": true
   },
   "outputs": [],
   "source": [
    "# create training and test sets\n",
    "from sklearn.cross_validation import train_test_split\n",
    "\n",
    "X_train, X_test, y_train, y_test = train_test_split(\n",
    "         X, y, test_size=0.3, random_state=0)"
   ]
  },
  {
   "cell_type": "code",
   "execution_count": 28,
   "metadata": {
    "collapsed": true
   },
   "outputs": [],
   "source": [
    "# feature scaling\n",
    "from sklearn.preprocessing import StandardScaler\n",
    "sc = StandardScaler(with_mean=False)\n",
    "sc.fit(X_train)\n",
    "X_train_std = sc.transform(X_train)\n",
    "X_test_std = sc.transform(X_test)"
   ]
  },
  {
   "cell_type": "code",
   "execution_count": 29,
   "metadata": {
    "collapsed": true
   },
   "outputs": [],
   "source": [
    "# report on training and test sets\n",
    "global SVMerror, SVMacc, SVMtp, SVMtn, LRerror, LRacc, LRtp, LRtn, NBerror, NBacc, NBtp, NBtn, Perror, Pacc, Ptp, Ptn\n",
    "\n",
    "\n",
    "\n",
    "def print_results(model):\n",
    "    #print('Error rate on training set: ')\n",
    "    erTRAIN = ((y_train != y_pred).sum() / X_train.shape[0])\n",
    "    #print('Accuracy rate on training set: ')\n",
    "    AccTRAIN = (1 - (y_train != y_pred).sum() / X_train.shape[0])\n",
    "    #print('True positive rate on training tet:')\n",
    "    TruPosTRAIN = ((y_train==True) & (y_pred==True)).sum() / y_train.sum()\n",
    "    #TruNegTEST = (((y_train==False) & (y_pred_train==False)).sum() / (y_train.shape[0] - y_train.sum()))\n",
    "    #print('**************')\n",
    "    #('Error rate on test set: ')\n",
    "    erTEST = ((y_test != y_pred_test).sum() / X_test.shape[0])\n",
    "    #print('Accuracy rate on test set: ')\n",
    "    AccTEST = (1 - (y_test != y_pred_test).sum() / X_test.shape[0])\n",
    "    #print('True positive rate on test set')\n",
    "    TruPosTEST = (((y_test==True) & (y_pred_test==True)).sum() / y_test.sum())\n",
    "    #print('True negative rate on test set')\n",
    "    TruNegTEST = (((y_test==False) & (y_pred_test==False)).sum() / (y_test.shape[0] - y_test.sum()))\n",
    "    data_rows = [('Error Rate', erTRAIN, erTEST),\n",
    "                 ('Accuracy Rate', AccTRAIN, AccTEST),\n",
    "                 ('True Positives', TruPosTRAIN, TruPosTEST),\n",
    "                 ('True Negatives', '--', TruNegTEST)]\n",
    "    t = Table(rows=data_rows, names=(model, 'Training Set', 'Test Set'), meta={'name': model + ': Training and Test Set Results'})\n",
    "    print(t)\n",
    "    if model == 'SVM':\n",
    "        SVMerror = erTEST\n",
    "        SVMacc = AccTEST\n",
    "        SVMtp = TruPosTEST\n",
    "        SVMtn = TruNegTEST\n",
    "        return(SVMerror, SVMacc, SVMtp, SVMtn)\n",
    "    elif model == 'Logistic Regression':\n",
    "        LRerror = erTEST\n",
    "        LRacc = AccTEST\n",
    "        LRtp = TruPosTEST\n",
    "        LRtn = TruNegTEST\n",
    "        return(LRerror, LRacc, LRtp, LRtn)\n",
    "    elif model == 'Naive Bayes':\n",
    "        NBerror = erTEST\n",
    "        NBacc = AccTEST\n",
    "        NBtp = TruPosTEST\n",
    "        NBtn = TruNegTEST\n",
    "        return(NBerror, NBacc, NBtp, NBtn)\n",
    "    elif model == 'Perceptron':\n",
    "        Perror = erTEST\n",
    "        Pacc = AccTEST\n",
    "        Ptp = TruPosTEST\n",
    "        Ptn = TruNegTEST\n",
    "        return(Perror, Pacc, Ptp, Ptn)\n",
    "    print('done')\n",
    "      \n",
    "    #t.show_in_browser(jsviewer=True) \n",
    "    \n",
    "    \n",
    "def all_models_table():\n",
    "    all_rows = [('SVM', SVMerror, SVMacc, SVMtp, SVMtn),\n",
    "            ('Logistic Regression', LRerror, LRacc, LRtp, LRtn),\n",
    "            ('Naive Bayes', NBerror, NBacc, NBtp, NBtn),\n",
    "            ('Perceptron', Perror, Pacc, Ptp, Ptn)]\n",
    "    tt = Table(rows=all_rows, names=('', 'Error Rate', 'Accuracy', 'True +', 'True -'), meta={'3/15/2016'})\n",
    "    print(tt)"
   ]
  },
  {
   "cell_type": "markdown",
   "metadata": {},
   "source": [
    "# Excited Model Results"
   ]
  },
  {
   "cell_type": "code",
   "execution_count": 30,
   "metadata": {
    "collapsed": false
   },
   "outputs": [
    {
     "name": "stdout",
     "output_type": "stream",
     "text": [
      "     SVM         Training Set        Test Set    \n",
      "-------------- ---------------- -----------------\n",
      "    Error Rate 0.00082671957672 0.000385802469136\n",
      " Accuracy Rate   0.999173280423    0.999614197531\n",
      "True Positives              0.0               0.0\n",
      "True Negatives               --               1.0\n"
     ]
    },
    {
     "data": {
      "text/plain": [
       "(0.00038580246913580245, 0.99961419753086422, 0.0, 1.0)"
      ]
     },
     "execution_count": 30,
     "metadata": {},
     "output_type": "execute_result"
    }
   ],
   "source": [
    "# MODEL: SVM, linear\n",
    "from sklearn import linear_model\n",
    "clf = linear_model.SGDClassifier()\n",
    "clf.fit(X_train_std, y_train)\n",
    "y_pred = clf.fit(X_train_std, y_train).predict(X_train_std)\n",
    "y_pred_test = clf.predict(X_test_std)\n",
    "print_results('SVM')"
   ]
  },
  {
   "cell_type": "code",
   "execution_count": 31,
   "metadata": {
    "collapsed": false
   },
   "outputs": [
    {
     "name": "stdout",
     "output_type": "stream",
     "text": [
      "Logistic Regression   Training Set        Test Set    \n",
      "------------------- ---------------- -----------------\n",
      "         Error Rate 0.00082671957672 0.000385802469136\n",
      "      Accuracy Rate   0.999173280423    0.999614197531\n",
      "     True Positives              0.0               0.0\n",
      "     True Negatives               --               1.0\n"
     ]
    },
    {
     "data": {
      "text/plain": [
       "(0.00038580246913580245, 0.99961419753086422, 0.0, 1.0)"
      ]
     },
     "execution_count": 31,
     "metadata": {},
     "output_type": "execute_result"
    }
   ],
   "source": [
    "# MODEL: logistic regression\n",
    "from sklearn import linear_model\n",
    "clf = linear_model.SGDClassifier(loss='log', n_iter=50, alpha=0.00001)\n",
    "clf.fit(X_train_std, y_train)\n",
    "y_pred = clf.fit(X_train_std, y_train).predict(X_train_std)\n",
    "y_pred_test = clf.predict(X_test_std)\n",
    "print_results('Logistic Regression')"
   ]
  },
  {
   "cell_type": "code",
   "execution_count": 32,
   "metadata": {
    "collapsed": false
   },
   "outputs": [
    {
     "name": "stdout",
     "output_type": "stream",
     "text": [
      " Naive Bayes     Training Set      Test Set   \n",
      "-------------- --------------- ---------------\n",
      "    Error Rate 0.0209986772487 0.0204475308642\n",
      " Accuracy Rate  0.979001322751  0.979552469136\n",
      "True Positives             0.0             0.0\n",
      "True Negatives              --  0.979930528753\n"
     ]
    },
    {
     "data": {
      "text/plain": [
       "(0.020447530864197531, 0.97955246913580252, 0.0, 0.97993052875337705)"
      ]
     },
     "execution_count": 32,
     "metadata": {},
     "output_type": "execute_result"
    }
   ],
   "source": [
    "# MODEL: Naive Bayes\n",
    "from sklearn.naive_bayes import MultinomialNB\n",
    "clf = MultinomialNB()\n",
    "clf.fit(X_train_std, y_train)\n",
    "y_pred = clf.fit(X_train_std, y_train).predict(X_train_std)\n",
    "y_pred_test = clf.predict(X_test_std)\n",
    "print_results('Naive Bayes')"
   ]
  },
  {
   "cell_type": "code",
   "execution_count": 33,
   "metadata": {
    "collapsed": false
   },
   "outputs": [
    {
     "name": "stdout",
     "output_type": "stream",
     "text": [
      "  Perceptron     Training Set        Test Set    \n",
      "-------------- ---------------- -----------------\n",
      "    Error Rate 0.00082671957672 0.000385802469136\n",
      " Accuracy Rate   0.999173280423    0.999614197531\n",
      "True Positives              0.0               0.0\n",
      "True Negatives               --               1.0\n"
     ]
    },
    {
     "data": {
      "text/plain": [
       "(0.00038580246913580245, 0.99961419753086422, 0.0, 1.0)"
      ]
     },
     "execution_count": 33,
     "metadata": {},
     "output_type": "execute_result"
    }
   ],
   "source": [
    "# Perceptron\n",
    "from sklearn import linear_model\n",
    "clf = linear_model.SGDClassifier(loss='perceptron')\n",
    "clf.fit(X_train_std, y_train)\n",
    "y_pred = clf.fit(X_train_std, y_train).predict(X_train_std)\n",
    "y_pred_test = clf.predict(X_test_std)\n",
    "print_results('Perceptron')"
   ]
  },
  {
   "cell_type": "code",
   "execution_count": 34,
   "metadata": {
    "collapsed": false
   },
   "outputs": [
    {
     "data": {
      "text/plain": [
       "(8640,)"
      ]
     },
     "execution_count": 34,
     "metadata": {},
     "output_type": "execute_result"
    }
   ],
   "source": [
    "# define y\n",
    "y = totalData.happy.values\n",
    "y.shape"
   ]
  },
  {
   "cell_type": "code",
   "execution_count": 35,
   "metadata": {
    "collapsed": true
   },
   "outputs": [],
   "source": [
    "# create training and test sets\n",
    "from sklearn.cross_validation import train_test_split\n",
    "\n",
    "X_train, X_test, y_train, y_test = train_test_split(\n",
    "         X, y, test_size=0.3, random_state=0)"
   ]
  },
  {
   "cell_type": "code",
   "execution_count": 36,
   "metadata": {
    "collapsed": true
   },
   "outputs": [],
   "source": [
    "# feature scaling\n",
    "from sklearn.preprocessing import StandardScaler\n",
    "sc = StandardScaler(with_mean=False)\n",
    "sc.fit(X_train)\n",
    "X_train_std = sc.transform(X_train)\n",
    "X_test_std = sc.transform(X_test)"
   ]
  },
  {
   "cell_type": "markdown",
   "metadata": {},
   "source": [
    "# Happy Model Results"
   ]
  },
  {
   "cell_type": "code",
   "execution_count": 37,
   "metadata": {
    "collapsed": false
   },
   "outputs": [
    {
     "name": "stdout",
     "output_type": "stream",
     "text": [
      "     SVM         Training Set      Test Set   \n",
      "-------------- --------------- ---------------\n",
      "    Error Rate 0.0749007936508 0.0733024691358\n",
      " Accuracy Rate  0.925099206349  0.926697530864\n",
      "True Positives  0.630071599045  0.621794871795\n",
      "True Negatives              --  0.946223316913\n"
     ]
    },
    {
     "data": {
      "text/plain": [
       "(0.073302469135802475,\n",
       " 0.92669753086419748,\n",
       " 0.62179487179487181,\n",
       " 0.94622331691297212)"
      ]
     },
     "execution_count": 37,
     "metadata": {},
     "output_type": "execute_result"
    }
   ],
   "source": [
    "# MODEL: SVM, linear\n",
    "from sklearn import linear_model\n",
    "clf = linear_model.SGDClassifier()\n",
    "clf.fit(X_train_std, y_train)\n",
    "y_pred = clf.fit(X_train_std, y_train).predict(X_train_std)\n",
    "y_pred_test = clf.predict(X_test_std)\n",
    "print_results('SVM')"
   ]
  },
  {
   "cell_type": "code",
   "execution_count": 38,
   "metadata": {
    "collapsed": false
   },
   "outputs": [
    {
     "name": "stdout",
     "output_type": "stream",
     "text": [
      "Logistic Regression   Training Set      Test Set   \n",
      "------------------- --------------- ---------------\n",
      "         Error Rate 0.0692791005291 0.0601851851852\n",
      "      Accuracy Rate  0.930720899471  0.939814814815\n",
      "     True Positives             0.0             0.0\n",
      "     True Negatives              --             1.0\n"
     ]
    },
    {
     "data": {
      "text/plain": [
       "(0.060185185185185182, 0.93981481481481477, 0.0, 1.0)"
      ]
     },
     "execution_count": 38,
     "metadata": {},
     "output_type": "execute_result"
    }
   ],
   "source": [
    "# MODEL: logistic regression\n",
    "from sklearn import linear_model\n",
    "clf = linear_model.SGDClassifier(loss='log', n_iter=50, alpha=0.00001)\n",
    "clf.fit(X_train_std, y_train)\n",
    "y_pred = clf.fit(X_train_std, y_train).predict(X_train_std)\n",
    "y_pred_test = clf.predict(X_test_std)\n",
    "print_results('Logistic Regression')"
   ]
  },
  {
   "cell_type": "code",
   "execution_count": 39,
   "metadata": {
    "collapsed": false
   },
   "outputs": [
    {
     "name": "stdout",
     "output_type": "stream",
     "text": [
      " Naive Bayes    Training Set     Test Set   \n",
      "-------------- -------------- --------------\n",
      "    Error Rate 0.196263227513 0.185185185185\n",
      " Accuracy Rate 0.803736772487 0.814814814815\n",
      "True Positives 0.658711217184 0.634615384615\n",
      "True Negatives             -- 0.826354679803\n"
     ]
    },
    {
     "data": {
      "text/plain": [
       "(0.18518518518518517,\n",
       " 0.81481481481481488,\n",
       " 0.63461538461538458,\n",
       " 0.82635467980295563)"
      ]
     },
     "execution_count": 39,
     "metadata": {},
     "output_type": "execute_result"
    }
   ],
   "source": [
    "# MODEL: Naive Bayes\n",
    "from sklearn.naive_bayes import MultinomialNB\n",
    "clf = MultinomialNB()\n",
    "clf.fit(X_train_std, y_train)\n",
    "y_pred = clf.fit(X_train_std, y_train).predict(X_train_std)\n",
    "y_pred_test = clf.predict(X_test_std)\n",
    "print_results('Naive Bayes')"
   ]
  },
  {
   "cell_type": "code",
   "execution_count": 40,
   "metadata": {
    "collapsed": false
   },
   "outputs": [
    {
     "name": "stdout",
     "output_type": "stream",
     "text": [
      "  Perceptron     Training Set      Test Set   \n",
      "-------------- --------------- ---------------\n",
      "    Error Rate 0.0694444444444 0.0605709876543\n",
      " Accuracy Rate  0.930555555556  0.939429012346\n",
      "True Positives             0.0             0.0\n",
      "True Negatives              --  0.999589490969\n"
     ]
    },
    {
     "data": {
      "text/plain": [
       "(0.060570987654320986, 0.93942901234567899, 0.0, 0.99958949096880134)"
      ]
     },
     "execution_count": 40,
     "metadata": {},
     "output_type": "execute_result"
    }
   ],
   "source": [
    "# Perceptron\n",
    "from sklearn import linear_model\n",
    "clf = linear_model.SGDClassifier(loss='perceptron')\n",
    "clf.fit(X_train_std, y_train)\n",
    "y_pred = clf.fit(X_train_std, y_train).predict(X_train_std)\n",
    "y_pred_test = clf.predict(X_test_std)\n",
    "print_results('Perceptron')"
   ]
  },
  {
   "cell_type": "code",
   "execution_count": 41,
   "metadata": {
    "collapsed": false
   },
   "outputs": [
    {
     "data": {
      "text/plain": [
       "(8640,)"
      ]
     },
     "execution_count": 41,
     "metadata": {},
     "output_type": "execute_result"
    }
   ],
   "source": [
    "# define y\n",
    "y = totalData.calm.values\n",
    "y.shape"
   ]
  },
  {
   "cell_type": "code",
   "execution_count": 42,
   "metadata": {
    "collapsed": true
   },
   "outputs": [],
   "source": [
    "# create training and test sets\n",
    "from sklearn.cross_validation import train_test_split\n",
    "\n",
    "X_train, X_test, y_train, y_test = train_test_split(\n",
    "         X, y, test_size=0.3, random_state=0)"
   ]
  },
  {
   "cell_type": "code",
   "execution_count": 43,
   "metadata": {
    "collapsed": true
   },
   "outputs": [],
   "source": [
    "# feature scaling\n",
    "from sklearn.preprocessing import StandardScaler\n",
    "sc = StandardScaler(with_mean=False)\n",
    "sc.fit(X_train)\n",
    "X_train_std = sc.transform(X_train)\n",
    "X_test_std = sc.transform(X_test)"
   ]
  },
  {
   "cell_type": "markdown",
   "metadata": {},
   "source": [
    "# Calm Model Results"
   ]
  },
  {
   "cell_type": "code",
   "execution_count": 44,
   "metadata": {
    "collapsed": false
   },
   "outputs": [
    {
     "name": "stdout",
     "output_type": "stream",
     "text": [
      "     SVM        Training Set     Test Set   \n",
      "-------------- -------------- --------------\n",
      "    Error Rate 0.304232804233 0.295910493827\n",
      " Accuracy Rate 0.695767195767 0.704089506173\n",
      "True Positives  0.49166132136 0.512378094524\n",
      "True Negatives             -- 0.907069102462\n"
     ]
    },
    {
     "data": {
      "text/plain": [
       "(0.2959104938271605,\n",
       " 0.7040895061728395,\n",
       " 0.51237809452363092,\n",
       " 0.90706910246227168)"
      ]
     },
     "execution_count": 44,
     "metadata": {},
     "output_type": "execute_result"
    }
   ],
   "source": [
    "# MODEL: SVM, linear\n",
    "from sklearn import linear_model\n",
    "clf = linear_model.SGDClassifier()\n",
    "clf.fit(X_train_std, y_train)\n",
    "y_pred = clf.fit(X_train_std, y_train).predict(X_train_std)\n",
    "y_pred_test = clf.predict(X_test_std)\n",
    "print_results('SVM')"
   ]
  },
  {
   "cell_type": "code",
   "execution_count": 45,
   "metadata": {
    "collapsed": false
   },
   "outputs": [
    {
     "name": "stdout",
     "output_type": "stream",
     "text": [
      "Logistic Regression  Training Set     Test Set   \n",
      "------------------- -------------- --------------\n",
      "         Error Rate 0.282738095238        0.28125\n",
      "      Accuracy Rate 0.717261904762        0.71875\n",
      "     True Positives 0.644644002566 0.642160540135\n",
      "     True Negatives             -- 0.799841143765\n"
     ]
    },
    {
     "data": {
      "text/plain": [
       "(0.28125, 0.71875, 0.64216054013503376, 0.79984114376489279)"
      ]
     },
     "execution_count": 45,
     "metadata": {},
     "output_type": "execute_result"
    }
   ],
   "source": [
    "# MODEL: logistic regression\n",
    "from sklearn import linear_model\n",
    "clf = linear_model.SGDClassifier(loss='log', n_iter=50, alpha=0.00001)\n",
    "clf.fit(X_train_std, y_train)\n",
    "y_pred = clf.fit(X_train_std, y_train).predict(X_train_std)\n",
    "y_pred_test = clf.predict(X_test_std)\n",
    "print_results('Logistic Regression')"
   ]
  },
  {
   "cell_type": "code",
   "execution_count": 46,
   "metadata": {
    "collapsed": false
   },
   "outputs": [
    {
     "name": "stdout",
     "output_type": "stream",
     "text": [
      " Naive Bayes    Training Set     Test Set   \n",
      "-------------- -------------- --------------\n",
      "    Error Rate 0.408399470899 0.410108024691\n",
      " Accuracy Rate 0.591600529101 0.589891975309\n",
      "True Positives 0.910198845414 0.903225806452\n",
      "True Negatives             -- 0.258141382049\n"
     ]
    },
    {
     "data": {
      "text/plain": [
       "(0.41010802469135804,\n",
       " 0.58989197530864201,\n",
       " 0.90322580645161288,\n",
       " 0.25814138204924542)"
      ]
     },
     "execution_count": 46,
     "metadata": {},
     "output_type": "execute_result"
    }
   ],
   "source": [
    "# MODEL: Naive Bayes\n",
    "from sklearn.naive_bayes import MultinomialNB\n",
    "clf = MultinomialNB()\n",
    "clf.fit(X_train_std, y_train)\n",
    "y_pred = clf.fit(X_train_std, y_train).predict(X_train_std)\n",
    "y_pred_test = clf.predict(X_test_std)\n",
    "print_results('Naive Bayes')"
   ]
  },
  {
   "cell_type": "code",
   "execution_count": 47,
   "metadata": {
    "collapsed": false
   },
   "outputs": [
    {
     "name": "stdout",
     "output_type": "stream",
     "text": [
      "  Perceptron    Training Set     Test Set   \n",
      "-------------- -------------- --------------\n",
      "    Error Rate 0.309193121693 0.314043209877\n",
      " Accuracy Rate 0.690806878307 0.685956790123\n",
      "True Positives 0.481077613855 0.479369842461\n",
      "True Negatives             -- 0.904686258936\n"
     ]
    },
    {
     "data": {
      "text/plain": [
       "(0.31404320987654322,\n",
       " 0.68595679012345678,\n",
       " 0.47936984246061515,\n",
       " 0.90468625893566323)"
      ]
     },
     "execution_count": 47,
     "metadata": {},
     "output_type": "execute_result"
    }
   ],
   "source": [
    "# Perceptron\n",
    "from sklearn import linear_model\n",
    "clf = linear_model.SGDClassifier(loss='perceptron')\n",
    "clf.fit(X_train_std, y_train)\n",
    "y_pred = clf.fit(X_train_std, y_train).predict(X_train_std)\n",
    "y_pred_test = clf.predict(X_test_std)\n",
    "print_results('Perceptron')"
   ]
  },
  {
   "cell_type": "code",
   "execution_count": 48,
   "metadata": {
    "collapsed": false
   },
   "outputs": [
    {
     "data": {
      "text/plain": [
       "(8640,)"
      ]
     },
     "execution_count": 48,
     "metadata": {},
     "output_type": "execute_result"
    }
   ],
   "source": [
    "# define y\n",
    "y = totalData.anxious.values\n",
    "y.shape"
   ]
  },
  {
   "cell_type": "code",
   "execution_count": 49,
   "metadata": {
    "collapsed": true
   },
   "outputs": [],
   "source": [
    "# create training and test sets\n",
    "from sklearn.cross_validation import train_test_split\n",
    "\n",
    "X_train, X_test, y_train, y_test = train_test_split(\n",
    "         X, y, test_size=0.3, random_state=0)"
   ]
  },
  {
   "cell_type": "code",
   "execution_count": 50,
   "metadata": {
    "collapsed": true
   },
   "outputs": [],
   "source": [
    "# feature scaling\n",
    "from sklearn.preprocessing import StandardScaler\n",
    "sc = StandardScaler(with_mean=False)\n",
    "sc.fit(X_train)\n",
    "X_train_std = sc.transform(X_train)\n",
    "X_test_std = sc.transform(X_test)"
   ]
  },
  {
   "cell_type": "markdown",
   "metadata": {},
   "source": [
    "# Anxious Model Results"
   ]
  },
  {
   "cell_type": "code",
   "execution_count": 51,
   "metadata": {
    "collapsed": false
   },
   "outputs": [
    {
     "name": "stdout",
     "output_type": "stream",
     "text": [
      "     SVM        Training Set     Test Set   \n",
      "-------------- -------------- --------------\n",
      "    Error Rate 0.317791005291 0.318287037037\n",
      " Accuracy Rate 0.682208994709 0.681712962963\n",
      "True Positives 0.528172240037 0.521341463415\n",
      "True Negatives             -- 0.779850746269\n"
     ]
    },
    {
     "data": {
      "text/plain": [
       "(0.31828703703703703,\n",
       " 0.68171296296296302,\n",
       " 0.52134146341463417,\n",
       " 0.77985074626865669)"
      ]
     },
     "execution_count": 51,
     "metadata": {},
     "output_type": "execute_result"
    }
   ],
   "source": [
    "# MODEL: SVM, linear\n",
    "from sklearn import linear_model\n",
    "clf = linear_model.SGDClassifier()\n",
    "clf.fit(X_train_std, y_train)\n",
    "y_pred = clf.fit(X_train_std, y_train).predict(X_train_std)\n",
    "y_pred_test = clf.predict(X_test_std)\n",
    "print_results('SVM')"
   ]
  },
  {
   "cell_type": "code",
   "execution_count": 52,
   "metadata": {
    "collapsed": false
   },
   "outputs": [
    {
     "name": "stdout",
     "output_type": "stream",
     "text": [
      "Logistic Regression  Training Set     Test Set   \n",
      "------------------- -------------- --------------\n",
      "         Error Rate 0.279265873016 0.288966049383\n",
      "      Accuracy Rate 0.720734126984 0.711033950617\n",
      "     True Positives 0.426935409986 0.417682926829\n",
      "     True Negatives             -- 0.890547263682\n"
     ]
    },
    {
     "data": {
      "text/plain": [
       "(0.28896604938271603,\n",
       " 0.71103395061728403,\n",
       " 0.41768292682926828,\n",
       " 0.89054726368159209)"
      ]
     },
     "execution_count": 52,
     "metadata": {},
     "output_type": "execute_result"
    }
   ],
   "source": [
    "# MODEL: logistic regression\n",
    "from sklearn import linear_model\n",
    "clf = linear_model.SGDClassifier(loss='log', n_iter=50, alpha=0.00001)\n",
    "clf.fit(X_train_std, y_train)\n",
    "y_pred = clf.fit(X_train_std, y_train).predict(X_train_std)\n",
    "y_pred_test = clf.predict(X_test_std)\n",
    "print_results('Logistic Regression')"
   ]
  },
  {
   "cell_type": "code",
   "execution_count": 53,
   "metadata": {
    "collapsed": false
   },
   "outputs": [
    {
     "name": "stdout",
     "output_type": "stream",
     "text": [
      " Naive Bayes    Training Set     Test Set   \n",
      "-------------- -------------- --------------\n",
      "    Error Rate 0.395006613757 0.361882716049\n",
      " Accuracy Rate 0.604993386243 0.638117283951\n",
      "True Positives 0.957398076042 0.960365853659\n",
      "True Negatives             --  0.44092039801\n"
     ]
    },
    {
     "data": {
      "text/plain": [
       "(0.36188271604938271,\n",
       " 0.63811728395061729,\n",
       " 0.96036585365853655,\n",
       " 0.44092039800995025)"
      ]
     },
     "execution_count": 53,
     "metadata": {},
     "output_type": "execute_result"
    }
   ],
   "source": [
    "# MODEL: Naive Bayes\n",
    "from sklearn.naive_bayes import MultinomialNB\n",
    "clf = MultinomialNB()\n",
    "clf.fit(X_train_std, y_train)\n",
    "y_pred = clf.fit(X_train_std, y_train).predict(X_train_std)\n",
    "y_pred_test = clf.predict(X_test_std)\n",
    "print_results('Naive Bayes')"
   ]
  },
  {
   "cell_type": "code",
   "execution_count": 54,
   "metadata": {
    "collapsed": false
   },
   "outputs": [
    {
     "name": "stdout",
     "output_type": "stream",
     "text": [
      "  Perceptron    Training Set     Test Set   \n",
      "-------------- -------------- --------------\n",
      "    Error Rate 0.349041005291 0.333333333333\n",
      " Accuracy Rate 0.650958994709 0.666666666667\n",
      "True Positives 0.922125515346  0.92581300813\n",
      "True Negatives             -- 0.508084577114\n"
     ]
    },
    {
     "data": {
      "text/plain": [
       "(0.33333333333333331,\n",
       " 0.66666666666666674,\n",
       " 0.92581300813008127,\n",
       " 0.50808457711442789)"
      ]
     },
     "execution_count": 54,
     "metadata": {},
     "output_type": "execute_result"
    }
   ],
   "source": [
    "# Perceptron\n",
    "from sklearn import linear_model\n",
    "clf = linear_model.SGDClassifier(loss='perceptron')\n",
    "clf.fit(X_train_std, y_train)\n",
    "y_pred = clf.fit(X_train_std, y_train).predict(X_train_std)\n",
    "y_pred_test = clf.predict(X_test_std)\n",
    "print_results('Perceptron')"
   ]
  },
  {
   "cell_type": "code",
   "execution_count": 55,
   "metadata": {
    "collapsed": false
   },
   "outputs": [
    {
     "data": {
      "text/plain": [
       "(8640,)"
      ]
     },
     "execution_count": 55,
     "metadata": {},
     "output_type": "execute_result"
    }
   ],
   "source": [
    "# define y\n",
    "y = totalData.sad.values\n",
    "y.shape"
   ]
  },
  {
   "cell_type": "code",
   "execution_count": 56,
   "metadata": {
    "collapsed": true
   },
   "outputs": [],
   "source": [
    "# create training and test sets\n",
    "from sklearn.cross_validation import train_test_split\n",
    "\n",
    "X_train, X_test, y_train, y_test = train_test_split(\n",
    "         X, y, test_size=0.3, random_state=0)"
   ]
  },
  {
   "cell_type": "code",
   "execution_count": 57,
   "metadata": {
    "collapsed": true
   },
   "outputs": [],
   "source": [
    "# feature scaling\n",
    "from sklearn.preprocessing import StandardScaler\n",
    "sc = StandardScaler(with_mean=False)\n",
    "sc.fit(X_train)\n",
    "X_train_std = sc.transform(X_train)\n",
    "X_test_std = sc.transform(X_test)"
   ]
  },
  {
   "cell_type": "markdown",
   "metadata": {},
   "source": [
    "# Sad Model Values"
   ]
  },
  {
   "cell_type": "code",
   "execution_count": 58,
   "metadata": {
    "collapsed": false
   },
   "outputs": [
    {
     "name": "stdout",
     "output_type": "stream",
     "text": [
      "     SVM        Training Set     Test Set   \n",
      "-------------- -------------- --------------\n",
      "    Error Rate 0.128141534392 0.125385802469\n",
      " Accuracy Rate 0.871858465608 0.874614197531\n",
      "True Positives            1.0            1.0\n",
      "True Negatives             -- 0.871541501976\n"
     ]
    },
    {
     "data": {
      "text/plain": [
       "(0.1253858024691358, 0.87461419753086422, 1.0, 0.87154150197628455)"
      ]
     },
     "execution_count": 58,
     "metadata": {},
     "output_type": "execute_result"
    }
   ],
   "source": [
    "# MODEL: SVM, linear\n",
    "from sklearn import linear_model\n",
    "clf = linear_model.SGDClassifier()\n",
    "clf.fit(X_train_std, y_train)\n",
    "y_pred = clf.fit(X_train_std, y_train).predict(X_train_std)\n",
    "y_pred_test = clf.predict(X_test_std)\n",
    "print_results('SVM')"
   ]
  },
  {
   "cell_type": "code",
   "execution_count": 59,
   "metadata": {
    "collapsed": false
   },
   "outputs": [
    {
     "name": "stdout",
     "output_type": "stream",
     "text": [
      "Logistic Regression   Training Set      Test Set   \n",
      "------------------- --------------- ---------------\n",
      "         Error Rate 0.0256283068783 0.0239197530864\n",
      "      Accuracy Rate  0.974371693122  0.976080246914\n",
      "     True Positives             0.0             0.0\n",
      "     True Negatives              --             1.0\n"
     ]
    },
    {
     "data": {
      "text/plain": [
       "(0.023919753086419752, 0.9760802469135802, 0.0, 1.0)"
      ]
     },
     "execution_count": 59,
     "metadata": {},
     "output_type": "execute_result"
    }
   ],
   "source": [
    "# MODEL: logistic regression\n",
    "from sklearn import linear_model\n",
    "clf = linear_model.SGDClassifier(loss='log', n_iter=50, alpha=0.00001)\n",
    "clf.fit(X_train_std, y_train)\n",
    "y_pred = clf.fit(X_train_std, y_train).predict(X_train_std)\n",
    "y_pred_test = clf.predict(X_test_std)\n",
    "print_results('Logistic Regression')"
   ]
  },
  {
   "cell_type": "code",
   "execution_count": 60,
   "metadata": {
    "collapsed": false
   },
   "outputs": [
    {
     "name": "stdout",
     "output_type": "stream",
     "text": [
      " Naive Bayes     Training Set      Test Set   \n",
      "-------------- --------------- ---------------\n",
      "    Error Rate 0.0256283068783 0.0239197530864\n",
      " Accuracy Rate  0.974371693122  0.976080246914\n",
      "True Positives             0.0             0.0\n",
      "True Negatives              --             1.0\n"
     ]
    },
    {
     "data": {
      "text/plain": [
       "(0.023919753086419752, 0.9760802469135802, 0.0, 1.0)"
      ]
     },
     "execution_count": 60,
     "metadata": {},
     "output_type": "execute_result"
    }
   ],
   "source": [
    "# MODEL: Naive Bayes\n",
    "from sklearn.naive_bayes import MultinomialNB\n",
    "clf = MultinomialNB()\n",
    "clf.fit(X_train_std, y_train)\n",
    "y_pred = clf.fit(X_train_std, y_train).predict(X_train_std)\n",
    "y_pred_test = clf.predict(X_test_std)\n",
    "print_results('Naive Bayes')"
   ]
  },
  {
   "cell_type": "code",
   "execution_count": 61,
   "metadata": {
    "collapsed": false
   },
   "outputs": [
    {
     "name": "stdout",
     "output_type": "stream",
     "text": [
      "  Perceptron     Training Set      Test Set   \n",
      "-------------- --------------- ---------------\n",
      "    Error Rate 0.0289351851852 0.0239197530864\n",
      " Accuracy Rate  0.971064814815  0.976080246914\n",
      "True Positives  0.438709677419  0.483870967742\n",
      "True Negatives              --   0.98814229249\n"
     ]
    },
    {
     "data": {
      "text/plain": [
       "(0.023919753086419752,\n",
       " 0.9760802469135802,\n",
       " 0.4838709677419355,\n",
       " 0.98814229249011853)"
      ]
     },
     "execution_count": 61,
     "metadata": {},
     "output_type": "execute_result"
    }
   ],
   "source": [
    "# Perceptron\n",
    "from sklearn import linear_model\n",
    "clf = linear_model.SGDClassifier(loss='perceptron')\n",
    "clf.fit(X_train_std, y_train)\n",
    "y_pred = clf.fit(X_train_std, y_train).predict(X_train_std)\n",
    "y_pred_test = clf.predict(X_test_std)\n",
    "print_results('Perceptron')"
   ]
  },
  {
   "cell_type": "code",
   "execution_count": 62,
   "metadata": {
    "collapsed": false
   },
   "outputs": [
    {
     "data": {
      "text/plain": [
       "(8640,)"
      ]
     },
     "execution_count": 62,
     "metadata": {},
     "output_type": "execute_result"
    }
   ],
   "source": [
    "# define y\n",
    "y = totalData.angry.values\n",
    "y.shape"
   ]
  },
  {
   "cell_type": "code",
   "execution_count": 63,
   "metadata": {
    "collapsed": true
   },
   "outputs": [],
   "source": [
    "# create training and test sets\n",
    "from sklearn.cross_validation import train_test_split\n",
    "\n",
    "X_train, X_test, y_train, y_test = train_test_split(\n",
    "         X, y, test_size=0.3, random_state=0)"
   ]
  },
  {
   "cell_type": "code",
   "execution_count": 64,
   "metadata": {
    "collapsed": true
   },
   "outputs": [],
   "source": [
    "# feature scaling\n",
    "from sklearn.preprocessing import StandardScaler\n",
    "sc = StandardScaler(with_mean=False)\n",
    "sc.fit(X_train)\n",
    "X_train_std = sc.transform(X_train)\n",
    "X_test_std = sc.transform(X_test)"
   ]
  },
  {
   "cell_type": "markdown",
   "metadata": {},
   "source": [
    "# Angry Model Results"
   ]
  },
  {
   "cell_type": "code",
   "execution_count": 65,
   "metadata": {
    "collapsed": false
   },
   "outputs": [
    {
     "name": "stdout",
     "output_type": "stream",
     "text": [
      "     SVM        Training Set     Test Set   \n",
      "-------------- -------------- --------------\n",
      "    Error Rate 0.212632275132 0.212191358025\n",
      " Accuracy Rate 0.787367724868 0.787808641975\n",
      "True Positives 0.281678773204 0.279383429672\n",
      "True Negatives             -- 0.915098890497\n"
     ]
    },
    {
     "data": {
      "text/plain": [
       "(0.21219135802469136,\n",
       " 0.78780864197530864,\n",
       " 0.279383429672447,\n",
       " 0.91509889049686444)"
      ]
     },
     "execution_count": 65,
     "metadata": {},
     "output_type": "execute_result"
    }
   ],
   "source": [
    "# MODEL: SVM, linear\n",
    "from sklearn import linear_model\n",
    "clf = linear_model.SGDClassifier()\n",
    "clf.fit(X_train_std, y_train)\n",
    "y_pred = clf.fit(X_train_std, y_train).predict(X_train_std)\n",
    "y_pred_test = clf.predict(X_test_std)\n",
    "print_results('SVM')"
   ]
  },
  {
   "cell_type": "code",
   "execution_count": 66,
   "metadata": {
    "collapsed": false
   },
   "outputs": [
    {
     "name": "stdout",
     "output_type": "stream",
     "text": [
      "Logistic Regression  Training Set     Test Set   \n",
      "------------------- -------------- --------------\n",
      "         Error Rate 0.136243386243 0.130015432099\n",
      "      Accuracy Rate 0.863756613757 0.869984567901\n",
      "     True Positives 0.682808716707  0.66859344894\n",
      "     True Negatives             -- 0.920405209841\n"
     ]
    },
    {
     "data": {
      "text/plain": [
       "(0.13001543209876543,\n",
       " 0.86998456790123457,\n",
       " 0.66859344894026973,\n",
       " 0.92040520984081042)"
      ]
     },
     "execution_count": 66,
     "metadata": {},
     "output_type": "execute_result"
    }
   ],
   "source": [
    "# MODEL: logistic regression\n",
    "from sklearn import linear_model\n",
    "clf = linear_model.SGDClassifier(loss='log', n_iter=50, alpha=0.00001)\n",
    "clf.fit(X_train_std, y_train)\n",
    "y_pred = clf.fit(X_train_std, y_train).predict(X_train_std)\n",
    "y_pred_test = clf.predict(X_test_std)\n",
    "print_results('Logistic Regression')"
   ]
  },
  {
   "cell_type": "code",
   "execution_count": 67,
   "metadata": {
    "collapsed": false
   },
   "outputs": [
    {
     "name": "stdout",
     "output_type": "stream",
     "text": [
      " Naive Bayes    Training Set     Test Set   \n",
      "-------------- -------------- --------------\n",
      "    Error Rate 0.210813492063 0.207175925926\n",
      " Accuracy Rate 0.789186507937 0.792824074074\n",
      "True Positives 0.627118644068 0.597302504817\n",
      "True Negatives             -- 0.841775205017\n"
     ]
    },
    {
     "data": {
      "text/plain": [
       "(0.20717592592592593,\n",
       " 0.79282407407407407,\n",
       " 0.59730250481695568,\n",
       " 0.84177520501688374)"
      ]
     },
     "execution_count": 67,
     "metadata": {},
     "output_type": "execute_result"
    }
   ],
   "source": [
    "# MODEL: Naive Bayes\n",
    "from sklearn.naive_bayes import MultinomialNB\n",
    "clf = MultinomialNB()\n",
    "clf.fit(X_train_std, y_train)\n",
    "y_pred = clf.fit(X_train_std, y_train).predict(X_train_std)\n",
    "y_pred_test = clf.predict(X_test_std)\n",
    "print_results('Naive Bayes')"
   ]
  },
  {
   "cell_type": "code",
   "execution_count": 68,
   "metadata": {
    "collapsed": false
   },
   "outputs": [
    {
     "name": "stdout",
     "output_type": "stream",
     "text": [
      "  Perceptron    Training Set      Test Set   \n",
      "-------------- -------------- ---------------\n",
      "    Error Rate 0.195271164021  0.191358024691\n",
      " Accuracy Rate 0.804728835979  0.808641975309\n",
      "True Positives 0.046811945117 0.0443159922929\n",
      "True Negatives             --             1.0\n"
     ]
    },
    {
     "data": {
      "text/plain": [
       "(0.19135802469135801, 0.80864197530864201, 0.044315992292870907, 1.0)"
      ]
     },
     "execution_count": 68,
     "metadata": {},
     "output_type": "execute_result"
    }
   ],
   "source": [
    "# Perceptron\n",
    "from sklearn import linear_model\n",
    "clf = linear_model.SGDClassifier(loss='perceptron')\n",
    "clf.fit(X_train_std, y_train)\n",
    "y_pred = clf.fit(X_train_std, y_train).predict(X_train_std)\n",
    "y_pred_test = clf.predict(X_test_std)\n",
    "print_results('Perceptron')"
   ]
  },
  {
   "cell_type": "code",
   "execution_count": 69,
   "metadata": {
    "collapsed": false
   },
   "outputs": [
    {
     "data": {
      "text/plain": [
       "(8640,)"
      ]
     },
     "execution_count": 69,
     "metadata": {},
     "output_type": "execute_result"
    }
   ],
   "source": [
    "# define y\n",
    "y = totalData.hungry.values\n",
    "y.shape"
   ]
  },
  {
   "cell_type": "code",
   "execution_count": 70,
   "metadata": {
    "collapsed": true
   },
   "outputs": [],
   "source": [
    "# create training and test sets\n",
    "from sklearn.cross_validation import train_test_split\n",
    "\n",
    "X_train, X_test, y_train, y_test = train_test_split(\n",
    "         X, y, test_size=0.3, random_state=0)"
   ]
  },
  {
   "cell_type": "code",
   "execution_count": 71,
   "metadata": {
    "collapsed": true
   },
   "outputs": [],
   "source": [
    "# feature scaling\n",
    "from sklearn.preprocessing import StandardScaler\n",
    "sc = StandardScaler(with_mean=False)\n",
    "sc.fit(X_train)\n",
    "X_train_std = sc.transform(X_train)\n",
    "X_test_std = sc.transform(X_test)"
   ]
  },
  {
   "cell_type": "markdown",
   "metadata": {},
   "source": [
    "# Hungry Model Results"
   ]
  },
  {
   "cell_type": "code",
   "execution_count": 72,
   "metadata": {
    "collapsed": false
   },
   "outputs": [
    {
     "name": "stdout",
     "output_type": "stream",
     "text": [
      "     SVM         Training Set       Test Set    \n",
      "-------------- ---------------- ----------------\n",
      "    Error Rate 0.00214947089947 0.00347222222222\n",
      " Accuracy Rate   0.997850529101   0.996527777778\n",
      "True Positives   0.979651162791   0.961538461538\n",
      "True Negatives               --    0.99837530463\n"
     ]
    },
    {
     "data": {
      "text/plain": [
       "(0.003472222222222222,\n",
       " 0.99652777777777779,\n",
       " 0.96153846153846156,\n",
       " 0.99837530463038182)"
      ]
     },
     "execution_count": 72,
     "metadata": {},
     "output_type": "execute_result"
    }
   ],
   "source": [
    "# MODEL: SVM, linear\n",
    "from sklearn import linear_model\n",
    "clf = linear_model.SGDClassifier()\n",
    "clf.fit(X_train_std, y_train)\n",
    "y_pred = clf.fit(X_train_std, y_train).predict(X_train_std)\n",
    "y_pred_test = clf.predict(X_test_std)\n",
    "print_results('SVM')"
   ]
  },
  {
   "cell_type": "code",
   "execution_count": 73,
   "metadata": {
    "collapsed": false
   },
   "outputs": [
    {
     "name": "stdout",
     "output_type": "stream",
     "text": [
      "Logistic Regression   Training Set       Test Set    \n",
      "------------------- ---------------- ----------------\n",
      "         Error Rate 0.00380291005291 0.00501543209877\n",
      "      Accuracy Rate   0.996197089947   0.994984567901\n",
      "     True Positives   0.976744186047   0.953846153846\n",
      "     True Negatives               --   0.997156783103\n"
     ]
    },
    {
     "data": {
      "text/plain": [
       "(0.0050154320987654318,\n",
       " 0.99498456790123457,\n",
       " 0.9538461538461539,\n",
       " 0.99715678310316813)"
      ]
     },
     "execution_count": 73,
     "metadata": {},
     "output_type": "execute_result"
    }
   ],
   "source": [
    "# MODEL: logistic regression\n",
    "from sklearn import linear_model\n",
    "clf = linear_model.SGDClassifier(loss='log', n_iter=50, alpha=0.00001)\n",
    "clf.fit(X_train_std, y_train)\n",
    "y_pred = clf.fit(X_train_std, y_train).predict(X_train_std)\n",
    "y_pred_test = clf.predict(X_test_std)\n",
    "print_results('Logistic Regression')"
   ]
  },
  {
   "cell_type": "code",
   "execution_count": 74,
   "metadata": {
    "collapsed": false
   },
   "outputs": [
    {
     "name": "stdout",
     "output_type": "stream",
     "text": [
      " Naive Bayes     Training Set      Test Set   \n",
      "-------------- --------------- ---------------\n",
      "    Error Rate 0.0562169312169 0.0478395061728\n",
      " Accuracy Rate  0.943783068783  0.952160493827\n",
      "True Positives  0.982558139535  0.961538461538\n",
      "True Negatives              --  0.951665312754\n"
     ]
    },
    {
     "data": {
      "text/plain": [
       "(0.047839506172839504,\n",
       " 0.9521604938271605,\n",
       " 0.96153846153846156,\n",
       " 0.95166531275385868)"
      ]
     },
     "execution_count": 74,
     "metadata": {},
     "output_type": "execute_result"
    }
   ],
   "source": [
    "# MODEL: Naive Bayes\n",
    "from sklearn.naive_bayes import MultinomialNB\n",
    "clf = MultinomialNB()\n",
    "clf.fit(X_train_std, y_train)\n",
    "y_pred = clf.fit(X_train_std, y_train).predict(X_train_std)\n",
    "y_pred_test = clf.predict(X_test_std)\n",
    "print_results('Naive Bayes')"
   ]
  },
  {
   "cell_type": "code",
   "execution_count": 75,
   "metadata": {
    "collapsed": false
   },
   "outputs": [
    {
     "name": "stdout",
     "output_type": "stream",
     "text": [
      "  Perceptron     Training Set       Test Set    \n",
      "-------------- ---------------- ----------------\n",
      "    Error Rate 0.00429894179894 0.00501543209877\n",
      " Accuracy Rate   0.995701058201   0.994984567901\n",
      "True Positives   0.982558139535   0.961538461538\n",
      "True Negatives               --   0.996750609261\n"
     ]
    },
    {
     "data": {
      "text/plain": [
       "(0.0050154320987654318,\n",
       " 0.99498456790123457,\n",
       " 0.96153846153846156,\n",
       " 0.99675060926076364)"
      ]
     },
     "execution_count": 75,
     "metadata": {},
     "output_type": "execute_result"
    }
   ],
   "source": [
    "# Perceptron\n",
    "from sklearn import linear_model\n",
    "clf = linear_model.SGDClassifier(loss='perceptron')\n",
    "clf.fit(X_train_std, y_train)\n",
    "y_pred = clf.fit(X_train_std, y_train).predict(X_train_std)\n",
    "y_pred_test = clf.predict(X_test_std)\n",
    "print_results('Perceptron')"
   ]
  },
  {
   "cell_type": "code",
   "execution_count": 76,
   "metadata": {
    "collapsed": false
   },
   "outputs": [
    {
     "data": {
      "text/plain": [
       "(8640,)"
      ]
     },
     "execution_count": 76,
     "metadata": {},
     "output_type": "execute_result"
    }
   ],
   "source": [
    "# define y\n",
    "y = totalData.tired.values\n",
    "y.shape"
   ]
  },
  {
   "cell_type": "code",
   "execution_count": 77,
   "metadata": {
    "collapsed": true
   },
   "outputs": [],
   "source": [
    "# create training and test sets\n",
    "from sklearn.cross_validation import train_test_split\n",
    "\n",
    "X_train, X_test, y_train, y_test = train_test_split(\n",
    "         X, y, test_size=0.3, random_state=0)"
   ]
  },
  {
   "cell_type": "code",
   "execution_count": 78,
   "metadata": {
    "collapsed": true
   },
   "outputs": [],
   "source": [
    "# feature scaling\n",
    "from sklearn.preprocessing import StandardScaler\n",
    "sc = StandardScaler(with_mean=False)\n",
    "sc.fit(X_train)\n",
    "X_train_std = sc.transform(X_train)\n",
    "X_test_std = sc.transform(X_test)"
   ]
  },
  {
   "cell_type": "markdown",
   "metadata": {},
   "source": [
    "# Tired Model Results"
   ]
  },
  {
   "cell_type": "code",
   "execution_count": 79,
   "metadata": {
    "collapsed": false
   },
   "outputs": [
    {
     "name": "stdout",
     "output_type": "stream",
     "text": [
      "     SVM         Training Set      Test Set    \n",
      "-------------- --------------- ----------------\n",
      "    Error Rate 0.0014880952381 0.00115740740741\n",
      " Accuracy Rate  0.998511904762   0.998842592593\n",
      "True Positives             0.0              0.0\n",
      "True Negatives              --              1.0\n"
     ]
    },
    {
     "data": {
      "text/plain": [
       "(0.0011574074074074073, 0.99884259259259256, 0.0, 1.0)"
      ]
     },
     "execution_count": 79,
     "metadata": {},
     "output_type": "execute_result"
    }
   ],
   "source": [
    "# MODEL: SVM, linear\n",
    "from sklearn import linear_model\n",
    "clf = linear_model.SGDClassifier()\n",
    "clf.fit(X_train_std, y_train)\n",
    "y_pred = clf.fit(X_train_std, y_train).predict(X_train_std)\n",
    "y_pred_test = clf.predict(X_test_std)\n",
    "print_results('SVM')"
   ]
  },
  {
   "cell_type": "code",
   "execution_count": 80,
   "metadata": {
    "collapsed": false
   },
   "outputs": [
    {
     "name": "stdout",
     "output_type": "stream",
     "text": [
      "Logistic Regression   Training Set      Test Set    \n",
      "------------------- --------------- ----------------\n",
      "         Error Rate 0.0014880952381 0.00115740740741\n",
      "      Accuracy Rate  0.998511904762   0.998842592593\n",
      "     True Positives             0.0              0.0\n",
      "     True Negatives              --              1.0\n"
     ]
    },
    {
     "data": {
      "text/plain": [
       "(0.0011574074074074073, 0.99884259259259256, 0.0, 1.0)"
      ]
     },
     "execution_count": 80,
     "metadata": {},
     "output_type": "execute_result"
    }
   ],
   "source": [
    "# MODEL: logistic regression\n",
    "from sklearn import linear_model\n",
    "clf = linear_model.SGDClassifier(loss='log', n_iter=50, alpha=0.00001)\n",
    "clf.fit(X_train_std, y_train)\n",
    "y_pred = clf.fit(X_train_std, y_train).predict(X_train_std)\n",
    "y_pred_test = clf.predict(X_test_std)\n",
    "print_results('Logistic Regression')"
   ]
  },
  {
   "cell_type": "code",
   "execution_count": 81,
   "metadata": {
    "collapsed": false
   },
   "outputs": [
    {
     "name": "stdout",
     "output_type": "stream",
     "text": [
      " Naive Bayes     Training Set       Test Set    \n",
      "-------------- ---------------- ----------------\n",
      "    Error Rate 0.00380291005291 0.00578703703704\n",
      " Accuracy Rate   0.996197089947   0.994212962963\n",
      "True Positives              0.0              0.0\n",
      "True Negatives               --   0.995365005794\n"
     ]
    },
    {
     "data": {
      "text/plain": [
       "(0.0057870370370370367, 0.99421296296296291, 0.0, 0.99536500579374276)"
      ]
     },
     "execution_count": 81,
     "metadata": {},
     "output_type": "execute_result"
    }
   ],
   "source": [
    "# MODEL: Naive Bayes\n",
    "from sklearn.naive_bayes import MultinomialNB\n",
    "clf = MultinomialNB()\n",
    "clf.fit(X_train_std, y_train)\n",
    "y_pred = clf.fit(X_train_std, y_train).predict(X_train_std)\n",
    "y_pred_test = clf.predict(X_test_std)\n",
    "print_results('Naive Bayes')"
   ]
  },
  {
   "cell_type": "code",
   "execution_count": 82,
   "metadata": {
    "collapsed": false
   },
   "outputs": [
    {
     "name": "stdout",
     "output_type": "stream",
     "text": [
      "  Perceptron     Training Set      Test Set    \n",
      "-------------- --------------- ----------------\n",
      "    Error Rate 0.0014880952381 0.00115740740741\n",
      " Accuracy Rate  0.998511904762   0.998842592593\n",
      "True Positives             0.0              0.0\n",
      "True Negatives              --              1.0\n"
     ]
    },
    {
     "data": {
      "text/plain": [
       "(0.0011574074074074073, 0.99884259259259256, 0.0, 1.0)"
      ]
     },
     "execution_count": 82,
     "metadata": {},
     "output_type": "execute_result"
    }
   ],
   "source": [
    "# Perceptron\n",
    "from sklearn import linear_model\n",
    "clf = linear_model.SGDClassifier(loss='perceptron')\n",
    "clf.fit(X_train_std, y_train)\n",
    "y_pred = clf.fit(X_train_std, y_train).predict(X_train_std)\n",
    "y_pred_test = clf.predict(X_test_std)\n",
    "print_results('Perceptron')"
   ]
  },
  {
   "cell_type": "code",
   "execution_count": 83,
   "metadata": {
    "collapsed": false
   },
   "outputs": [
    {
     "data": {
      "text/plain": [
       "(8640,)"
      ]
     },
     "execution_count": 83,
     "metadata": {},
     "output_type": "execute_result"
    }
   ],
   "source": [
    "# define y\n",
    "y = totalData.bored.values\n",
    "y.shape"
   ]
  },
  {
   "cell_type": "code",
   "execution_count": 84,
   "metadata": {
    "collapsed": true
   },
   "outputs": [],
   "source": [
    "# create training and test sets\n",
    "from sklearn.cross_validation import train_test_split\n",
    "\n",
    "X_train, X_test, y_train, y_test = train_test_split(\n",
    "         X, y, test_size=0.3, random_state=0)"
   ]
  },
  {
   "cell_type": "code",
   "execution_count": 85,
   "metadata": {
    "collapsed": true
   },
   "outputs": [],
   "source": [
    "# feature scaling\n",
    "from sklearn.preprocessing import StandardScaler\n",
    "sc = StandardScaler(with_mean=False)\n",
    "sc.fit(X_train)\n",
    "X_train_std = sc.transform(X_train)\n",
    "X_test_std = sc.transform(X_test)"
   ]
  },
  {
   "cell_type": "markdown",
   "metadata": {},
   "source": [
    "# Bored Model Results"
   ]
  },
  {
   "cell_type": "code",
   "execution_count": 86,
   "metadata": {
    "collapsed": false
   },
   "outputs": [
    {
     "name": "stdout",
     "output_type": "stream",
     "text": [
      "     SVM         Training Set        Test Set    \n",
      "-------------- ---------------- -----------------\n",
      "    Error Rate 0.00082671957672 0.000385802469136\n",
      " Accuracy Rate   0.999173280423    0.999614197531\n",
      "True Positives              0.0               0.0\n",
      "True Negatives               --               1.0\n"
     ]
    },
    {
     "data": {
      "text/plain": [
       "(0.00038580246913580245, 0.99961419753086422, 0.0, 1.0)"
      ]
     },
     "execution_count": 86,
     "metadata": {},
     "output_type": "execute_result"
    }
   ],
   "source": [
    "# MODEL: SVM, linear\n",
    "from sklearn import linear_model\n",
    "clf = linear_model.SGDClassifier()\n",
    "clf.fit(X_train_std, y_train)\n",
    "y_pred = clf.fit(X_train_std, y_train).predict(X_train_std)\n",
    "y_pred_test = clf.predict(X_test_std)\n",
    "print_results('SVM')"
   ]
  },
  {
   "cell_type": "code",
   "execution_count": 87,
   "metadata": {
    "collapsed": false
   },
   "outputs": [
    {
     "name": "stdout",
     "output_type": "stream",
     "text": [
      "Logistic Regression   Training Set        Test Set    \n",
      "------------------- ---------------- -----------------\n",
      "         Error Rate 0.00082671957672 0.000385802469136\n",
      "      Accuracy Rate   0.999173280423    0.999614197531\n",
      "     True Positives              0.0               0.0\n",
      "     True Negatives               --               1.0\n"
     ]
    },
    {
     "data": {
      "text/plain": [
       "(0.00038580246913580245, 0.99961419753086422, 0.0, 1.0)"
      ]
     },
     "execution_count": 87,
     "metadata": {},
     "output_type": "execute_result"
    }
   ],
   "source": [
    "# MODEL: logistic regression\n",
    "from sklearn import linear_model\n",
    "clf = linear_model.SGDClassifier(loss='log', n_iter=50, alpha=0.00001)\n",
    "clf.fit(X_train_std, y_train)\n",
    "y_pred = clf.fit(X_train_std, y_train).predict(X_train_std)\n",
    "y_pred_test = clf.predict(X_test_std)\n",
    "print_results('Logistic Regression')"
   ]
  },
  {
   "cell_type": "code",
   "execution_count": 88,
   "metadata": {
    "collapsed": false
   },
   "outputs": [
    {
     "name": "stdout",
     "output_type": "stream",
     "text": [
      " Naive Bayes     Training Set      Test Set   \n",
      "-------------- --------------- ---------------\n",
      "    Error Rate 0.0209986772487 0.0204475308642\n",
      " Accuracy Rate  0.979001322751  0.979552469136\n",
      "True Positives             0.0             0.0\n",
      "True Negatives              --  0.979930528753\n"
     ]
    },
    {
     "data": {
      "text/plain": [
       "(0.020447530864197531, 0.97955246913580252, 0.0, 0.97993052875337705)"
      ]
     },
     "execution_count": 88,
     "metadata": {},
     "output_type": "execute_result"
    }
   ],
   "source": [
    "# MODEL: Naive Bayes\n",
    "from sklearn.naive_bayes import MultinomialNB\n",
    "clf = MultinomialNB()\n",
    "clf.fit(X_train_std, y_train)\n",
    "y_pred = clf.fit(X_train_std, y_train).predict(X_train_std)\n",
    "y_pred_test = clf.predict(X_test_std)\n",
    "print_results('Naive Bayes')"
   ]
  },
  {
   "cell_type": "code",
   "execution_count": 89,
   "metadata": {
    "collapsed": false
   },
   "outputs": [
    {
     "name": "stdout",
     "output_type": "stream",
     "text": [
      "  Perceptron     Training Set        Test Set    \n",
      "-------------- ---------------- -----------------\n",
      "    Error Rate 0.00082671957672 0.000385802469136\n",
      " Accuracy Rate   0.999173280423    0.999614197531\n",
      "True Positives              0.0               0.0\n",
      "True Negatives               --               1.0\n"
     ]
    },
    {
     "data": {
      "text/plain": [
       "(0.00038580246913580245, 0.99961419753086422, 0.0, 1.0)"
      ]
     },
     "execution_count": 89,
     "metadata": {},
     "output_type": "execute_result"
    }
   ],
   "source": [
    "# Perceptron\n",
    "from sklearn import linear_model\n",
    "clf = linear_model.SGDClassifier(loss='perceptron')\n",
    "clf.fit(X_train_std, y_train)\n",
    "y_pred = clf.fit(X_train_std, y_train).predict(X_train_std)\n",
    "y_pred_test = clf.predict(X_test_std)\n",
    "print_results('Perceptron')"
   ]
  }
 ],
 "metadata": {
  "kernelspec": {
   "display_name": "Python 3",
   "language": "python",
   "name": "python3"
  },
  "language_info": {
   "codemirror_mode": {
    "name": "ipython",
    "version": 3
   },
   "file_extension": ".py",
   "mimetype": "text/x-python",
   "name": "python",
   "nbconvert_exporter": "python",
   "pygments_lexer": "ipython3",
   "version": "3.5.1"
  }
 },
 "nbformat": 4,
 "nbformat_minor": 0
}
